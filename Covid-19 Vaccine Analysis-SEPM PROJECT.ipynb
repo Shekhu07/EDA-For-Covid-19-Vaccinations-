{
 "cells": [
  {
   "cell_type": "code",
   "execution_count": 1,
   "metadata": {},
   "outputs": [
    {
     "data": {
      "text/html": [
       "        <script type=\"text/javascript\">\n",
       "        window.PlotlyConfig = {MathJaxConfig: 'local'};\n",
       "        if (window.MathJax) {MathJax.Hub.Config({SVG: {font: \"STIX-Web\"}});}\n",
       "        if (typeof require !== 'undefined') {\n",
       "        require.undef(\"plotly\");\n",
       "        requirejs.config({\n",
       "            paths: {\n",
       "                'plotly': ['https://cdn.plot.ly/plotly-2.3.1.min']\n",
       "            }\n",
       "        });\n",
       "        require(['plotly'], function(Plotly) {\n",
       "            window._Plotly = Plotly;\n",
       "        });\n",
       "        }\n",
       "        </script>\n",
       "        "
      ]
     },
     "metadata": {},
     "output_type": "display_data"
    }
   ],
   "source": [
    "import numpy as np\n",
    "import pandas as pd \n",
    "import matplotlib.pyplot as plt\n",
    "import seaborn as sns \n",
    "import plotly.graph_objs as go\n",
    "import plotly.figure_factory as ff\n",
    "from plotly import tools\n",
    "from plotly.offline import download_plotlyjs, init_notebook_mode, plot, iplot\n",
    "import plotly.express as px\n",
    "init_notebook_mode(connected=True)\n",
    "import warnings\n",
    "warnings.filterwarnings(\"ignore\")"
   ]
  },
  {
   "cell_type": "code",
   "execution_count": 35,
   "metadata": {},
   "outputs": [],
   "source": [
    "data_df = pd.read_csv(\"country_vaccinations.csv\")"
   ]
  },
  {
   "cell_type": "code",
   "execution_count": 36,
   "metadata": {},
   "outputs": [],
   "source": [
    "\n",
    "country_vaccine = data_df.groupby([\"country\", \"iso_code\", \"vaccines\"])['total_vaccinations', \n",
    "                                                                       'total_vaccinations_per_hundred',\n",
    "                                                                      'daily_vaccinations',\n",
    "                                                                      'daily_vaccinations_per_million',\n",
    "                                                                      'people_vaccinated',\n",
    "                                                                      'people_vaccinated_per_hundred',\n",
    "                                                                       'people_fully_vaccinated', 'people_fully_vaccinated_per_hundred'\n",
    "                                                                      ].max().reset_index()\n",
    "country_vaccine.columns = [\"Country\", \"iso_code\", \"Vaccines\", \"Total vaccinations\", \"Percent\", \"Daily vaccinations\", \n",
    "                           \"Daily vaccinations per million\", \"People vaccinated\", \"People vaccinated per hundred\",\n",
    "                           'People fully vaccinated', 'People fully vaccinated percent']\n",
    "\n",
    "                                                                       \n",
    "                                                                       \n",
    "                                                                \n",
    "                                                                      \n",
    "                                                                      \n",
    "                                                                      \n",
    "                                                                        \n",
    "                                                                      \n",
    "\n",
    "                           \n"
   ]
  },
  {
   "cell_type": "code",
   "execution_count": 37,
   "metadata": {},
   "outputs": [
    {
     "name": "stdout",
     "output_type": "stream",
     "text": [
      "Vaccines: BBIBP-CorV, Oxford/AstraZeneca, Pfizer/BioNTech: \n",
      "Countries: ['Afghanistan']\n",
      "\n",
      "Vaccines: Oxford/AstraZeneca, Pfizer/BioNTech, Sinovac, Sputnik V: \n",
      "Countries: ['Albania', 'Bosnia and Herzegovina', 'Philippines', 'Tunisia']\n",
      "\n",
      "Vaccines: Oxford/AstraZeneca, Sputnik V: \n",
      "Countries: ['Algeria', 'Ghana', 'Guyana', 'Kenya', 'Nicaragua']\n",
      "\n",
      "Vaccines: Oxford/AstraZeneca, Pfizer/BioNTech: \n",
      "Countries: ['Andorra', 'Australia', 'Cape Verde', 'Cayman Islands', 'Costa Rica', 'Isle of Man', 'Oman', 'Panama', 'Saudi Arabia', 'Slovenia', 'Sweden']\n",
      "\n",
      "Vaccines: Oxford/AstraZeneca: \n",
      "Countries: ['Angola', 'Anguilla', 'Antigua and Barbuda', 'Bahamas', 'Bangladesh', 'Barbados', 'Bhutan', 'Botswana', 'British Virgin Islands', 'Burkina Faso', 'Cook Islands', \"Cote d'Ivoire\", 'Democratic Republic of Congo', 'Dominica', 'Eswatini', 'Ethiopia', 'Falkland Islands', 'Fiji', 'French Polynesia', 'Georgia', 'Grenada', 'Jamaica', 'Kosovo', 'Lesotho', 'Liberia', 'Madagascar', 'Malawi', 'Mali', 'Montserrat', 'Myanmar', 'Nauru', 'Nigeria', 'Pitcairn', 'Saint Helena', 'Saint Kitts and Nevis', 'Saint Lucia', 'Saint Vincent and the Grenadines', 'Samoa', 'Sao Tome and Principe', 'Solomon Islands', 'South Sudan', 'Suriname', 'Tajikistan', 'Togo', 'Tonga', 'Trinidad and Tobago', 'Tuvalu', 'Uganda', 'Vanuatu', 'Vietnam', 'Wallis and Futuna', 'Yemen']\n",
      "\n",
      "Vaccines: Oxford/AstraZeneca, Sinopharm/Beijing, Sputnik V: \n",
      "Countries: ['Argentina', 'Djibouti', 'Sri Lanka', 'Syria']\n",
      "\n",
      "Vaccines: Oxford/AstraZeneca, Sinovac, Sputnik V: \n",
      "Countries: ['Armenia', 'Azerbaijan']\n",
      "\n",
      "Vaccines: Pfizer/BioNTech: \n",
      "Countries: ['Aruba', 'Bermuda', 'Gibraltar', 'Kuwait', 'Monaco', 'New Caledonia', 'New Zealand', 'Turks and Caicos Islands']\n",
      "\n",
      "Vaccines: Johnson&Johnson, Moderna, Oxford/AstraZeneca, Pfizer/BioNTech: \n",
      "Countries: ['Austria', 'Belgium', 'Bulgaria', 'Cyprus', 'Czechia', 'Estonia', 'France', 'Germany', 'Greece', 'Iceland', 'Ireland', 'Italy', 'Latvia', 'Lithuania', 'Malta', 'Netherlands', 'Poland', 'Portugal', 'Romania', 'Spain']\n",
      "\n",
      "Vaccines: Oxford/AstraZeneca, Pfizer/BioNTech, Sinopharm/Beijing, Sputnik V: \n",
      "Countries: ['Bahrain', 'Bolivia', 'Jordan', 'Lebanon', 'Moldova', 'Mongolia', 'Montenegro', 'Serbia']\n",
      "\n",
      "Vaccines: BBIBP-CorV, Sputnik V: \n",
      "Countries: ['Belarus', 'Venezuela']\n",
      "\n",
      "Vaccines: Oxford/AstraZeneca, Sinopharm/Beijing: \n",
      "Countries: ['Belize', 'Brunei', 'Gambia', 'Guinea-Bissau', 'Morocco', 'Mozambique', 'Namibia', 'Nepal', 'Papua New Guinea', 'Seychelles', 'Zambia']\n",
      "\n",
      "Vaccines: Oxford/AstraZeneca, Sinovac: \n",
      "Countries: ['Benin', 'Indonesia', 'Thailand', 'Timor']\n",
      "\n",
      "Vaccines: Moderna, Pfizer/BioNTech: \n",
      "Countries: ['Bonaire Sint Eustatius and Saba', 'Curacao', 'Faeroe Islands', 'Israel', 'Japan', 'Liechtenstein', 'Norway', 'Qatar', 'Singapore', 'Switzerland']\n",
      "\n",
      "Vaccines: Oxford/AstraZeneca, Pfizer/BioNTech, Sinovac: \n",
      "Countries: ['Brazil', 'Colombia', 'Ecuador', 'El Salvador', 'Malaysia', 'Northern Cyprus', 'Ukraine', 'Uruguay']\n",
      "\n",
      "Vaccines: Oxford/AstraZeneca, Sinopharm/Beijing, Sinovac: \n",
      "Countries: ['Cambodia']\n",
      "\n",
      "Vaccines: BBIBP-CorV, Oxford/AstraZeneca: \n",
      "Countries: ['Cameroon', 'Mauritania', 'Niger', 'Senegal', 'Sierra Leone']\n",
      "\n",
      "Vaccines: Moderna, Oxford/AstraZeneca, Pfizer/BioNTech: \n",
      "Countries: ['Canada', 'Croatia', 'England', 'Finland', 'Guernsey', 'Jersey', 'Luxembourg', 'Northern Ireland', 'Palestine', 'Rwanda', 'Scotland', 'Sint Maarten (Dutch part)', 'Slovakia', 'United Kingdom', 'Wales']\n",
      "\n",
      "Vaccines: Covaxin, Oxford/AstraZeneca: \n",
      "Countries: ['Central African Republic', 'India']\n",
      "\n",
      "Vaccines: BBIBP-CorV: \n",
      "Countries: ['Chad']\n",
      "\n",
      "Vaccines: CanSino, Oxford/AstraZeneca, Pfizer/BioNTech, Sinovac: \n",
      "Countries: ['Chile']\n",
      "\n",
      "Vaccines: CanSino, Sinopharm/Beijing, Sinopharm/Wuhan, Sinovac: \n",
      "Countries: ['China']\n",
      "\n",
      "Vaccines: Covaxin, Oxford/AstraZeneca, Sinopharm/Beijing: \n",
      "Countries: ['Comoros']\n",
      "\n",
      "Vaccines: BBIBP-CorV, Moderna, Oxford/AstraZeneca, Sputnik V: \n",
      "Countries: ['Congo']\n",
      "\n",
      "Vaccines: Abdala, Soberana02: \n",
      "Countries: ['Cuba']\n",
      "\n",
      "Vaccines: Johnson&Johnson, Moderna, Pfizer/BioNTech: \n",
      "Countries: ['Denmark', 'United States']\n",
      "\n",
      "Vaccines: Oxford/AstraZeneca, Pfizer/BioNTech, Sinopharm/Beijing, Sinovac: \n",
      "Countries: ['Dominican Republic']\n",
      "\n",
      "Vaccines: BBIBP-CorV, Oxford/AstraZeneca, Sinovac, Sputnik V: \n",
      "Countries: ['Egypt']\n",
      "\n",
      "Vaccines: Sinopharm/Beijing: \n",
      "Countries: ['Equatorial Guinea', 'Gabon', 'Zimbabwe']\n",
      "\n",
      "Vaccines: Moderna: \n",
      "Countries: ['Greenland']\n",
      "\n",
      "Vaccines: Moderna, Oxford/AstraZeneca: \n",
      "Countries: ['Guatemala', 'Taiwan']\n",
      "\n",
      "Vaccines: Sputnik V: \n",
      "Countries: ['Guinea']\n",
      "\n",
      "Vaccines: Johnson&Johnson, Moderna, Oxford/AstraZeneca, Sputnik V: \n",
      "Countries: ['Honduras']\n",
      "\n",
      "Vaccines: Pfizer/BioNTech, Sinovac: \n",
      "Countries: ['Hong Kong', 'Turkey']\n",
      "\n",
      "Vaccines: Johnson&Johnson, Moderna, Oxford/AstraZeneca, Pfizer/BioNTech, Sinopharm/Beijing, Sputnik V: \n",
      "Countries: ['Hungary']\n",
      "\n",
      "Vaccines: BBIBP-CorV, Covaxin, Oxford/AstraZeneca, Sputnik V: \n",
      "Countries: ['Iran']\n",
      "\n",
      "Vaccines: BBIBP-CorV, Oxford/AstraZeneca, Pfizer/BioNTech, Sputnik V: \n",
      "Countries: ['Iraq']\n",
      "\n",
      "Vaccines: QazVac, Sinopharm/HayatVax, Sputnik V: \n",
      "Countries: ['Kazakhstan']\n",
      "\n",
      "Vaccines: Sinopharm/Beijing, Sputnik V: \n",
      "Countries: ['Kyrgyzstan', 'Laos']\n",
      "\n",
      "Vaccines: Johnson&Johnson, Moderna, Oxford/AstraZeneca, Pfizer/BioNTech, Sinovac, Sputnik V: \n",
      "Countries: ['Libya']\n",
      "\n",
      "Vaccines: Pfizer/BioNTech, Sinopharm/Beijing: \n",
      "Countries: ['Macao']\n",
      "\n",
      "Vaccines: Oxford/AstraZeneca, Pfizer/BioNTech, Sinopharm/Beijing: \n",
      "Countries: ['Maldives', 'Peru']\n",
      "\n",
      "Vaccines: BBIBP-CorV, Covaxin, Oxford/AstraZeneca: \n",
      "Countries: ['Mauritius']\n",
      "\n",
      "Vaccines: CanSino, Oxford/AstraZeneca, Pfizer/BioNTech, Sinovac, Sputnik V: \n",
      "Countries: ['Mexico']\n",
      "\n",
      "Vaccines: Oxford/AstraZeneca, Pfizer/BioNTech, Sinopharm/Beijing, Sinovac, Sputnik V: \n",
      "Countries: ['North Macedonia']\n",
      "\n",
      "Vaccines: CanSino, Oxford/AstraZeneca, Sinopharm/Beijing, Sinovac, Sputnik V: \n",
      "Countries: ['Pakistan']\n",
      "\n",
      "Vaccines: Covaxin, Oxford/AstraZeneca, Sinopharm/Beijing, Sinovac, Sputnik V: \n",
      "Countries: ['Paraguay']\n",
      "\n",
      "Vaccines: EpiVacCorona, Sputnik V: \n",
      "Countries: ['Russia']\n",
      "\n",
      "Vaccines: Pfizer/BioNTech, Sputnik V: \n",
      "Countries: ['San Marino']\n",
      "\n",
      "Vaccines: BBIBP-CorV, Oxford/AstraZeneca, Sinovac: \n",
      "Countries: ['Somalia']\n",
      "\n",
      "Vaccines: Johnson&Johnson, Pfizer/BioNTech: \n",
      "Countries: ['South Africa']\n",
      "\n",
      "Vaccines: Johnson&Johnson, Oxford/AstraZeneca, Pfizer/BioNTech: \n",
      "Countries: ['South Korea']\n",
      "\n",
      "Vaccines: BBIBP-CorV, Oxford/AstraZeneca, Pfizer/BioNTech, Sinovac: \n",
      "Countries: ['Sudan']\n",
      "\n",
      "Vaccines: EpiVacCorona, Oxford/AstraZeneca, Sinopharm/Beijing, Sputnik V: \n",
      "Countries: ['Turkmenistan']\n",
      "\n",
      "Vaccines: Oxford/AstraZeneca, Pfizer/BioNTech, Sinopharm/Beijing, Sinopharm/Wuhan, Sputnik V: \n",
      "Countries: ['United Arab Emirates']\n",
      "\n",
      "Vaccines: Oxford/AstraZeneca, RBD-Dimer, Sputnik V: \n",
      "Countries: ['Uzbekistan']\n",
      "\n"
     ]
    }
   ],
   "source": [
    "vaccines = country_vaccine.Vaccines.unique()\n",
    "for v in vaccines:\n",
    "    countries = country_vaccine.loc[country_vaccine.Vaccines==v, 'Country'].values\n",
    "    print(f\"Vaccines: {v}: \\nCountries: {list(countries)}\\n\")"
   ]
  },
  {
   "cell_type": "code",
   "execution_count": 38,
   "metadata": {},
   "outputs": [
    {
     "data": {
      "application/vnd.plotly.v1+json": {
       "config": {
        "plotlyServerURL": "https://plot.ly"
       },
       "data": [
        {
         "colorscale": [
          [
           0,
           "#636efa"
          ],
          [
           1,
           "#636efa"
          ]
         ],
         "geo": "geo",
         "hovertemplate": "color=BBIBP-CorV, Oxford/AstraZeneca, Pfizer/BioNTech<br>locations=%{location}<extra></extra>",
         "locationmode": "country names",
         "locations": [
          "Afghanistan"
         ],
         "name": "BBIBP-CorV, Oxford/AstraZeneca, Pfizer/BioNTech",
         "showlegend": true,
         "showscale": false,
         "type": "choropleth",
         "z": [
          1
         ]
        },
        {
         "colorscale": [
          [
           0,
           "#EF553B"
          ],
          [
           1,
           "#EF553B"
          ]
         ],
         "geo": "geo",
         "hovertemplate": "color=Oxford/AstraZeneca, Pfizer/BioNTech, Sinovac, Sputnik V<br>locations=%{location}<extra></extra>",
         "locationmode": "country names",
         "locations": [
          "Albania",
          "Bosnia and Herzegovina",
          "Philippines",
          "Tunisia"
         ],
         "name": "Oxford/AstraZeneca, Pfizer/BioNTech, Sinovac, Sputnik V",
         "showlegend": true,
         "showscale": false,
         "type": "choropleth",
         "z": [
          1,
          1,
          1,
          1
         ]
        },
        {
         "colorscale": [
          [
           0,
           "#00cc96"
          ],
          [
           1,
           "#00cc96"
          ]
         ],
         "geo": "geo",
         "hovertemplate": "color=Oxford/AstraZeneca, Sputnik V<br>locations=%{location}<extra></extra>",
         "locationmode": "country names",
         "locations": [
          "Algeria",
          "Ghana",
          "Guyana",
          "Kenya",
          "Nicaragua"
         ],
         "name": "Oxford/AstraZeneca, Sputnik V",
         "showlegend": true,
         "showscale": false,
         "type": "choropleth",
         "z": [
          1,
          1,
          1,
          1,
          1
         ]
        },
        {
         "colorscale": [
          [
           0,
           "#ab63fa"
          ],
          [
           1,
           "#ab63fa"
          ]
         ],
         "geo": "geo",
         "hovertemplate": "color=Oxford/AstraZeneca, Pfizer/BioNTech<br>locations=%{location}<extra></extra>",
         "locationmode": "country names",
         "locations": [
          "Andorra",
          "Australia",
          "Cape Verde",
          "Cayman Islands",
          "Costa Rica",
          "Isle of Man",
          "Oman",
          "Panama",
          "Saudi Arabia",
          "Slovenia",
          "Sweden"
         ],
         "name": "Oxford/AstraZeneca, Pfizer/BioNTech",
         "showlegend": true,
         "showscale": false,
         "type": "choropleth",
         "z": [
          1,
          1,
          1,
          1,
          1,
          1,
          1,
          1,
          1,
          1,
          1
         ]
        },
        {
         "colorscale": [
          [
           0,
           "#FFA15A"
          ],
          [
           1,
           "#FFA15A"
          ]
         ],
         "geo": "geo",
         "hovertemplate": "color=Oxford/AstraZeneca<br>locations=%{location}<extra></extra>",
         "locationmode": "country names",
         "locations": [
          "Angola",
          "Anguilla",
          "Antigua and Barbuda",
          "Bahamas",
          "Bangladesh",
          "Barbados",
          "Bhutan",
          "Botswana",
          "British Virgin Islands",
          "Burkina Faso",
          "Cook Islands",
          "Cote d'Ivoire",
          "Democratic Republic of Congo",
          "Dominica",
          "Eswatini",
          "Ethiopia",
          "Falkland Islands",
          "Fiji",
          "French Polynesia",
          "Georgia",
          "Grenada",
          "Jamaica",
          "Kosovo",
          "Lesotho",
          "Liberia",
          "Madagascar",
          "Malawi",
          "Mali",
          "Montserrat",
          "Myanmar",
          "Nauru",
          "Nigeria",
          "Pitcairn",
          "Saint Helena",
          "Saint Kitts and Nevis",
          "Saint Lucia",
          "Saint Vincent and the Grenadines",
          "Samoa",
          "Sao Tome and Principe",
          "Solomon Islands",
          "South Sudan",
          "Suriname",
          "Tajikistan",
          "Togo",
          "Tonga",
          "Trinidad and Tobago",
          "Tuvalu",
          "Uganda",
          "Vanuatu",
          "Vietnam",
          "Wallis and Futuna",
          "Yemen"
         ],
         "name": "Oxford/AstraZeneca",
         "showlegend": true,
         "showscale": false,
         "type": "choropleth",
         "z": [
          1,
          1,
          1,
          1,
          1,
          1,
          1,
          1,
          1,
          1,
          1,
          1,
          1,
          1,
          1,
          1,
          1,
          1,
          1,
          1,
          1,
          1,
          1,
          1,
          1,
          1,
          1,
          1,
          1,
          1,
          1,
          1,
          1,
          1,
          1,
          1,
          1,
          1,
          1,
          1,
          1,
          1,
          1,
          1,
          1,
          1,
          1,
          1,
          1,
          1,
          1,
          1
         ]
        },
        {
         "colorscale": [
          [
           0,
           "#19d3f3"
          ],
          [
           1,
           "#19d3f3"
          ]
         ],
         "geo": "geo",
         "hovertemplate": "color=Oxford/AstraZeneca, Sinopharm/Beijing, Sputnik V<br>locations=%{location}<extra></extra>",
         "locationmode": "country names",
         "locations": [
          "Argentina",
          "Djibouti",
          "Sri Lanka",
          "Syria"
         ],
         "name": "Oxford/AstraZeneca, Sinopharm/Beijing, Sputnik V",
         "showlegend": true,
         "showscale": false,
         "type": "choropleth",
         "z": [
          1,
          1,
          1,
          1
         ]
        },
        {
         "colorscale": [
          [
           0,
           "#FF6692"
          ],
          [
           1,
           "#FF6692"
          ]
         ],
         "geo": "geo",
         "hovertemplate": "color=Oxford/AstraZeneca, Sinovac, Sputnik V<br>locations=%{location}<extra></extra>",
         "locationmode": "country names",
         "locations": [
          "Armenia",
          "Azerbaijan"
         ],
         "name": "Oxford/AstraZeneca, Sinovac, Sputnik V",
         "showlegend": true,
         "showscale": false,
         "type": "choropleth",
         "z": [
          1,
          1
         ]
        },
        {
         "colorscale": [
          [
           0,
           "#B6E880"
          ],
          [
           1,
           "#B6E880"
          ]
         ],
         "geo": "geo",
         "hovertemplate": "color=Pfizer/BioNTech<br>locations=%{location}<extra></extra>",
         "locationmode": "country names",
         "locations": [
          "Aruba",
          "Bermuda",
          "Gibraltar",
          "Kuwait",
          "Monaco",
          "New Caledonia",
          "New Zealand",
          "Turks and Caicos Islands"
         ],
         "name": "Pfizer/BioNTech",
         "showlegend": true,
         "showscale": false,
         "type": "choropleth",
         "z": [
          1,
          1,
          1,
          1,
          1,
          1,
          1,
          1
         ]
        },
        {
         "colorscale": [
          [
           0,
           "#FF97FF"
          ],
          [
           1,
           "#FF97FF"
          ]
         ],
         "geo": "geo",
         "hovertemplate": "color=Johnson&Johnson, Moderna, Oxford/AstraZeneca, Pfizer/BioNTech<br>locations=%{location}<extra></extra>",
         "locationmode": "country names",
         "locations": [
          "Austria",
          "Belgium",
          "Bulgaria",
          "Cyprus",
          "Czechia",
          "Estonia",
          "France",
          "Germany",
          "Greece",
          "Iceland",
          "Ireland",
          "Italy",
          "Latvia",
          "Lithuania",
          "Malta",
          "Netherlands",
          "Poland",
          "Portugal",
          "Romania",
          "Spain"
         ],
         "name": "Johnson&Johnson, Moderna, Oxford/AstraZeneca, Pfizer/BioNTech",
         "showlegend": true,
         "showscale": false,
         "type": "choropleth",
         "z": [
          1,
          1,
          1,
          1,
          1,
          1,
          1,
          1,
          1,
          1,
          1,
          1,
          1,
          1,
          1,
          1,
          1,
          1,
          1,
          1
         ]
        },
        {
         "colorscale": [
          [
           0,
           "#FECB52"
          ],
          [
           1,
           "#FECB52"
          ]
         ],
         "geo": "geo",
         "hovertemplate": "color=Oxford/AstraZeneca, Pfizer/BioNTech, Sinopharm/Beijing, Sputnik V<br>locations=%{location}<extra></extra>",
         "locationmode": "country names",
         "locations": [
          "Bahrain",
          "Bolivia",
          "Jordan",
          "Lebanon",
          "Moldova",
          "Mongolia",
          "Montenegro",
          "Serbia"
         ],
         "name": "Oxford/AstraZeneca, Pfizer/BioNTech, Sinopharm/Beijing, Sputnik V",
         "showlegend": true,
         "showscale": false,
         "type": "choropleth",
         "z": [
          1,
          1,
          1,
          1,
          1,
          1,
          1,
          1
         ]
        },
        {
         "colorscale": [
          [
           0,
           "#636efa"
          ],
          [
           1,
           "#636efa"
          ]
         ],
         "geo": "geo",
         "hovertemplate": "color=BBIBP-CorV, Sputnik V<br>locations=%{location}<extra></extra>",
         "locationmode": "country names",
         "locations": [
          "Belarus",
          "Venezuela"
         ],
         "name": "BBIBP-CorV, Sputnik V",
         "showlegend": true,
         "showscale": false,
         "type": "choropleth",
         "z": [
          1,
          1
         ]
        },
        {
         "colorscale": [
          [
           0,
           "#EF553B"
          ],
          [
           1,
           "#EF553B"
          ]
         ],
         "geo": "geo",
         "hovertemplate": "color=Oxford/AstraZeneca, Sinopharm/Beijing<br>locations=%{location}<extra></extra>",
         "locationmode": "country names",
         "locations": [
          "Belize",
          "Brunei",
          "Gambia",
          "Guinea-Bissau",
          "Morocco",
          "Mozambique",
          "Namibia",
          "Nepal",
          "Papua New Guinea",
          "Seychelles",
          "Zambia"
         ],
         "name": "Oxford/AstraZeneca, Sinopharm/Beijing",
         "showlegend": true,
         "showscale": false,
         "type": "choropleth",
         "z": [
          1,
          1,
          1,
          1,
          1,
          1,
          1,
          1,
          1,
          1,
          1
         ]
        },
        {
         "colorscale": [
          [
           0,
           "#00cc96"
          ],
          [
           1,
           "#00cc96"
          ]
         ],
         "geo": "geo",
         "hovertemplate": "color=Oxford/AstraZeneca, Sinovac<br>locations=%{location}<extra></extra>",
         "locationmode": "country names",
         "locations": [
          "Benin",
          "Indonesia",
          "Thailand",
          "Timor"
         ],
         "name": "Oxford/AstraZeneca, Sinovac",
         "showlegend": true,
         "showscale": false,
         "type": "choropleth",
         "z": [
          1,
          1,
          1,
          1
         ]
        },
        {
         "colorscale": [
          [
           0,
           "#ab63fa"
          ],
          [
           1,
           "#ab63fa"
          ]
         ],
         "geo": "geo",
         "hovertemplate": "color=Moderna, Pfizer/BioNTech<br>locations=%{location}<extra></extra>",
         "locationmode": "country names",
         "locations": [
          "Bonaire Sint Eustatius and Saba",
          "Curacao",
          "Faeroe Islands",
          "Israel",
          "Japan",
          "Liechtenstein",
          "Norway",
          "Qatar",
          "Singapore",
          "Switzerland"
         ],
         "name": "Moderna, Pfizer/BioNTech",
         "showlegend": true,
         "showscale": false,
         "type": "choropleth",
         "z": [
          1,
          1,
          1,
          1,
          1,
          1,
          1,
          1,
          1,
          1
         ]
        },
        {
         "colorscale": [
          [
           0,
           "#FFA15A"
          ],
          [
           1,
           "#FFA15A"
          ]
         ],
         "geo": "geo",
         "hovertemplate": "color=Oxford/AstraZeneca, Pfizer/BioNTech, Sinovac<br>locations=%{location}<extra></extra>",
         "locationmode": "country names",
         "locations": [
          "Brazil",
          "Colombia",
          "Ecuador",
          "El Salvador",
          "Malaysia",
          "Northern Cyprus",
          "Ukraine",
          "Uruguay"
         ],
         "name": "Oxford/AstraZeneca, Pfizer/BioNTech, Sinovac",
         "showlegend": true,
         "showscale": false,
         "type": "choropleth",
         "z": [
          1,
          1,
          1,
          1,
          1,
          1,
          1,
          1
         ]
        },
        {
         "colorscale": [
          [
           0,
           "#19d3f3"
          ],
          [
           1,
           "#19d3f3"
          ]
         ],
         "geo": "geo",
         "hovertemplate": "color=Oxford/AstraZeneca, Sinopharm/Beijing, Sinovac<br>locations=%{location}<extra></extra>",
         "locationmode": "country names",
         "locations": [
          "Cambodia"
         ],
         "name": "Oxford/AstraZeneca, Sinopharm/Beijing, Sinovac",
         "showlegend": true,
         "showscale": false,
         "type": "choropleth",
         "z": [
          1
         ]
        },
        {
         "colorscale": [
          [
           0,
           "#FF6692"
          ],
          [
           1,
           "#FF6692"
          ]
         ],
         "geo": "geo",
         "hovertemplate": "color=BBIBP-CorV, Oxford/AstraZeneca<br>locations=%{location}<extra></extra>",
         "locationmode": "country names",
         "locations": [
          "Cameroon",
          "Mauritania",
          "Niger",
          "Senegal",
          "Sierra Leone"
         ],
         "name": "BBIBP-CorV, Oxford/AstraZeneca",
         "showlegend": true,
         "showscale": false,
         "type": "choropleth",
         "z": [
          1,
          1,
          1,
          1,
          1
         ]
        },
        {
         "colorscale": [
          [
           0,
           "#B6E880"
          ],
          [
           1,
           "#B6E880"
          ]
         ],
         "geo": "geo",
         "hovertemplate": "color=Moderna, Oxford/AstraZeneca, Pfizer/BioNTech<br>locations=%{location}<extra></extra>",
         "locationmode": "country names",
         "locations": [
          "Canada",
          "Croatia",
          "England",
          "Finland",
          "Guernsey",
          "Jersey",
          "Luxembourg",
          "Northern Ireland",
          "Palestine",
          "Rwanda",
          "Scotland",
          "Sint Maarten (Dutch part)",
          "Slovakia",
          "United Kingdom",
          "Wales"
         ],
         "name": "Moderna, Oxford/AstraZeneca, Pfizer/BioNTech",
         "showlegend": true,
         "showscale": false,
         "type": "choropleth",
         "z": [
          1,
          1,
          1,
          1,
          1,
          1,
          1,
          1,
          1,
          1,
          1,
          1,
          1,
          1,
          1
         ]
        },
        {
         "colorscale": [
          [
           0,
           "#FF97FF"
          ],
          [
           1,
           "#FF97FF"
          ]
         ],
         "geo": "geo",
         "hovertemplate": "color=Covaxin, Oxford/AstraZeneca<br>locations=%{location}<extra></extra>",
         "locationmode": "country names",
         "locations": [
          "Central African Republic",
          "India"
         ],
         "name": "Covaxin, Oxford/AstraZeneca",
         "showlegend": true,
         "showscale": false,
         "type": "choropleth",
         "z": [
          1,
          1
         ]
        },
        {
         "colorscale": [
          [
           0,
           "#FECB52"
          ],
          [
           1,
           "#FECB52"
          ]
         ],
         "geo": "geo",
         "hovertemplate": "color=BBIBP-CorV<br>locations=%{location}<extra></extra>",
         "locationmode": "country names",
         "locations": [
          "Chad"
         ],
         "name": "BBIBP-CorV",
         "showlegend": true,
         "showscale": false,
         "type": "choropleth",
         "z": [
          1
         ]
        },
        {
         "colorscale": [
          [
           0,
           "#636efa"
          ],
          [
           1,
           "#636efa"
          ]
         ],
         "geo": "geo",
         "hovertemplate": "color=CanSino, Oxford/AstraZeneca, Pfizer/BioNTech, Sinovac<br>locations=%{location}<extra></extra>",
         "locationmode": "country names",
         "locations": [
          "Chile"
         ],
         "name": "CanSino, Oxford/AstraZeneca, Pfizer/BioNTech, Sinovac",
         "showlegend": true,
         "showscale": false,
         "type": "choropleth",
         "z": [
          1
         ]
        },
        {
         "colorscale": [
          [
           0,
           "#EF553B"
          ],
          [
           1,
           "#EF553B"
          ]
         ],
         "geo": "geo",
         "hovertemplate": "color=CanSino, Sinopharm/Beijing, Sinopharm/Wuhan, Sinovac<br>locations=%{location}<extra></extra>",
         "locationmode": "country names",
         "locations": [
          "China"
         ],
         "name": "CanSino, Sinopharm/Beijing, Sinopharm/Wuhan, Sinovac",
         "showlegend": true,
         "showscale": false,
         "type": "choropleth",
         "z": [
          1
         ]
        },
        {
         "colorscale": [
          [
           0,
           "#00cc96"
          ],
          [
           1,
           "#00cc96"
          ]
         ],
         "geo": "geo",
         "hovertemplate": "color=Covaxin, Oxford/AstraZeneca, Sinopharm/Beijing<br>locations=%{location}<extra></extra>",
         "locationmode": "country names",
         "locations": [
          "Comoros"
         ],
         "name": "Covaxin, Oxford/AstraZeneca, Sinopharm/Beijing",
         "showlegend": true,
         "showscale": false,
         "type": "choropleth",
         "z": [
          1
         ]
        },
        {
         "colorscale": [
          [
           0,
           "#ab63fa"
          ],
          [
           1,
           "#ab63fa"
          ]
         ],
         "geo": "geo",
         "hovertemplate": "color=BBIBP-CorV, Moderna, Oxford/AstraZeneca, Sputnik V<br>locations=%{location}<extra></extra>",
         "locationmode": "country names",
         "locations": [
          "Congo"
         ],
         "name": "BBIBP-CorV, Moderna, Oxford/AstraZeneca, Sputnik V",
         "showlegend": true,
         "showscale": false,
         "type": "choropleth",
         "z": [
          1
         ]
        },
        {
         "colorscale": [
          [
           0,
           "#FFA15A"
          ],
          [
           1,
           "#FFA15A"
          ]
         ],
         "geo": "geo",
         "hovertemplate": "color=Abdala, Soberana02<br>locations=%{location}<extra></extra>",
         "locationmode": "country names",
         "locations": [
          "Cuba"
         ],
         "name": "Abdala, Soberana02",
         "showlegend": true,
         "showscale": false,
         "type": "choropleth",
         "z": [
          1
         ]
        },
        {
         "colorscale": [
          [
           0,
           "#19d3f3"
          ],
          [
           1,
           "#19d3f3"
          ]
         ],
         "geo": "geo",
         "hovertemplate": "color=Johnson&Johnson, Moderna, Pfizer/BioNTech<br>locations=%{location}<extra></extra>",
         "locationmode": "country names",
         "locations": [
          "Denmark",
          "United States"
         ],
         "name": "Johnson&Johnson, Moderna, Pfizer/BioNTech",
         "showlegend": true,
         "showscale": false,
         "type": "choropleth",
         "z": [
          1,
          1
         ]
        },
        {
         "colorscale": [
          [
           0,
           "#FF6692"
          ],
          [
           1,
           "#FF6692"
          ]
         ],
         "geo": "geo",
         "hovertemplate": "color=Oxford/AstraZeneca, Pfizer/BioNTech, Sinopharm/Beijing, Sinovac<br>locations=%{location}<extra></extra>",
         "locationmode": "country names",
         "locations": [
          "Dominican Republic"
         ],
         "name": "Oxford/AstraZeneca, Pfizer/BioNTech, Sinopharm/Beijing, Sinovac",
         "showlegend": true,
         "showscale": false,
         "type": "choropleth",
         "z": [
          1
         ]
        },
        {
         "colorscale": [
          [
           0,
           "#B6E880"
          ],
          [
           1,
           "#B6E880"
          ]
         ],
         "geo": "geo",
         "hovertemplate": "color=BBIBP-CorV, Oxford/AstraZeneca, Sinovac, Sputnik V<br>locations=%{location}<extra></extra>",
         "locationmode": "country names",
         "locations": [
          "Egypt"
         ],
         "name": "BBIBP-CorV, Oxford/AstraZeneca, Sinovac, Sputnik V",
         "showlegend": true,
         "showscale": false,
         "type": "choropleth",
         "z": [
          1
         ]
        },
        {
         "colorscale": [
          [
           0,
           "#FF97FF"
          ],
          [
           1,
           "#FF97FF"
          ]
         ],
         "geo": "geo",
         "hovertemplate": "color=Sinopharm/Beijing<br>locations=%{location}<extra></extra>",
         "locationmode": "country names",
         "locations": [
          "Equatorial Guinea",
          "Gabon",
          "Zimbabwe"
         ],
         "name": "Sinopharm/Beijing",
         "showlegend": true,
         "showscale": false,
         "type": "choropleth",
         "z": [
          1,
          1,
          1
         ]
        },
        {
         "colorscale": [
          [
           0,
           "#FECB52"
          ],
          [
           1,
           "#FECB52"
          ]
         ],
         "geo": "geo",
         "hovertemplate": "color=Moderna<br>locations=%{location}<extra></extra>",
         "locationmode": "country names",
         "locations": [
          "Greenland"
         ],
         "name": "Moderna",
         "showlegend": true,
         "showscale": false,
         "type": "choropleth",
         "z": [
          1
         ]
        },
        {
         "colorscale": [
          [
           0,
           "#636efa"
          ],
          [
           1,
           "#636efa"
          ]
         ],
         "geo": "geo",
         "hovertemplate": "color=Moderna, Oxford/AstraZeneca<br>locations=%{location}<extra></extra>",
         "locationmode": "country names",
         "locations": [
          "Guatemala",
          "Taiwan"
         ],
         "name": "Moderna, Oxford/AstraZeneca",
         "showlegend": true,
         "showscale": false,
         "type": "choropleth",
         "z": [
          1,
          1
         ]
        },
        {
         "colorscale": [
          [
           0,
           "#EF553B"
          ],
          [
           1,
           "#EF553B"
          ]
         ],
         "geo": "geo",
         "hovertemplate": "color=Sputnik V<br>locations=%{location}<extra></extra>",
         "locationmode": "country names",
         "locations": [
          "Guinea"
         ],
         "name": "Sputnik V",
         "showlegend": true,
         "showscale": false,
         "type": "choropleth",
         "z": [
          1
         ]
        },
        {
         "colorscale": [
          [
           0,
           "#00cc96"
          ],
          [
           1,
           "#00cc96"
          ]
         ],
         "geo": "geo",
         "hovertemplate": "color=Johnson&Johnson, Moderna, Oxford/AstraZeneca, Sputnik V<br>locations=%{location}<extra></extra>",
         "locationmode": "country names",
         "locations": [
          "Honduras"
         ],
         "name": "Johnson&Johnson, Moderna, Oxford/AstraZeneca, Sputnik V",
         "showlegend": true,
         "showscale": false,
         "type": "choropleth",
         "z": [
          1
         ]
        },
        {
         "colorscale": [
          [
           0,
           "#ab63fa"
          ],
          [
           1,
           "#ab63fa"
          ]
         ],
         "geo": "geo",
         "hovertemplate": "color=Pfizer/BioNTech, Sinovac<br>locations=%{location}<extra></extra>",
         "locationmode": "country names",
         "locations": [
          "Hong Kong",
          "Turkey"
         ],
         "name": "Pfizer/BioNTech, Sinovac",
         "showlegend": true,
         "showscale": false,
         "type": "choropleth",
         "z": [
          1,
          1
         ]
        },
        {
         "colorscale": [
          [
           0,
           "#FFA15A"
          ],
          [
           1,
           "#FFA15A"
          ]
         ],
         "geo": "geo",
         "hovertemplate": "color=Johnson&Johnson, Moderna, Oxford/AstraZeneca, Pfizer/BioNTech, Sinopharm/Beijing, Sputnik V<br>locations=%{location}<extra></extra>",
         "locationmode": "country names",
         "locations": [
          "Hungary"
         ],
         "name": "Johnson&Johnson, Moderna, Oxford/AstraZeneca, Pfizer/BioNTech, Sinopharm/Beijing, Sputnik V",
         "showlegend": true,
         "showscale": false,
         "type": "choropleth",
         "z": [
          1
         ]
        },
        {
         "colorscale": [
          [
           0,
           "#19d3f3"
          ],
          [
           1,
           "#19d3f3"
          ]
         ],
         "geo": "geo",
         "hovertemplate": "color=BBIBP-CorV, Covaxin, Oxford/AstraZeneca, Sputnik V<br>locations=%{location}<extra></extra>",
         "locationmode": "country names",
         "locations": [
          "Iran"
         ],
         "name": "BBIBP-CorV, Covaxin, Oxford/AstraZeneca, Sputnik V",
         "showlegend": true,
         "showscale": false,
         "type": "choropleth",
         "z": [
          1
         ]
        },
        {
         "colorscale": [
          [
           0,
           "#FF6692"
          ],
          [
           1,
           "#FF6692"
          ]
         ],
         "geo": "geo",
         "hovertemplate": "color=BBIBP-CorV, Oxford/AstraZeneca, Pfizer/BioNTech, Sputnik V<br>locations=%{location}<extra></extra>",
         "locationmode": "country names",
         "locations": [
          "Iraq"
         ],
         "name": "BBIBP-CorV, Oxford/AstraZeneca, Pfizer/BioNTech, Sputnik V",
         "showlegend": true,
         "showscale": false,
         "type": "choropleth",
         "z": [
          1
         ]
        },
        {
         "colorscale": [
          [
           0,
           "#B6E880"
          ],
          [
           1,
           "#B6E880"
          ]
         ],
         "geo": "geo",
         "hovertemplate": "color=QazVac, Sinopharm/HayatVax, Sputnik V<br>locations=%{location}<extra></extra>",
         "locationmode": "country names",
         "locations": [
          "Kazakhstan"
         ],
         "name": "QazVac, Sinopharm/HayatVax, Sputnik V",
         "showlegend": true,
         "showscale": false,
         "type": "choropleth",
         "z": [
          1
         ]
        },
        {
         "colorscale": [
          [
           0,
           "#FF97FF"
          ],
          [
           1,
           "#FF97FF"
          ]
         ],
         "geo": "geo",
         "hovertemplate": "color=Sinopharm/Beijing, Sputnik V<br>locations=%{location}<extra></extra>",
         "locationmode": "country names",
         "locations": [
          "Kyrgyzstan",
          "Laos"
         ],
         "name": "Sinopharm/Beijing, Sputnik V",
         "showlegend": true,
         "showscale": false,
         "type": "choropleth",
         "z": [
          1,
          1
         ]
        },
        {
         "colorscale": [
          [
           0,
           "#FECB52"
          ],
          [
           1,
           "#FECB52"
          ]
         ],
         "geo": "geo",
         "hovertemplate": "color=Johnson&Johnson, Moderna, Oxford/AstraZeneca, Pfizer/BioNTech, Sinovac, Sputnik V<br>locations=%{location}<extra></extra>",
         "locationmode": "country names",
         "locations": [
          "Libya"
         ],
         "name": "Johnson&Johnson, Moderna, Oxford/AstraZeneca, Pfizer/BioNTech, Sinovac, Sputnik V",
         "showlegend": true,
         "showscale": false,
         "type": "choropleth",
         "z": [
          1
         ]
        },
        {
         "colorscale": [
          [
           0,
           "#636efa"
          ],
          [
           1,
           "#636efa"
          ]
         ],
         "geo": "geo",
         "hovertemplate": "color=Pfizer/BioNTech, Sinopharm/Beijing<br>locations=%{location}<extra></extra>",
         "locationmode": "country names",
         "locations": [
          "Macao"
         ],
         "name": "Pfizer/BioNTech, Sinopharm/Beijing",
         "showlegend": true,
         "showscale": false,
         "type": "choropleth",
         "z": [
          1
         ]
        },
        {
         "colorscale": [
          [
           0,
           "#EF553B"
          ],
          [
           1,
           "#EF553B"
          ]
         ],
         "geo": "geo",
         "hovertemplate": "color=Oxford/AstraZeneca, Pfizer/BioNTech, Sinopharm/Beijing<br>locations=%{location}<extra></extra>",
         "locationmode": "country names",
         "locations": [
          "Maldives",
          "Peru"
         ],
         "name": "Oxford/AstraZeneca, Pfizer/BioNTech, Sinopharm/Beijing",
         "showlegend": true,
         "showscale": false,
         "type": "choropleth",
         "z": [
          1,
          1
         ]
        },
        {
         "colorscale": [
          [
           0,
           "#00cc96"
          ],
          [
           1,
           "#00cc96"
          ]
         ],
         "geo": "geo",
         "hovertemplate": "color=BBIBP-CorV, Covaxin, Oxford/AstraZeneca<br>locations=%{location}<extra></extra>",
         "locationmode": "country names",
         "locations": [
          "Mauritius"
         ],
         "name": "BBIBP-CorV, Covaxin, Oxford/AstraZeneca",
         "showlegend": true,
         "showscale": false,
         "type": "choropleth",
         "z": [
          1
         ]
        },
        {
         "colorscale": [
          [
           0,
           "#ab63fa"
          ],
          [
           1,
           "#ab63fa"
          ]
         ],
         "geo": "geo",
         "hovertemplate": "color=CanSino, Oxford/AstraZeneca, Pfizer/BioNTech, Sinovac, Sputnik V<br>locations=%{location}<extra></extra>",
         "locationmode": "country names",
         "locations": [
          "Mexico"
         ],
         "name": "CanSino, Oxford/AstraZeneca, Pfizer/BioNTech, Sinovac, Sputnik V",
         "showlegend": true,
         "showscale": false,
         "type": "choropleth",
         "z": [
          1
         ]
        },
        {
         "colorscale": [
          [
           0,
           "#FFA15A"
          ],
          [
           1,
           "#FFA15A"
          ]
         ],
         "geo": "geo",
         "hovertemplate": "color=Oxford/AstraZeneca, Pfizer/BioNTech, Sinopharm/Beijing, Sinovac, Sputnik V<br>locations=%{location}<extra></extra>",
         "locationmode": "country names",
         "locations": [
          "North Macedonia"
         ],
         "name": "Oxford/AstraZeneca, Pfizer/BioNTech, Sinopharm/Beijing, Sinovac, Sputnik V",
         "showlegend": true,
         "showscale": false,
         "type": "choropleth",
         "z": [
          1
         ]
        },
        {
         "colorscale": [
          [
           0,
           "#19d3f3"
          ],
          [
           1,
           "#19d3f3"
          ]
         ],
         "geo": "geo",
         "hovertemplate": "color=CanSino, Oxford/AstraZeneca, Sinopharm/Beijing, Sinovac, Sputnik V<br>locations=%{location}<extra></extra>",
         "locationmode": "country names",
         "locations": [
          "Pakistan"
         ],
         "name": "CanSino, Oxford/AstraZeneca, Sinopharm/Beijing, Sinovac, Sputnik V",
         "showlegend": true,
         "showscale": false,
         "type": "choropleth",
         "z": [
          1
         ]
        },
        {
         "colorscale": [
          [
           0,
           "#FF6692"
          ],
          [
           1,
           "#FF6692"
          ]
         ],
         "geo": "geo",
         "hovertemplate": "color=Covaxin, Oxford/AstraZeneca, Sinopharm/Beijing, Sinovac, Sputnik V<br>locations=%{location}<extra></extra>",
         "locationmode": "country names",
         "locations": [
          "Paraguay"
         ],
         "name": "Covaxin, Oxford/AstraZeneca, Sinopharm/Beijing, Sinovac, Sputnik V",
         "showlegend": true,
         "showscale": false,
         "type": "choropleth",
         "z": [
          1
         ]
        },
        {
         "colorscale": [
          [
           0,
           "#B6E880"
          ],
          [
           1,
           "#B6E880"
          ]
         ],
         "geo": "geo",
         "hovertemplate": "color=EpiVacCorona, Sputnik V<br>locations=%{location}<extra></extra>",
         "locationmode": "country names",
         "locations": [
          "Russia"
         ],
         "name": "EpiVacCorona, Sputnik V",
         "showlegend": true,
         "showscale": false,
         "type": "choropleth",
         "z": [
          1
         ]
        },
        {
         "colorscale": [
          [
           0,
           "#FF97FF"
          ],
          [
           1,
           "#FF97FF"
          ]
         ],
         "geo": "geo",
         "hovertemplate": "color=Pfizer/BioNTech, Sputnik V<br>locations=%{location}<extra></extra>",
         "locationmode": "country names",
         "locations": [
          "San Marino"
         ],
         "name": "Pfizer/BioNTech, Sputnik V",
         "showlegend": true,
         "showscale": false,
         "type": "choropleth",
         "z": [
          1
         ]
        },
        {
         "colorscale": [
          [
           0,
           "#FECB52"
          ],
          [
           1,
           "#FECB52"
          ]
         ],
         "geo": "geo",
         "hovertemplate": "color=BBIBP-CorV, Oxford/AstraZeneca, Sinovac<br>locations=%{location}<extra></extra>",
         "locationmode": "country names",
         "locations": [
          "Somalia"
         ],
         "name": "BBIBP-CorV, Oxford/AstraZeneca, Sinovac",
         "showlegend": true,
         "showscale": false,
         "type": "choropleth",
         "z": [
          1
         ]
        },
        {
         "colorscale": [
          [
           0,
           "#636efa"
          ],
          [
           1,
           "#636efa"
          ]
         ],
         "geo": "geo",
         "hovertemplate": "color=Johnson&Johnson, Pfizer/BioNTech<br>locations=%{location}<extra></extra>",
         "locationmode": "country names",
         "locations": [
          "South Africa"
         ],
         "name": "Johnson&Johnson, Pfizer/BioNTech",
         "showlegend": true,
         "showscale": false,
         "type": "choropleth",
         "z": [
          1
         ]
        },
        {
         "colorscale": [
          [
           0,
           "#EF553B"
          ],
          [
           1,
           "#EF553B"
          ]
         ],
         "geo": "geo",
         "hovertemplate": "color=Johnson&Johnson, Oxford/AstraZeneca, Pfizer/BioNTech<br>locations=%{location}<extra></extra>",
         "locationmode": "country names",
         "locations": [
          "South Korea"
         ],
         "name": "Johnson&Johnson, Oxford/AstraZeneca, Pfizer/BioNTech",
         "showlegend": true,
         "showscale": false,
         "type": "choropleth",
         "z": [
          1
         ]
        },
        {
         "colorscale": [
          [
           0,
           "#00cc96"
          ],
          [
           1,
           "#00cc96"
          ]
         ],
         "geo": "geo",
         "hovertemplate": "color=BBIBP-CorV, Oxford/AstraZeneca, Pfizer/BioNTech, Sinovac<br>locations=%{location}<extra></extra>",
         "locationmode": "country names",
         "locations": [
          "Sudan"
         ],
         "name": "BBIBP-CorV, Oxford/AstraZeneca, Pfizer/BioNTech, Sinovac",
         "showlegend": true,
         "showscale": false,
         "type": "choropleth",
         "z": [
          1
         ]
        },
        {
         "colorscale": [
          [
           0,
           "#ab63fa"
          ],
          [
           1,
           "#ab63fa"
          ]
         ],
         "geo": "geo",
         "hovertemplate": "color=EpiVacCorona, Oxford/AstraZeneca, Sinopharm/Beijing, Sputnik V<br>locations=%{location}<extra></extra>",
         "locationmode": "country names",
         "locations": [
          "Turkmenistan"
         ],
         "name": "EpiVacCorona, Oxford/AstraZeneca, Sinopharm/Beijing, Sputnik V",
         "showlegend": true,
         "showscale": false,
         "type": "choropleth",
         "z": [
          1
         ]
        },
        {
         "colorscale": [
          [
           0,
           "#FFA15A"
          ],
          [
           1,
           "#FFA15A"
          ]
         ],
         "geo": "geo",
         "hovertemplate": "color=Oxford/AstraZeneca, Pfizer/BioNTech, Sinopharm/Beijing, Sinopharm/Wuhan, Sputnik V<br>locations=%{location}<extra></extra>",
         "locationmode": "country names",
         "locations": [
          "United Arab Emirates"
         ],
         "name": "Oxford/AstraZeneca, Pfizer/BioNTech, Sinopharm/Beijing, Sinopharm/Wuhan, Sputnik V",
         "showlegend": true,
         "showscale": false,
         "type": "choropleth",
         "z": [
          1
         ]
        },
        {
         "colorscale": [
          [
           0,
           "#19d3f3"
          ],
          [
           1,
           "#19d3f3"
          ]
         ],
         "geo": "geo",
         "hovertemplate": "color=Oxford/AstraZeneca, RBD-Dimer, Sputnik V<br>locations=%{location}<extra></extra>",
         "locationmode": "country names",
         "locations": [
          "Uzbekistan"
         ],
         "name": "Oxford/AstraZeneca, RBD-Dimer, Sputnik V",
         "showlegend": true,
         "showscale": false,
         "type": "choropleth",
         "z": [
          1
         ]
        }
       ],
       "layout": {
        "geo": {
         "center": {},
         "domain": {
          "x": [
           0,
           1
          ],
          "y": [
           0,
           1
          ]
         }
        },
        "height": 800,
        "legend": {
         "orientation": "v",
         "title": {
          "text": "Vaccine scheme"
         },
         "tracegroupgap": 0
        },
        "template": {
         "data": {
          "bar": [
           {
            "error_x": {
             "color": "#2a3f5f"
            },
            "error_y": {
             "color": "#2a3f5f"
            },
            "marker": {
             "line": {
              "color": "#E5ECF6",
              "width": 0.5
             },
             "pattern": {
              "fillmode": "overlay",
              "size": 10,
              "solidity": 0.2
             }
            },
            "type": "bar"
           }
          ],
          "barpolar": [
           {
            "marker": {
             "line": {
              "color": "#E5ECF6",
              "width": 0.5
             },
             "pattern": {
              "fillmode": "overlay",
              "size": 10,
              "solidity": 0.2
             }
            },
            "type": "barpolar"
           }
          ],
          "carpet": [
           {
            "aaxis": {
             "endlinecolor": "#2a3f5f",
             "gridcolor": "white",
             "linecolor": "white",
             "minorgridcolor": "white",
             "startlinecolor": "#2a3f5f"
            },
            "baxis": {
             "endlinecolor": "#2a3f5f",
             "gridcolor": "white",
             "linecolor": "white",
             "minorgridcolor": "white",
             "startlinecolor": "#2a3f5f"
            },
            "type": "carpet"
           }
          ],
          "choropleth": [
           {
            "colorbar": {
             "outlinewidth": 0,
             "ticks": ""
            },
            "type": "choropleth"
           }
          ],
          "contour": [
           {
            "colorbar": {
             "outlinewidth": 0,
             "ticks": ""
            },
            "colorscale": [
             [
              0,
              "#0d0887"
             ],
             [
              0.1111111111111111,
              "#46039f"
             ],
             [
              0.2222222222222222,
              "#7201a8"
             ],
             [
              0.3333333333333333,
              "#9c179e"
             ],
             [
              0.4444444444444444,
              "#bd3786"
             ],
             [
              0.5555555555555556,
              "#d8576b"
             ],
             [
              0.6666666666666666,
              "#ed7953"
             ],
             [
              0.7777777777777778,
              "#fb9f3a"
             ],
             [
              0.8888888888888888,
              "#fdca26"
             ],
             [
              1,
              "#f0f921"
             ]
            ],
            "type": "contour"
           }
          ],
          "contourcarpet": [
           {
            "colorbar": {
             "outlinewidth": 0,
             "ticks": ""
            },
            "type": "contourcarpet"
           }
          ],
          "heatmap": [
           {
            "colorbar": {
             "outlinewidth": 0,
             "ticks": ""
            },
            "colorscale": [
             [
              0,
              "#0d0887"
             ],
             [
              0.1111111111111111,
              "#46039f"
             ],
             [
              0.2222222222222222,
              "#7201a8"
             ],
             [
              0.3333333333333333,
              "#9c179e"
             ],
             [
              0.4444444444444444,
              "#bd3786"
             ],
             [
              0.5555555555555556,
              "#d8576b"
             ],
             [
              0.6666666666666666,
              "#ed7953"
             ],
             [
              0.7777777777777778,
              "#fb9f3a"
             ],
             [
              0.8888888888888888,
              "#fdca26"
             ],
             [
              1,
              "#f0f921"
             ]
            ],
            "type": "heatmap"
           }
          ],
          "heatmapgl": [
           {
            "colorbar": {
             "outlinewidth": 0,
             "ticks": ""
            },
            "colorscale": [
             [
              0,
              "#0d0887"
             ],
             [
              0.1111111111111111,
              "#46039f"
             ],
             [
              0.2222222222222222,
              "#7201a8"
             ],
             [
              0.3333333333333333,
              "#9c179e"
             ],
             [
              0.4444444444444444,
              "#bd3786"
             ],
             [
              0.5555555555555556,
              "#d8576b"
             ],
             [
              0.6666666666666666,
              "#ed7953"
             ],
             [
              0.7777777777777778,
              "#fb9f3a"
             ],
             [
              0.8888888888888888,
              "#fdca26"
             ],
             [
              1,
              "#f0f921"
             ]
            ],
            "type": "heatmapgl"
           }
          ],
          "histogram": [
           {
            "marker": {
             "pattern": {
              "fillmode": "overlay",
              "size": 10,
              "solidity": 0.2
             }
            },
            "type": "histogram"
           }
          ],
          "histogram2d": [
           {
            "colorbar": {
             "outlinewidth": 0,
             "ticks": ""
            },
            "colorscale": [
             [
              0,
              "#0d0887"
             ],
             [
              0.1111111111111111,
              "#46039f"
             ],
             [
              0.2222222222222222,
              "#7201a8"
             ],
             [
              0.3333333333333333,
              "#9c179e"
             ],
             [
              0.4444444444444444,
              "#bd3786"
             ],
             [
              0.5555555555555556,
              "#d8576b"
             ],
             [
              0.6666666666666666,
              "#ed7953"
             ],
             [
              0.7777777777777778,
              "#fb9f3a"
             ],
             [
              0.8888888888888888,
              "#fdca26"
             ],
             [
              1,
              "#f0f921"
             ]
            ],
            "type": "histogram2d"
           }
          ],
          "histogram2dcontour": [
           {
            "colorbar": {
             "outlinewidth": 0,
             "ticks": ""
            },
            "colorscale": [
             [
              0,
              "#0d0887"
             ],
             [
              0.1111111111111111,
              "#46039f"
             ],
             [
              0.2222222222222222,
              "#7201a8"
             ],
             [
              0.3333333333333333,
              "#9c179e"
             ],
             [
              0.4444444444444444,
              "#bd3786"
             ],
             [
              0.5555555555555556,
              "#d8576b"
             ],
             [
              0.6666666666666666,
              "#ed7953"
             ],
             [
              0.7777777777777778,
              "#fb9f3a"
             ],
             [
              0.8888888888888888,
              "#fdca26"
             ],
             [
              1,
              "#f0f921"
             ]
            ],
            "type": "histogram2dcontour"
           }
          ],
          "mesh3d": [
           {
            "colorbar": {
             "outlinewidth": 0,
             "ticks": ""
            },
            "type": "mesh3d"
           }
          ],
          "parcoords": [
           {
            "line": {
             "colorbar": {
              "outlinewidth": 0,
              "ticks": ""
             }
            },
            "type": "parcoords"
           }
          ],
          "pie": [
           {
            "automargin": true,
            "type": "pie"
           }
          ],
          "scatter": [
           {
            "marker": {
             "colorbar": {
              "outlinewidth": 0,
              "ticks": ""
             }
            },
            "type": "scatter"
           }
          ],
          "scatter3d": [
           {
            "line": {
             "colorbar": {
              "outlinewidth": 0,
              "ticks": ""
             }
            },
            "marker": {
             "colorbar": {
              "outlinewidth": 0,
              "ticks": ""
             }
            },
            "type": "scatter3d"
           }
          ],
          "scattercarpet": [
           {
            "marker": {
             "colorbar": {
              "outlinewidth": 0,
              "ticks": ""
             }
            },
            "type": "scattercarpet"
           }
          ],
          "scattergeo": [
           {
            "marker": {
             "colorbar": {
              "outlinewidth": 0,
              "ticks": ""
             }
            },
            "type": "scattergeo"
           }
          ],
          "scattergl": [
           {
            "marker": {
             "colorbar": {
              "outlinewidth": 0,
              "ticks": ""
             }
            },
            "type": "scattergl"
           }
          ],
          "scattermapbox": [
           {
            "marker": {
             "colorbar": {
              "outlinewidth": 0,
              "ticks": ""
             }
            },
            "type": "scattermapbox"
           }
          ],
          "scatterpolar": [
           {
            "marker": {
             "colorbar": {
              "outlinewidth": 0,
              "ticks": ""
             }
            },
            "type": "scatterpolar"
           }
          ],
          "scatterpolargl": [
           {
            "marker": {
             "colorbar": {
              "outlinewidth": 0,
              "ticks": ""
             }
            },
            "type": "scatterpolargl"
           }
          ],
          "scatterternary": [
           {
            "marker": {
             "colorbar": {
              "outlinewidth": 0,
              "ticks": ""
             }
            },
            "type": "scatterternary"
           }
          ],
          "surface": [
           {
            "colorbar": {
             "outlinewidth": 0,
             "ticks": ""
            },
            "colorscale": [
             [
              0,
              "#0d0887"
             ],
             [
              0.1111111111111111,
              "#46039f"
             ],
             [
              0.2222222222222222,
              "#7201a8"
             ],
             [
              0.3333333333333333,
              "#9c179e"
             ],
             [
              0.4444444444444444,
              "#bd3786"
             ],
             [
              0.5555555555555556,
              "#d8576b"
             ],
             [
              0.6666666666666666,
              "#ed7953"
             ],
             [
              0.7777777777777778,
              "#fb9f3a"
             ],
             [
              0.8888888888888888,
              "#fdca26"
             ],
             [
              1,
              "#f0f921"
             ]
            ],
            "type": "surface"
           }
          ],
          "table": [
           {
            "cells": {
             "fill": {
              "color": "#EBF0F8"
             },
             "line": {
              "color": "white"
             }
            },
            "header": {
             "fill": {
              "color": "#C8D4E3"
             },
             "line": {
              "color": "white"
             }
            },
            "type": "table"
           }
          ]
         },
         "layout": {
          "annotationdefaults": {
           "arrowcolor": "#2a3f5f",
           "arrowhead": 0,
           "arrowwidth": 1
          },
          "autotypenumbers": "strict",
          "coloraxis": {
           "colorbar": {
            "outlinewidth": 0,
            "ticks": ""
           }
          },
          "colorscale": {
           "diverging": [
            [
             0,
             "#8e0152"
            ],
            [
             0.1,
             "#c51b7d"
            ],
            [
             0.2,
             "#de77ae"
            ],
            [
             0.3,
             "#f1b6da"
            ],
            [
             0.4,
             "#fde0ef"
            ],
            [
             0.5,
             "#f7f7f7"
            ],
            [
             0.6,
             "#e6f5d0"
            ],
            [
             0.7,
             "#b8e186"
            ],
            [
             0.8,
             "#7fbc41"
            ],
            [
             0.9,
             "#4d9221"
            ],
            [
             1,
             "#276419"
            ]
           ],
           "sequential": [
            [
             0,
             "#0d0887"
            ],
            [
             0.1111111111111111,
             "#46039f"
            ],
            [
             0.2222222222222222,
             "#7201a8"
            ],
            [
             0.3333333333333333,
             "#9c179e"
            ],
            [
             0.4444444444444444,
             "#bd3786"
            ],
            [
             0.5555555555555556,
             "#d8576b"
            ],
            [
             0.6666666666666666,
             "#ed7953"
            ],
            [
             0.7777777777777778,
             "#fb9f3a"
            ],
            [
             0.8888888888888888,
             "#fdca26"
            ],
            [
             1,
             "#f0f921"
            ]
           ],
           "sequentialminus": [
            [
             0,
             "#0d0887"
            ],
            [
             0.1111111111111111,
             "#46039f"
            ],
            [
             0.2222222222222222,
             "#7201a8"
            ],
            [
             0.3333333333333333,
             "#9c179e"
            ],
            [
             0.4444444444444444,
             "#bd3786"
            ],
            [
             0.5555555555555556,
             "#d8576b"
            ],
            [
             0.6666666666666666,
             "#ed7953"
            ],
            [
             0.7777777777777778,
             "#fb9f3a"
            ],
            [
             0.8888888888888888,
             "#fdca26"
            ],
            [
             1,
             "#f0f921"
            ]
           ]
          },
          "colorway": [
           "#636efa",
           "#EF553B",
           "#00cc96",
           "#ab63fa",
           "#FFA15A",
           "#19d3f3",
           "#FF6692",
           "#B6E880",
           "#FF97FF",
           "#FECB52"
          ],
          "font": {
           "color": "#2a3f5f"
          },
          "geo": {
           "bgcolor": "white",
           "lakecolor": "white",
           "landcolor": "#E5ECF6",
           "showlakes": true,
           "showland": true,
           "subunitcolor": "white"
          },
          "hoverlabel": {
           "align": "left"
          },
          "hovermode": "closest",
          "mapbox": {
           "style": "light"
          },
          "paper_bgcolor": "white",
          "plot_bgcolor": "#E5ECF6",
          "polar": {
           "angularaxis": {
            "gridcolor": "white",
            "linecolor": "white",
            "ticks": ""
           },
           "bgcolor": "#E5ECF6",
           "radialaxis": {
            "gridcolor": "white",
            "linecolor": "white",
            "ticks": ""
           }
          },
          "scene": {
           "xaxis": {
            "backgroundcolor": "#E5ECF6",
            "gridcolor": "white",
            "gridwidth": 2,
            "linecolor": "white",
            "showbackground": true,
            "ticks": "",
            "zerolinecolor": "white"
           },
           "yaxis": {
            "backgroundcolor": "#E5ECF6",
            "gridcolor": "white",
            "gridwidth": 2,
            "linecolor": "white",
            "showbackground": true,
            "ticks": "",
            "zerolinecolor": "white"
           },
           "zaxis": {
            "backgroundcolor": "#E5ECF6",
            "gridcolor": "white",
            "gridwidth": 2,
            "linecolor": "white",
            "showbackground": true,
            "ticks": "",
            "zerolinecolor": "white"
           }
          },
          "shapedefaults": {
           "line": {
            "color": "#2a3f5f"
           }
          },
          "ternary": {
           "aaxis": {
            "gridcolor": "white",
            "linecolor": "white",
            "ticks": ""
           },
           "baxis": {
            "gridcolor": "white",
            "linecolor": "white",
            "ticks": ""
           },
           "bgcolor": "#E5ECF6",
           "caxis": {
            "gridcolor": "white",
            "linecolor": "white",
            "ticks": ""
           }
          },
          "title": {
           "x": 0.05
          },
          "xaxis": {
           "automargin": true,
           "gridcolor": "white",
           "linecolor": "white",
           "ticks": "",
           "title": {
            "standoff": 15
           },
           "zerolinecolor": "white",
           "zerolinewidth": 2
          },
          "yaxis": {
           "automargin": true,
           "gridcolor": "white",
           "linecolor": "white",
           "ticks": "",
           "title": {
            "standoff": 15
           },
           "zerolinecolor": "white",
           "zerolinewidth": 2
          }
         }
        },
        "title": {
         "text": "Countries using each vaccine (different colors for each vaccine)"
        }
       }
      },
      "text/html": [
       "<div>                            <div id=\"b65a00f1-9c44-4719-a2e2-386ad117d894\" class=\"plotly-graph-div\" style=\"height:800px; width:100%;\"></div>            <script type=\"text/javascript\">                require([\"plotly\"], function(Plotly) {                    window.PLOTLYENV=window.PLOTLYENV || {};                                    if (document.getElementById(\"b65a00f1-9c44-4719-a2e2-386ad117d894\")) {                    Plotly.newPlot(                        \"b65a00f1-9c44-4719-a2e2-386ad117d894\",                        [{\"colorscale\":[[0.0,\"#636efa\"],[1.0,\"#636efa\"]],\"geo\":\"geo\",\"hovertemplate\":\"color=BBIBP-CorV, Oxford/AstraZeneca, Pfizer/BioNTech<br>locations=%{location}<extra></extra>\",\"locationmode\":\"country names\",\"locations\":[\"Afghanistan\"],\"name\":\"BBIBP-CorV, Oxford/AstraZeneca, Pfizer/BioNTech\",\"showlegend\":true,\"showscale\":false,\"type\":\"choropleth\",\"z\":[1]},{\"colorscale\":[[0.0,\"#EF553B\"],[1.0,\"#EF553B\"]],\"geo\":\"geo\",\"hovertemplate\":\"color=Oxford/AstraZeneca, Pfizer/BioNTech, Sinovac, Sputnik V<br>locations=%{location}<extra></extra>\",\"locationmode\":\"country names\",\"locations\":[\"Albania\",\"Bosnia and Herzegovina\",\"Philippines\",\"Tunisia\"],\"name\":\"Oxford/AstraZeneca, Pfizer/BioNTech, Sinovac, Sputnik V\",\"showlegend\":true,\"showscale\":false,\"type\":\"choropleth\",\"z\":[1,1,1,1]},{\"colorscale\":[[0.0,\"#00cc96\"],[1.0,\"#00cc96\"]],\"geo\":\"geo\",\"hovertemplate\":\"color=Oxford/AstraZeneca, Sputnik V<br>locations=%{location}<extra></extra>\",\"locationmode\":\"country names\",\"locations\":[\"Algeria\",\"Ghana\",\"Guyana\",\"Kenya\",\"Nicaragua\"],\"name\":\"Oxford/AstraZeneca, Sputnik V\",\"showlegend\":true,\"showscale\":false,\"type\":\"choropleth\",\"z\":[1,1,1,1,1]},{\"colorscale\":[[0.0,\"#ab63fa\"],[1.0,\"#ab63fa\"]],\"geo\":\"geo\",\"hovertemplate\":\"color=Oxford/AstraZeneca, Pfizer/BioNTech<br>locations=%{location}<extra></extra>\",\"locationmode\":\"country names\",\"locations\":[\"Andorra\",\"Australia\",\"Cape Verde\",\"Cayman Islands\",\"Costa Rica\",\"Isle of Man\",\"Oman\",\"Panama\",\"Saudi Arabia\",\"Slovenia\",\"Sweden\"],\"name\":\"Oxford/AstraZeneca, Pfizer/BioNTech\",\"showlegend\":true,\"showscale\":false,\"type\":\"choropleth\",\"z\":[1,1,1,1,1,1,1,1,1,1,1]},{\"colorscale\":[[0.0,\"#FFA15A\"],[1.0,\"#FFA15A\"]],\"geo\":\"geo\",\"hovertemplate\":\"color=Oxford/AstraZeneca<br>locations=%{location}<extra></extra>\",\"locationmode\":\"country names\",\"locations\":[\"Angola\",\"Anguilla\",\"Antigua and Barbuda\",\"Bahamas\",\"Bangladesh\",\"Barbados\",\"Bhutan\",\"Botswana\",\"British Virgin Islands\",\"Burkina Faso\",\"Cook Islands\",\"Cote d'Ivoire\",\"Democratic Republic of Congo\",\"Dominica\",\"Eswatini\",\"Ethiopia\",\"Falkland Islands\",\"Fiji\",\"French Polynesia\",\"Georgia\",\"Grenada\",\"Jamaica\",\"Kosovo\",\"Lesotho\",\"Liberia\",\"Madagascar\",\"Malawi\",\"Mali\",\"Montserrat\",\"Myanmar\",\"Nauru\",\"Nigeria\",\"Pitcairn\",\"Saint Helena\",\"Saint Kitts and Nevis\",\"Saint Lucia\",\"Saint Vincent and the Grenadines\",\"Samoa\",\"Sao Tome and Principe\",\"Solomon Islands\",\"South Sudan\",\"Suriname\",\"Tajikistan\",\"Togo\",\"Tonga\",\"Trinidad and Tobago\",\"Tuvalu\",\"Uganda\",\"Vanuatu\",\"Vietnam\",\"Wallis and Futuna\",\"Yemen\"],\"name\":\"Oxford/AstraZeneca\",\"showlegend\":true,\"showscale\":false,\"type\":\"choropleth\",\"z\":[1,1,1,1,1,1,1,1,1,1,1,1,1,1,1,1,1,1,1,1,1,1,1,1,1,1,1,1,1,1,1,1,1,1,1,1,1,1,1,1,1,1,1,1,1,1,1,1,1,1,1,1]},{\"colorscale\":[[0.0,\"#19d3f3\"],[1.0,\"#19d3f3\"]],\"geo\":\"geo\",\"hovertemplate\":\"color=Oxford/AstraZeneca, Sinopharm/Beijing, Sputnik V<br>locations=%{location}<extra></extra>\",\"locationmode\":\"country names\",\"locations\":[\"Argentina\",\"Djibouti\",\"Sri Lanka\",\"Syria\"],\"name\":\"Oxford/AstraZeneca, Sinopharm/Beijing, Sputnik V\",\"showlegend\":true,\"showscale\":false,\"type\":\"choropleth\",\"z\":[1,1,1,1]},{\"colorscale\":[[0.0,\"#FF6692\"],[1.0,\"#FF6692\"]],\"geo\":\"geo\",\"hovertemplate\":\"color=Oxford/AstraZeneca, Sinovac, Sputnik V<br>locations=%{location}<extra></extra>\",\"locationmode\":\"country names\",\"locations\":[\"Armenia\",\"Azerbaijan\"],\"name\":\"Oxford/AstraZeneca, Sinovac, Sputnik V\",\"showlegend\":true,\"showscale\":false,\"type\":\"choropleth\",\"z\":[1,1]},{\"colorscale\":[[0.0,\"#B6E880\"],[1.0,\"#B6E880\"]],\"geo\":\"geo\",\"hovertemplate\":\"color=Pfizer/BioNTech<br>locations=%{location}<extra></extra>\",\"locationmode\":\"country names\",\"locations\":[\"Aruba\",\"Bermuda\",\"Gibraltar\",\"Kuwait\",\"Monaco\",\"New Caledonia\",\"New Zealand\",\"Turks and Caicos Islands\"],\"name\":\"Pfizer/BioNTech\",\"showlegend\":true,\"showscale\":false,\"type\":\"choropleth\",\"z\":[1,1,1,1,1,1,1,1]},{\"colorscale\":[[0.0,\"#FF97FF\"],[1.0,\"#FF97FF\"]],\"geo\":\"geo\",\"hovertemplate\":\"color=Johnson&Johnson, Moderna, Oxford/AstraZeneca, Pfizer/BioNTech<br>locations=%{location}<extra></extra>\",\"locationmode\":\"country names\",\"locations\":[\"Austria\",\"Belgium\",\"Bulgaria\",\"Cyprus\",\"Czechia\",\"Estonia\",\"France\",\"Germany\",\"Greece\",\"Iceland\",\"Ireland\",\"Italy\",\"Latvia\",\"Lithuania\",\"Malta\",\"Netherlands\",\"Poland\",\"Portugal\",\"Romania\",\"Spain\"],\"name\":\"Johnson&Johnson, Moderna, Oxford/AstraZeneca, Pfizer/BioNTech\",\"showlegend\":true,\"showscale\":false,\"type\":\"choropleth\",\"z\":[1,1,1,1,1,1,1,1,1,1,1,1,1,1,1,1,1,1,1,1]},{\"colorscale\":[[0.0,\"#FECB52\"],[1.0,\"#FECB52\"]],\"geo\":\"geo\",\"hovertemplate\":\"color=Oxford/AstraZeneca, Pfizer/BioNTech, Sinopharm/Beijing, Sputnik V<br>locations=%{location}<extra></extra>\",\"locationmode\":\"country names\",\"locations\":[\"Bahrain\",\"Bolivia\",\"Jordan\",\"Lebanon\",\"Moldova\",\"Mongolia\",\"Montenegro\",\"Serbia\"],\"name\":\"Oxford/AstraZeneca, Pfizer/BioNTech, Sinopharm/Beijing, Sputnik V\",\"showlegend\":true,\"showscale\":false,\"type\":\"choropleth\",\"z\":[1,1,1,1,1,1,1,1]},{\"colorscale\":[[0.0,\"#636efa\"],[1.0,\"#636efa\"]],\"geo\":\"geo\",\"hovertemplate\":\"color=BBIBP-CorV, Sputnik V<br>locations=%{location}<extra></extra>\",\"locationmode\":\"country names\",\"locations\":[\"Belarus\",\"Venezuela\"],\"name\":\"BBIBP-CorV, Sputnik V\",\"showlegend\":true,\"showscale\":false,\"type\":\"choropleth\",\"z\":[1,1]},{\"colorscale\":[[0.0,\"#EF553B\"],[1.0,\"#EF553B\"]],\"geo\":\"geo\",\"hovertemplate\":\"color=Oxford/AstraZeneca, Sinopharm/Beijing<br>locations=%{location}<extra></extra>\",\"locationmode\":\"country names\",\"locations\":[\"Belize\",\"Brunei\",\"Gambia\",\"Guinea-Bissau\",\"Morocco\",\"Mozambique\",\"Namibia\",\"Nepal\",\"Papua New Guinea\",\"Seychelles\",\"Zambia\"],\"name\":\"Oxford/AstraZeneca, Sinopharm/Beijing\",\"showlegend\":true,\"showscale\":false,\"type\":\"choropleth\",\"z\":[1,1,1,1,1,1,1,1,1,1,1]},{\"colorscale\":[[0.0,\"#00cc96\"],[1.0,\"#00cc96\"]],\"geo\":\"geo\",\"hovertemplate\":\"color=Oxford/AstraZeneca, Sinovac<br>locations=%{location}<extra></extra>\",\"locationmode\":\"country names\",\"locations\":[\"Benin\",\"Indonesia\",\"Thailand\",\"Timor\"],\"name\":\"Oxford/AstraZeneca, Sinovac\",\"showlegend\":true,\"showscale\":false,\"type\":\"choropleth\",\"z\":[1,1,1,1]},{\"colorscale\":[[0.0,\"#ab63fa\"],[1.0,\"#ab63fa\"]],\"geo\":\"geo\",\"hovertemplate\":\"color=Moderna, Pfizer/BioNTech<br>locations=%{location}<extra></extra>\",\"locationmode\":\"country names\",\"locations\":[\"Bonaire Sint Eustatius and Saba\",\"Curacao\",\"Faeroe Islands\",\"Israel\",\"Japan\",\"Liechtenstein\",\"Norway\",\"Qatar\",\"Singapore\",\"Switzerland\"],\"name\":\"Moderna, Pfizer/BioNTech\",\"showlegend\":true,\"showscale\":false,\"type\":\"choropleth\",\"z\":[1,1,1,1,1,1,1,1,1,1]},{\"colorscale\":[[0.0,\"#FFA15A\"],[1.0,\"#FFA15A\"]],\"geo\":\"geo\",\"hovertemplate\":\"color=Oxford/AstraZeneca, Pfizer/BioNTech, Sinovac<br>locations=%{location}<extra></extra>\",\"locationmode\":\"country names\",\"locations\":[\"Brazil\",\"Colombia\",\"Ecuador\",\"El Salvador\",\"Malaysia\",\"Northern Cyprus\",\"Ukraine\",\"Uruguay\"],\"name\":\"Oxford/AstraZeneca, Pfizer/BioNTech, Sinovac\",\"showlegend\":true,\"showscale\":false,\"type\":\"choropleth\",\"z\":[1,1,1,1,1,1,1,1]},{\"colorscale\":[[0.0,\"#19d3f3\"],[1.0,\"#19d3f3\"]],\"geo\":\"geo\",\"hovertemplate\":\"color=Oxford/AstraZeneca, Sinopharm/Beijing, Sinovac<br>locations=%{location}<extra></extra>\",\"locationmode\":\"country names\",\"locations\":[\"Cambodia\"],\"name\":\"Oxford/AstraZeneca, Sinopharm/Beijing, Sinovac\",\"showlegend\":true,\"showscale\":false,\"type\":\"choropleth\",\"z\":[1]},{\"colorscale\":[[0.0,\"#FF6692\"],[1.0,\"#FF6692\"]],\"geo\":\"geo\",\"hovertemplate\":\"color=BBIBP-CorV, Oxford/AstraZeneca<br>locations=%{location}<extra></extra>\",\"locationmode\":\"country names\",\"locations\":[\"Cameroon\",\"Mauritania\",\"Niger\",\"Senegal\",\"Sierra Leone\"],\"name\":\"BBIBP-CorV, Oxford/AstraZeneca\",\"showlegend\":true,\"showscale\":false,\"type\":\"choropleth\",\"z\":[1,1,1,1,1]},{\"colorscale\":[[0.0,\"#B6E880\"],[1.0,\"#B6E880\"]],\"geo\":\"geo\",\"hovertemplate\":\"color=Moderna, Oxford/AstraZeneca, Pfizer/BioNTech<br>locations=%{location}<extra></extra>\",\"locationmode\":\"country names\",\"locations\":[\"Canada\",\"Croatia\",\"England\",\"Finland\",\"Guernsey\",\"Jersey\",\"Luxembourg\",\"Northern Ireland\",\"Palestine\",\"Rwanda\",\"Scotland\",\"Sint Maarten (Dutch part)\",\"Slovakia\",\"United Kingdom\",\"Wales\"],\"name\":\"Moderna, Oxford/AstraZeneca, Pfizer/BioNTech\",\"showlegend\":true,\"showscale\":false,\"type\":\"choropleth\",\"z\":[1,1,1,1,1,1,1,1,1,1,1,1,1,1,1]},{\"colorscale\":[[0.0,\"#FF97FF\"],[1.0,\"#FF97FF\"]],\"geo\":\"geo\",\"hovertemplate\":\"color=Covaxin, Oxford/AstraZeneca<br>locations=%{location}<extra></extra>\",\"locationmode\":\"country names\",\"locations\":[\"Central African Republic\",\"India\"],\"name\":\"Covaxin, Oxford/AstraZeneca\",\"showlegend\":true,\"showscale\":false,\"type\":\"choropleth\",\"z\":[1,1]},{\"colorscale\":[[0.0,\"#FECB52\"],[1.0,\"#FECB52\"]],\"geo\":\"geo\",\"hovertemplate\":\"color=BBIBP-CorV<br>locations=%{location}<extra></extra>\",\"locationmode\":\"country names\",\"locations\":[\"Chad\"],\"name\":\"BBIBP-CorV\",\"showlegend\":true,\"showscale\":false,\"type\":\"choropleth\",\"z\":[1]},{\"colorscale\":[[0.0,\"#636efa\"],[1.0,\"#636efa\"]],\"geo\":\"geo\",\"hovertemplate\":\"color=CanSino, Oxford/AstraZeneca, Pfizer/BioNTech, Sinovac<br>locations=%{location}<extra></extra>\",\"locationmode\":\"country names\",\"locations\":[\"Chile\"],\"name\":\"CanSino, Oxford/AstraZeneca, Pfizer/BioNTech, Sinovac\",\"showlegend\":true,\"showscale\":false,\"type\":\"choropleth\",\"z\":[1]},{\"colorscale\":[[0.0,\"#EF553B\"],[1.0,\"#EF553B\"]],\"geo\":\"geo\",\"hovertemplate\":\"color=CanSino, Sinopharm/Beijing, Sinopharm/Wuhan, Sinovac<br>locations=%{location}<extra></extra>\",\"locationmode\":\"country names\",\"locations\":[\"China\"],\"name\":\"CanSino, Sinopharm/Beijing, Sinopharm/Wuhan, Sinovac\",\"showlegend\":true,\"showscale\":false,\"type\":\"choropleth\",\"z\":[1]},{\"colorscale\":[[0.0,\"#00cc96\"],[1.0,\"#00cc96\"]],\"geo\":\"geo\",\"hovertemplate\":\"color=Covaxin, Oxford/AstraZeneca, Sinopharm/Beijing<br>locations=%{location}<extra></extra>\",\"locationmode\":\"country names\",\"locations\":[\"Comoros\"],\"name\":\"Covaxin, Oxford/AstraZeneca, Sinopharm/Beijing\",\"showlegend\":true,\"showscale\":false,\"type\":\"choropleth\",\"z\":[1]},{\"colorscale\":[[0.0,\"#ab63fa\"],[1.0,\"#ab63fa\"]],\"geo\":\"geo\",\"hovertemplate\":\"color=BBIBP-CorV, Moderna, Oxford/AstraZeneca, Sputnik V<br>locations=%{location}<extra></extra>\",\"locationmode\":\"country names\",\"locations\":[\"Congo\"],\"name\":\"BBIBP-CorV, Moderna, Oxford/AstraZeneca, Sputnik V\",\"showlegend\":true,\"showscale\":false,\"type\":\"choropleth\",\"z\":[1]},{\"colorscale\":[[0.0,\"#FFA15A\"],[1.0,\"#FFA15A\"]],\"geo\":\"geo\",\"hovertemplate\":\"color=Abdala, Soberana02<br>locations=%{location}<extra></extra>\",\"locationmode\":\"country names\",\"locations\":[\"Cuba\"],\"name\":\"Abdala, Soberana02\",\"showlegend\":true,\"showscale\":false,\"type\":\"choropleth\",\"z\":[1]},{\"colorscale\":[[0.0,\"#19d3f3\"],[1.0,\"#19d3f3\"]],\"geo\":\"geo\",\"hovertemplate\":\"color=Johnson&Johnson, Moderna, Pfizer/BioNTech<br>locations=%{location}<extra></extra>\",\"locationmode\":\"country names\",\"locations\":[\"Denmark\",\"United States\"],\"name\":\"Johnson&Johnson, Moderna, Pfizer/BioNTech\",\"showlegend\":true,\"showscale\":false,\"type\":\"choropleth\",\"z\":[1,1]},{\"colorscale\":[[0.0,\"#FF6692\"],[1.0,\"#FF6692\"]],\"geo\":\"geo\",\"hovertemplate\":\"color=Oxford/AstraZeneca, Pfizer/BioNTech, Sinopharm/Beijing, Sinovac<br>locations=%{location}<extra></extra>\",\"locationmode\":\"country names\",\"locations\":[\"Dominican Republic\"],\"name\":\"Oxford/AstraZeneca, Pfizer/BioNTech, Sinopharm/Beijing, Sinovac\",\"showlegend\":true,\"showscale\":false,\"type\":\"choropleth\",\"z\":[1]},{\"colorscale\":[[0.0,\"#B6E880\"],[1.0,\"#B6E880\"]],\"geo\":\"geo\",\"hovertemplate\":\"color=BBIBP-CorV, Oxford/AstraZeneca, Sinovac, Sputnik V<br>locations=%{location}<extra></extra>\",\"locationmode\":\"country names\",\"locations\":[\"Egypt\"],\"name\":\"BBIBP-CorV, Oxford/AstraZeneca, Sinovac, Sputnik V\",\"showlegend\":true,\"showscale\":false,\"type\":\"choropleth\",\"z\":[1]},{\"colorscale\":[[0.0,\"#FF97FF\"],[1.0,\"#FF97FF\"]],\"geo\":\"geo\",\"hovertemplate\":\"color=Sinopharm/Beijing<br>locations=%{location}<extra></extra>\",\"locationmode\":\"country names\",\"locations\":[\"Equatorial Guinea\",\"Gabon\",\"Zimbabwe\"],\"name\":\"Sinopharm/Beijing\",\"showlegend\":true,\"showscale\":false,\"type\":\"choropleth\",\"z\":[1,1,1]},{\"colorscale\":[[0.0,\"#FECB52\"],[1.0,\"#FECB52\"]],\"geo\":\"geo\",\"hovertemplate\":\"color=Moderna<br>locations=%{location}<extra></extra>\",\"locationmode\":\"country names\",\"locations\":[\"Greenland\"],\"name\":\"Moderna\",\"showlegend\":true,\"showscale\":false,\"type\":\"choropleth\",\"z\":[1]},{\"colorscale\":[[0.0,\"#636efa\"],[1.0,\"#636efa\"]],\"geo\":\"geo\",\"hovertemplate\":\"color=Moderna, Oxford/AstraZeneca<br>locations=%{location}<extra></extra>\",\"locationmode\":\"country names\",\"locations\":[\"Guatemala\",\"Taiwan\"],\"name\":\"Moderna, Oxford/AstraZeneca\",\"showlegend\":true,\"showscale\":false,\"type\":\"choropleth\",\"z\":[1,1]},{\"colorscale\":[[0.0,\"#EF553B\"],[1.0,\"#EF553B\"]],\"geo\":\"geo\",\"hovertemplate\":\"color=Sputnik V<br>locations=%{location}<extra></extra>\",\"locationmode\":\"country names\",\"locations\":[\"Guinea\"],\"name\":\"Sputnik V\",\"showlegend\":true,\"showscale\":false,\"type\":\"choropleth\",\"z\":[1]},{\"colorscale\":[[0.0,\"#00cc96\"],[1.0,\"#00cc96\"]],\"geo\":\"geo\",\"hovertemplate\":\"color=Johnson&Johnson, Moderna, Oxford/AstraZeneca, Sputnik V<br>locations=%{location}<extra></extra>\",\"locationmode\":\"country names\",\"locations\":[\"Honduras\"],\"name\":\"Johnson&Johnson, Moderna, Oxford/AstraZeneca, Sputnik V\",\"showlegend\":true,\"showscale\":false,\"type\":\"choropleth\",\"z\":[1]},{\"colorscale\":[[0.0,\"#ab63fa\"],[1.0,\"#ab63fa\"]],\"geo\":\"geo\",\"hovertemplate\":\"color=Pfizer/BioNTech, Sinovac<br>locations=%{location}<extra></extra>\",\"locationmode\":\"country names\",\"locations\":[\"Hong Kong\",\"Turkey\"],\"name\":\"Pfizer/BioNTech, Sinovac\",\"showlegend\":true,\"showscale\":false,\"type\":\"choropleth\",\"z\":[1,1]},{\"colorscale\":[[0.0,\"#FFA15A\"],[1.0,\"#FFA15A\"]],\"geo\":\"geo\",\"hovertemplate\":\"color=Johnson&Johnson, Moderna, Oxford/AstraZeneca, Pfizer/BioNTech, Sinopharm/Beijing, Sputnik V<br>locations=%{location}<extra></extra>\",\"locationmode\":\"country names\",\"locations\":[\"Hungary\"],\"name\":\"Johnson&Johnson, Moderna, Oxford/AstraZeneca, Pfizer/BioNTech, Sinopharm/Beijing, Sputnik V\",\"showlegend\":true,\"showscale\":false,\"type\":\"choropleth\",\"z\":[1]},{\"colorscale\":[[0.0,\"#19d3f3\"],[1.0,\"#19d3f3\"]],\"geo\":\"geo\",\"hovertemplate\":\"color=BBIBP-CorV, Covaxin, Oxford/AstraZeneca, Sputnik V<br>locations=%{location}<extra></extra>\",\"locationmode\":\"country names\",\"locations\":[\"Iran\"],\"name\":\"BBIBP-CorV, Covaxin, Oxford/AstraZeneca, Sputnik V\",\"showlegend\":true,\"showscale\":false,\"type\":\"choropleth\",\"z\":[1]},{\"colorscale\":[[0.0,\"#FF6692\"],[1.0,\"#FF6692\"]],\"geo\":\"geo\",\"hovertemplate\":\"color=BBIBP-CorV, Oxford/AstraZeneca, Pfizer/BioNTech, Sputnik V<br>locations=%{location}<extra></extra>\",\"locationmode\":\"country names\",\"locations\":[\"Iraq\"],\"name\":\"BBIBP-CorV, Oxford/AstraZeneca, Pfizer/BioNTech, Sputnik V\",\"showlegend\":true,\"showscale\":false,\"type\":\"choropleth\",\"z\":[1]},{\"colorscale\":[[0.0,\"#B6E880\"],[1.0,\"#B6E880\"]],\"geo\":\"geo\",\"hovertemplate\":\"color=QazVac, Sinopharm/HayatVax, Sputnik V<br>locations=%{location}<extra></extra>\",\"locationmode\":\"country names\",\"locations\":[\"Kazakhstan\"],\"name\":\"QazVac, Sinopharm/HayatVax, Sputnik V\",\"showlegend\":true,\"showscale\":false,\"type\":\"choropleth\",\"z\":[1]},{\"colorscale\":[[0.0,\"#FF97FF\"],[1.0,\"#FF97FF\"]],\"geo\":\"geo\",\"hovertemplate\":\"color=Sinopharm/Beijing, Sputnik V<br>locations=%{location}<extra></extra>\",\"locationmode\":\"country names\",\"locations\":[\"Kyrgyzstan\",\"Laos\"],\"name\":\"Sinopharm/Beijing, Sputnik V\",\"showlegend\":true,\"showscale\":false,\"type\":\"choropleth\",\"z\":[1,1]},{\"colorscale\":[[0.0,\"#FECB52\"],[1.0,\"#FECB52\"]],\"geo\":\"geo\",\"hovertemplate\":\"color=Johnson&Johnson, Moderna, Oxford/AstraZeneca, Pfizer/BioNTech, Sinovac, Sputnik V<br>locations=%{location}<extra></extra>\",\"locationmode\":\"country names\",\"locations\":[\"Libya\"],\"name\":\"Johnson&Johnson, Moderna, Oxford/AstraZeneca, Pfizer/BioNTech, Sinovac, Sputnik V\",\"showlegend\":true,\"showscale\":false,\"type\":\"choropleth\",\"z\":[1]},{\"colorscale\":[[0.0,\"#636efa\"],[1.0,\"#636efa\"]],\"geo\":\"geo\",\"hovertemplate\":\"color=Pfizer/BioNTech, Sinopharm/Beijing<br>locations=%{location}<extra></extra>\",\"locationmode\":\"country names\",\"locations\":[\"Macao\"],\"name\":\"Pfizer/BioNTech, Sinopharm/Beijing\",\"showlegend\":true,\"showscale\":false,\"type\":\"choropleth\",\"z\":[1]},{\"colorscale\":[[0.0,\"#EF553B\"],[1.0,\"#EF553B\"]],\"geo\":\"geo\",\"hovertemplate\":\"color=Oxford/AstraZeneca, Pfizer/BioNTech, Sinopharm/Beijing<br>locations=%{location}<extra></extra>\",\"locationmode\":\"country names\",\"locations\":[\"Maldives\",\"Peru\"],\"name\":\"Oxford/AstraZeneca, Pfizer/BioNTech, Sinopharm/Beijing\",\"showlegend\":true,\"showscale\":false,\"type\":\"choropleth\",\"z\":[1,1]},{\"colorscale\":[[0.0,\"#00cc96\"],[1.0,\"#00cc96\"]],\"geo\":\"geo\",\"hovertemplate\":\"color=BBIBP-CorV, Covaxin, Oxford/AstraZeneca<br>locations=%{location}<extra></extra>\",\"locationmode\":\"country names\",\"locations\":[\"Mauritius\"],\"name\":\"BBIBP-CorV, Covaxin, Oxford/AstraZeneca\",\"showlegend\":true,\"showscale\":false,\"type\":\"choropleth\",\"z\":[1]},{\"colorscale\":[[0.0,\"#ab63fa\"],[1.0,\"#ab63fa\"]],\"geo\":\"geo\",\"hovertemplate\":\"color=CanSino, Oxford/AstraZeneca, Pfizer/BioNTech, Sinovac, Sputnik V<br>locations=%{location}<extra></extra>\",\"locationmode\":\"country names\",\"locations\":[\"Mexico\"],\"name\":\"CanSino, Oxford/AstraZeneca, Pfizer/BioNTech, Sinovac, Sputnik V\",\"showlegend\":true,\"showscale\":false,\"type\":\"choropleth\",\"z\":[1]},{\"colorscale\":[[0.0,\"#FFA15A\"],[1.0,\"#FFA15A\"]],\"geo\":\"geo\",\"hovertemplate\":\"color=Oxford/AstraZeneca, Pfizer/BioNTech, Sinopharm/Beijing, Sinovac, Sputnik V<br>locations=%{location}<extra></extra>\",\"locationmode\":\"country names\",\"locations\":[\"North Macedonia\"],\"name\":\"Oxford/AstraZeneca, Pfizer/BioNTech, Sinopharm/Beijing, Sinovac, Sputnik V\",\"showlegend\":true,\"showscale\":false,\"type\":\"choropleth\",\"z\":[1]},{\"colorscale\":[[0.0,\"#19d3f3\"],[1.0,\"#19d3f3\"]],\"geo\":\"geo\",\"hovertemplate\":\"color=CanSino, Oxford/AstraZeneca, Sinopharm/Beijing, Sinovac, Sputnik V<br>locations=%{location}<extra></extra>\",\"locationmode\":\"country names\",\"locations\":[\"Pakistan\"],\"name\":\"CanSino, Oxford/AstraZeneca, Sinopharm/Beijing, Sinovac, Sputnik V\",\"showlegend\":true,\"showscale\":false,\"type\":\"choropleth\",\"z\":[1]},{\"colorscale\":[[0.0,\"#FF6692\"],[1.0,\"#FF6692\"]],\"geo\":\"geo\",\"hovertemplate\":\"color=Covaxin, Oxford/AstraZeneca, Sinopharm/Beijing, Sinovac, Sputnik V<br>locations=%{location}<extra></extra>\",\"locationmode\":\"country names\",\"locations\":[\"Paraguay\"],\"name\":\"Covaxin, Oxford/AstraZeneca, Sinopharm/Beijing, Sinovac, Sputnik V\",\"showlegend\":true,\"showscale\":false,\"type\":\"choropleth\",\"z\":[1]},{\"colorscale\":[[0.0,\"#B6E880\"],[1.0,\"#B6E880\"]],\"geo\":\"geo\",\"hovertemplate\":\"color=EpiVacCorona, Sputnik V<br>locations=%{location}<extra></extra>\",\"locationmode\":\"country names\",\"locations\":[\"Russia\"],\"name\":\"EpiVacCorona, Sputnik V\",\"showlegend\":true,\"showscale\":false,\"type\":\"choropleth\",\"z\":[1]},{\"colorscale\":[[0.0,\"#FF97FF\"],[1.0,\"#FF97FF\"]],\"geo\":\"geo\",\"hovertemplate\":\"color=Pfizer/BioNTech, Sputnik V<br>locations=%{location}<extra></extra>\",\"locationmode\":\"country names\",\"locations\":[\"San Marino\"],\"name\":\"Pfizer/BioNTech, Sputnik V\",\"showlegend\":true,\"showscale\":false,\"type\":\"choropleth\",\"z\":[1]},{\"colorscale\":[[0.0,\"#FECB52\"],[1.0,\"#FECB52\"]],\"geo\":\"geo\",\"hovertemplate\":\"color=BBIBP-CorV, Oxford/AstraZeneca, Sinovac<br>locations=%{location}<extra></extra>\",\"locationmode\":\"country names\",\"locations\":[\"Somalia\"],\"name\":\"BBIBP-CorV, Oxford/AstraZeneca, Sinovac\",\"showlegend\":true,\"showscale\":false,\"type\":\"choropleth\",\"z\":[1]},{\"colorscale\":[[0.0,\"#636efa\"],[1.0,\"#636efa\"]],\"geo\":\"geo\",\"hovertemplate\":\"color=Johnson&Johnson, Pfizer/BioNTech<br>locations=%{location}<extra></extra>\",\"locationmode\":\"country names\",\"locations\":[\"South Africa\"],\"name\":\"Johnson&Johnson, Pfizer/BioNTech\",\"showlegend\":true,\"showscale\":false,\"type\":\"choropleth\",\"z\":[1]},{\"colorscale\":[[0.0,\"#EF553B\"],[1.0,\"#EF553B\"]],\"geo\":\"geo\",\"hovertemplate\":\"color=Johnson&Johnson, Oxford/AstraZeneca, Pfizer/BioNTech<br>locations=%{location}<extra></extra>\",\"locationmode\":\"country names\",\"locations\":[\"South Korea\"],\"name\":\"Johnson&Johnson, Oxford/AstraZeneca, Pfizer/BioNTech\",\"showlegend\":true,\"showscale\":false,\"type\":\"choropleth\",\"z\":[1]},{\"colorscale\":[[0.0,\"#00cc96\"],[1.0,\"#00cc96\"]],\"geo\":\"geo\",\"hovertemplate\":\"color=BBIBP-CorV, Oxford/AstraZeneca, Pfizer/BioNTech, Sinovac<br>locations=%{location}<extra></extra>\",\"locationmode\":\"country names\",\"locations\":[\"Sudan\"],\"name\":\"BBIBP-CorV, Oxford/AstraZeneca, Pfizer/BioNTech, Sinovac\",\"showlegend\":true,\"showscale\":false,\"type\":\"choropleth\",\"z\":[1]},{\"colorscale\":[[0.0,\"#ab63fa\"],[1.0,\"#ab63fa\"]],\"geo\":\"geo\",\"hovertemplate\":\"color=EpiVacCorona, Oxford/AstraZeneca, Sinopharm/Beijing, Sputnik V<br>locations=%{location}<extra></extra>\",\"locationmode\":\"country names\",\"locations\":[\"Turkmenistan\"],\"name\":\"EpiVacCorona, Oxford/AstraZeneca, Sinopharm/Beijing, Sputnik V\",\"showlegend\":true,\"showscale\":false,\"type\":\"choropleth\",\"z\":[1]},{\"colorscale\":[[0.0,\"#FFA15A\"],[1.0,\"#FFA15A\"]],\"geo\":\"geo\",\"hovertemplate\":\"color=Oxford/AstraZeneca, Pfizer/BioNTech, Sinopharm/Beijing, Sinopharm/Wuhan, Sputnik V<br>locations=%{location}<extra></extra>\",\"locationmode\":\"country names\",\"locations\":[\"United Arab Emirates\"],\"name\":\"Oxford/AstraZeneca, Pfizer/BioNTech, Sinopharm/Beijing, Sinopharm/Wuhan, Sputnik V\",\"showlegend\":true,\"showscale\":false,\"type\":\"choropleth\",\"z\":[1]},{\"colorscale\":[[0.0,\"#19d3f3\"],[1.0,\"#19d3f3\"]],\"geo\":\"geo\",\"hovertemplate\":\"color=Oxford/AstraZeneca, RBD-Dimer, Sputnik V<br>locations=%{location}<extra></extra>\",\"locationmode\":\"country names\",\"locations\":[\"Uzbekistan\"],\"name\":\"Oxford/AstraZeneca, RBD-Dimer, Sputnik V\",\"showlegend\":true,\"showscale\":false,\"type\":\"choropleth\",\"z\":[1]}],                        {\"geo\":{\"center\":{},\"domain\":{\"x\":[0.0,1.0],\"y\":[0.0,1.0]}},\"height\":800,\"legend\":{\"orientation\":\"v\",\"title\":{\"text\":\"Vaccine scheme\"},\"tracegroupgap\":0},\"template\":{\"data\":{\"bar\":[{\"error_x\":{\"color\":\"#2a3f5f\"},\"error_y\":{\"color\":\"#2a3f5f\"},\"marker\":{\"line\":{\"color\":\"#E5ECF6\",\"width\":0.5},\"pattern\":{\"fillmode\":\"overlay\",\"size\":10,\"solidity\":0.2}},\"type\":\"bar\"}],\"barpolar\":[{\"marker\":{\"line\":{\"color\":\"#E5ECF6\",\"width\":0.5},\"pattern\":{\"fillmode\":\"overlay\",\"size\":10,\"solidity\":0.2}},\"type\":\"barpolar\"}],\"carpet\":[{\"aaxis\":{\"endlinecolor\":\"#2a3f5f\",\"gridcolor\":\"white\",\"linecolor\":\"white\",\"minorgridcolor\":\"white\",\"startlinecolor\":\"#2a3f5f\"},\"baxis\":{\"endlinecolor\":\"#2a3f5f\",\"gridcolor\":\"white\",\"linecolor\":\"white\",\"minorgridcolor\":\"white\",\"startlinecolor\":\"#2a3f5f\"},\"type\":\"carpet\"}],\"choropleth\":[{\"colorbar\":{\"outlinewidth\":0,\"ticks\":\"\"},\"type\":\"choropleth\"}],\"contour\":[{\"colorbar\":{\"outlinewidth\":0,\"ticks\":\"\"},\"colorscale\":[[0.0,\"#0d0887\"],[0.1111111111111111,\"#46039f\"],[0.2222222222222222,\"#7201a8\"],[0.3333333333333333,\"#9c179e\"],[0.4444444444444444,\"#bd3786\"],[0.5555555555555556,\"#d8576b\"],[0.6666666666666666,\"#ed7953\"],[0.7777777777777778,\"#fb9f3a\"],[0.8888888888888888,\"#fdca26\"],[1.0,\"#f0f921\"]],\"type\":\"contour\"}],\"contourcarpet\":[{\"colorbar\":{\"outlinewidth\":0,\"ticks\":\"\"},\"type\":\"contourcarpet\"}],\"heatmap\":[{\"colorbar\":{\"outlinewidth\":0,\"ticks\":\"\"},\"colorscale\":[[0.0,\"#0d0887\"],[0.1111111111111111,\"#46039f\"],[0.2222222222222222,\"#7201a8\"],[0.3333333333333333,\"#9c179e\"],[0.4444444444444444,\"#bd3786\"],[0.5555555555555556,\"#d8576b\"],[0.6666666666666666,\"#ed7953\"],[0.7777777777777778,\"#fb9f3a\"],[0.8888888888888888,\"#fdca26\"],[1.0,\"#f0f921\"]],\"type\":\"heatmap\"}],\"heatmapgl\":[{\"colorbar\":{\"outlinewidth\":0,\"ticks\":\"\"},\"colorscale\":[[0.0,\"#0d0887\"],[0.1111111111111111,\"#46039f\"],[0.2222222222222222,\"#7201a8\"],[0.3333333333333333,\"#9c179e\"],[0.4444444444444444,\"#bd3786\"],[0.5555555555555556,\"#d8576b\"],[0.6666666666666666,\"#ed7953\"],[0.7777777777777778,\"#fb9f3a\"],[0.8888888888888888,\"#fdca26\"],[1.0,\"#f0f921\"]],\"type\":\"heatmapgl\"}],\"histogram\":[{\"marker\":{\"pattern\":{\"fillmode\":\"overlay\",\"size\":10,\"solidity\":0.2}},\"type\":\"histogram\"}],\"histogram2d\":[{\"colorbar\":{\"outlinewidth\":0,\"ticks\":\"\"},\"colorscale\":[[0.0,\"#0d0887\"],[0.1111111111111111,\"#46039f\"],[0.2222222222222222,\"#7201a8\"],[0.3333333333333333,\"#9c179e\"],[0.4444444444444444,\"#bd3786\"],[0.5555555555555556,\"#d8576b\"],[0.6666666666666666,\"#ed7953\"],[0.7777777777777778,\"#fb9f3a\"],[0.8888888888888888,\"#fdca26\"],[1.0,\"#f0f921\"]],\"type\":\"histogram2d\"}],\"histogram2dcontour\":[{\"colorbar\":{\"outlinewidth\":0,\"ticks\":\"\"},\"colorscale\":[[0.0,\"#0d0887\"],[0.1111111111111111,\"#46039f\"],[0.2222222222222222,\"#7201a8\"],[0.3333333333333333,\"#9c179e\"],[0.4444444444444444,\"#bd3786\"],[0.5555555555555556,\"#d8576b\"],[0.6666666666666666,\"#ed7953\"],[0.7777777777777778,\"#fb9f3a\"],[0.8888888888888888,\"#fdca26\"],[1.0,\"#f0f921\"]],\"type\":\"histogram2dcontour\"}],\"mesh3d\":[{\"colorbar\":{\"outlinewidth\":0,\"ticks\":\"\"},\"type\":\"mesh3d\"}],\"parcoords\":[{\"line\":{\"colorbar\":{\"outlinewidth\":0,\"ticks\":\"\"}},\"type\":\"parcoords\"}],\"pie\":[{\"automargin\":true,\"type\":\"pie\"}],\"scatter\":[{\"marker\":{\"colorbar\":{\"outlinewidth\":0,\"ticks\":\"\"}},\"type\":\"scatter\"}],\"scatter3d\":[{\"line\":{\"colorbar\":{\"outlinewidth\":0,\"ticks\":\"\"}},\"marker\":{\"colorbar\":{\"outlinewidth\":0,\"ticks\":\"\"}},\"type\":\"scatter3d\"}],\"scattercarpet\":[{\"marker\":{\"colorbar\":{\"outlinewidth\":0,\"ticks\":\"\"}},\"type\":\"scattercarpet\"}],\"scattergeo\":[{\"marker\":{\"colorbar\":{\"outlinewidth\":0,\"ticks\":\"\"}},\"type\":\"scattergeo\"}],\"scattergl\":[{\"marker\":{\"colorbar\":{\"outlinewidth\":0,\"ticks\":\"\"}},\"type\":\"scattergl\"}],\"scattermapbox\":[{\"marker\":{\"colorbar\":{\"outlinewidth\":0,\"ticks\":\"\"}},\"type\":\"scattermapbox\"}],\"scatterpolar\":[{\"marker\":{\"colorbar\":{\"outlinewidth\":0,\"ticks\":\"\"}},\"type\":\"scatterpolar\"}],\"scatterpolargl\":[{\"marker\":{\"colorbar\":{\"outlinewidth\":0,\"ticks\":\"\"}},\"type\":\"scatterpolargl\"}],\"scatterternary\":[{\"marker\":{\"colorbar\":{\"outlinewidth\":0,\"ticks\":\"\"}},\"type\":\"scatterternary\"}],\"surface\":[{\"colorbar\":{\"outlinewidth\":0,\"ticks\":\"\"},\"colorscale\":[[0.0,\"#0d0887\"],[0.1111111111111111,\"#46039f\"],[0.2222222222222222,\"#7201a8\"],[0.3333333333333333,\"#9c179e\"],[0.4444444444444444,\"#bd3786\"],[0.5555555555555556,\"#d8576b\"],[0.6666666666666666,\"#ed7953\"],[0.7777777777777778,\"#fb9f3a\"],[0.8888888888888888,\"#fdca26\"],[1.0,\"#f0f921\"]],\"type\":\"surface\"}],\"table\":[{\"cells\":{\"fill\":{\"color\":\"#EBF0F8\"},\"line\":{\"color\":\"white\"}},\"header\":{\"fill\":{\"color\":\"#C8D4E3\"},\"line\":{\"color\":\"white\"}},\"type\":\"table\"}]},\"layout\":{\"annotationdefaults\":{\"arrowcolor\":\"#2a3f5f\",\"arrowhead\":0,\"arrowwidth\":1},\"autotypenumbers\":\"strict\",\"coloraxis\":{\"colorbar\":{\"outlinewidth\":0,\"ticks\":\"\"}},\"colorscale\":{\"diverging\":[[0,\"#8e0152\"],[0.1,\"#c51b7d\"],[0.2,\"#de77ae\"],[0.3,\"#f1b6da\"],[0.4,\"#fde0ef\"],[0.5,\"#f7f7f7\"],[0.6,\"#e6f5d0\"],[0.7,\"#b8e186\"],[0.8,\"#7fbc41\"],[0.9,\"#4d9221\"],[1,\"#276419\"]],\"sequential\":[[0.0,\"#0d0887\"],[0.1111111111111111,\"#46039f\"],[0.2222222222222222,\"#7201a8\"],[0.3333333333333333,\"#9c179e\"],[0.4444444444444444,\"#bd3786\"],[0.5555555555555556,\"#d8576b\"],[0.6666666666666666,\"#ed7953\"],[0.7777777777777778,\"#fb9f3a\"],[0.8888888888888888,\"#fdca26\"],[1.0,\"#f0f921\"]],\"sequentialminus\":[[0.0,\"#0d0887\"],[0.1111111111111111,\"#46039f\"],[0.2222222222222222,\"#7201a8\"],[0.3333333333333333,\"#9c179e\"],[0.4444444444444444,\"#bd3786\"],[0.5555555555555556,\"#d8576b\"],[0.6666666666666666,\"#ed7953\"],[0.7777777777777778,\"#fb9f3a\"],[0.8888888888888888,\"#fdca26\"],[1.0,\"#f0f921\"]]},\"colorway\":[\"#636efa\",\"#EF553B\",\"#00cc96\",\"#ab63fa\",\"#FFA15A\",\"#19d3f3\",\"#FF6692\",\"#B6E880\",\"#FF97FF\",\"#FECB52\"],\"font\":{\"color\":\"#2a3f5f\"},\"geo\":{\"bgcolor\":\"white\",\"lakecolor\":\"white\",\"landcolor\":\"#E5ECF6\",\"showlakes\":true,\"showland\":true,\"subunitcolor\":\"white\"},\"hoverlabel\":{\"align\":\"left\"},\"hovermode\":\"closest\",\"mapbox\":{\"style\":\"light\"},\"paper_bgcolor\":\"white\",\"plot_bgcolor\":\"#E5ECF6\",\"polar\":{\"angularaxis\":{\"gridcolor\":\"white\",\"linecolor\":\"white\",\"ticks\":\"\"},\"bgcolor\":\"#E5ECF6\",\"radialaxis\":{\"gridcolor\":\"white\",\"linecolor\":\"white\",\"ticks\":\"\"}},\"scene\":{\"xaxis\":{\"backgroundcolor\":\"#E5ECF6\",\"gridcolor\":\"white\",\"gridwidth\":2,\"linecolor\":\"white\",\"showbackground\":true,\"ticks\":\"\",\"zerolinecolor\":\"white\"},\"yaxis\":{\"backgroundcolor\":\"#E5ECF6\",\"gridcolor\":\"white\",\"gridwidth\":2,\"linecolor\":\"white\",\"showbackground\":true,\"ticks\":\"\",\"zerolinecolor\":\"white\"},\"zaxis\":{\"backgroundcolor\":\"#E5ECF6\",\"gridcolor\":\"white\",\"gridwidth\":2,\"linecolor\":\"white\",\"showbackground\":true,\"ticks\":\"\",\"zerolinecolor\":\"white\"}},\"shapedefaults\":{\"line\":{\"color\":\"#2a3f5f\"}},\"ternary\":{\"aaxis\":{\"gridcolor\":\"white\",\"linecolor\":\"white\",\"ticks\":\"\"},\"baxis\":{\"gridcolor\":\"white\",\"linecolor\":\"white\",\"ticks\":\"\"},\"bgcolor\":\"#E5ECF6\",\"caxis\":{\"gridcolor\":\"white\",\"linecolor\":\"white\",\"ticks\":\"\"}},\"title\":{\"x\":0.05},\"xaxis\":{\"automargin\":true,\"gridcolor\":\"white\",\"linecolor\":\"white\",\"ticks\":\"\",\"title\":{\"standoff\":15},\"zerolinecolor\":\"white\",\"zerolinewidth\":2},\"yaxis\":{\"automargin\":true,\"gridcolor\":\"white\",\"linecolor\":\"white\",\"ticks\":\"\",\"title\":{\"standoff\":15},\"zerolinecolor\":\"white\",\"zerolinewidth\":2}}},\"title\":{\"text\":\"Countries using each vaccine (different colors for each vaccine)\"}},                        {\"responsive\": true}                    ).then(function(){\n",
       "                            \n",
       "var gd = document.getElementById('b65a00f1-9c44-4719-a2e2-386ad117d894');\n",
       "var x = new MutationObserver(function (mutations, observer) {{\n",
       "        var display = window.getComputedStyle(gd).display;\n",
       "        if (!display || display === 'none') {{\n",
       "            console.log([gd, 'removed!']);\n",
       "            Plotly.purge(gd);\n",
       "            observer.disconnect();\n",
       "        }}\n",
       "}});\n",
       "\n",
       "// Listen for the removal of the full notebook cells\n",
       "var notebookContainer = gd.closest('#notebook-container');\n",
       "if (notebookContainer) {{\n",
       "    x.observe(notebookContainer, {childList: true});\n",
       "}}\n",
       "\n",
       "// Listen for the clearing of the current output cell\n",
       "var outputEl = gd.closest('.output');\n",
       "if (outputEl) {{\n",
       "    x.observe(outputEl, {childList: true});\n",
       "}}\n",
       "\n",
       "                        })                };                });            </script>        </div>"
      ]
     },
     "metadata": {},
     "output_type": "display_data"
    }
   ],
   "source": [
    "fig = px.choropleth(locations=country_vaccine['Country'], \n",
    "                    locationmode=\"country names\",\n",
    "                    color=country_vaccine['Vaccines'],\n",
    "                    title=\"Countries using each vaccine (different colors for each vaccine)\",\n",
    "                    height = 800\n",
    "                   )\n",
    "fig.update_layout({'legend_orientation':'v'})\n",
    "fig.update_layout({'legend_title':'Vaccine scheme'})\n",
    "fig.show()"
   ]
  },
  {
   "cell_type": "code",
   "execution_count": 10,
   "metadata": {
    "scrolled": true
   },
   "outputs": [
    {
     "data": {
      "application/vnd.plotly.v1+json": {
       "config": {
        "plotlyServerURL": "https://plot.ly"
       },
       "data": [
        {
         "branchvalues": "total",
         "domain": {
          "x": [
           0,
           1
          ],
          "y": [
           0,
           1
          ]
         },
         "hovertemplate": "labels=%{label}<br>Total vaccinations=%{value}<br>parent=%{parent}<br>id=%{id}<extra></extra>",
         "ids": [
          "BBIBP-CorV, Oxford/AstraZeneca, Pfizer/BioNTech/Afghanistan",
          "Oxford/AstraZeneca, Pfizer/BioNTech, Sinovac, Sputnik V/Albania",
          "Oxford/AstraZeneca, Sputnik V/Algeria",
          "Oxford/AstraZeneca, Pfizer/BioNTech/Andorra",
          "Oxford/AstraZeneca/Angola",
          "Oxford/AstraZeneca/Anguilla",
          "Oxford/AstraZeneca/Antigua and Barbuda",
          "Oxford/AstraZeneca, Sinopharm/Beijing, Sputnik V/Argentina",
          "Oxford/AstraZeneca, Sinovac, Sputnik V/Armenia",
          "Pfizer/BioNTech/Aruba",
          "Oxford/AstraZeneca, Pfizer/BioNTech/Australia",
          "Johnson&Johnson, Moderna, Oxford/AstraZeneca, Pfizer/BioNTech/Austria",
          "Oxford/AstraZeneca, Sinovac, Sputnik V/Azerbaijan",
          "Oxford/AstraZeneca/Bahamas",
          "Oxford/AstraZeneca, Pfizer/BioNTech, Sinopharm/Beijing, Sputnik V/Bahrain",
          "Oxford/AstraZeneca/Bangladesh",
          "Oxford/AstraZeneca/Barbados",
          "BBIBP-CorV, Sputnik V/Belarus",
          "Johnson&Johnson, Moderna, Oxford/AstraZeneca, Pfizer/BioNTech/Belgium",
          "Oxford/AstraZeneca, Sinopharm/Beijing/Belize",
          "Oxford/AstraZeneca, Sinovac/Benin",
          "Pfizer/BioNTech/Bermuda",
          "Oxford/AstraZeneca/Bhutan",
          "Oxford/AstraZeneca, Pfizer/BioNTech, Sinopharm/Beijing, Sputnik V/Bolivia",
          "Moderna, Pfizer/BioNTech/Bonaire Sint Eustatius and Saba",
          "Oxford/AstraZeneca, Pfizer/BioNTech, Sinovac, Sputnik V/Bosnia and Herzegovina",
          "Oxford/AstraZeneca/Botswana",
          "Oxford/AstraZeneca, Pfizer/BioNTech, Sinovac/Brazil",
          "Oxford/AstraZeneca/British Virgin Islands",
          "Oxford/AstraZeneca, Sinopharm/Beijing/Brunei",
          "Johnson&Johnson, Moderna, Oxford/AstraZeneca, Pfizer/BioNTech/Bulgaria",
          "Oxford/AstraZeneca/Burkina Faso",
          "Oxford/AstraZeneca, Sinopharm/Beijing, Sinovac/Cambodia",
          "BBIBP-CorV, Oxford/AstraZeneca/Cameroon",
          "Moderna, Oxford/AstraZeneca, Pfizer/BioNTech/Canada",
          "Oxford/AstraZeneca, Pfizer/BioNTech/Cape Verde",
          "Oxford/AstraZeneca, Pfizer/BioNTech/Cayman Islands",
          "Covaxin, Oxford/AstraZeneca/Central African Republic",
          "BBIBP-CorV/Chad",
          "CanSino, Oxford/AstraZeneca, Pfizer/BioNTech, Sinovac/Chile",
          "CanSino, Sinopharm/Beijing, Sinopharm/Wuhan, Sinovac/China",
          "Oxford/AstraZeneca, Pfizer/BioNTech, Sinovac/Colombia",
          "Covaxin, Oxford/AstraZeneca, Sinopharm/Beijing/Comoros",
          "BBIBP-CorV, Moderna, Oxford/AstraZeneca, Sputnik V/Congo",
          "Oxford/AstraZeneca/Cook Islands",
          "Oxford/AstraZeneca, Pfizer/BioNTech/Costa Rica",
          "Oxford/AstraZeneca/Cote d'Ivoire",
          "Moderna, Oxford/AstraZeneca, Pfizer/BioNTech/Croatia",
          "Abdala, Soberana02/Cuba",
          "Moderna, Pfizer/BioNTech/Curacao",
          "Johnson&Johnson, Moderna, Oxford/AstraZeneca, Pfizer/BioNTech/Cyprus",
          "Johnson&Johnson, Moderna, Oxford/AstraZeneca, Pfizer/BioNTech/Czechia",
          "Oxford/AstraZeneca/Democratic Republic of Congo",
          "Johnson&Johnson, Moderna, Pfizer/BioNTech/Denmark",
          "Oxford/AstraZeneca, Sinopharm/Beijing, Sputnik V/Djibouti",
          "Oxford/AstraZeneca/Dominica",
          "Oxford/AstraZeneca, Pfizer/BioNTech, Sinopharm/Beijing, Sinovac/Dominican Republic",
          "Oxford/AstraZeneca, Pfizer/BioNTech, Sinovac/Ecuador",
          "BBIBP-CorV, Oxford/AstraZeneca, Sinovac, Sputnik V/Egypt",
          "Oxford/AstraZeneca, Pfizer/BioNTech, Sinovac/El Salvador",
          "Moderna, Oxford/AstraZeneca, Pfizer/BioNTech/England",
          "Sinopharm/Beijing/Equatorial Guinea",
          "Johnson&Johnson, Moderna, Oxford/AstraZeneca, Pfizer/BioNTech/Estonia",
          "Oxford/AstraZeneca/Eswatini",
          "Oxford/AstraZeneca/Ethiopia",
          "Moderna, Pfizer/BioNTech/Faeroe Islands",
          "Oxford/AstraZeneca/Falkland Islands",
          "Oxford/AstraZeneca/Fiji",
          "Moderna, Oxford/AstraZeneca, Pfizer/BioNTech/Finland",
          "Johnson&Johnson, Moderna, Oxford/AstraZeneca, Pfizer/BioNTech/France",
          "Oxford/AstraZeneca/French Polynesia",
          "Sinopharm/Beijing/Gabon",
          "Oxford/AstraZeneca, Sinopharm/Beijing/Gambia",
          "Oxford/AstraZeneca/Georgia",
          "Johnson&Johnson, Moderna, Oxford/AstraZeneca, Pfizer/BioNTech/Germany",
          "Oxford/AstraZeneca, Sputnik V/Ghana",
          "Pfizer/BioNTech/Gibraltar",
          "Johnson&Johnson, Moderna, Oxford/AstraZeneca, Pfizer/BioNTech/Greece",
          "Moderna/Greenland",
          "Oxford/AstraZeneca/Grenada",
          "Moderna, Oxford/AstraZeneca/Guatemala",
          "Moderna, Oxford/AstraZeneca, Pfizer/BioNTech/Guernsey",
          "Sputnik V/Guinea",
          "Oxford/AstraZeneca, Sinopharm/Beijing/Guinea-Bissau",
          "Oxford/AstraZeneca, Sputnik V/Guyana",
          "Johnson&Johnson, Moderna, Oxford/AstraZeneca, Sputnik V/Honduras",
          "Pfizer/BioNTech, Sinovac/Hong Kong",
          "Johnson&Johnson, Moderna, Oxford/AstraZeneca, Pfizer/BioNTech, Sinopharm/Beijing, Sputnik V/Hungary",
          "Johnson&Johnson, Moderna, Oxford/AstraZeneca, Pfizer/BioNTech/Iceland",
          "Covaxin, Oxford/AstraZeneca/India",
          "Oxford/AstraZeneca, Sinovac/Indonesia",
          "BBIBP-CorV, Covaxin, Oxford/AstraZeneca, Sputnik V/Iran",
          "BBIBP-CorV, Oxford/AstraZeneca, Pfizer/BioNTech, Sputnik V/Iraq",
          "Johnson&Johnson, Moderna, Oxford/AstraZeneca, Pfizer/BioNTech/Ireland",
          "Oxford/AstraZeneca, Pfizer/BioNTech/Isle of Man",
          "Moderna, Pfizer/BioNTech/Israel",
          "Johnson&Johnson, Moderna, Oxford/AstraZeneca, Pfizer/BioNTech/Italy",
          "Oxford/AstraZeneca/Jamaica",
          "Moderna, Pfizer/BioNTech/Japan",
          "Moderna, Oxford/AstraZeneca, Pfizer/BioNTech/Jersey",
          "Oxford/AstraZeneca, Pfizer/BioNTech, Sinopharm/Beijing, Sputnik V/Jordan",
          "QazVac, Sinopharm/HayatVax, Sputnik V/Kazakhstan",
          "Oxford/AstraZeneca, Sputnik V/Kenya",
          "Oxford/AstraZeneca/Kosovo",
          "Pfizer/BioNTech/Kuwait",
          "Sinopharm/Beijing, Sputnik V/Kyrgyzstan",
          "Sinopharm/Beijing, Sputnik V/Laos",
          "Johnson&Johnson, Moderna, Oxford/AstraZeneca, Pfizer/BioNTech/Latvia",
          "Oxford/AstraZeneca, Pfizer/BioNTech, Sinopharm/Beijing, Sputnik V/Lebanon",
          "Oxford/AstraZeneca/Lesotho",
          "Oxford/AstraZeneca/Liberia",
          "Johnson&Johnson, Moderna, Oxford/AstraZeneca, Pfizer/BioNTech, Sinovac, Sputnik V/Libya",
          "Moderna, Pfizer/BioNTech/Liechtenstein",
          "Johnson&Johnson, Moderna, Oxford/AstraZeneca, Pfizer/BioNTech/Lithuania",
          "Moderna, Oxford/AstraZeneca, Pfizer/BioNTech/Luxembourg",
          "Pfizer/BioNTech, Sinopharm/Beijing/Macao",
          "Oxford/AstraZeneca/Madagascar",
          "Oxford/AstraZeneca/Malawi",
          "Oxford/AstraZeneca, Pfizer/BioNTech, Sinovac/Malaysia",
          "Oxford/AstraZeneca, Pfizer/BioNTech, Sinopharm/Beijing/Maldives",
          "Oxford/AstraZeneca/Mali",
          "Johnson&Johnson, Moderna, Oxford/AstraZeneca, Pfizer/BioNTech/Malta",
          "BBIBP-CorV, Oxford/AstraZeneca/Mauritania",
          "BBIBP-CorV, Covaxin, Oxford/AstraZeneca/Mauritius",
          "CanSino, Oxford/AstraZeneca, Pfizer/BioNTech, Sinovac, Sputnik V/Mexico",
          "Oxford/AstraZeneca, Pfizer/BioNTech, Sinopharm/Beijing, Sputnik V/Moldova",
          "Pfizer/BioNTech/Monaco",
          "Oxford/AstraZeneca, Pfizer/BioNTech, Sinopharm/Beijing, Sputnik V/Mongolia",
          "Oxford/AstraZeneca, Pfizer/BioNTech, Sinopharm/Beijing, Sputnik V/Montenegro",
          "Oxford/AstraZeneca/Montserrat",
          "Oxford/AstraZeneca, Sinopharm/Beijing/Morocco",
          "Oxford/AstraZeneca, Sinopharm/Beijing/Mozambique",
          "Oxford/AstraZeneca/Myanmar",
          "Oxford/AstraZeneca, Sinopharm/Beijing/Namibia",
          "Oxford/AstraZeneca/Nauru",
          "Oxford/AstraZeneca, Sinopharm/Beijing/Nepal",
          "Johnson&Johnson, Moderna, Oxford/AstraZeneca, Pfizer/BioNTech/Netherlands",
          "Pfizer/BioNTech/New Caledonia",
          "Pfizer/BioNTech/New Zealand",
          "Oxford/AstraZeneca, Sputnik V/Nicaragua",
          "BBIBP-CorV, Oxford/AstraZeneca/Niger",
          "Oxford/AstraZeneca/Nigeria",
          "Oxford/AstraZeneca, Pfizer/BioNTech, Sinopharm/Beijing, Sinovac, Sputnik V/North Macedonia",
          "Oxford/AstraZeneca, Pfizer/BioNTech, Sinovac/Northern Cyprus",
          "Moderna, Oxford/AstraZeneca, Pfizer/BioNTech/Northern Ireland",
          "Moderna, Pfizer/BioNTech/Norway",
          "Oxford/AstraZeneca, Pfizer/BioNTech/Oman",
          "CanSino, Oxford/AstraZeneca, Sinopharm/Beijing, Sinovac, Sputnik V/Pakistan",
          "Moderna, Oxford/AstraZeneca, Pfizer/BioNTech/Palestine",
          "Oxford/AstraZeneca, Pfizer/BioNTech/Panama",
          "Oxford/AstraZeneca, Sinopharm/Beijing/Papua New Guinea",
          "Covaxin, Oxford/AstraZeneca, Sinopharm/Beijing, Sinovac, Sputnik V/Paraguay",
          "Oxford/AstraZeneca, Pfizer/BioNTech, Sinopharm/Beijing/Peru",
          "Oxford/AstraZeneca, Pfizer/BioNTech, Sinovac, Sputnik V/Philippines",
          "Oxford/AstraZeneca/Pitcairn",
          "Johnson&Johnson, Moderna, Oxford/AstraZeneca, Pfizer/BioNTech/Poland",
          "Johnson&Johnson, Moderna, Oxford/AstraZeneca, Pfizer/BioNTech/Portugal",
          "Moderna, Pfizer/BioNTech/Qatar",
          "Johnson&Johnson, Moderna, Oxford/AstraZeneca, Pfizer/BioNTech/Romania",
          "EpiVacCorona, Sputnik V/Russia",
          "Moderna, Oxford/AstraZeneca, Pfizer/BioNTech/Rwanda",
          "Oxford/AstraZeneca/Saint Helena",
          "Oxford/AstraZeneca/Saint Kitts and Nevis",
          "Oxford/AstraZeneca/Saint Lucia",
          "Oxford/AstraZeneca/Saint Vincent and the Grenadines",
          "Oxford/AstraZeneca/Samoa",
          "Pfizer/BioNTech, Sputnik V/San Marino",
          "Oxford/AstraZeneca/Sao Tome and Principe",
          "Oxford/AstraZeneca, Pfizer/BioNTech/Saudi Arabia",
          "Moderna, Oxford/AstraZeneca, Pfizer/BioNTech/Scotland",
          "BBIBP-CorV, Oxford/AstraZeneca/Senegal",
          "Oxford/AstraZeneca, Pfizer/BioNTech, Sinopharm/Beijing, Sputnik V/Serbia",
          "Oxford/AstraZeneca, Sinopharm/Beijing/Seychelles",
          "BBIBP-CorV, Oxford/AstraZeneca/Sierra Leone",
          "Moderna, Pfizer/BioNTech/Singapore",
          "Moderna, Oxford/AstraZeneca, Pfizer/BioNTech/Sint Maarten (Dutch part)",
          "Moderna, Oxford/AstraZeneca, Pfizer/BioNTech/Slovakia",
          "Oxford/AstraZeneca, Pfizer/BioNTech/Slovenia",
          "Oxford/AstraZeneca/Solomon Islands",
          "BBIBP-CorV, Oxford/AstraZeneca, Sinovac/Somalia",
          "Johnson&Johnson, Pfizer/BioNTech/South Africa",
          "Johnson&Johnson, Oxford/AstraZeneca, Pfizer/BioNTech/South Korea",
          "Oxford/AstraZeneca/South Sudan",
          "Johnson&Johnson, Moderna, Oxford/AstraZeneca, Pfizer/BioNTech/Spain",
          "Oxford/AstraZeneca, Sinopharm/Beijing, Sputnik V/Sri Lanka",
          "BBIBP-CorV, Oxford/AstraZeneca, Pfizer/BioNTech, Sinovac/Sudan",
          "Oxford/AstraZeneca/Suriname",
          "Oxford/AstraZeneca, Pfizer/BioNTech/Sweden",
          "Moderna, Pfizer/BioNTech/Switzerland",
          "Oxford/AstraZeneca, Sinopharm/Beijing, Sputnik V/Syria",
          "Moderna, Oxford/AstraZeneca/Taiwan",
          "Oxford/AstraZeneca/Tajikistan",
          "Oxford/AstraZeneca, Sinovac/Thailand",
          "Oxford/AstraZeneca, Sinovac/Timor",
          "Oxford/AstraZeneca/Togo",
          "Oxford/AstraZeneca/Tonga",
          "Oxford/AstraZeneca/Trinidad and Tobago",
          "Oxford/AstraZeneca, Pfizer/BioNTech, Sinovac, Sputnik V/Tunisia",
          "Pfizer/BioNTech, Sinovac/Turkey",
          "EpiVacCorona, Oxford/AstraZeneca, Sinopharm/Beijing, Sputnik V/Turkmenistan",
          "Pfizer/BioNTech/Turks and Caicos Islands",
          "Oxford/AstraZeneca/Tuvalu",
          "Oxford/AstraZeneca/Uganda",
          "Oxford/AstraZeneca, Pfizer/BioNTech, Sinovac/Ukraine",
          "Oxford/AstraZeneca, Pfizer/BioNTech, Sinopharm/Beijing, Sinopharm/Wuhan, Sputnik V/United Arab Emirates",
          "Moderna, Oxford/AstraZeneca, Pfizer/BioNTech/United Kingdom",
          "Johnson&Johnson, Moderna, Pfizer/BioNTech/United States",
          "Oxford/AstraZeneca, Pfizer/BioNTech, Sinovac/Uruguay",
          "Oxford/AstraZeneca, RBD-Dimer, Sputnik V/Uzbekistan",
          "Oxford/AstraZeneca/Vanuatu",
          "BBIBP-CorV, Sputnik V/Venezuela",
          "Oxford/AstraZeneca/Vietnam",
          "Moderna, Oxford/AstraZeneca, Pfizer/BioNTech/Wales",
          "Oxford/AstraZeneca/Wallis and Futuna",
          "Oxford/AstraZeneca/Yemen",
          "Oxford/AstraZeneca, Sinopharm/Beijing/Zambia",
          "Sinopharm/Beijing/Zimbabwe",
          "Abdala, Soberana02",
          "BBIBP-CorV",
          "BBIBP-CorV, Covaxin, Oxford/AstraZeneca",
          "BBIBP-CorV, Covaxin, Oxford/AstraZeneca, Sputnik V",
          "BBIBP-CorV, Moderna, Oxford/AstraZeneca, Sputnik V",
          "BBIBP-CorV, Oxford/AstraZeneca",
          "BBIBP-CorV, Oxford/AstraZeneca, Pfizer/BioNTech",
          "BBIBP-CorV, Oxford/AstraZeneca, Pfizer/BioNTech, Sinovac",
          "BBIBP-CorV, Oxford/AstraZeneca, Pfizer/BioNTech, Sputnik V",
          "BBIBP-CorV, Oxford/AstraZeneca, Sinovac",
          "BBIBP-CorV, Oxford/AstraZeneca, Sinovac, Sputnik V",
          "BBIBP-CorV, Sputnik V",
          "CanSino, Oxford/AstraZeneca, Pfizer/BioNTech, Sinovac",
          "CanSino, Oxford/AstraZeneca, Pfizer/BioNTech, Sinovac, Sputnik V",
          "CanSino, Oxford/AstraZeneca, Sinopharm/Beijing, Sinovac, Sputnik V",
          "CanSino, Sinopharm/Beijing, Sinopharm/Wuhan, Sinovac",
          "Covaxin, Oxford/AstraZeneca",
          "Covaxin, Oxford/AstraZeneca, Sinopharm/Beijing",
          "Covaxin, Oxford/AstraZeneca, Sinopharm/Beijing, Sinovac, Sputnik V",
          "EpiVacCorona, Oxford/AstraZeneca, Sinopharm/Beijing, Sputnik V",
          "EpiVacCorona, Sputnik V",
          "Johnson&Johnson, Moderna, Oxford/AstraZeneca, Pfizer/BioNTech",
          "Johnson&Johnson, Moderna, Oxford/AstraZeneca, Pfizer/BioNTech, Sinopharm/Beijing, Sputnik V",
          "Johnson&Johnson, Moderna, Oxford/AstraZeneca, Pfizer/BioNTech, Sinovac, Sputnik V",
          "Johnson&Johnson, Moderna, Oxford/AstraZeneca, Sputnik V",
          "Johnson&Johnson, Moderna, Pfizer/BioNTech",
          "Johnson&Johnson, Oxford/AstraZeneca, Pfizer/BioNTech",
          "Johnson&Johnson, Pfizer/BioNTech",
          "Moderna",
          "Moderna, Oxford/AstraZeneca",
          "Moderna, Oxford/AstraZeneca, Pfizer/BioNTech",
          "Moderna, Pfizer/BioNTech",
          "Oxford/AstraZeneca",
          "Oxford/AstraZeneca, Pfizer/BioNTech",
          "Oxford/AstraZeneca, Pfizer/BioNTech, Sinopharm/Beijing",
          "Oxford/AstraZeneca, Pfizer/BioNTech, Sinopharm/Beijing, Sinopharm/Wuhan, Sputnik V",
          "Oxford/AstraZeneca, Pfizer/BioNTech, Sinopharm/Beijing, Sinovac",
          "Oxford/AstraZeneca, Pfizer/BioNTech, Sinopharm/Beijing, Sinovac, Sputnik V",
          "Oxford/AstraZeneca, Pfizer/BioNTech, Sinopharm/Beijing, Sputnik V",
          "Oxford/AstraZeneca, Pfizer/BioNTech, Sinovac",
          "Oxford/AstraZeneca, Pfizer/BioNTech, Sinovac, Sputnik V",
          "Oxford/AstraZeneca, RBD-Dimer, Sputnik V",
          "Oxford/AstraZeneca, Sinopharm/Beijing",
          "Oxford/AstraZeneca, Sinopharm/Beijing, Sinovac",
          "Oxford/AstraZeneca, Sinopharm/Beijing, Sputnik V",
          "Oxford/AstraZeneca, Sinovac",
          "Oxford/AstraZeneca, Sinovac, Sputnik V",
          "Oxford/AstraZeneca, Sputnik V",
          "Pfizer/BioNTech",
          "Pfizer/BioNTech, Sinopharm/Beijing",
          "Pfizer/BioNTech, Sinovac",
          "Pfizer/BioNTech, Sputnik V",
          "QazVac, Sinopharm/HayatVax, Sputnik V",
          "Sinopharm/Beijing",
          "Sinopharm/Beijing, Sputnik V",
          "Sputnik V"
         ],
         "labels": [
          "Afghanistan",
          "Albania",
          "Algeria",
          "Andorra",
          "Angola",
          "Anguilla",
          "Antigua and Barbuda",
          "Argentina",
          "Armenia",
          "Aruba",
          "Australia",
          "Austria",
          "Azerbaijan",
          "Bahamas",
          "Bahrain",
          "Bangladesh",
          "Barbados",
          "Belarus",
          "Belgium",
          "Belize",
          "Benin",
          "Bermuda",
          "Bhutan",
          "Bolivia",
          "Bonaire Sint Eustatius and Saba",
          "Bosnia and Herzegovina",
          "Botswana",
          "Brazil",
          "British Virgin Islands",
          "Brunei",
          "Bulgaria",
          "Burkina Faso",
          "Cambodia",
          "Cameroon",
          "Canada",
          "Cape Verde",
          "Cayman Islands",
          "Central African Republic",
          "Chad",
          "Chile",
          "China",
          "Colombia",
          "Comoros",
          "Congo",
          "Cook Islands",
          "Costa Rica",
          "Cote d'Ivoire",
          "Croatia",
          "Cuba",
          "Curacao",
          "Cyprus",
          "Czechia",
          "Democratic Republic of Congo",
          "Denmark",
          "Djibouti",
          "Dominica",
          "Dominican Republic",
          "Ecuador",
          "Egypt",
          "El Salvador",
          "England",
          "Equatorial Guinea",
          "Estonia",
          "Eswatini",
          "Ethiopia",
          "Faeroe Islands",
          "Falkland Islands",
          "Fiji",
          "Finland",
          "France",
          "French Polynesia",
          "Gabon",
          "Gambia",
          "Georgia",
          "Germany",
          "Ghana",
          "Gibraltar",
          "Greece",
          "Greenland",
          "Grenada",
          "Guatemala",
          "Guernsey",
          "Guinea",
          "Guinea-Bissau",
          "Guyana",
          "Honduras",
          "Hong Kong",
          "Hungary",
          "Iceland",
          "India",
          "Indonesia",
          "Iran",
          "Iraq",
          "Ireland",
          "Isle of Man",
          "Israel",
          "Italy",
          "Jamaica",
          "Japan",
          "Jersey",
          "Jordan",
          "Kazakhstan",
          "Kenya",
          "Kosovo",
          "Kuwait",
          "Kyrgyzstan",
          "Laos",
          "Latvia",
          "Lebanon",
          "Lesotho",
          "Liberia",
          "Libya",
          "Liechtenstein",
          "Lithuania",
          "Luxembourg",
          "Macao",
          "Madagascar",
          "Malawi",
          "Malaysia",
          "Maldives",
          "Mali",
          "Malta",
          "Mauritania",
          "Mauritius",
          "Mexico",
          "Moldova",
          "Monaco",
          "Mongolia",
          "Montenegro",
          "Montserrat",
          "Morocco",
          "Mozambique",
          "Myanmar",
          "Namibia",
          "Nauru",
          "Nepal",
          "Netherlands",
          "New Caledonia",
          "New Zealand",
          "Nicaragua",
          "Niger",
          "Nigeria",
          "North Macedonia",
          "Northern Cyprus",
          "Northern Ireland",
          "Norway",
          "Oman",
          "Pakistan",
          "Palestine",
          "Panama",
          "Papua New Guinea",
          "Paraguay",
          "Peru",
          "Philippines",
          "Pitcairn",
          "Poland",
          "Portugal",
          "Qatar",
          "Romania",
          "Russia",
          "Rwanda",
          "Saint Helena",
          "Saint Kitts and Nevis",
          "Saint Lucia",
          "Saint Vincent and the Grenadines",
          "Samoa",
          "San Marino",
          "Sao Tome and Principe",
          "Saudi Arabia",
          "Scotland",
          "Senegal",
          "Serbia",
          "Seychelles",
          "Sierra Leone",
          "Singapore",
          "Sint Maarten (Dutch part)",
          "Slovakia",
          "Slovenia",
          "Solomon Islands",
          "Somalia",
          "South Africa",
          "South Korea",
          "South Sudan",
          "Spain",
          "Sri Lanka",
          "Sudan",
          "Suriname",
          "Sweden",
          "Switzerland",
          "Syria",
          "Taiwan",
          "Tajikistan",
          "Thailand",
          "Timor",
          "Togo",
          "Tonga",
          "Trinidad and Tobago",
          "Tunisia",
          "Turkey",
          "Turkmenistan",
          "Turks and Caicos Islands",
          "Tuvalu",
          "Uganda",
          "Ukraine",
          "United Arab Emirates",
          "United Kingdom",
          "United States",
          "Uruguay",
          "Uzbekistan",
          "Vanuatu",
          "Venezuela",
          "Vietnam",
          "Wales",
          "Wallis and Futuna",
          "Yemen",
          "Zambia",
          "Zimbabwe",
          "Abdala, Soberana02",
          "BBIBP-CorV",
          "BBIBP-CorV, Covaxin, Oxford/AstraZeneca",
          "BBIBP-CorV, Covaxin, Oxford/AstraZeneca, Sputnik V",
          "BBIBP-CorV, Moderna, Oxford/AstraZeneca, Sputnik V",
          "BBIBP-CorV, Oxford/AstraZeneca",
          "BBIBP-CorV, Oxford/AstraZeneca, Pfizer/BioNTech",
          "BBIBP-CorV, Oxford/AstraZeneca, Pfizer/BioNTech, Sinovac",
          "BBIBP-CorV, Oxford/AstraZeneca, Pfizer/BioNTech, Sputnik V",
          "BBIBP-CorV, Oxford/AstraZeneca, Sinovac",
          "BBIBP-CorV, Oxford/AstraZeneca, Sinovac, Sputnik V",
          "BBIBP-CorV, Sputnik V",
          "CanSino, Oxford/AstraZeneca, Pfizer/BioNTech, Sinovac",
          "CanSino, Oxford/AstraZeneca, Pfizer/BioNTech, Sinovac, Sputnik V",
          "CanSino, Oxford/AstraZeneca, Sinopharm/Beijing, Sinovac, Sputnik V",
          "CanSino, Sinopharm/Beijing, Sinopharm/Wuhan, Sinovac",
          "Covaxin, Oxford/AstraZeneca",
          "Covaxin, Oxford/AstraZeneca, Sinopharm/Beijing",
          "Covaxin, Oxford/AstraZeneca, Sinopharm/Beijing, Sinovac, Sputnik V",
          "EpiVacCorona, Oxford/AstraZeneca, Sinopharm/Beijing, Sputnik V",
          "EpiVacCorona, Sputnik V",
          "Johnson&Johnson, Moderna, Oxford/AstraZeneca, Pfizer/BioNTech",
          "Johnson&Johnson, Moderna, Oxford/AstraZeneca, Pfizer/BioNTech, Sinopharm/Beijing, Sputnik V",
          "Johnson&Johnson, Moderna, Oxford/AstraZeneca, Pfizer/BioNTech, Sinovac, Sputnik V",
          "Johnson&Johnson, Moderna, Oxford/AstraZeneca, Sputnik V",
          "Johnson&Johnson, Moderna, Pfizer/BioNTech",
          "Johnson&Johnson, Oxford/AstraZeneca, Pfizer/BioNTech",
          "Johnson&Johnson, Pfizer/BioNTech",
          "Moderna",
          "Moderna, Oxford/AstraZeneca",
          "Moderna, Oxford/AstraZeneca, Pfizer/BioNTech",
          "Moderna, Pfizer/BioNTech",
          "Oxford/AstraZeneca",
          "Oxford/AstraZeneca, Pfizer/BioNTech",
          "Oxford/AstraZeneca, Pfizer/BioNTech, Sinopharm/Beijing",
          "Oxford/AstraZeneca, Pfizer/BioNTech, Sinopharm/Beijing, Sinopharm/Wuhan, Sputnik V",
          "Oxford/AstraZeneca, Pfizer/BioNTech, Sinopharm/Beijing, Sinovac",
          "Oxford/AstraZeneca, Pfizer/BioNTech, Sinopharm/Beijing, Sinovac, Sputnik V",
          "Oxford/AstraZeneca, Pfizer/BioNTech, Sinopharm/Beijing, Sputnik V",
          "Oxford/AstraZeneca, Pfizer/BioNTech, Sinovac",
          "Oxford/AstraZeneca, Pfizer/BioNTech, Sinovac, Sputnik V",
          "Oxford/AstraZeneca, RBD-Dimer, Sputnik V",
          "Oxford/AstraZeneca, Sinopharm/Beijing",
          "Oxford/AstraZeneca, Sinopharm/Beijing, Sinovac",
          "Oxford/AstraZeneca, Sinopharm/Beijing, Sputnik V",
          "Oxford/AstraZeneca, Sinovac",
          "Oxford/AstraZeneca, Sinovac, Sputnik V",
          "Oxford/AstraZeneca, Sputnik V",
          "Pfizer/BioNTech",
          "Pfizer/BioNTech, Sinopharm/Beijing",
          "Pfizer/BioNTech, Sinovac",
          "Pfizer/BioNTech, Sputnik V",
          "QazVac, Sinopharm/HayatVax, Sputnik V",
          "Sinopharm/Beijing",
          "Sinopharm/Beijing, Sputnik V",
          "Sputnik V"
         ],
         "name": "",
         "parents": [
          "BBIBP-CorV, Oxford/AstraZeneca, Pfizer/BioNTech",
          "Oxford/AstraZeneca, Pfizer/BioNTech, Sinovac, Sputnik V",
          "Oxford/AstraZeneca, Sputnik V",
          "Oxford/AstraZeneca, Pfizer/BioNTech",
          "Oxford/AstraZeneca",
          "Oxford/AstraZeneca",
          "Oxford/AstraZeneca",
          "Oxford/AstraZeneca, Sinopharm/Beijing, Sputnik V",
          "Oxford/AstraZeneca, Sinovac, Sputnik V",
          "Pfizer/BioNTech",
          "Oxford/AstraZeneca, Pfizer/BioNTech",
          "Johnson&Johnson, Moderna, Oxford/AstraZeneca, Pfizer/BioNTech",
          "Oxford/AstraZeneca, Sinovac, Sputnik V",
          "Oxford/AstraZeneca",
          "Oxford/AstraZeneca, Pfizer/BioNTech, Sinopharm/Beijing, Sputnik V",
          "Oxford/AstraZeneca",
          "Oxford/AstraZeneca",
          "BBIBP-CorV, Sputnik V",
          "Johnson&Johnson, Moderna, Oxford/AstraZeneca, Pfizer/BioNTech",
          "Oxford/AstraZeneca, Sinopharm/Beijing",
          "Oxford/AstraZeneca, Sinovac",
          "Pfizer/BioNTech",
          "Oxford/AstraZeneca",
          "Oxford/AstraZeneca, Pfizer/BioNTech, Sinopharm/Beijing, Sputnik V",
          "Moderna, Pfizer/BioNTech",
          "Oxford/AstraZeneca, Pfizer/BioNTech, Sinovac, Sputnik V",
          "Oxford/AstraZeneca",
          "Oxford/AstraZeneca, Pfizer/BioNTech, Sinovac",
          "Oxford/AstraZeneca",
          "Oxford/AstraZeneca, Sinopharm/Beijing",
          "Johnson&Johnson, Moderna, Oxford/AstraZeneca, Pfizer/BioNTech",
          "Oxford/AstraZeneca",
          "Oxford/AstraZeneca, Sinopharm/Beijing, Sinovac",
          "BBIBP-CorV, Oxford/AstraZeneca",
          "Moderna, Oxford/AstraZeneca, Pfizer/BioNTech",
          "Oxford/AstraZeneca, Pfizer/BioNTech",
          "Oxford/AstraZeneca, Pfizer/BioNTech",
          "Covaxin, Oxford/AstraZeneca",
          "BBIBP-CorV",
          "CanSino, Oxford/AstraZeneca, Pfizer/BioNTech, Sinovac",
          "CanSino, Sinopharm/Beijing, Sinopharm/Wuhan, Sinovac",
          "Oxford/AstraZeneca, Pfizer/BioNTech, Sinovac",
          "Covaxin, Oxford/AstraZeneca, Sinopharm/Beijing",
          "BBIBP-CorV, Moderna, Oxford/AstraZeneca, Sputnik V",
          "Oxford/AstraZeneca",
          "Oxford/AstraZeneca, Pfizer/BioNTech",
          "Oxford/AstraZeneca",
          "Moderna, Oxford/AstraZeneca, Pfizer/BioNTech",
          "Abdala, Soberana02",
          "Moderna, Pfizer/BioNTech",
          "Johnson&Johnson, Moderna, Oxford/AstraZeneca, Pfizer/BioNTech",
          "Johnson&Johnson, Moderna, Oxford/AstraZeneca, Pfizer/BioNTech",
          "Oxford/AstraZeneca",
          "Johnson&Johnson, Moderna, Pfizer/BioNTech",
          "Oxford/AstraZeneca, Sinopharm/Beijing, Sputnik V",
          "Oxford/AstraZeneca",
          "Oxford/AstraZeneca, Pfizer/BioNTech, Sinopharm/Beijing, Sinovac",
          "Oxford/AstraZeneca, Pfizer/BioNTech, Sinovac",
          "BBIBP-CorV, Oxford/AstraZeneca, Sinovac, Sputnik V",
          "Oxford/AstraZeneca, Pfizer/BioNTech, Sinovac",
          "Moderna, Oxford/AstraZeneca, Pfizer/BioNTech",
          "Sinopharm/Beijing",
          "Johnson&Johnson, Moderna, Oxford/AstraZeneca, Pfizer/BioNTech",
          "Oxford/AstraZeneca",
          "Oxford/AstraZeneca",
          "Moderna, Pfizer/BioNTech",
          "Oxford/AstraZeneca",
          "Oxford/AstraZeneca",
          "Moderna, Oxford/AstraZeneca, Pfizer/BioNTech",
          "Johnson&Johnson, Moderna, Oxford/AstraZeneca, Pfizer/BioNTech",
          "Oxford/AstraZeneca",
          "Sinopharm/Beijing",
          "Oxford/AstraZeneca, Sinopharm/Beijing",
          "Oxford/AstraZeneca",
          "Johnson&Johnson, Moderna, Oxford/AstraZeneca, Pfizer/BioNTech",
          "Oxford/AstraZeneca, Sputnik V",
          "Pfizer/BioNTech",
          "Johnson&Johnson, Moderna, Oxford/AstraZeneca, Pfizer/BioNTech",
          "Moderna",
          "Oxford/AstraZeneca",
          "Moderna, Oxford/AstraZeneca",
          "Moderna, Oxford/AstraZeneca, Pfizer/BioNTech",
          "Sputnik V",
          "Oxford/AstraZeneca, Sinopharm/Beijing",
          "Oxford/AstraZeneca, Sputnik V",
          "Johnson&Johnson, Moderna, Oxford/AstraZeneca, Sputnik V",
          "Pfizer/BioNTech, Sinovac",
          "Johnson&Johnson, Moderna, Oxford/AstraZeneca, Pfizer/BioNTech, Sinopharm/Beijing, Sputnik V",
          "Johnson&Johnson, Moderna, Oxford/AstraZeneca, Pfizer/BioNTech",
          "Covaxin, Oxford/AstraZeneca",
          "Oxford/AstraZeneca, Sinovac",
          "BBIBP-CorV, Covaxin, Oxford/AstraZeneca, Sputnik V",
          "BBIBP-CorV, Oxford/AstraZeneca, Pfizer/BioNTech, Sputnik V",
          "Johnson&Johnson, Moderna, Oxford/AstraZeneca, Pfizer/BioNTech",
          "Oxford/AstraZeneca, Pfizer/BioNTech",
          "Moderna, Pfizer/BioNTech",
          "Johnson&Johnson, Moderna, Oxford/AstraZeneca, Pfizer/BioNTech",
          "Oxford/AstraZeneca",
          "Moderna, Pfizer/BioNTech",
          "Moderna, Oxford/AstraZeneca, Pfizer/BioNTech",
          "Oxford/AstraZeneca, Pfizer/BioNTech, Sinopharm/Beijing, Sputnik V",
          "QazVac, Sinopharm/HayatVax, Sputnik V",
          "Oxford/AstraZeneca, Sputnik V",
          "Oxford/AstraZeneca",
          "Pfizer/BioNTech",
          "Sinopharm/Beijing, Sputnik V",
          "Sinopharm/Beijing, Sputnik V",
          "Johnson&Johnson, Moderna, Oxford/AstraZeneca, Pfizer/BioNTech",
          "Oxford/AstraZeneca, Pfizer/BioNTech, Sinopharm/Beijing, Sputnik V",
          "Oxford/AstraZeneca",
          "Oxford/AstraZeneca",
          "Johnson&Johnson, Moderna, Oxford/AstraZeneca, Pfizer/BioNTech, Sinovac, Sputnik V",
          "Moderna, Pfizer/BioNTech",
          "Johnson&Johnson, Moderna, Oxford/AstraZeneca, Pfizer/BioNTech",
          "Moderna, Oxford/AstraZeneca, Pfizer/BioNTech",
          "Pfizer/BioNTech, Sinopharm/Beijing",
          "Oxford/AstraZeneca",
          "Oxford/AstraZeneca",
          "Oxford/AstraZeneca, Pfizer/BioNTech, Sinovac",
          "Oxford/AstraZeneca, Pfizer/BioNTech, Sinopharm/Beijing",
          "Oxford/AstraZeneca",
          "Johnson&Johnson, Moderna, Oxford/AstraZeneca, Pfizer/BioNTech",
          "BBIBP-CorV, Oxford/AstraZeneca",
          "BBIBP-CorV, Covaxin, Oxford/AstraZeneca",
          "CanSino, Oxford/AstraZeneca, Pfizer/BioNTech, Sinovac, Sputnik V",
          "Oxford/AstraZeneca, Pfizer/BioNTech, Sinopharm/Beijing, Sputnik V",
          "Pfizer/BioNTech",
          "Oxford/AstraZeneca, Pfizer/BioNTech, Sinopharm/Beijing, Sputnik V",
          "Oxford/AstraZeneca, Pfizer/BioNTech, Sinopharm/Beijing, Sputnik V",
          "Oxford/AstraZeneca",
          "Oxford/AstraZeneca, Sinopharm/Beijing",
          "Oxford/AstraZeneca, Sinopharm/Beijing",
          "Oxford/AstraZeneca",
          "Oxford/AstraZeneca, Sinopharm/Beijing",
          "Oxford/AstraZeneca",
          "Oxford/AstraZeneca, Sinopharm/Beijing",
          "Johnson&Johnson, Moderna, Oxford/AstraZeneca, Pfizer/BioNTech",
          "Pfizer/BioNTech",
          "Pfizer/BioNTech",
          "Oxford/AstraZeneca, Sputnik V",
          "BBIBP-CorV, Oxford/AstraZeneca",
          "Oxford/AstraZeneca",
          "Oxford/AstraZeneca, Pfizer/BioNTech, Sinopharm/Beijing, Sinovac, Sputnik V",
          "Oxford/AstraZeneca, Pfizer/BioNTech, Sinovac",
          "Moderna, Oxford/AstraZeneca, Pfizer/BioNTech",
          "Moderna, Pfizer/BioNTech",
          "Oxford/AstraZeneca, Pfizer/BioNTech",
          "CanSino, Oxford/AstraZeneca, Sinopharm/Beijing, Sinovac, Sputnik V",
          "Moderna, Oxford/AstraZeneca, Pfizer/BioNTech",
          "Oxford/AstraZeneca, Pfizer/BioNTech",
          "Oxford/AstraZeneca, Sinopharm/Beijing",
          "Covaxin, Oxford/AstraZeneca, Sinopharm/Beijing, Sinovac, Sputnik V",
          "Oxford/AstraZeneca, Pfizer/BioNTech, Sinopharm/Beijing",
          "Oxford/AstraZeneca, Pfizer/BioNTech, Sinovac, Sputnik V",
          "Oxford/AstraZeneca",
          "Johnson&Johnson, Moderna, Oxford/AstraZeneca, Pfizer/BioNTech",
          "Johnson&Johnson, Moderna, Oxford/AstraZeneca, Pfizer/BioNTech",
          "Moderna, Pfizer/BioNTech",
          "Johnson&Johnson, Moderna, Oxford/AstraZeneca, Pfizer/BioNTech",
          "EpiVacCorona, Sputnik V",
          "Moderna, Oxford/AstraZeneca, Pfizer/BioNTech",
          "Oxford/AstraZeneca",
          "Oxford/AstraZeneca",
          "Oxford/AstraZeneca",
          "Oxford/AstraZeneca",
          "Oxford/AstraZeneca",
          "Pfizer/BioNTech, Sputnik V",
          "Oxford/AstraZeneca",
          "Oxford/AstraZeneca, Pfizer/BioNTech",
          "Moderna, Oxford/AstraZeneca, Pfizer/BioNTech",
          "BBIBP-CorV, Oxford/AstraZeneca",
          "Oxford/AstraZeneca, Pfizer/BioNTech, Sinopharm/Beijing, Sputnik V",
          "Oxford/AstraZeneca, Sinopharm/Beijing",
          "BBIBP-CorV, Oxford/AstraZeneca",
          "Moderna, Pfizer/BioNTech",
          "Moderna, Oxford/AstraZeneca, Pfizer/BioNTech",
          "Moderna, Oxford/AstraZeneca, Pfizer/BioNTech",
          "Oxford/AstraZeneca, Pfizer/BioNTech",
          "Oxford/AstraZeneca",
          "BBIBP-CorV, Oxford/AstraZeneca, Sinovac",
          "Johnson&Johnson, Pfizer/BioNTech",
          "Johnson&Johnson, Oxford/AstraZeneca, Pfizer/BioNTech",
          "Oxford/AstraZeneca",
          "Johnson&Johnson, Moderna, Oxford/AstraZeneca, Pfizer/BioNTech",
          "Oxford/AstraZeneca, Sinopharm/Beijing, Sputnik V",
          "BBIBP-CorV, Oxford/AstraZeneca, Pfizer/BioNTech, Sinovac",
          "Oxford/AstraZeneca",
          "Oxford/AstraZeneca, Pfizer/BioNTech",
          "Moderna, Pfizer/BioNTech",
          "Oxford/AstraZeneca, Sinopharm/Beijing, Sputnik V",
          "Moderna, Oxford/AstraZeneca",
          "Oxford/AstraZeneca",
          "Oxford/AstraZeneca, Sinovac",
          "Oxford/AstraZeneca, Sinovac",
          "Oxford/AstraZeneca",
          "Oxford/AstraZeneca",
          "Oxford/AstraZeneca",
          "Oxford/AstraZeneca, Pfizer/BioNTech, Sinovac, Sputnik V",
          "Pfizer/BioNTech, Sinovac",
          "EpiVacCorona, Oxford/AstraZeneca, Sinopharm/Beijing, Sputnik V",
          "Pfizer/BioNTech",
          "Oxford/AstraZeneca",
          "Oxford/AstraZeneca",
          "Oxford/AstraZeneca, Pfizer/BioNTech, Sinovac",
          "Oxford/AstraZeneca, Pfizer/BioNTech, Sinopharm/Beijing, Sinopharm/Wuhan, Sputnik V",
          "Moderna, Oxford/AstraZeneca, Pfizer/BioNTech",
          "Johnson&Johnson, Moderna, Pfizer/BioNTech",
          "Oxford/AstraZeneca, Pfizer/BioNTech, Sinovac",
          "Oxford/AstraZeneca, RBD-Dimer, Sputnik V",
          "Oxford/AstraZeneca",
          "BBIBP-CorV, Sputnik V",
          "Oxford/AstraZeneca",
          "Moderna, Oxford/AstraZeneca, Pfizer/BioNTech",
          "Oxford/AstraZeneca",
          "Oxford/AstraZeneca",
          "Oxford/AstraZeneca, Sinopharm/Beijing",
          "Sinopharm/Beijing",
          "",
          "",
          "",
          "",
          "",
          "",
          "",
          "",
          "",
          "",
          "",
          "",
          "",
          "",
          "",
          "",
          "",
          "",
          "",
          "",
          "",
          "",
          "",
          "",
          "",
          "",
          "",
          "",
          "",
          "",
          "",
          "",
          "",
          "",
          "",
          "",
          "",
          "",
          "",
          "",
          "",
          "",
          "",
          "",
          "",
          "",
          "",
          "",
          "",
          "",
          "",
          "",
          "",
          "",
          "",
          ""
         ],
         "type": "treemap",
         "values": [
          662003,
          880912,
          2500000,
          51107,
          1380174,
          15198,
          62204,
          18085389,
          55557,
          123890,
          6556029,
          6874440,
          2989458,
          79246,
          1943301,
          10083608,
          155423,
          1068413,
          9642996,
          97404,
          26624,
          76860,
          484189,
          2181452,
          7391,
          315780,
          150019,
          86960570,
          20278,
          66972,
          1660175,
          17775,
          6098584,
          97245,
          32189274,
          63606,
          87517,
          42644,
          5324,
          21385816,
          1029223000,
          14953869,
          84360,
          67511,
          12254,
          2150520,
          725916,
          2359472,
          4855270,
          164397,
          739365,
          7229505,
          42951,
          3200785,
          21357,
          37978,
          7012445,
          3558254,
          4010467,
          2466561,
          62636714,
          257146,
          899962,
          35227,
          1974476,
          42457,
          4407,
          242539,
          3929061,
          48213297,
          119393,
          41737,
          40810,
          316599,
          66454623,
          1232876,
          77831,
          7508584,
          32175,
          29157,
          808754,
          76401,
          452651,
          18706,
          315816,
          541792,
          3220603,
          9249943,
          355178,
          274286599,
          35283078,
          4792881,
          703820,
          3218310,
          95763,
          10645542,
          46016709,
          194315,
          31592030,
          116607,
          3099657,
          4397655,
          1183376,
          133868,
          3100000,
          135578,
          1208878,
          1070843,
          1130669,
          36759,
          68821,
          351408,
          28606,
          2089104,
          468346,
          291995,
          188752,
          420685,
          5815575,
          497871,
          176038,
          628735,
          136003,
          598863,
          40031327,
          631346,
          33965,
          3608480,
          275658,
          2600,
          17494081,
          394930,
          2994900,
          124064,
          7438,
          3231849,
          12927990,
          101168,
          891702,
          167500,
          186207,
          2225765,
          473853,
          129743,
          1951243,
          3634323,
          720199,
          12750760,
          716393,
          1412477,
          38176,
          662804,
          6137047,
          8407342,
          47,
          26494562,
          7575648,
          2886323,
          8736769,
          34901304,
          578569,
          7892,
          32415,
          51178,
          23087,
          40230,
          44064,
          23918,
          16649095,
          6234407,
          632648,
          5146241,
          137676,
          97315,
          4691386,
          36209,
          3242169,
          1394087,
          17000,
          159923,
          2141624,
          17946801,
          29410,
          35412140,
          3261432,
          610924,
          175694,
          6731352,
          6405316,
          71519,
          1541732,
          102711,
          7587178,
          110531,
          347246,
          29980,
          215991,
          1583153,
          42613378,
          41993,
          38110,
          4772,
          821659,
          2086492,
          14512626,
          74577678,
          317966408,
          3509364,
          2695058,
          5140,
          1302992,
          2422643,
          3755314,
          8657,
          251385,
          148304,
          1138733,
          4855270,
          5324,
          598863,
          4792881,
          67511,
          1149418,
          662003,
          610924,
          703820,
          159923,
          4010467,
          2371405,
          21385816,
          40031327,
          12750760,
          1029223000,
          274329243,
          84360,
          662804,
          41993,
          34901304,
          293748935,
          9249943,
          351408,
          541792,
          321167193,
          17946801,
          2141624,
          32175,
          2350486,
          192867857,
          60097771,
          27050007,
          35911752,
          6634918,
          14512626,
          7012445,
          473853,
          18016804,
          119480428,
          11187187,
          2695058,
          21792972,
          6098584,
          21439697,
          43007411,
          3045015,
          5399568,
          4443526,
          291995,
          45833981,
          44064,
          4397655,
          1437616,
          1344456,
          452651
         ]
        }
       ],
       "layout": {
        "legend": {
         "tracegroupgap": 0
        },
        "template": {
         "data": {
          "bar": [
           {
            "error_x": {
             "color": "#2a3f5f"
            },
            "error_y": {
             "color": "#2a3f5f"
            },
            "marker": {
             "line": {
              "color": "#E5ECF6",
              "width": 0.5
             },
             "pattern": {
              "fillmode": "overlay",
              "size": 10,
              "solidity": 0.2
             }
            },
            "type": "bar"
           }
          ],
          "barpolar": [
           {
            "marker": {
             "line": {
              "color": "#E5ECF6",
              "width": 0.5
             },
             "pattern": {
              "fillmode": "overlay",
              "size": 10,
              "solidity": 0.2
             }
            },
            "type": "barpolar"
           }
          ],
          "carpet": [
           {
            "aaxis": {
             "endlinecolor": "#2a3f5f",
             "gridcolor": "white",
             "linecolor": "white",
             "minorgridcolor": "white",
             "startlinecolor": "#2a3f5f"
            },
            "baxis": {
             "endlinecolor": "#2a3f5f",
             "gridcolor": "white",
             "linecolor": "white",
             "minorgridcolor": "white",
             "startlinecolor": "#2a3f5f"
            },
            "type": "carpet"
           }
          ],
          "choropleth": [
           {
            "colorbar": {
             "outlinewidth": 0,
             "ticks": ""
            },
            "type": "choropleth"
           }
          ],
          "contour": [
           {
            "colorbar": {
             "outlinewidth": 0,
             "ticks": ""
            },
            "colorscale": [
             [
              0,
              "#0d0887"
             ],
             [
              0.1111111111111111,
              "#46039f"
             ],
             [
              0.2222222222222222,
              "#7201a8"
             ],
             [
              0.3333333333333333,
              "#9c179e"
             ],
             [
              0.4444444444444444,
              "#bd3786"
             ],
             [
              0.5555555555555556,
              "#d8576b"
             ],
             [
              0.6666666666666666,
              "#ed7953"
             ],
             [
              0.7777777777777778,
              "#fb9f3a"
             ],
             [
              0.8888888888888888,
              "#fdca26"
             ],
             [
              1,
              "#f0f921"
             ]
            ],
            "type": "contour"
           }
          ],
          "contourcarpet": [
           {
            "colorbar": {
             "outlinewidth": 0,
             "ticks": ""
            },
            "type": "contourcarpet"
           }
          ],
          "heatmap": [
           {
            "colorbar": {
             "outlinewidth": 0,
             "ticks": ""
            },
            "colorscale": [
             [
              0,
              "#0d0887"
             ],
             [
              0.1111111111111111,
              "#46039f"
             ],
             [
              0.2222222222222222,
              "#7201a8"
             ],
             [
              0.3333333333333333,
              "#9c179e"
             ],
             [
              0.4444444444444444,
              "#bd3786"
             ],
             [
              0.5555555555555556,
              "#d8576b"
             ],
             [
              0.6666666666666666,
              "#ed7953"
             ],
             [
              0.7777777777777778,
              "#fb9f3a"
             ],
             [
              0.8888888888888888,
              "#fdca26"
             ],
             [
              1,
              "#f0f921"
             ]
            ],
            "type": "heatmap"
           }
          ],
          "heatmapgl": [
           {
            "colorbar": {
             "outlinewidth": 0,
             "ticks": ""
            },
            "colorscale": [
             [
              0,
              "#0d0887"
             ],
             [
              0.1111111111111111,
              "#46039f"
             ],
             [
              0.2222222222222222,
              "#7201a8"
             ],
             [
              0.3333333333333333,
              "#9c179e"
             ],
             [
              0.4444444444444444,
              "#bd3786"
             ],
             [
              0.5555555555555556,
              "#d8576b"
             ],
             [
              0.6666666666666666,
              "#ed7953"
             ],
             [
              0.7777777777777778,
              "#fb9f3a"
             ],
             [
              0.8888888888888888,
              "#fdca26"
             ],
             [
              1,
              "#f0f921"
             ]
            ],
            "type": "heatmapgl"
           }
          ],
          "histogram": [
           {
            "marker": {
             "pattern": {
              "fillmode": "overlay",
              "size": 10,
              "solidity": 0.2
             }
            },
            "type": "histogram"
           }
          ],
          "histogram2d": [
           {
            "colorbar": {
             "outlinewidth": 0,
             "ticks": ""
            },
            "colorscale": [
             [
              0,
              "#0d0887"
             ],
             [
              0.1111111111111111,
              "#46039f"
             ],
             [
              0.2222222222222222,
              "#7201a8"
             ],
             [
              0.3333333333333333,
              "#9c179e"
             ],
             [
              0.4444444444444444,
              "#bd3786"
             ],
             [
              0.5555555555555556,
              "#d8576b"
             ],
             [
              0.6666666666666666,
              "#ed7953"
             ],
             [
              0.7777777777777778,
              "#fb9f3a"
             ],
             [
              0.8888888888888888,
              "#fdca26"
             ],
             [
              1,
              "#f0f921"
             ]
            ],
            "type": "histogram2d"
           }
          ],
          "histogram2dcontour": [
           {
            "colorbar": {
             "outlinewidth": 0,
             "ticks": ""
            },
            "colorscale": [
             [
              0,
              "#0d0887"
             ],
             [
              0.1111111111111111,
              "#46039f"
             ],
             [
              0.2222222222222222,
              "#7201a8"
             ],
             [
              0.3333333333333333,
              "#9c179e"
             ],
             [
              0.4444444444444444,
              "#bd3786"
             ],
             [
              0.5555555555555556,
              "#d8576b"
             ],
             [
              0.6666666666666666,
              "#ed7953"
             ],
             [
              0.7777777777777778,
              "#fb9f3a"
             ],
             [
              0.8888888888888888,
              "#fdca26"
             ],
             [
              1,
              "#f0f921"
             ]
            ],
            "type": "histogram2dcontour"
           }
          ],
          "mesh3d": [
           {
            "colorbar": {
             "outlinewidth": 0,
             "ticks": ""
            },
            "type": "mesh3d"
           }
          ],
          "parcoords": [
           {
            "line": {
             "colorbar": {
              "outlinewidth": 0,
              "ticks": ""
             }
            },
            "type": "parcoords"
           }
          ],
          "pie": [
           {
            "automargin": true,
            "type": "pie"
           }
          ],
          "scatter": [
           {
            "marker": {
             "colorbar": {
              "outlinewidth": 0,
              "ticks": ""
             }
            },
            "type": "scatter"
           }
          ],
          "scatter3d": [
           {
            "line": {
             "colorbar": {
              "outlinewidth": 0,
              "ticks": ""
             }
            },
            "marker": {
             "colorbar": {
              "outlinewidth": 0,
              "ticks": ""
             }
            },
            "type": "scatter3d"
           }
          ],
          "scattercarpet": [
           {
            "marker": {
             "colorbar": {
              "outlinewidth": 0,
              "ticks": ""
             }
            },
            "type": "scattercarpet"
           }
          ],
          "scattergeo": [
           {
            "marker": {
             "colorbar": {
              "outlinewidth": 0,
              "ticks": ""
             }
            },
            "type": "scattergeo"
           }
          ],
          "scattergl": [
           {
            "marker": {
             "colorbar": {
              "outlinewidth": 0,
              "ticks": ""
             }
            },
            "type": "scattergl"
           }
          ],
          "scattermapbox": [
           {
            "marker": {
             "colorbar": {
              "outlinewidth": 0,
              "ticks": ""
             }
            },
            "type": "scattermapbox"
           }
          ],
          "scatterpolar": [
           {
            "marker": {
             "colorbar": {
              "outlinewidth": 0,
              "ticks": ""
             }
            },
            "type": "scatterpolar"
           }
          ],
          "scatterpolargl": [
           {
            "marker": {
             "colorbar": {
              "outlinewidth": 0,
              "ticks": ""
             }
            },
            "type": "scatterpolargl"
           }
          ],
          "scatterternary": [
           {
            "marker": {
             "colorbar": {
              "outlinewidth": 0,
              "ticks": ""
             }
            },
            "type": "scatterternary"
           }
          ],
          "surface": [
           {
            "colorbar": {
             "outlinewidth": 0,
             "ticks": ""
            },
            "colorscale": [
             [
              0,
              "#0d0887"
             ],
             [
              0.1111111111111111,
              "#46039f"
             ],
             [
              0.2222222222222222,
              "#7201a8"
             ],
             [
              0.3333333333333333,
              "#9c179e"
             ],
             [
              0.4444444444444444,
              "#bd3786"
             ],
             [
              0.5555555555555556,
              "#d8576b"
             ],
             [
              0.6666666666666666,
              "#ed7953"
             ],
             [
              0.7777777777777778,
              "#fb9f3a"
             ],
             [
              0.8888888888888888,
              "#fdca26"
             ],
             [
              1,
              "#f0f921"
             ]
            ],
            "type": "surface"
           }
          ],
          "table": [
           {
            "cells": {
             "fill": {
              "color": "#EBF0F8"
             },
             "line": {
              "color": "white"
             }
            },
            "header": {
             "fill": {
              "color": "#C8D4E3"
             },
             "line": {
              "color": "white"
             }
            },
            "type": "table"
           }
          ]
         },
         "layout": {
          "annotationdefaults": {
           "arrowcolor": "#2a3f5f",
           "arrowhead": 0,
           "arrowwidth": 1
          },
          "autotypenumbers": "strict",
          "coloraxis": {
           "colorbar": {
            "outlinewidth": 0,
            "ticks": ""
           }
          },
          "colorscale": {
           "diverging": [
            [
             0,
             "#8e0152"
            ],
            [
             0.1,
             "#c51b7d"
            ],
            [
             0.2,
             "#de77ae"
            ],
            [
             0.3,
             "#f1b6da"
            ],
            [
             0.4,
             "#fde0ef"
            ],
            [
             0.5,
             "#f7f7f7"
            ],
            [
             0.6,
             "#e6f5d0"
            ],
            [
             0.7,
             "#b8e186"
            ],
            [
             0.8,
             "#7fbc41"
            ],
            [
             0.9,
             "#4d9221"
            ],
            [
             1,
             "#276419"
            ]
           ],
           "sequential": [
            [
             0,
             "#0d0887"
            ],
            [
             0.1111111111111111,
             "#46039f"
            ],
            [
             0.2222222222222222,
             "#7201a8"
            ],
            [
             0.3333333333333333,
             "#9c179e"
            ],
            [
             0.4444444444444444,
             "#bd3786"
            ],
            [
             0.5555555555555556,
             "#d8576b"
            ],
            [
             0.6666666666666666,
             "#ed7953"
            ],
            [
             0.7777777777777778,
             "#fb9f3a"
            ],
            [
             0.8888888888888888,
             "#fdca26"
            ],
            [
             1,
             "#f0f921"
            ]
           ],
           "sequentialminus": [
            [
             0,
             "#0d0887"
            ],
            [
             0.1111111111111111,
             "#46039f"
            ],
            [
             0.2222222222222222,
             "#7201a8"
            ],
            [
             0.3333333333333333,
             "#9c179e"
            ],
            [
             0.4444444444444444,
             "#bd3786"
            ],
            [
             0.5555555555555556,
             "#d8576b"
            ],
            [
             0.6666666666666666,
             "#ed7953"
            ],
            [
             0.7777777777777778,
             "#fb9f3a"
            ],
            [
             0.8888888888888888,
             "#fdca26"
            ],
            [
             1,
             "#f0f921"
            ]
           ]
          },
          "colorway": [
           "#636efa",
           "#EF553B",
           "#00cc96",
           "#ab63fa",
           "#FFA15A",
           "#19d3f3",
           "#FF6692",
           "#B6E880",
           "#FF97FF",
           "#FECB52"
          ],
          "font": {
           "color": "#2a3f5f"
          },
          "geo": {
           "bgcolor": "white",
           "lakecolor": "white",
           "landcolor": "#E5ECF6",
           "showlakes": true,
           "showland": true,
           "subunitcolor": "white"
          },
          "hoverlabel": {
           "align": "left"
          },
          "hovermode": "closest",
          "mapbox": {
           "style": "light"
          },
          "paper_bgcolor": "white",
          "plot_bgcolor": "#E5ECF6",
          "polar": {
           "angularaxis": {
            "gridcolor": "white",
            "linecolor": "white",
            "ticks": ""
           },
           "bgcolor": "#E5ECF6",
           "radialaxis": {
            "gridcolor": "white",
            "linecolor": "white",
            "ticks": ""
           }
          },
          "scene": {
           "xaxis": {
            "backgroundcolor": "#E5ECF6",
            "gridcolor": "white",
            "gridwidth": 2,
            "linecolor": "white",
            "showbackground": true,
            "ticks": "",
            "zerolinecolor": "white"
           },
           "yaxis": {
            "backgroundcolor": "#E5ECF6",
            "gridcolor": "white",
            "gridwidth": 2,
            "linecolor": "white",
            "showbackground": true,
            "ticks": "",
            "zerolinecolor": "white"
           },
           "zaxis": {
            "backgroundcolor": "#E5ECF6",
            "gridcolor": "white",
            "gridwidth": 2,
            "linecolor": "white",
            "showbackground": true,
            "ticks": "",
            "zerolinecolor": "white"
           }
          },
          "shapedefaults": {
           "line": {
            "color": "#2a3f5f"
           }
          },
          "ternary": {
           "aaxis": {
            "gridcolor": "white",
            "linecolor": "white",
            "ticks": ""
           },
           "baxis": {
            "gridcolor": "white",
            "linecolor": "white",
            "ticks": ""
           },
           "bgcolor": "#E5ECF6",
           "caxis": {
            "gridcolor": "white",
            "linecolor": "white",
            "ticks": ""
           }
          },
          "title": {
           "x": 0.05
          },
          "xaxis": {
           "automargin": true,
           "gridcolor": "white",
           "linecolor": "white",
           "ticks": "",
           "title": {
            "standoff": 15
           },
           "zerolinecolor": "white",
           "zerolinewidth": 2
          },
          "yaxis": {
           "automargin": true,
           "gridcolor": "white",
           "linecolor": "white",
           "ticks": "",
           "title": {
            "standoff": 15
           },
           "zerolinecolor": "white",
           "zerolinewidth": 2
          }
         }
        },
        "title": {
         "text": "Total vaccinations per country, grouped by vaccine scheme"
        }
       }
      },
      "text/html": [
       "<div>                            <div id=\"00331fe7-c652-4a72-b4d9-625f9970aa27\" class=\"plotly-graph-div\" style=\"height:525px; width:100%;\"></div>            <script type=\"text/javascript\">                require([\"plotly\"], function(Plotly) {                    window.PLOTLYENV=window.PLOTLYENV || {};                                    if (document.getElementById(\"00331fe7-c652-4a72-b4d9-625f9970aa27\")) {                    Plotly.newPlot(                        \"00331fe7-c652-4a72-b4d9-625f9970aa27\",                        [{\"branchvalues\":\"total\",\"domain\":{\"x\":[0.0,1.0],\"y\":[0.0,1.0]},\"hovertemplate\":\"labels=%{label}<br>Total vaccinations=%{value}<br>parent=%{parent}<br>id=%{id}<extra></extra>\",\"ids\":[\"BBIBP-CorV, Oxford/AstraZeneca, Pfizer/BioNTech/Afghanistan\",\"Oxford/AstraZeneca, Pfizer/BioNTech, Sinovac, Sputnik V/Albania\",\"Oxford/AstraZeneca, Sputnik V/Algeria\",\"Oxford/AstraZeneca, Pfizer/BioNTech/Andorra\",\"Oxford/AstraZeneca/Angola\",\"Oxford/AstraZeneca/Anguilla\",\"Oxford/AstraZeneca/Antigua and Barbuda\",\"Oxford/AstraZeneca, Sinopharm/Beijing, Sputnik V/Argentina\",\"Oxford/AstraZeneca, Sinovac, Sputnik V/Armenia\",\"Pfizer/BioNTech/Aruba\",\"Oxford/AstraZeneca, Pfizer/BioNTech/Australia\",\"Johnson&Johnson, Moderna, Oxford/AstraZeneca, Pfizer/BioNTech/Austria\",\"Oxford/AstraZeneca, Sinovac, Sputnik V/Azerbaijan\",\"Oxford/AstraZeneca/Bahamas\",\"Oxford/AstraZeneca, Pfizer/BioNTech, Sinopharm/Beijing, Sputnik V/Bahrain\",\"Oxford/AstraZeneca/Bangladesh\",\"Oxford/AstraZeneca/Barbados\",\"BBIBP-CorV, Sputnik V/Belarus\",\"Johnson&Johnson, Moderna, Oxford/AstraZeneca, Pfizer/BioNTech/Belgium\",\"Oxford/AstraZeneca, Sinopharm/Beijing/Belize\",\"Oxford/AstraZeneca, Sinovac/Benin\",\"Pfizer/BioNTech/Bermuda\",\"Oxford/AstraZeneca/Bhutan\",\"Oxford/AstraZeneca, Pfizer/BioNTech, Sinopharm/Beijing, Sputnik V/Bolivia\",\"Moderna, Pfizer/BioNTech/Bonaire Sint Eustatius and Saba\",\"Oxford/AstraZeneca, Pfizer/BioNTech, Sinovac, Sputnik V/Bosnia and Herzegovina\",\"Oxford/AstraZeneca/Botswana\",\"Oxford/AstraZeneca, Pfizer/BioNTech, Sinovac/Brazil\",\"Oxford/AstraZeneca/British Virgin Islands\",\"Oxford/AstraZeneca, Sinopharm/Beijing/Brunei\",\"Johnson&Johnson, Moderna, Oxford/AstraZeneca, Pfizer/BioNTech/Bulgaria\",\"Oxford/AstraZeneca/Burkina Faso\",\"Oxford/AstraZeneca, Sinopharm/Beijing, Sinovac/Cambodia\",\"BBIBP-CorV, Oxford/AstraZeneca/Cameroon\",\"Moderna, Oxford/AstraZeneca, Pfizer/BioNTech/Canada\",\"Oxford/AstraZeneca, Pfizer/BioNTech/Cape Verde\",\"Oxford/AstraZeneca, Pfizer/BioNTech/Cayman Islands\",\"Covaxin, Oxford/AstraZeneca/Central African Republic\",\"BBIBP-CorV/Chad\",\"CanSino, Oxford/AstraZeneca, Pfizer/BioNTech, Sinovac/Chile\",\"CanSino, Sinopharm/Beijing, Sinopharm/Wuhan, Sinovac/China\",\"Oxford/AstraZeneca, Pfizer/BioNTech, Sinovac/Colombia\",\"Covaxin, Oxford/AstraZeneca, Sinopharm/Beijing/Comoros\",\"BBIBP-CorV, Moderna, Oxford/AstraZeneca, Sputnik V/Congo\",\"Oxford/AstraZeneca/Cook Islands\",\"Oxford/AstraZeneca, Pfizer/BioNTech/Costa Rica\",\"Oxford/AstraZeneca/Cote d'Ivoire\",\"Moderna, Oxford/AstraZeneca, Pfizer/BioNTech/Croatia\",\"Abdala, Soberana02/Cuba\",\"Moderna, Pfizer/BioNTech/Curacao\",\"Johnson&Johnson, Moderna, Oxford/AstraZeneca, Pfizer/BioNTech/Cyprus\",\"Johnson&Johnson, Moderna, Oxford/AstraZeneca, Pfizer/BioNTech/Czechia\",\"Oxford/AstraZeneca/Democratic Republic of Congo\",\"Johnson&Johnson, Moderna, Pfizer/BioNTech/Denmark\",\"Oxford/AstraZeneca, Sinopharm/Beijing, Sputnik V/Djibouti\",\"Oxford/AstraZeneca/Dominica\",\"Oxford/AstraZeneca, Pfizer/BioNTech, Sinopharm/Beijing, Sinovac/Dominican Republic\",\"Oxford/AstraZeneca, Pfizer/BioNTech, Sinovac/Ecuador\",\"BBIBP-CorV, Oxford/AstraZeneca, Sinovac, Sputnik V/Egypt\",\"Oxford/AstraZeneca, Pfizer/BioNTech, Sinovac/El Salvador\",\"Moderna, Oxford/AstraZeneca, Pfizer/BioNTech/England\",\"Sinopharm/Beijing/Equatorial Guinea\",\"Johnson&Johnson, Moderna, Oxford/AstraZeneca, Pfizer/BioNTech/Estonia\",\"Oxford/AstraZeneca/Eswatini\",\"Oxford/AstraZeneca/Ethiopia\",\"Moderna, Pfizer/BioNTech/Faeroe Islands\",\"Oxford/AstraZeneca/Falkland Islands\",\"Oxford/AstraZeneca/Fiji\",\"Moderna, Oxford/AstraZeneca, Pfizer/BioNTech/Finland\",\"Johnson&Johnson, Moderna, Oxford/AstraZeneca, Pfizer/BioNTech/France\",\"Oxford/AstraZeneca/French Polynesia\",\"Sinopharm/Beijing/Gabon\",\"Oxford/AstraZeneca, Sinopharm/Beijing/Gambia\",\"Oxford/AstraZeneca/Georgia\",\"Johnson&Johnson, Moderna, Oxford/AstraZeneca, Pfizer/BioNTech/Germany\",\"Oxford/AstraZeneca, Sputnik V/Ghana\",\"Pfizer/BioNTech/Gibraltar\",\"Johnson&Johnson, Moderna, Oxford/AstraZeneca, Pfizer/BioNTech/Greece\",\"Moderna/Greenland\",\"Oxford/AstraZeneca/Grenada\",\"Moderna, Oxford/AstraZeneca/Guatemala\",\"Moderna, Oxford/AstraZeneca, Pfizer/BioNTech/Guernsey\",\"Sputnik V/Guinea\",\"Oxford/AstraZeneca, Sinopharm/Beijing/Guinea-Bissau\",\"Oxford/AstraZeneca, Sputnik V/Guyana\",\"Johnson&Johnson, Moderna, Oxford/AstraZeneca, Sputnik V/Honduras\",\"Pfizer/BioNTech, Sinovac/Hong Kong\",\"Johnson&Johnson, Moderna, Oxford/AstraZeneca, Pfizer/BioNTech, Sinopharm/Beijing, Sputnik V/Hungary\",\"Johnson&Johnson, Moderna, Oxford/AstraZeneca, Pfizer/BioNTech/Iceland\",\"Covaxin, Oxford/AstraZeneca/India\",\"Oxford/AstraZeneca, Sinovac/Indonesia\",\"BBIBP-CorV, Covaxin, Oxford/AstraZeneca, Sputnik V/Iran\",\"BBIBP-CorV, Oxford/AstraZeneca, Pfizer/BioNTech, Sputnik V/Iraq\",\"Johnson&Johnson, Moderna, Oxford/AstraZeneca, Pfizer/BioNTech/Ireland\",\"Oxford/AstraZeneca, Pfizer/BioNTech/Isle of Man\",\"Moderna, Pfizer/BioNTech/Israel\",\"Johnson&Johnson, Moderna, Oxford/AstraZeneca, Pfizer/BioNTech/Italy\",\"Oxford/AstraZeneca/Jamaica\",\"Moderna, Pfizer/BioNTech/Japan\",\"Moderna, Oxford/AstraZeneca, Pfizer/BioNTech/Jersey\",\"Oxford/AstraZeneca, Pfizer/BioNTech, Sinopharm/Beijing, Sputnik V/Jordan\",\"QazVac, Sinopharm/HayatVax, Sputnik V/Kazakhstan\",\"Oxford/AstraZeneca, Sputnik V/Kenya\",\"Oxford/AstraZeneca/Kosovo\",\"Pfizer/BioNTech/Kuwait\",\"Sinopharm/Beijing, Sputnik V/Kyrgyzstan\",\"Sinopharm/Beijing, Sputnik V/Laos\",\"Johnson&Johnson, Moderna, Oxford/AstraZeneca, Pfizer/BioNTech/Latvia\",\"Oxford/AstraZeneca, Pfizer/BioNTech, Sinopharm/Beijing, Sputnik V/Lebanon\",\"Oxford/AstraZeneca/Lesotho\",\"Oxford/AstraZeneca/Liberia\",\"Johnson&Johnson, Moderna, Oxford/AstraZeneca, Pfizer/BioNTech, Sinovac, Sputnik V/Libya\",\"Moderna, Pfizer/BioNTech/Liechtenstein\",\"Johnson&Johnson, Moderna, Oxford/AstraZeneca, Pfizer/BioNTech/Lithuania\",\"Moderna, Oxford/AstraZeneca, Pfizer/BioNTech/Luxembourg\",\"Pfizer/BioNTech, Sinopharm/Beijing/Macao\",\"Oxford/AstraZeneca/Madagascar\",\"Oxford/AstraZeneca/Malawi\",\"Oxford/AstraZeneca, Pfizer/BioNTech, Sinovac/Malaysia\",\"Oxford/AstraZeneca, Pfizer/BioNTech, Sinopharm/Beijing/Maldives\",\"Oxford/AstraZeneca/Mali\",\"Johnson&Johnson, Moderna, Oxford/AstraZeneca, Pfizer/BioNTech/Malta\",\"BBIBP-CorV, Oxford/AstraZeneca/Mauritania\",\"BBIBP-CorV, Covaxin, Oxford/AstraZeneca/Mauritius\",\"CanSino, Oxford/AstraZeneca, Pfizer/BioNTech, Sinovac, Sputnik V/Mexico\",\"Oxford/AstraZeneca, Pfizer/BioNTech, Sinopharm/Beijing, Sputnik V/Moldova\",\"Pfizer/BioNTech/Monaco\",\"Oxford/AstraZeneca, Pfizer/BioNTech, Sinopharm/Beijing, Sputnik V/Mongolia\",\"Oxford/AstraZeneca, Pfizer/BioNTech, Sinopharm/Beijing, Sputnik V/Montenegro\",\"Oxford/AstraZeneca/Montserrat\",\"Oxford/AstraZeneca, Sinopharm/Beijing/Morocco\",\"Oxford/AstraZeneca, Sinopharm/Beijing/Mozambique\",\"Oxford/AstraZeneca/Myanmar\",\"Oxford/AstraZeneca, Sinopharm/Beijing/Namibia\",\"Oxford/AstraZeneca/Nauru\",\"Oxford/AstraZeneca, Sinopharm/Beijing/Nepal\",\"Johnson&Johnson, Moderna, Oxford/AstraZeneca, Pfizer/BioNTech/Netherlands\",\"Pfizer/BioNTech/New Caledonia\",\"Pfizer/BioNTech/New Zealand\",\"Oxford/AstraZeneca, Sputnik V/Nicaragua\",\"BBIBP-CorV, Oxford/AstraZeneca/Niger\",\"Oxford/AstraZeneca/Nigeria\",\"Oxford/AstraZeneca, Pfizer/BioNTech, Sinopharm/Beijing, Sinovac, Sputnik V/North Macedonia\",\"Oxford/AstraZeneca, Pfizer/BioNTech, Sinovac/Northern Cyprus\",\"Moderna, Oxford/AstraZeneca, Pfizer/BioNTech/Northern Ireland\",\"Moderna, Pfizer/BioNTech/Norway\",\"Oxford/AstraZeneca, Pfizer/BioNTech/Oman\",\"CanSino, Oxford/AstraZeneca, Sinopharm/Beijing, Sinovac, Sputnik V/Pakistan\",\"Moderna, Oxford/AstraZeneca, Pfizer/BioNTech/Palestine\",\"Oxford/AstraZeneca, Pfizer/BioNTech/Panama\",\"Oxford/AstraZeneca, Sinopharm/Beijing/Papua New Guinea\",\"Covaxin, Oxford/AstraZeneca, Sinopharm/Beijing, Sinovac, Sputnik V/Paraguay\",\"Oxford/AstraZeneca, Pfizer/BioNTech, Sinopharm/Beijing/Peru\",\"Oxford/AstraZeneca, Pfizer/BioNTech, Sinovac, Sputnik V/Philippines\",\"Oxford/AstraZeneca/Pitcairn\",\"Johnson&Johnson, Moderna, Oxford/AstraZeneca, Pfizer/BioNTech/Poland\",\"Johnson&Johnson, Moderna, Oxford/AstraZeneca, Pfizer/BioNTech/Portugal\",\"Moderna, Pfizer/BioNTech/Qatar\",\"Johnson&Johnson, Moderna, Oxford/AstraZeneca, Pfizer/BioNTech/Romania\",\"EpiVacCorona, Sputnik V/Russia\",\"Moderna, Oxford/AstraZeneca, Pfizer/BioNTech/Rwanda\",\"Oxford/AstraZeneca/Saint Helena\",\"Oxford/AstraZeneca/Saint Kitts and Nevis\",\"Oxford/AstraZeneca/Saint Lucia\",\"Oxford/AstraZeneca/Saint Vincent and the Grenadines\",\"Oxford/AstraZeneca/Samoa\",\"Pfizer/BioNTech, Sputnik V/San Marino\",\"Oxford/AstraZeneca/Sao Tome and Principe\",\"Oxford/AstraZeneca, Pfizer/BioNTech/Saudi Arabia\",\"Moderna, Oxford/AstraZeneca, Pfizer/BioNTech/Scotland\",\"BBIBP-CorV, Oxford/AstraZeneca/Senegal\",\"Oxford/AstraZeneca, Pfizer/BioNTech, Sinopharm/Beijing, Sputnik V/Serbia\",\"Oxford/AstraZeneca, Sinopharm/Beijing/Seychelles\",\"BBIBP-CorV, Oxford/AstraZeneca/Sierra Leone\",\"Moderna, Pfizer/BioNTech/Singapore\",\"Moderna, Oxford/AstraZeneca, Pfizer/BioNTech/Sint Maarten (Dutch part)\",\"Moderna, Oxford/AstraZeneca, Pfizer/BioNTech/Slovakia\",\"Oxford/AstraZeneca, Pfizer/BioNTech/Slovenia\",\"Oxford/AstraZeneca/Solomon Islands\",\"BBIBP-CorV, Oxford/AstraZeneca, Sinovac/Somalia\",\"Johnson&Johnson, Pfizer/BioNTech/South Africa\",\"Johnson&Johnson, Oxford/AstraZeneca, Pfizer/BioNTech/South Korea\",\"Oxford/AstraZeneca/South Sudan\",\"Johnson&Johnson, Moderna, Oxford/AstraZeneca, Pfizer/BioNTech/Spain\",\"Oxford/AstraZeneca, Sinopharm/Beijing, Sputnik V/Sri Lanka\",\"BBIBP-CorV, Oxford/AstraZeneca, Pfizer/BioNTech, Sinovac/Sudan\",\"Oxford/AstraZeneca/Suriname\",\"Oxford/AstraZeneca, Pfizer/BioNTech/Sweden\",\"Moderna, Pfizer/BioNTech/Switzerland\",\"Oxford/AstraZeneca, Sinopharm/Beijing, Sputnik V/Syria\",\"Moderna, Oxford/AstraZeneca/Taiwan\",\"Oxford/AstraZeneca/Tajikistan\",\"Oxford/AstraZeneca, Sinovac/Thailand\",\"Oxford/AstraZeneca, Sinovac/Timor\",\"Oxford/AstraZeneca/Togo\",\"Oxford/AstraZeneca/Tonga\",\"Oxford/AstraZeneca/Trinidad and Tobago\",\"Oxford/AstraZeneca, Pfizer/BioNTech, Sinovac, Sputnik V/Tunisia\",\"Pfizer/BioNTech, Sinovac/Turkey\",\"EpiVacCorona, Oxford/AstraZeneca, Sinopharm/Beijing, Sputnik V/Turkmenistan\",\"Pfizer/BioNTech/Turks and Caicos Islands\",\"Oxford/AstraZeneca/Tuvalu\",\"Oxford/AstraZeneca/Uganda\",\"Oxford/AstraZeneca, Pfizer/BioNTech, Sinovac/Ukraine\",\"Oxford/AstraZeneca, Pfizer/BioNTech, Sinopharm/Beijing, Sinopharm/Wuhan, Sputnik V/United Arab Emirates\",\"Moderna, Oxford/AstraZeneca, Pfizer/BioNTech/United Kingdom\",\"Johnson&Johnson, Moderna, Pfizer/BioNTech/United States\",\"Oxford/AstraZeneca, Pfizer/BioNTech, Sinovac/Uruguay\",\"Oxford/AstraZeneca, RBD-Dimer, Sputnik V/Uzbekistan\",\"Oxford/AstraZeneca/Vanuatu\",\"BBIBP-CorV, Sputnik V/Venezuela\",\"Oxford/AstraZeneca/Vietnam\",\"Moderna, Oxford/AstraZeneca, Pfizer/BioNTech/Wales\",\"Oxford/AstraZeneca/Wallis and Futuna\",\"Oxford/AstraZeneca/Yemen\",\"Oxford/AstraZeneca, Sinopharm/Beijing/Zambia\",\"Sinopharm/Beijing/Zimbabwe\",\"Abdala, Soberana02\",\"BBIBP-CorV\",\"BBIBP-CorV, Covaxin, Oxford/AstraZeneca\",\"BBIBP-CorV, Covaxin, Oxford/AstraZeneca, Sputnik V\",\"BBIBP-CorV, Moderna, Oxford/AstraZeneca, Sputnik V\",\"BBIBP-CorV, Oxford/AstraZeneca\",\"BBIBP-CorV, Oxford/AstraZeneca, Pfizer/BioNTech\",\"BBIBP-CorV, Oxford/AstraZeneca, Pfizer/BioNTech, Sinovac\",\"BBIBP-CorV, Oxford/AstraZeneca, Pfizer/BioNTech, Sputnik V\",\"BBIBP-CorV, Oxford/AstraZeneca, Sinovac\",\"BBIBP-CorV, Oxford/AstraZeneca, Sinovac, Sputnik V\",\"BBIBP-CorV, Sputnik V\",\"CanSino, Oxford/AstraZeneca, Pfizer/BioNTech, Sinovac\",\"CanSino, Oxford/AstraZeneca, Pfizer/BioNTech, Sinovac, Sputnik V\",\"CanSino, Oxford/AstraZeneca, Sinopharm/Beijing, Sinovac, Sputnik V\",\"CanSino, Sinopharm/Beijing, Sinopharm/Wuhan, Sinovac\",\"Covaxin, Oxford/AstraZeneca\",\"Covaxin, Oxford/AstraZeneca, Sinopharm/Beijing\",\"Covaxin, Oxford/AstraZeneca, Sinopharm/Beijing, Sinovac, Sputnik V\",\"EpiVacCorona, Oxford/AstraZeneca, Sinopharm/Beijing, Sputnik V\",\"EpiVacCorona, Sputnik V\",\"Johnson&Johnson, Moderna, Oxford/AstraZeneca, Pfizer/BioNTech\",\"Johnson&Johnson, Moderna, Oxford/AstraZeneca, Pfizer/BioNTech, Sinopharm/Beijing, Sputnik V\",\"Johnson&Johnson, Moderna, Oxford/AstraZeneca, Pfizer/BioNTech, Sinovac, Sputnik V\",\"Johnson&Johnson, Moderna, Oxford/AstraZeneca, Sputnik V\",\"Johnson&Johnson, Moderna, Pfizer/BioNTech\",\"Johnson&Johnson, Oxford/AstraZeneca, Pfizer/BioNTech\",\"Johnson&Johnson, Pfizer/BioNTech\",\"Moderna\",\"Moderna, Oxford/AstraZeneca\",\"Moderna, Oxford/AstraZeneca, Pfizer/BioNTech\",\"Moderna, Pfizer/BioNTech\",\"Oxford/AstraZeneca\",\"Oxford/AstraZeneca, Pfizer/BioNTech\",\"Oxford/AstraZeneca, Pfizer/BioNTech, Sinopharm/Beijing\",\"Oxford/AstraZeneca, Pfizer/BioNTech, Sinopharm/Beijing, Sinopharm/Wuhan, Sputnik V\",\"Oxford/AstraZeneca, Pfizer/BioNTech, Sinopharm/Beijing, Sinovac\",\"Oxford/AstraZeneca, Pfizer/BioNTech, Sinopharm/Beijing, Sinovac, Sputnik V\",\"Oxford/AstraZeneca, Pfizer/BioNTech, Sinopharm/Beijing, Sputnik V\",\"Oxford/AstraZeneca, Pfizer/BioNTech, Sinovac\",\"Oxford/AstraZeneca, Pfizer/BioNTech, Sinovac, Sputnik V\",\"Oxford/AstraZeneca, RBD-Dimer, Sputnik V\",\"Oxford/AstraZeneca, Sinopharm/Beijing\",\"Oxford/AstraZeneca, Sinopharm/Beijing, Sinovac\",\"Oxford/AstraZeneca, Sinopharm/Beijing, Sputnik V\",\"Oxford/AstraZeneca, Sinovac\",\"Oxford/AstraZeneca, Sinovac, Sputnik V\",\"Oxford/AstraZeneca, Sputnik V\",\"Pfizer/BioNTech\",\"Pfizer/BioNTech, Sinopharm/Beijing\",\"Pfizer/BioNTech, Sinovac\",\"Pfizer/BioNTech, Sputnik V\",\"QazVac, Sinopharm/HayatVax, Sputnik V\",\"Sinopharm/Beijing\",\"Sinopharm/Beijing, Sputnik V\",\"Sputnik V\"],\"labels\":[\"Afghanistan\",\"Albania\",\"Algeria\",\"Andorra\",\"Angola\",\"Anguilla\",\"Antigua and Barbuda\",\"Argentina\",\"Armenia\",\"Aruba\",\"Australia\",\"Austria\",\"Azerbaijan\",\"Bahamas\",\"Bahrain\",\"Bangladesh\",\"Barbados\",\"Belarus\",\"Belgium\",\"Belize\",\"Benin\",\"Bermuda\",\"Bhutan\",\"Bolivia\",\"Bonaire Sint Eustatius and Saba\",\"Bosnia and Herzegovina\",\"Botswana\",\"Brazil\",\"British Virgin Islands\",\"Brunei\",\"Bulgaria\",\"Burkina Faso\",\"Cambodia\",\"Cameroon\",\"Canada\",\"Cape Verde\",\"Cayman Islands\",\"Central African Republic\",\"Chad\",\"Chile\",\"China\",\"Colombia\",\"Comoros\",\"Congo\",\"Cook Islands\",\"Costa Rica\",\"Cote d'Ivoire\",\"Croatia\",\"Cuba\",\"Curacao\",\"Cyprus\",\"Czechia\",\"Democratic Republic of Congo\",\"Denmark\",\"Djibouti\",\"Dominica\",\"Dominican Republic\",\"Ecuador\",\"Egypt\",\"El Salvador\",\"England\",\"Equatorial Guinea\",\"Estonia\",\"Eswatini\",\"Ethiopia\",\"Faeroe Islands\",\"Falkland Islands\",\"Fiji\",\"Finland\",\"France\",\"French Polynesia\",\"Gabon\",\"Gambia\",\"Georgia\",\"Germany\",\"Ghana\",\"Gibraltar\",\"Greece\",\"Greenland\",\"Grenada\",\"Guatemala\",\"Guernsey\",\"Guinea\",\"Guinea-Bissau\",\"Guyana\",\"Honduras\",\"Hong Kong\",\"Hungary\",\"Iceland\",\"India\",\"Indonesia\",\"Iran\",\"Iraq\",\"Ireland\",\"Isle of Man\",\"Israel\",\"Italy\",\"Jamaica\",\"Japan\",\"Jersey\",\"Jordan\",\"Kazakhstan\",\"Kenya\",\"Kosovo\",\"Kuwait\",\"Kyrgyzstan\",\"Laos\",\"Latvia\",\"Lebanon\",\"Lesotho\",\"Liberia\",\"Libya\",\"Liechtenstein\",\"Lithuania\",\"Luxembourg\",\"Macao\",\"Madagascar\",\"Malawi\",\"Malaysia\",\"Maldives\",\"Mali\",\"Malta\",\"Mauritania\",\"Mauritius\",\"Mexico\",\"Moldova\",\"Monaco\",\"Mongolia\",\"Montenegro\",\"Montserrat\",\"Morocco\",\"Mozambique\",\"Myanmar\",\"Namibia\",\"Nauru\",\"Nepal\",\"Netherlands\",\"New Caledonia\",\"New Zealand\",\"Nicaragua\",\"Niger\",\"Nigeria\",\"North Macedonia\",\"Northern Cyprus\",\"Northern Ireland\",\"Norway\",\"Oman\",\"Pakistan\",\"Palestine\",\"Panama\",\"Papua New Guinea\",\"Paraguay\",\"Peru\",\"Philippines\",\"Pitcairn\",\"Poland\",\"Portugal\",\"Qatar\",\"Romania\",\"Russia\",\"Rwanda\",\"Saint Helena\",\"Saint Kitts and Nevis\",\"Saint Lucia\",\"Saint Vincent and the Grenadines\",\"Samoa\",\"San Marino\",\"Sao Tome and Principe\",\"Saudi Arabia\",\"Scotland\",\"Senegal\",\"Serbia\",\"Seychelles\",\"Sierra Leone\",\"Singapore\",\"Sint Maarten (Dutch part)\",\"Slovakia\",\"Slovenia\",\"Solomon Islands\",\"Somalia\",\"South Africa\",\"South Korea\",\"South Sudan\",\"Spain\",\"Sri Lanka\",\"Sudan\",\"Suriname\",\"Sweden\",\"Switzerland\",\"Syria\",\"Taiwan\",\"Tajikistan\",\"Thailand\",\"Timor\",\"Togo\",\"Tonga\",\"Trinidad and Tobago\",\"Tunisia\",\"Turkey\",\"Turkmenistan\",\"Turks and Caicos Islands\",\"Tuvalu\",\"Uganda\",\"Ukraine\",\"United Arab Emirates\",\"United Kingdom\",\"United States\",\"Uruguay\",\"Uzbekistan\",\"Vanuatu\",\"Venezuela\",\"Vietnam\",\"Wales\",\"Wallis and Futuna\",\"Yemen\",\"Zambia\",\"Zimbabwe\",\"Abdala, Soberana02\",\"BBIBP-CorV\",\"BBIBP-CorV, Covaxin, Oxford/AstraZeneca\",\"BBIBP-CorV, Covaxin, Oxford/AstraZeneca, Sputnik V\",\"BBIBP-CorV, Moderna, Oxford/AstraZeneca, Sputnik V\",\"BBIBP-CorV, Oxford/AstraZeneca\",\"BBIBP-CorV, Oxford/AstraZeneca, Pfizer/BioNTech\",\"BBIBP-CorV, Oxford/AstraZeneca, Pfizer/BioNTech, Sinovac\",\"BBIBP-CorV, Oxford/AstraZeneca, Pfizer/BioNTech, Sputnik V\",\"BBIBP-CorV, Oxford/AstraZeneca, Sinovac\",\"BBIBP-CorV, Oxford/AstraZeneca, Sinovac, Sputnik V\",\"BBIBP-CorV, Sputnik V\",\"CanSino, Oxford/AstraZeneca, Pfizer/BioNTech, Sinovac\",\"CanSino, Oxford/AstraZeneca, Pfizer/BioNTech, Sinovac, Sputnik V\",\"CanSino, Oxford/AstraZeneca, Sinopharm/Beijing, Sinovac, Sputnik V\",\"CanSino, Sinopharm/Beijing, Sinopharm/Wuhan, Sinovac\",\"Covaxin, Oxford/AstraZeneca\",\"Covaxin, Oxford/AstraZeneca, Sinopharm/Beijing\",\"Covaxin, Oxford/AstraZeneca, Sinopharm/Beijing, Sinovac, Sputnik V\",\"EpiVacCorona, Oxford/AstraZeneca, Sinopharm/Beijing, Sputnik V\",\"EpiVacCorona, Sputnik V\",\"Johnson&Johnson, Moderna, Oxford/AstraZeneca, Pfizer/BioNTech\",\"Johnson&Johnson, Moderna, Oxford/AstraZeneca, Pfizer/BioNTech, Sinopharm/Beijing, Sputnik V\",\"Johnson&Johnson, Moderna, Oxford/AstraZeneca, Pfizer/BioNTech, Sinovac, Sputnik V\",\"Johnson&Johnson, Moderna, Oxford/AstraZeneca, Sputnik V\",\"Johnson&Johnson, Moderna, Pfizer/BioNTech\",\"Johnson&Johnson, Oxford/AstraZeneca, Pfizer/BioNTech\",\"Johnson&Johnson, Pfizer/BioNTech\",\"Moderna\",\"Moderna, Oxford/AstraZeneca\",\"Moderna, Oxford/AstraZeneca, Pfizer/BioNTech\",\"Moderna, Pfizer/BioNTech\",\"Oxford/AstraZeneca\",\"Oxford/AstraZeneca, Pfizer/BioNTech\",\"Oxford/AstraZeneca, Pfizer/BioNTech, Sinopharm/Beijing\",\"Oxford/AstraZeneca, Pfizer/BioNTech, Sinopharm/Beijing, Sinopharm/Wuhan, Sputnik V\",\"Oxford/AstraZeneca, Pfizer/BioNTech, Sinopharm/Beijing, Sinovac\",\"Oxford/AstraZeneca, Pfizer/BioNTech, Sinopharm/Beijing, Sinovac, Sputnik V\",\"Oxford/AstraZeneca, Pfizer/BioNTech, Sinopharm/Beijing, Sputnik V\",\"Oxford/AstraZeneca, Pfizer/BioNTech, Sinovac\",\"Oxford/AstraZeneca, Pfizer/BioNTech, Sinovac, Sputnik V\",\"Oxford/AstraZeneca, RBD-Dimer, Sputnik V\",\"Oxford/AstraZeneca, Sinopharm/Beijing\",\"Oxford/AstraZeneca, Sinopharm/Beijing, Sinovac\",\"Oxford/AstraZeneca, Sinopharm/Beijing, Sputnik V\",\"Oxford/AstraZeneca, Sinovac\",\"Oxford/AstraZeneca, Sinovac, Sputnik V\",\"Oxford/AstraZeneca, Sputnik V\",\"Pfizer/BioNTech\",\"Pfizer/BioNTech, Sinopharm/Beijing\",\"Pfizer/BioNTech, Sinovac\",\"Pfizer/BioNTech, Sputnik V\",\"QazVac, Sinopharm/HayatVax, Sputnik V\",\"Sinopharm/Beijing\",\"Sinopharm/Beijing, Sputnik V\",\"Sputnik V\"],\"name\":\"\",\"parents\":[\"BBIBP-CorV, Oxford/AstraZeneca, Pfizer/BioNTech\",\"Oxford/AstraZeneca, Pfizer/BioNTech, Sinovac, Sputnik V\",\"Oxford/AstraZeneca, Sputnik V\",\"Oxford/AstraZeneca, Pfizer/BioNTech\",\"Oxford/AstraZeneca\",\"Oxford/AstraZeneca\",\"Oxford/AstraZeneca\",\"Oxford/AstraZeneca, Sinopharm/Beijing, Sputnik V\",\"Oxford/AstraZeneca, Sinovac, Sputnik V\",\"Pfizer/BioNTech\",\"Oxford/AstraZeneca, Pfizer/BioNTech\",\"Johnson&Johnson, Moderna, Oxford/AstraZeneca, Pfizer/BioNTech\",\"Oxford/AstraZeneca, Sinovac, Sputnik V\",\"Oxford/AstraZeneca\",\"Oxford/AstraZeneca, Pfizer/BioNTech, Sinopharm/Beijing, Sputnik V\",\"Oxford/AstraZeneca\",\"Oxford/AstraZeneca\",\"BBIBP-CorV, Sputnik V\",\"Johnson&Johnson, Moderna, Oxford/AstraZeneca, Pfizer/BioNTech\",\"Oxford/AstraZeneca, Sinopharm/Beijing\",\"Oxford/AstraZeneca, Sinovac\",\"Pfizer/BioNTech\",\"Oxford/AstraZeneca\",\"Oxford/AstraZeneca, Pfizer/BioNTech, Sinopharm/Beijing, Sputnik V\",\"Moderna, Pfizer/BioNTech\",\"Oxford/AstraZeneca, Pfizer/BioNTech, Sinovac, Sputnik V\",\"Oxford/AstraZeneca\",\"Oxford/AstraZeneca, Pfizer/BioNTech, Sinovac\",\"Oxford/AstraZeneca\",\"Oxford/AstraZeneca, Sinopharm/Beijing\",\"Johnson&Johnson, Moderna, Oxford/AstraZeneca, Pfizer/BioNTech\",\"Oxford/AstraZeneca\",\"Oxford/AstraZeneca, Sinopharm/Beijing, Sinovac\",\"BBIBP-CorV, Oxford/AstraZeneca\",\"Moderna, Oxford/AstraZeneca, Pfizer/BioNTech\",\"Oxford/AstraZeneca, Pfizer/BioNTech\",\"Oxford/AstraZeneca, Pfizer/BioNTech\",\"Covaxin, Oxford/AstraZeneca\",\"BBIBP-CorV\",\"CanSino, Oxford/AstraZeneca, Pfizer/BioNTech, Sinovac\",\"CanSino, Sinopharm/Beijing, Sinopharm/Wuhan, Sinovac\",\"Oxford/AstraZeneca, Pfizer/BioNTech, Sinovac\",\"Covaxin, Oxford/AstraZeneca, Sinopharm/Beijing\",\"BBIBP-CorV, Moderna, Oxford/AstraZeneca, Sputnik V\",\"Oxford/AstraZeneca\",\"Oxford/AstraZeneca, Pfizer/BioNTech\",\"Oxford/AstraZeneca\",\"Moderna, Oxford/AstraZeneca, Pfizer/BioNTech\",\"Abdala, Soberana02\",\"Moderna, Pfizer/BioNTech\",\"Johnson&Johnson, Moderna, Oxford/AstraZeneca, Pfizer/BioNTech\",\"Johnson&Johnson, Moderna, Oxford/AstraZeneca, Pfizer/BioNTech\",\"Oxford/AstraZeneca\",\"Johnson&Johnson, Moderna, Pfizer/BioNTech\",\"Oxford/AstraZeneca, Sinopharm/Beijing, Sputnik V\",\"Oxford/AstraZeneca\",\"Oxford/AstraZeneca, Pfizer/BioNTech, Sinopharm/Beijing, Sinovac\",\"Oxford/AstraZeneca, Pfizer/BioNTech, Sinovac\",\"BBIBP-CorV, Oxford/AstraZeneca, Sinovac, Sputnik V\",\"Oxford/AstraZeneca, Pfizer/BioNTech, Sinovac\",\"Moderna, Oxford/AstraZeneca, Pfizer/BioNTech\",\"Sinopharm/Beijing\",\"Johnson&Johnson, Moderna, Oxford/AstraZeneca, Pfizer/BioNTech\",\"Oxford/AstraZeneca\",\"Oxford/AstraZeneca\",\"Moderna, Pfizer/BioNTech\",\"Oxford/AstraZeneca\",\"Oxford/AstraZeneca\",\"Moderna, Oxford/AstraZeneca, Pfizer/BioNTech\",\"Johnson&Johnson, Moderna, Oxford/AstraZeneca, Pfizer/BioNTech\",\"Oxford/AstraZeneca\",\"Sinopharm/Beijing\",\"Oxford/AstraZeneca, Sinopharm/Beijing\",\"Oxford/AstraZeneca\",\"Johnson&Johnson, Moderna, Oxford/AstraZeneca, Pfizer/BioNTech\",\"Oxford/AstraZeneca, Sputnik V\",\"Pfizer/BioNTech\",\"Johnson&Johnson, Moderna, Oxford/AstraZeneca, Pfizer/BioNTech\",\"Moderna\",\"Oxford/AstraZeneca\",\"Moderna, Oxford/AstraZeneca\",\"Moderna, Oxford/AstraZeneca, Pfizer/BioNTech\",\"Sputnik V\",\"Oxford/AstraZeneca, Sinopharm/Beijing\",\"Oxford/AstraZeneca, Sputnik V\",\"Johnson&Johnson, Moderna, Oxford/AstraZeneca, Sputnik V\",\"Pfizer/BioNTech, Sinovac\",\"Johnson&Johnson, Moderna, Oxford/AstraZeneca, Pfizer/BioNTech, Sinopharm/Beijing, Sputnik V\",\"Johnson&Johnson, Moderna, Oxford/AstraZeneca, Pfizer/BioNTech\",\"Covaxin, Oxford/AstraZeneca\",\"Oxford/AstraZeneca, Sinovac\",\"BBIBP-CorV, Covaxin, Oxford/AstraZeneca, Sputnik V\",\"BBIBP-CorV, Oxford/AstraZeneca, Pfizer/BioNTech, Sputnik V\",\"Johnson&Johnson, Moderna, Oxford/AstraZeneca, Pfizer/BioNTech\",\"Oxford/AstraZeneca, Pfizer/BioNTech\",\"Moderna, Pfizer/BioNTech\",\"Johnson&Johnson, Moderna, Oxford/AstraZeneca, Pfizer/BioNTech\",\"Oxford/AstraZeneca\",\"Moderna, Pfizer/BioNTech\",\"Moderna, Oxford/AstraZeneca, Pfizer/BioNTech\",\"Oxford/AstraZeneca, Pfizer/BioNTech, Sinopharm/Beijing, Sputnik V\",\"QazVac, Sinopharm/HayatVax, Sputnik V\",\"Oxford/AstraZeneca, Sputnik V\",\"Oxford/AstraZeneca\",\"Pfizer/BioNTech\",\"Sinopharm/Beijing, Sputnik V\",\"Sinopharm/Beijing, Sputnik V\",\"Johnson&Johnson, Moderna, Oxford/AstraZeneca, Pfizer/BioNTech\",\"Oxford/AstraZeneca, Pfizer/BioNTech, Sinopharm/Beijing, Sputnik V\",\"Oxford/AstraZeneca\",\"Oxford/AstraZeneca\",\"Johnson&Johnson, Moderna, Oxford/AstraZeneca, Pfizer/BioNTech, Sinovac, Sputnik V\",\"Moderna, Pfizer/BioNTech\",\"Johnson&Johnson, Moderna, Oxford/AstraZeneca, Pfizer/BioNTech\",\"Moderna, Oxford/AstraZeneca, Pfizer/BioNTech\",\"Pfizer/BioNTech, Sinopharm/Beijing\",\"Oxford/AstraZeneca\",\"Oxford/AstraZeneca\",\"Oxford/AstraZeneca, Pfizer/BioNTech, Sinovac\",\"Oxford/AstraZeneca, Pfizer/BioNTech, Sinopharm/Beijing\",\"Oxford/AstraZeneca\",\"Johnson&Johnson, Moderna, Oxford/AstraZeneca, Pfizer/BioNTech\",\"BBIBP-CorV, Oxford/AstraZeneca\",\"BBIBP-CorV, Covaxin, Oxford/AstraZeneca\",\"CanSino, Oxford/AstraZeneca, Pfizer/BioNTech, Sinovac, Sputnik V\",\"Oxford/AstraZeneca, Pfizer/BioNTech, Sinopharm/Beijing, Sputnik V\",\"Pfizer/BioNTech\",\"Oxford/AstraZeneca, Pfizer/BioNTech, Sinopharm/Beijing, Sputnik V\",\"Oxford/AstraZeneca, Pfizer/BioNTech, Sinopharm/Beijing, Sputnik V\",\"Oxford/AstraZeneca\",\"Oxford/AstraZeneca, Sinopharm/Beijing\",\"Oxford/AstraZeneca, Sinopharm/Beijing\",\"Oxford/AstraZeneca\",\"Oxford/AstraZeneca, Sinopharm/Beijing\",\"Oxford/AstraZeneca\",\"Oxford/AstraZeneca, Sinopharm/Beijing\",\"Johnson&Johnson, Moderna, Oxford/AstraZeneca, Pfizer/BioNTech\",\"Pfizer/BioNTech\",\"Pfizer/BioNTech\",\"Oxford/AstraZeneca, Sputnik V\",\"BBIBP-CorV, Oxford/AstraZeneca\",\"Oxford/AstraZeneca\",\"Oxford/AstraZeneca, Pfizer/BioNTech, Sinopharm/Beijing, Sinovac, Sputnik V\",\"Oxford/AstraZeneca, Pfizer/BioNTech, Sinovac\",\"Moderna, Oxford/AstraZeneca, Pfizer/BioNTech\",\"Moderna, Pfizer/BioNTech\",\"Oxford/AstraZeneca, Pfizer/BioNTech\",\"CanSino, Oxford/AstraZeneca, Sinopharm/Beijing, Sinovac, Sputnik V\",\"Moderna, Oxford/AstraZeneca, Pfizer/BioNTech\",\"Oxford/AstraZeneca, Pfizer/BioNTech\",\"Oxford/AstraZeneca, Sinopharm/Beijing\",\"Covaxin, Oxford/AstraZeneca, Sinopharm/Beijing, Sinovac, Sputnik V\",\"Oxford/AstraZeneca, Pfizer/BioNTech, Sinopharm/Beijing\",\"Oxford/AstraZeneca, Pfizer/BioNTech, Sinovac, Sputnik V\",\"Oxford/AstraZeneca\",\"Johnson&Johnson, Moderna, Oxford/AstraZeneca, Pfizer/BioNTech\",\"Johnson&Johnson, Moderna, Oxford/AstraZeneca, Pfizer/BioNTech\",\"Moderna, Pfizer/BioNTech\",\"Johnson&Johnson, Moderna, Oxford/AstraZeneca, Pfizer/BioNTech\",\"EpiVacCorona, Sputnik V\",\"Moderna, Oxford/AstraZeneca, Pfizer/BioNTech\",\"Oxford/AstraZeneca\",\"Oxford/AstraZeneca\",\"Oxford/AstraZeneca\",\"Oxford/AstraZeneca\",\"Oxford/AstraZeneca\",\"Pfizer/BioNTech, Sputnik V\",\"Oxford/AstraZeneca\",\"Oxford/AstraZeneca, Pfizer/BioNTech\",\"Moderna, Oxford/AstraZeneca, Pfizer/BioNTech\",\"BBIBP-CorV, Oxford/AstraZeneca\",\"Oxford/AstraZeneca, Pfizer/BioNTech, Sinopharm/Beijing, Sputnik V\",\"Oxford/AstraZeneca, Sinopharm/Beijing\",\"BBIBP-CorV, Oxford/AstraZeneca\",\"Moderna, Pfizer/BioNTech\",\"Moderna, Oxford/AstraZeneca, Pfizer/BioNTech\",\"Moderna, Oxford/AstraZeneca, Pfizer/BioNTech\",\"Oxford/AstraZeneca, Pfizer/BioNTech\",\"Oxford/AstraZeneca\",\"BBIBP-CorV, Oxford/AstraZeneca, Sinovac\",\"Johnson&Johnson, Pfizer/BioNTech\",\"Johnson&Johnson, Oxford/AstraZeneca, Pfizer/BioNTech\",\"Oxford/AstraZeneca\",\"Johnson&Johnson, Moderna, Oxford/AstraZeneca, Pfizer/BioNTech\",\"Oxford/AstraZeneca, Sinopharm/Beijing, Sputnik V\",\"BBIBP-CorV, Oxford/AstraZeneca, Pfizer/BioNTech, Sinovac\",\"Oxford/AstraZeneca\",\"Oxford/AstraZeneca, Pfizer/BioNTech\",\"Moderna, Pfizer/BioNTech\",\"Oxford/AstraZeneca, Sinopharm/Beijing, Sputnik V\",\"Moderna, Oxford/AstraZeneca\",\"Oxford/AstraZeneca\",\"Oxford/AstraZeneca, Sinovac\",\"Oxford/AstraZeneca, Sinovac\",\"Oxford/AstraZeneca\",\"Oxford/AstraZeneca\",\"Oxford/AstraZeneca\",\"Oxford/AstraZeneca, Pfizer/BioNTech, Sinovac, Sputnik V\",\"Pfizer/BioNTech, Sinovac\",\"EpiVacCorona, Oxford/AstraZeneca, Sinopharm/Beijing, Sputnik V\",\"Pfizer/BioNTech\",\"Oxford/AstraZeneca\",\"Oxford/AstraZeneca\",\"Oxford/AstraZeneca, Pfizer/BioNTech, Sinovac\",\"Oxford/AstraZeneca, Pfizer/BioNTech, Sinopharm/Beijing, Sinopharm/Wuhan, Sputnik V\",\"Moderna, Oxford/AstraZeneca, Pfizer/BioNTech\",\"Johnson&Johnson, Moderna, Pfizer/BioNTech\",\"Oxford/AstraZeneca, Pfizer/BioNTech, Sinovac\",\"Oxford/AstraZeneca, RBD-Dimer, Sputnik V\",\"Oxford/AstraZeneca\",\"BBIBP-CorV, Sputnik V\",\"Oxford/AstraZeneca\",\"Moderna, Oxford/AstraZeneca, Pfizer/BioNTech\",\"Oxford/AstraZeneca\",\"Oxford/AstraZeneca\",\"Oxford/AstraZeneca, Sinopharm/Beijing\",\"Sinopharm/Beijing\",\"\",\"\",\"\",\"\",\"\",\"\",\"\",\"\",\"\",\"\",\"\",\"\",\"\",\"\",\"\",\"\",\"\",\"\",\"\",\"\",\"\",\"\",\"\",\"\",\"\",\"\",\"\",\"\",\"\",\"\",\"\",\"\",\"\",\"\",\"\",\"\",\"\",\"\",\"\",\"\",\"\",\"\",\"\",\"\",\"\",\"\",\"\",\"\",\"\",\"\",\"\",\"\",\"\",\"\",\"\",\"\"],\"type\":\"treemap\",\"values\":[662003.0,880912.0,2500000.0,51107.0,1380174.0,15198.0,62204.0,18085389.0,55557.0,123890.0,6556029.0,6874440.0,2989458.0,79246.0,1943301.0,10083608.0,155423.0,1068413.0,9642996.0,97404.0,26624.0,76860.0,484189.0,2181452.0,7391.0,315780.0,150019.0,86960570.0,20278.0,66972.0,1660175.0,17775.0,6098584.0,97245.0,32189274.0,63606.0,87517.0,42644.0,5324.0,21385816.0,1029223000.0,14953869.0,84360.0,67511.0,12254.0,2150520.0,725916.0,2359472.0,4855270.0,164397.0,739365.0,7229505.0,42951.0,3200785.0,21357.0,37978.0,7012445.0,3558254.0,4010467.0,2466561.0,62636714.0,257146.0,899962.0,35227.0,1974476.0,42457.0,4407.0,242539.0,3929061.0,48213297.0,119393.0,41737.0,40810.0,316599.0,66454623.0,1232876.0,77831.0,7508584.0,32175.0,29157.0,808754.0,76401.0,452651.0,18706.0,315816.0,541792.0,3220603.0,9249943.0,355178.0,274286599.0,35283078.0,4792881.0,703820.0,3218310.0,95763.0,10645542.0,46016709.0,194315.0,31592030.0,116607.0,3099657.0,4397655.0,1183376.0,133868.0,3100000.0,135578.0,1208878.0,1070843.0,1130669.0,36759.0,68821.0,351408.0,28606.0,2089104.0,468346.0,291995.0,188752.0,420685.0,5815575.0,497871.0,176038.0,628735.0,136003.0,598863.0,40031327.0,631346.0,33965.0,3608480.0,275658.0,2600.0,17494081.0,394930.0,2994900.0,124064.0,7438.0,3231849.0,12927990.0,101168.0,891702.0,167500.0,186207.0,2225765.0,473853.0,129743.0,1951243.0,3634323.0,720199.0,12750760.0,716393.0,1412477.0,38176.0,662804.0,6137047.0,8407342.0,47.0,26494562.0,7575648.0,2886323.0,8736769.0,34901304.0,578569.0,7892.0,32415.0,51178.0,23087.0,40230.0,44064.0,23918.0,16649095.0,6234407.0,632648.0,5146241.0,137676.0,97315.0,4691386.0,36209.0,3242169.0,1394087.0,17000.0,159923.0,2141624.0,17946801.0,29410.0,35412140.0,3261432.0,610924.0,175694.0,6731352.0,6405316.0,71519.0,1541732.0,102711.0,7587178.0,110531.0,347246.0,29980.0,215991.0,1583153.0,42613378.0,41993.0,38110.0,4772.0,821659.0,2086492.0,14512626.0,74577678.0,317966408.0,3509364.0,2695058.0,5140.0,1302992.0,2422643.0,3755314.0,8657.0,251385.0,148304.0,1138733.0,4855270.0,5324.0,598863.0,4792881.0,67511.0,1149418.0,662003.0,610924.0,703820.0,159923.0,4010467.0,2371405.0,21385816.0,40031327.0,12750760.0,1029223000.0,274329243.0,84360.0,662804.0,41993.0,34901304.0,293748935.0,9249943.0,351408.0,541792.0,321167193.0,17946801.0,2141624.0,32175.0,2350486.0,192867857.0,60097771.0,27050007.0,35911752.0,6634918.0,14512626.0,7012445.0,473853.0,18016804.0,119480428.0,11187187.0,2695058.0,21792972.0,6098584.0,21439697.0,43007411.0,3045015.0,5399568.0,4443526.0,291995.0,45833981.0,44064.0,4397655.0,1437616.0,1344456.0,452651.0]}],                        {\"legend\":{\"tracegroupgap\":0},\"template\":{\"data\":{\"bar\":[{\"error_x\":{\"color\":\"#2a3f5f\"},\"error_y\":{\"color\":\"#2a3f5f\"},\"marker\":{\"line\":{\"color\":\"#E5ECF6\",\"width\":0.5},\"pattern\":{\"fillmode\":\"overlay\",\"size\":10,\"solidity\":0.2}},\"type\":\"bar\"}],\"barpolar\":[{\"marker\":{\"line\":{\"color\":\"#E5ECF6\",\"width\":0.5},\"pattern\":{\"fillmode\":\"overlay\",\"size\":10,\"solidity\":0.2}},\"type\":\"barpolar\"}],\"carpet\":[{\"aaxis\":{\"endlinecolor\":\"#2a3f5f\",\"gridcolor\":\"white\",\"linecolor\":\"white\",\"minorgridcolor\":\"white\",\"startlinecolor\":\"#2a3f5f\"},\"baxis\":{\"endlinecolor\":\"#2a3f5f\",\"gridcolor\":\"white\",\"linecolor\":\"white\",\"minorgridcolor\":\"white\",\"startlinecolor\":\"#2a3f5f\"},\"type\":\"carpet\"}],\"choropleth\":[{\"colorbar\":{\"outlinewidth\":0,\"ticks\":\"\"},\"type\":\"choropleth\"}],\"contour\":[{\"colorbar\":{\"outlinewidth\":0,\"ticks\":\"\"},\"colorscale\":[[0.0,\"#0d0887\"],[0.1111111111111111,\"#46039f\"],[0.2222222222222222,\"#7201a8\"],[0.3333333333333333,\"#9c179e\"],[0.4444444444444444,\"#bd3786\"],[0.5555555555555556,\"#d8576b\"],[0.6666666666666666,\"#ed7953\"],[0.7777777777777778,\"#fb9f3a\"],[0.8888888888888888,\"#fdca26\"],[1.0,\"#f0f921\"]],\"type\":\"contour\"}],\"contourcarpet\":[{\"colorbar\":{\"outlinewidth\":0,\"ticks\":\"\"},\"type\":\"contourcarpet\"}],\"heatmap\":[{\"colorbar\":{\"outlinewidth\":0,\"ticks\":\"\"},\"colorscale\":[[0.0,\"#0d0887\"],[0.1111111111111111,\"#46039f\"],[0.2222222222222222,\"#7201a8\"],[0.3333333333333333,\"#9c179e\"],[0.4444444444444444,\"#bd3786\"],[0.5555555555555556,\"#d8576b\"],[0.6666666666666666,\"#ed7953\"],[0.7777777777777778,\"#fb9f3a\"],[0.8888888888888888,\"#fdca26\"],[1.0,\"#f0f921\"]],\"type\":\"heatmap\"}],\"heatmapgl\":[{\"colorbar\":{\"outlinewidth\":0,\"ticks\":\"\"},\"colorscale\":[[0.0,\"#0d0887\"],[0.1111111111111111,\"#46039f\"],[0.2222222222222222,\"#7201a8\"],[0.3333333333333333,\"#9c179e\"],[0.4444444444444444,\"#bd3786\"],[0.5555555555555556,\"#d8576b\"],[0.6666666666666666,\"#ed7953\"],[0.7777777777777778,\"#fb9f3a\"],[0.8888888888888888,\"#fdca26\"],[1.0,\"#f0f921\"]],\"type\":\"heatmapgl\"}],\"histogram\":[{\"marker\":{\"pattern\":{\"fillmode\":\"overlay\",\"size\":10,\"solidity\":0.2}},\"type\":\"histogram\"}],\"histogram2d\":[{\"colorbar\":{\"outlinewidth\":0,\"ticks\":\"\"},\"colorscale\":[[0.0,\"#0d0887\"],[0.1111111111111111,\"#46039f\"],[0.2222222222222222,\"#7201a8\"],[0.3333333333333333,\"#9c179e\"],[0.4444444444444444,\"#bd3786\"],[0.5555555555555556,\"#d8576b\"],[0.6666666666666666,\"#ed7953\"],[0.7777777777777778,\"#fb9f3a\"],[0.8888888888888888,\"#fdca26\"],[1.0,\"#f0f921\"]],\"type\":\"histogram2d\"}],\"histogram2dcontour\":[{\"colorbar\":{\"outlinewidth\":0,\"ticks\":\"\"},\"colorscale\":[[0.0,\"#0d0887\"],[0.1111111111111111,\"#46039f\"],[0.2222222222222222,\"#7201a8\"],[0.3333333333333333,\"#9c179e\"],[0.4444444444444444,\"#bd3786\"],[0.5555555555555556,\"#d8576b\"],[0.6666666666666666,\"#ed7953\"],[0.7777777777777778,\"#fb9f3a\"],[0.8888888888888888,\"#fdca26\"],[1.0,\"#f0f921\"]],\"type\":\"histogram2dcontour\"}],\"mesh3d\":[{\"colorbar\":{\"outlinewidth\":0,\"ticks\":\"\"},\"type\":\"mesh3d\"}],\"parcoords\":[{\"line\":{\"colorbar\":{\"outlinewidth\":0,\"ticks\":\"\"}},\"type\":\"parcoords\"}],\"pie\":[{\"automargin\":true,\"type\":\"pie\"}],\"scatter\":[{\"marker\":{\"colorbar\":{\"outlinewidth\":0,\"ticks\":\"\"}},\"type\":\"scatter\"}],\"scatter3d\":[{\"line\":{\"colorbar\":{\"outlinewidth\":0,\"ticks\":\"\"}},\"marker\":{\"colorbar\":{\"outlinewidth\":0,\"ticks\":\"\"}},\"type\":\"scatter3d\"}],\"scattercarpet\":[{\"marker\":{\"colorbar\":{\"outlinewidth\":0,\"ticks\":\"\"}},\"type\":\"scattercarpet\"}],\"scattergeo\":[{\"marker\":{\"colorbar\":{\"outlinewidth\":0,\"ticks\":\"\"}},\"type\":\"scattergeo\"}],\"scattergl\":[{\"marker\":{\"colorbar\":{\"outlinewidth\":0,\"ticks\":\"\"}},\"type\":\"scattergl\"}],\"scattermapbox\":[{\"marker\":{\"colorbar\":{\"outlinewidth\":0,\"ticks\":\"\"}},\"type\":\"scattermapbox\"}],\"scatterpolar\":[{\"marker\":{\"colorbar\":{\"outlinewidth\":0,\"ticks\":\"\"}},\"type\":\"scatterpolar\"}],\"scatterpolargl\":[{\"marker\":{\"colorbar\":{\"outlinewidth\":0,\"ticks\":\"\"}},\"type\":\"scatterpolargl\"}],\"scatterternary\":[{\"marker\":{\"colorbar\":{\"outlinewidth\":0,\"ticks\":\"\"}},\"type\":\"scatterternary\"}],\"surface\":[{\"colorbar\":{\"outlinewidth\":0,\"ticks\":\"\"},\"colorscale\":[[0.0,\"#0d0887\"],[0.1111111111111111,\"#46039f\"],[0.2222222222222222,\"#7201a8\"],[0.3333333333333333,\"#9c179e\"],[0.4444444444444444,\"#bd3786\"],[0.5555555555555556,\"#d8576b\"],[0.6666666666666666,\"#ed7953\"],[0.7777777777777778,\"#fb9f3a\"],[0.8888888888888888,\"#fdca26\"],[1.0,\"#f0f921\"]],\"type\":\"surface\"}],\"table\":[{\"cells\":{\"fill\":{\"color\":\"#EBF0F8\"},\"line\":{\"color\":\"white\"}},\"header\":{\"fill\":{\"color\":\"#C8D4E3\"},\"line\":{\"color\":\"white\"}},\"type\":\"table\"}]},\"layout\":{\"annotationdefaults\":{\"arrowcolor\":\"#2a3f5f\",\"arrowhead\":0,\"arrowwidth\":1},\"autotypenumbers\":\"strict\",\"coloraxis\":{\"colorbar\":{\"outlinewidth\":0,\"ticks\":\"\"}},\"colorscale\":{\"diverging\":[[0,\"#8e0152\"],[0.1,\"#c51b7d\"],[0.2,\"#de77ae\"],[0.3,\"#f1b6da\"],[0.4,\"#fde0ef\"],[0.5,\"#f7f7f7\"],[0.6,\"#e6f5d0\"],[0.7,\"#b8e186\"],[0.8,\"#7fbc41\"],[0.9,\"#4d9221\"],[1,\"#276419\"]],\"sequential\":[[0.0,\"#0d0887\"],[0.1111111111111111,\"#46039f\"],[0.2222222222222222,\"#7201a8\"],[0.3333333333333333,\"#9c179e\"],[0.4444444444444444,\"#bd3786\"],[0.5555555555555556,\"#d8576b\"],[0.6666666666666666,\"#ed7953\"],[0.7777777777777778,\"#fb9f3a\"],[0.8888888888888888,\"#fdca26\"],[1.0,\"#f0f921\"]],\"sequentialminus\":[[0.0,\"#0d0887\"],[0.1111111111111111,\"#46039f\"],[0.2222222222222222,\"#7201a8\"],[0.3333333333333333,\"#9c179e\"],[0.4444444444444444,\"#bd3786\"],[0.5555555555555556,\"#d8576b\"],[0.6666666666666666,\"#ed7953\"],[0.7777777777777778,\"#fb9f3a\"],[0.8888888888888888,\"#fdca26\"],[1.0,\"#f0f921\"]]},\"colorway\":[\"#636efa\",\"#EF553B\",\"#00cc96\",\"#ab63fa\",\"#FFA15A\",\"#19d3f3\",\"#FF6692\",\"#B6E880\",\"#FF97FF\",\"#FECB52\"],\"font\":{\"color\":\"#2a3f5f\"},\"geo\":{\"bgcolor\":\"white\",\"lakecolor\":\"white\",\"landcolor\":\"#E5ECF6\",\"showlakes\":true,\"showland\":true,\"subunitcolor\":\"white\"},\"hoverlabel\":{\"align\":\"left\"},\"hovermode\":\"closest\",\"mapbox\":{\"style\":\"light\"},\"paper_bgcolor\":\"white\",\"plot_bgcolor\":\"#E5ECF6\",\"polar\":{\"angularaxis\":{\"gridcolor\":\"white\",\"linecolor\":\"white\",\"ticks\":\"\"},\"bgcolor\":\"#E5ECF6\",\"radialaxis\":{\"gridcolor\":\"white\",\"linecolor\":\"white\",\"ticks\":\"\"}},\"scene\":{\"xaxis\":{\"backgroundcolor\":\"#E5ECF6\",\"gridcolor\":\"white\",\"gridwidth\":2,\"linecolor\":\"white\",\"showbackground\":true,\"ticks\":\"\",\"zerolinecolor\":\"white\"},\"yaxis\":{\"backgroundcolor\":\"#E5ECF6\",\"gridcolor\":\"white\",\"gridwidth\":2,\"linecolor\":\"white\",\"showbackground\":true,\"ticks\":\"\",\"zerolinecolor\":\"white\"},\"zaxis\":{\"backgroundcolor\":\"#E5ECF6\",\"gridcolor\":\"white\",\"gridwidth\":2,\"linecolor\":\"white\",\"showbackground\":true,\"ticks\":\"\",\"zerolinecolor\":\"white\"}},\"shapedefaults\":{\"line\":{\"color\":\"#2a3f5f\"}},\"ternary\":{\"aaxis\":{\"gridcolor\":\"white\",\"linecolor\":\"white\",\"ticks\":\"\"},\"baxis\":{\"gridcolor\":\"white\",\"linecolor\":\"white\",\"ticks\":\"\"},\"bgcolor\":\"#E5ECF6\",\"caxis\":{\"gridcolor\":\"white\",\"linecolor\":\"white\",\"ticks\":\"\"}},\"title\":{\"x\":0.05},\"xaxis\":{\"automargin\":true,\"gridcolor\":\"white\",\"linecolor\":\"white\",\"ticks\":\"\",\"title\":{\"standoff\":15},\"zerolinecolor\":\"white\",\"zerolinewidth\":2},\"yaxis\":{\"automargin\":true,\"gridcolor\":\"white\",\"linecolor\":\"white\",\"ticks\":\"\",\"title\":{\"standoff\":15},\"zerolinecolor\":\"white\",\"zerolinewidth\":2}}},\"title\":{\"text\":\"Total vaccinations per country, grouped by vaccine scheme\"}},                        {\"responsive\": true}                    ).then(function(){\n",
       "                            \n",
       "var gd = document.getElementById('00331fe7-c652-4a72-b4d9-625f9970aa27');\n",
       "var x = new MutationObserver(function (mutations, observer) {{\n",
       "        var display = window.getComputedStyle(gd).display;\n",
       "        if (!display || display === 'none') {{\n",
       "            console.log([gd, 'removed!']);\n",
       "            Plotly.purge(gd);\n",
       "            observer.disconnect();\n",
       "        }}\n",
       "}});\n",
       "\n",
       "// Listen for the removal of the full notebook cells\n",
       "var notebookContainer = gd.closest('#notebook-container');\n",
       "if (notebookContainer) {{\n",
       "    x.observe(notebookContainer, {childList: true});\n",
       "}}\n",
       "\n",
       "// Listen for the clearing of the current output cell\n",
       "var outputEl = gd.closest('.output');\n",
       "if (outputEl) {{\n",
       "    x.observe(outputEl, {childList: true});\n",
       "}}\n",
       "\n",
       "                        })                };                });            </script>        </div>"
      ]
     },
     "metadata": {},
     "output_type": "display_data"
    }
   ],
   "source": [
    "fig = px.treemap(country_vaccine, path = ['Vaccines', 'Country'], values = 'Total vaccinations',\n",
    "                title=\"Total vaccinations per country, grouped by vaccine scheme\")\n",
    "fig.show()"
   ]
  },
  {
   "cell_type": "code",
   "execution_count": 11,
   "metadata": {
    "scrolled": true
   },
   "outputs": [
    {
     "data": {
      "application/vnd.plotly.v1+json": {
       "config": {
        "plotlyServerURL": "https://plot.ly"
       },
       "data": [
        {
         "branchvalues": "total",
         "domain": {
          "x": [
           0,
           1
          ],
          "y": [
           0,
           1
          ]
         },
         "hovertemplate": "labels=%{label}<br>Daily vaccinations=%{value}<br>parent=%{parent}<br>id=%{id}<extra></extra>",
         "ids": [
          "BBIBP-CorV, Oxford/AstraZeneca, Pfizer/BioNTech/Afghanistan",
          "Oxford/AstraZeneca, Pfizer/BioNTech, Sinovac, Sputnik V/Albania",
          "Oxford/AstraZeneca, Sputnik V/Algeria",
          "Oxford/AstraZeneca, Pfizer/BioNTech/Andorra",
          "Oxford/AstraZeneca/Angola",
          "Oxford/AstraZeneca/Anguilla",
          "Oxford/AstraZeneca/Antigua and Barbuda",
          "Oxford/AstraZeneca, Sinopharm/Beijing, Sputnik V/Argentina",
          "Oxford/AstraZeneca, Sinovac, Sputnik V/Armenia",
          "Pfizer/BioNTech/Aruba",
          "Oxford/AstraZeneca, Pfizer/BioNTech/Australia",
          "Johnson&Johnson, Moderna, Oxford/AstraZeneca, Pfizer/BioNTech/Austria",
          "Oxford/AstraZeneca, Sinovac, Sputnik V/Azerbaijan",
          "Oxford/AstraZeneca/Bahamas",
          "Oxford/AstraZeneca, Pfizer/BioNTech, Sinopharm/Beijing, Sputnik V/Bahrain",
          "Oxford/AstraZeneca/Bangladesh",
          "Oxford/AstraZeneca/Barbados",
          "BBIBP-CorV, Sputnik V/Belarus",
          "Johnson&Johnson, Moderna, Oxford/AstraZeneca, Pfizer/BioNTech/Belgium",
          "Oxford/AstraZeneca, Sinopharm/Beijing/Belize",
          "Oxford/AstraZeneca, Sinovac/Benin",
          "Pfizer/BioNTech/Bermuda",
          "Oxford/AstraZeneca/Bhutan",
          "Oxford/AstraZeneca, Pfizer/BioNTech, Sinopharm/Beijing, Sputnik V/Bolivia",
          "Moderna, Pfizer/BioNTech/Bonaire Sint Eustatius and Saba",
          "Oxford/AstraZeneca, Pfizer/BioNTech, Sinovac, Sputnik V/Bosnia and Herzegovina",
          "Oxford/AstraZeneca/Botswana",
          "Oxford/AstraZeneca, Pfizer/BioNTech, Sinovac/Brazil",
          "Oxford/AstraZeneca/British Virgin Islands",
          "Oxford/AstraZeneca, Sinopharm/Beijing/Brunei",
          "Johnson&Johnson, Moderna, Oxford/AstraZeneca, Pfizer/BioNTech/Bulgaria",
          "Oxford/AstraZeneca/Burkina Faso",
          "Oxford/AstraZeneca, Sinopharm/Beijing, Sinovac/Cambodia",
          "BBIBP-CorV, Oxford/AstraZeneca/Cameroon",
          "Moderna, Oxford/AstraZeneca, Pfizer/BioNTech/Canada",
          "Oxford/AstraZeneca, Pfizer/BioNTech/Cape Verde",
          "Oxford/AstraZeneca, Pfizer/BioNTech/Cayman Islands",
          "Covaxin, Oxford/AstraZeneca/Central African Republic",
          "BBIBP-CorV/Chad",
          "CanSino, Oxford/AstraZeneca, Pfizer/BioNTech, Sinovac/Chile",
          "CanSino, Sinopharm/Beijing, Sinopharm/Wuhan, Sinovac/China",
          "Oxford/AstraZeneca, Pfizer/BioNTech, Sinovac/Colombia",
          "Covaxin, Oxford/AstraZeneca, Sinopharm/Beijing/Comoros",
          "BBIBP-CorV, Moderna, Oxford/AstraZeneca, Sputnik V/Congo",
          "Oxford/AstraZeneca/Cook Islands",
          "Oxford/AstraZeneca, Pfizer/BioNTech/Costa Rica",
          "Oxford/AstraZeneca/Cote d'Ivoire",
          "Moderna, Oxford/AstraZeneca, Pfizer/BioNTech/Croatia",
          "Abdala, Soberana02/Cuba",
          "Moderna, Pfizer/BioNTech/Curacao",
          "Johnson&Johnson, Moderna, Oxford/AstraZeneca, Pfizer/BioNTech/Cyprus",
          "Johnson&Johnson, Moderna, Oxford/AstraZeneca, Pfizer/BioNTech/Czechia",
          "Oxford/AstraZeneca/Democratic Republic of Congo",
          "Johnson&Johnson, Moderna, Pfizer/BioNTech/Denmark",
          "Oxford/AstraZeneca, Sinopharm/Beijing, Sputnik V/Djibouti",
          "Oxford/AstraZeneca/Dominica",
          "Oxford/AstraZeneca, Pfizer/BioNTech, Sinopharm/Beijing, Sinovac/Dominican Republic",
          "Oxford/AstraZeneca, Pfizer/BioNTech, Sinovac/Ecuador",
          "BBIBP-CorV, Oxford/AstraZeneca, Sinovac, Sputnik V/Egypt",
          "Oxford/AstraZeneca, Pfizer/BioNTech, Sinovac/El Salvador",
          "Moderna, Oxford/AstraZeneca, Pfizer/BioNTech/England",
          "Sinopharm/Beijing/Equatorial Guinea",
          "Johnson&Johnson, Moderna, Oxford/AstraZeneca, Pfizer/BioNTech/Estonia",
          "Oxford/AstraZeneca/Eswatini",
          "Oxford/AstraZeneca/Ethiopia",
          "Moderna, Pfizer/BioNTech/Faeroe Islands",
          "Oxford/AstraZeneca/Falkland Islands",
          "Oxford/AstraZeneca/Fiji",
          "Moderna, Oxford/AstraZeneca, Pfizer/BioNTech/Finland",
          "Johnson&Johnson, Moderna, Oxford/AstraZeneca, Pfizer/BioNTech/France",
          "Oxford/AstraZeneca/French Polynesia",
          "Sinopharm/Beijing/Gabon",
          "Oxford/AstraZeneca, Sinopharm/Beijing/Gambia",
          "Oxford/AstraZeneca/Georgia",
          "Johnson&Johnson, Moderna, Oxford/AstraZeneca, Pfizer/BioNTech/Germany",
          "Oxford/AstraZeneca, Sputnik V/Ghana",
          "Pfizer/BioNTech/Gibraltar",
          "Johnson&Johnson, Moderna, Oxford/AstraZeneca, Pfizer/BioNTech/Greece",
          "Moderna/Greenland",
          "Oxford/AstraZeneca/Grenada",
          "Moderna, Oxford/AstraZeneca/Guatemala",
          "Moderna, Oxford/AstraZeneca, Pfizer/BioNTech/Guernsey",
          "Sputnik V/Guinea",
          "Oxford/AstraZeneca, Sinopharm/Beijing/Guinea-Bissau",
          "Oxford/AstraZeneca, Sputnik V/Guyana",
          "Johnson&Johnson, Moderna, Oxford/AstraZeneca, Sputnik V/Honduras",
          "Pfizer/BioNTech, Sinovac/Hong Kong",
          "Johnson&Johnson, Moderna, Oxford/AstraZeneca, Pfizer/BioNTech, Sinopharm/Beijing, Sputnik V/Hungary",
          "Johnson&Johnson, Moderna, Oxford/AstraZeneca, Pfizer/BioNTech/Iceland",
          "Covaxin, Oxford/AstraZeneca/India",
          "Oxford/AstraZeneca, Sinovac/Indonesia",
          "BBIBP-CorV, Covaxin, Oxford/AstraZeneca, Sputnik V/Iran",
          "BBIBP-CorV, Oxford/AstraZeneca, Pfizer/BioNTech, Sputnik V/Iraq",
          "Johnson&Johnson, Moderna, Oxford/AstraZeneca, Pfizer/BioNTech/Ireland",
          "Oxford/AstraZeneca, Pfizer/BioNTech/Isle of Man",
          "Moderna, Pfizer/BioNTech/Israel",
          "Johnson&Johnson, Moderna, Oxford/AstraZeneca, Pfizer/BioNTech/Italy",
          "Oxford/AstraZeneca/Jamaica",
          "Moderna, Pfizer/BioNTech/Japan",
          "Moderna, Oxford/AstraZeneca, Pfizer/BioNTech/Jersey",
          "Oxford/AstraZeneca, Pfizer/BioNTech, Sinopharm/Beijing, Sputnik V/Jordan",
          "QazVac, Sinopharm/HayatVax, Sputnik V/Kazakhstan",
          "Oxford/AstraZeneca, Sputnik V/Kenya",
          "Oxford/AstraZeneca/Kosovo",
          "Pfizer/BioNTech/Kuwait",
          "Sinopharm/Beijing, Sputnik V/Kyrgyzstan",
          "Sinopharm/Beijing, Sputnik V/Laos",
          "Johnson&Johnson, Moderna, Oxford/AstraZeneca, Pfizer/BioNTech/Latvia",
          "Oxford/AstraZeneca, Pfizer/BioNTech, Sinopharm/Beijing, Sputnik V/Lebanon",
          "Oxford/AstraZeneca/Lesotho",
          "Oxford/AstraZeneca/Liberia",
          "Johnson&Johnson, Moderna, Oxford/AstraZeneca, Pfizer/BioNTech, Sinovac, Sputnik V/Libya",
          "Moderna, Pfizer/BioNTech/Liechtenstein",
          "Johnson&Johnson, Moderna, Oxford/AstraZeneca, Pfizer/BioNTech/Lithuania",
          "Moderna, Oxford/AstraZeneca, Pfizer/BioNTech/Luxembourg",
          "Pfizer/BioNTech, Sinopharm/Beijing/Macao",
          "Oxford/AstraZeneca/Madagascar",
          "Oxford/AstraZeneca/Malawi",
          "Oxford/AstraZeneca, Pfizer/BioNTech, Sinovac/Malaysia",
          "Oxford/AstraZeneca, Pfizer/BioNTech, Sinopharm/Beijing/Maldives",
          "Oxford/AstraZeneca/Mali",
          "Johnson&Johnson, Moderna, Oxford/AstraZeneca, Pfizer/BioNTech/Malta",
          "BBIBP-CorV, Oxford/AstraZeneca/Mauritania",
          "BBIBP-CorV, Covaxin, Oxford/AstraZeneca/Mauritius",
          "CanSino, Oxford/AstraZeneca, Pfizer/BioNTech, Sinovac, Sputnik V/Mexico",
          "Oxford/AstraZeneca, Pfizer/BioNTech, Sinopharm/Beijing, Sputnik V/Moldova",
          "Pfizer/BioNTech/Monaco",
          "Oxford/AstraZeneca, Pfizer/BioNTech, Sinopharm/Beijing, Sputnik V/Mongolia",
          "Oxford/AstraZeneca, Pfizer/BioNTech, Sinopharm/Beijing, Sputnik V/Montenegro",
          "Oxford/AstraZeneca/Montserrat",
          "Oxford/AstraZeneca, Sinopharm/Beijing/Morocco",
          "Oxford/AstraZeneca, Sinopharm/Beijing/Mozambique",
          "Oxford/AstraZeneca/Myanmar",
          "Oxford/AstraZeneca, Sinopharm/Beijing/Namibia",
          "Oxford/AstraZeneca/Nauru",
          "Oxford/AstraZeneca, Sinopharm/Beijing/Nepal",
          "Johnson&Johnson, Moderna, Oxford/AstraZeneca, Pfizer/BioNTech/Netherlands",
          "Pfizer/BioNTech/New Caledonia",
          "Pfizer/BioNTech/New Zealand",
          "Oxford/AstraZeneca, Sputnik V/Nicaragua",
          "BBIBP-CorV, Oxford/AstraZeneca/Niger",
          "Oxford/AstraZeneca/Nigeria",
          "Oxford/AstraZeneca, Pfizer/BioNTech, Sinopharm/Beijing, Sinovac, Sputnik V/North Macedonia",
          "Oxford/AstraZeneca, Pfizer/BioNTech, Sinovac/Northern Cyprus",
          "Moderna, Oxford/AstraZeneca, Pfizer/BioNTech/Northern Ireland",
          "Moderna, Pfizer/BioNTech/Norway",
          "Oxford/AstraZeneca, Pfizer/BioNTech/Oman",
          "CanSino, Oxford/AstraZeneca, Sinopharm/Beijing, Sinovac, Sputnik V/Pakistan",
          "Moderna, Oxford/AstraZeneca, Pfizer/BioNTech/Palestine",
          "Oxford/AstraZeneca, Pfizer/BioNTech/Panama",
          "Oxford/AstraZeneca, Sinopharm/Beijing/Papua New Guinea",
          "Covaxin, Oxford/AstraZeneca, Sinopharm/Beijing, Sinovac, Sputnik V/Paraguay",
          "Oxford/AstraZeneca, Pfizer/BioNTech, Sinopharm/Beijing/Peru",
          "Oxford/AstraZeneca, Pfizer/BioNTech, Sinovac, Sputnik V/Philippines",
          "Oxford/AstraZeneca/Pitcairn",
          "Johnson&Johnson, Moderna, Oxford/AstraZeneca, Pfizer/BioNTech/Poland",
          "Johnson&Johnson, Moderna, Oxford/AstraZeneca, Pfizer/BioNTech/Portugal",
          "Moderna, Pfizer/BioNTech/Qatar",
          "Johnson&Johnson, Moderna, Oxford/AstraZeneca, Pfizer/BioNTech/Romania",
          "EpiVacCorona, Sputnik V/Russia",
          "Moderna, Oxford/AstraZeneca, Pfizer/BioNTech/Rwanda",
          "Oxford/AstraZeneca/Saint Helena",
          "Oxford/AstraZeneca/Saint Kitts and Nevis",
          "Oxford/AstraZeneca/Saint Lucia",
          "Oxford/AstraZeneca/Saint Vincent and the Grenadines",
          "Oxford/AstraZeneca/Samoa",
          "Pfizer/BioNTech, Sputnik V/San Marino",
          "Oxford/AstraZeneca/Sao Tome and Principe",
          "Oxford/AstraZeneca, Pfizer/BioNTech/Saudi Arabia",
          "Moderna, Oxford/AstraZeneca, Pfizer/BioNTech/Scotland",
          "BBIBP-CorV, Oxford/AstraZeneca/Senegal",
          "Oxford/AstraZeneca, Pfizer/BioNTech, Sinopharm/Beijing, Sputnik V/Serbia",
          "Oxford/AstraZeneca, Sinopharm/Beijing/Seychelles",
          "BBIBP-CorV, Oxford/AstraZeneca/Sierra Leone",
          "Moderna, Pfizer/BioNTech/Singapore",
          "Moderna, Oxford/AstraZeneca, Pfizer/BioNTech/Sint Maarten (Dutch part)",
          "Moderna, Oxford/AstraZeneca, Pfizer/BioNTech/Slovakia",
          "Oxford/AstraZeneca, Pfizer/BioNTech/Slovenia",
          "Oxford/AstraZeneca/Solomon Islands",
          "BBIBP-CorV, Oxford/AstraZeneca, Sinovac/Somalia",
          "Johnson&Johnson, Pfizer/BioNTech/South Africa",
          "Johnson&Johnson, Oxford/AstraZeneca, Pfizer/BioNTech/South Korea",
          "Oxford/AstraZeneca/South Sudan",
          "Johnson&Johnson, Moderna, Oxford/AstraZeneca, Pfizer/BioNTech/Spain",
          "Oxford/AstraZeneca, Sinopharm/Beijing, Sputnik V/Sri Lanka",
          "BBIBP-CorV, Oxford/AstraZeneca, Pfizer/BioNTech, Sinovac/Sudan",
          "Oxford/AstraZeneca/Suriname",
          "Oxford/AstraZeneca, Pfizer/BioNTech/Sweden",
          "Moderna, Pfizer/BioNTech/Switzerland",
          "Oxford/AstraZeneca, Sinopharm/Beijing, Sputnik V/Syria",
          "Moderna, Oxford/AstraZeneca/Taiwan",
          "Oxford/AstraZeneca/Tajikistan",
          "Oxford/AstraZeneca, Sinovac/Thailand",
          "Oxford/AstraZeneca, Sinovac/Timor",
          "Oxford/AstraZeneca/Togo",
          "Oxford/AstraZeneca/Tonga",
          "Oxford/AstraZeneca/Trinidad and Tobago",
          "Oxford/AstraZeneca, Pfizer/BioNTech, Sinovac, Sputnik V/Tunisia",
          "Pfizer/BioNTech, Sinovac/Turkey",
          "EpiVacCorona, Oxford/AstraZeneca, Sinopharm/Beijing, Sputnik V/Turkmenistan",
          "Pfizer/BioNTech/Turks and Caicos Islands",
          "Oxford/AstraZeneca/Tuvalu",
          "Oxford/AstraZeneca/Uganda",
          "Oxford/AstraZeneca, Pfizer/BioNTech, Sinovac/Ukraine",
          "Oxford/AstraZeneca, Pfizer/BioNTech, Sinopharm/Beijing, Sinopharm/Wuhan, Sputnik V/United Arab Emirates",
          "Moderna, Oxford/AstraZeneca, Pfizer/BioNTech/United Kingdom",
          "Johnson&Johnson, Moderna, Pfizer/BioNTech/United States",
          "Oxford/AstraZeneca, Pfizer/BioNTech, Sinovac/Uruguay",
          "Oxford/AstraZeneca, RBD-Dimer, Sputnik V/Uzbekistan",
          "Oxford/AstraZeneca/Vanuatu",
          "BBIBP-CorV, Sputnik V/Venezuela",
          "Oxford/AstraZeneca/Vietnam",
          "Moderna, Oxford/AstraZeneca, Pfizer/BioNTech/Wales",
          "Oxford/AstraZeneca/Wallis and Futuna",
          "Oxford/AstraZeneca/Yemen",
          "Oxford/AstraZeneca, Sinopharm/Beijing/Zambia",
          "Sinopharm/Beijing/Zimbabwe",
          "Abdala, Soberana02",
          "BBIBP-CorV",
          "BBIBP-CorV, Covaxin, Oxford/AstraZeneca",
          "BBIBP-CorV, Covaxin, Oxford/AstraZeneca, Sputnik V",
          "BBIBP-CorV, Moderna, Oxford/AstraZeneca, Sputnik V",
          "BBIBP-CorV, Oxford/AstraZeneca",
          "BBIBP-CorV, Oxford/AstraZeneca, Pfizer/BioNTech",
          "BBIBP-CorV, Oxford/AstraZeneca, Pfizer/BioNTech, Sinovac",
          "BBIBP-CorV, Oxford/AstraZeneca, Pfizer/BioNTech, Sputnik V",
          "BBIBP-CorV, Oxford/AstraZeneca, Sinovac",
          "BBIBP-CorV, Oxford/AstraZeneca, Sinovac, Sputnik V",
          "BBIBP-CorV, Sputnik V",
          "CanSino, Oxford/AstraZeneca, Pfizer/BioNTech, Sinovac",
          "CanSino, Oxford/AstraZeneca, Pfizer/BioNTech, Sinovac, Sputnik V",
          "CanSino, Oxford/AstraZeneca, Sinopharm/Beijing, Sinovac, Sputnik V",
          "CanSino, Sinopharm/Beijing, Sinopharm/Wuhan, Sinovac",
          "Covaxin, Oxford/AstraZeneca",
          "Covaxin, Oxford/AstraZeneca, Sinopharm/Beijing",
          "Covaxin, Oxford/AstraZeneca, Sinopharm/Beijing, Sinovac, Sputnik V",
          "EpiVacCorona, Oxford/AstraZeneca, Sinopharm/Beijing, Sputnik V",
          "EpiVacCorona, Sputnik V",
          "Johnson&Johnson, Moderna, Oxford/AstraZeneca, Pfizer/BioNTech",
          "Johnson&Johnson, Moderna, Oxford/AstraZeneca, Pfizer/BioNTech, Sinopharm/Beijing, Sputnik V",
          "Johnson&Johnson, Moderna, Oxford/AstraZeneca, Pfizer/BioNTech, Sinovac, Sputnik V",
          "Johnson&Johnson, Moderna, Oxford/AstraZeneca, Sputnik V",
          "Johnson&Johnson, Moderna, Pfizer/BioNTech",
          "Johnson&Johnson, Oxford/AstraZeneca, Pfizer/BioNTech",
          "Johnson&Johnson, Pfizer/BioNTech",
          "Moderna",
          "Moderna, Oxford/AstraZeneca",
          "Moderna, Oxford/AstraZeneca, Pfizer/BioNTech",
          "Moderna, Pfizer/BioNTech",
          "Oxford/AstraZeneca",
          "Oxford/AstraZeneca, Pfizer/BioNTech",
          "Oxford/AstraZeneca, Pfizer/BioNTech, Sinopharm/Beijing",
          "Oxford/AstraZeneca, Pfizer/BioNTech, Sinopharm/Beijing, Sinopharm/Wuhan, Sputnik V",
          "Oxford/AstraZeneca, Pfizer/BioNTech, Sinopharm/Beijing, Sinovac",
          "Oxford/AstraZeneca, Pfizer/BioNTech, Sinopharm/Beijing, Sinovac, Sputnik V",
          "Oxford/AstraZeneca, Pfizer/BioNTech, Sinopharm/Beijing, Sputnik V",
          "Oxford/AstraZeneca, Pfizer/BioNTech, Sinovac",
          "Oxford/AstraZeneca, Pfizer/BioNTech, Sinovac, Sputnik V",
          "Oxford/AstraZeneca, RBD-Dimer, Sputnik V",
          "Oxford/AstraZeneca, Sinopharm/Beijing",
          "Oxford/AstraZeneca, Sinopharm/Beijing, Sinovac",
          "Oxford/AstraZeneca, Sinopharm/Beijing, Sputnik V",
          "Oxford/AstraZeneca, Sinovac",
          "Oxford/AstraZeneca, Sinovac, Sputnik V",
          "Oxford/AstraZeneca, Sputnik V",
          "Pfizer/BioNTech",
          "Pfizer/BioNTech, Sinopharm/Beijing",
          "Pfizer/BioNTech, Sinovac",
          "Pfizer/BioNTech, Sputnik V",
          "QazVac, Sinopharm/HayatVax, Sputnik V",
          "Sinopharm/Beijing",
          "Sinopharm/Beijing, Sputnik V",
          "Sputnik V"
         ],
         "labels": [
          "Afghanistan",
          "Albania",
          "Algeria",
          "Andorra",
          "Angola",
          "Anguilla",
          "Antigua and Barbuda",
          "Argentina",
          "Armenia",
          "Aruba",
          "Australia",
          "Austria",
          "Azerbaijan",
          "Bahamas",
          "Bahrain",
          "Bangladesh",
          "Barbados",
          "Belarus",
          "Belgium",
          "Belize",
          "Benin",
          "Bermuda",
          "Bhutan",
          "Bolivia",
          "Bonaire Sint Eustatius and Saba",
          "Bosnia and Herzegovina",
          "Botswana",
          "Brazil",
          "British Virgin Islands",
          "Brunei",
          "Bulgaria",
          "Burkina Faso",
          "Cambodia",
          "Cameroon",
          "Canada",
          "Cape Verde",
          "Cayman Islands",
          "Central African Republic",
          "Chad",
          "Chile",
          "China",
          "Colombia",
          "Comoros",
          "Congo",
          "Cook Islands",
          "Costa Rica",
          "Cote d'Ivoire",
          "Croatia",
          "Cuba",
          "Curacao",
          "Cyprus",
          "Czechia",
          "Democratic Republic of Congo",
          "Denmark",
          "Djibouti",
          "Dominica",
          "Dominican Republic",
          "Ecuador",
          "Egypt",
          "El Salvador",
          "England",
          "Equatorial Guinea",
          "Estonia",
          "Eswatini",
          "Ethiopia",
          "Faeroe Islands",
          "Falkland Islands",
          "Fiji",
          "Finland",
          "France",
          "French Polynesia",
          "Gabon",
          "Gambia",
          "Georgia",
          "Germany",
          "Ghana",
          "Gibraltar",
          "Greece",
          "Greenland",
          "Grenada",
          "Guatemala",
          "Guernsey",
          "Guinea",
          "Guinea-Bissau",
          "Guyana",
          "Honduras",
          "Hong Kong",
          "Hungary",
          "Iceland",
          "India",
          "Indonesia",
          "Iran",
          "Iraq",
          "Ireland",
          "Isle of Man",
          "Israel",
          "Italy",
          "Jamaica",
          "Japan",
          "Jersey",
          "Jordan",
          "Kazakhstan",
          "Kenya",
          "Kosovo",
          "Kuwait",
          "Kyrgyzstan",
          "Laos",
          "Latvia",
          "Lebanon",
          "Lesotho",
          "Liberia",
          "Libya",
          "Liechtenstein",
          "Lithuania",
          "Luxembourg",
          "Macao",
          "Madagascar",
          "Malawi",
          "Malaysia",
          "Maldives",
          "Mali",
          "Malta",
          "Mauritania",
          "Mauritius",
          "Mexico",
          "Moldova",
          "Monaco",
          "Mongolia",
          "Montenegro",
          "Montserrat",
          "Morocco",
          "Mozambique",
          "Myanmar",
          "Namibia",
          "Nauru",
          "Nepal",
          "Netherlands",
          "New Caledonia",
          "New Zealand",
          "Nicaragua",
          "Niger",
          "Nigeria",
          "North Macedonia",
          "Northern Cyprus",
          "Northern Ireland",
          "Norway",
          "Oman",
          "Pakistan",
          "Palestine",
          "Panama",
          "Papua New Guinea",
          "Paraguay",
          "Peru",
          "Philippines",
          "Pitcairn",
          "Poland",
          "Portugal",
          "Qatar",
          "Romania",
          "Russia",
          "Rwanda",
          "Saint Helena",
          "Saint Kitts and Nevis",
          "Saint Lucia",
          "Saint Vincent and the Grenadines",
          "Samoa",
          "San Marino",
          "Sao Tome and Principe",
          "Saudi Arabia",
          "Scotland",
          "Senegal",
          "Serbia",
          "Seychelles",
          "Sierra Leone",
          "Singapore",
          "Sint Maarten (Dutch part)",
          "Slovakia",
          "Slovenia",
          "Solomon Islands",
          "Somalia",
          "South Africa",
          "South Korea",
          "South Sudan",
          "Spain",
          "Sri Lanka",
          "Sudan",
          "Suriname",
          "Sweden",
          "Switzerland",
          "Syria",
          "Taiwan",
          "Tajikistan",
          "Thailand",
          "Timor",
          "Togo",
          "Tonga",
          "Trinidad and Tobago",
          "Tunisia",
          "Turkey",
          "Turkmenistan",
          "Turks and Caicos Islands",
          "Tuvalu",
          "Uganda",
          "Ukraine",
          "United Arab Emirates",
          "United Kingdom",
          "United States",
          "Uruguay",
          "Uzbekistan",
          "Vanuatu",
          "Venezuela",
          "Vietnam",
          "Wales",
          "Wallis and Futuna",
          "Yemen",
          "Zambia",
          "Zimbabwe",
          "Abdala, Soberana02",
          "BBIBP-CorV",
          "BBIBP-CorV, Covaxin, Oxford/AstraZeneca",
          "BBIBP-CorV, Covaxin, Oxford/AstraZeneca, Sputnik V",
          "BBIBP-CorV, Moderna, Oxford/AstraZeneca, Sputnik V",
          "BBIBP-CorV, Oxford/AstraZeneca",
          "BBIBP-CorV, Oxford/AstraZeneca, Pfizer/BioNTech",
          "BBIBP-CorV, Oxford/AstraZeneca, Pfizer/BioNTech, Sinovac",
          "BBIBP-CorV, Oxford/AstraZeneca, Pfizer/BioNTech, Sputnik V",
          "BBIBP-CorV, Oxford/AstraZeneca, Sinovac",
          "BBIBP-CorV, Oxford/AstraZeneca, Sinovac, Sputnik V",
          "BBIBP-CorV, Sputnik V",
          "CanSino, Oxford/AstraZeneca, Pfizer/BioNTech, Sinovac",
          "CanSino, Oxford/AstraZeneca, Pfizer/BioNTech, Sinovac, Sputnik V",
          "CanSino, Oxford/AstraZeneca, Sinopharm/Beijing, Sinovac, Sputnik V",
          "CanSino, Sinopharm/Beijing, Sinopharm/Wuhan, Sinovac",
          "Covaxin, Oxford/AstraZeneca",
          "Covaxin, Oxford/AstraZeneca, Sinopharm/Beijing",
          "Covaxin, Oxford/AstraZeneca, Sinopharm/Beijing, Sinovac, Sputnik V",
          "EpiVacCorona, Oxford/AstraZeneca, Sinopharm/Beijing, Sputnik V",
          "EpiVacCorona, Sputnik V",
          "Johnson&Johnson, Moderna, Oxford/AstraZeneca, Pfizer/BioNTech",
          "Johnson&Johnson, Moderna, Oxford/AstraZeneca, Pfizer/BioNTech, Sinopharm/Beijing, Sputnik V",
          "Johnson&Johnson, Moderna, Oxford/AstraZeneca, Pfizer/BioNTech, Sinovac, Sputnik V",
          "Johnson&Johnson, Moderna, Oxford/AstraZeneca, Sputnik V",
          "Johnson&Johnson, Moderna, Pfizer/BioNTech",
          "Johnson&Johnson, Oxford/AstraZeneca, Pfizer/BioNTech",
          "Johnson&Johnson, Pfizer/BioNTech",
          "Moderna",
          "Moderna, Oxford/AstraZeneca",
          "Moderna, Oxford/AstraZeneca, Pfizer/BioNTech",
          "Moderna, Pfizer/BioNTech",
          "Oxford/AstraZeneca",
          "Oxford/AstraZeneca, Pfizer/BioNTech",
          "Oxford/AstraZeneca, Pfizer/BioNTech, Sinopharm/Beijing",
          "Oxford/AstraZeneca, Pfizer/BioNTech, Sinopharm/Beijing, Sinopharm/Wuhan, Sputnik V",
          "Oxford/AstraZeneca, Pfizer/BioNTech, Sinopharm/Beijing, Sinovac",
          "Oxford/AstraZeneca, Pfizer/BioNTech, Sinopharm/Beijing, Sinovac, Sputnik V",
          "Oxford/AstraZeneca, Pfizer/BioNTech, Sinopharm/Beijing, Sputnik V",
          "Oxford/AstraZeneca, Pfizer/BioNTech, Sinovac",
          "Oxford/AstraZeneca, Pfizer/BioNTech, Sinovac, Sputnik V",
          "Oxford/AstraZeneca, RBD-Dimer, Sputnik V",
          "Oxford/AstraZeneca, Sinopharm/Beijing",
          "Oxford/AstraZeneca, Sinopharm/Beijing, Sinovac",
          "Oxford/AstraZeneca, Sinopharm/Beijing, Sputnik V",
          "Oxford/AstraZeneca, Sinovac",
          "Oxford/AstraZeneca, Sinovac, Sputnik V",
          "Oxford/AstraZeneca, Sputnik V",
          "Pfizer/BioNTech",
          "Pfizer/BioNTech, Sinopharm/Beijing",
          "Pfizer/BioNTech, Sinovac",
          "Pfizer/BioNTech, Sputnik V",
          "QazVac, Sinopharm/HayatVax, Sputnik V",
          "Sinopharm/Beijing",
          "Sinopharm/Beijing, Sputnik V",
          "Sputnik V"
         ],
         "name": "",
         "parents": [
          "BBIBP-CorV, Oxford/AstraZeneca, Pfizer/BioNTech",
          "Oxford/AstraZeneca, Pfizer/BioNTech, Sinovac, Sputnik V",
          "Oxford/AstraZeneca, Sputnik V",
          "Oxford/AstraZeneca, Pfizer/BioNTech",
          "Oxford/AstraZeneca",
          "Oxford/AstraZeneca",
          "Oxford/AstraZeneca",
          "Oxford/AstraZeneca, Sinopharm/Beijing, Sputnik V",
          "Oxford/AstraZeneca, Sinovac, Sputnik V",
          "Pfizer/BioNTech",
          "Oxford/AstraZeneca, Pfizer/BioNTech",
          "Johnson&Johnson, Moderna, Oxford/AstraZeneca, Pfizer/BioNTech",
          "Oxford/AstraZeneca, Sinovac, Sputnik V",
          "Oxford/AstraZeneca",
          "Oxford/AstraZeneca, Pfizer/BioNTech, Sinopharm/Beijing, Sputnik V",
          "Oxford/AstraZeneca",
          "Oxford/AstraZeneca",
          "BBIBP-CorV, Sputnik V",
          "Johnson&Johnson, Moderna, Oxford/AstraZeneca, Pfizer/BioNTech",
          "Oxford/AstraZeneca, Sinopharm/Beijing",
          "Oxford/AstraZeneca, Sinovac",
          "Pfizer/BioNTech",
          "Oxford/AstraZeneca",
          "Oxford/AstraZeneca, Pfizer/BioNTech, Sinopharm/Beijing, Sputnik V",
          "Moderna, Pfizer/BioNTech",
          "Oxford/AstraZeneca, Pfizer/BioNTech, Sinovac, Sputnik V",
          "Oxford/AstraZeneca",
          "Oxford/AstraZeneca, Pfizer/BioNTech, Sinovac",
          "Oxford/AstraZeneca",
          "Oxford/AstraZeneca, Sinopharm/Beijing",
          "Johnson&Johnson, Moderna, Oxford/AstraZeneca, Pfizer/BioNTech",
          "Oxford/AstraZeneca",
          "Oxford/AstraZeneca, Sinopharm/Beijing, Sinovac",
          "BBIBP-CorV, Oxford/AstraZeneca",
          "Moderna, Oxford/AstraZeneca, Pfizer/BioNTech",
          "Oxford/AstraZeneca, Pfizer/BioNTech",
          "Oxford/AstraZeneca, Pfizer/BioNTech",
          "Covaxin, Oxford/AstraZeneca",
          "BBIBP-CorV",
          "CanSino, Oxford/AstraZeneca, Pfizer/BioNTech, Sinovac",
          "CanSino, Sinopharm/Beijing, Sinopharm/Wuhan, Sinovac",
          "Oxford/AstraZeneca, Pfizer/BioNTech, Sinovac",
          "Covaxin, Oxford/AstraZeneca, Sinopharm/Beijing",
          "BBIBP-CorV, Moderna, Oxford/AstraZeneca, Sputnik V",
          "Oxford/AstraZeneca",
          "Oxford/AstraZeneca, Pfizer/BioNTech",
          "Oxford/AstraZeneca",
          "Moderna, Oxford/AstraZeneca, Pfizer/BioNTech",
          "Abdala, Soberana02",
          "Moderna, Pfizer/BioNTech",
          "Johnson&Johnson, Moderna, Oxford/AstraZeneca, Pfizer/BioNTech",
          "Johnson&Johnson, Moderna, Oxford/AstraZeneca, Pfizer/BioNTech",
          "Oxford/AstraZeneca",
          "Johnson&Johnson, Moderna, Pfizer/BioNTech",
          "Oxford/AstraZeneca, Sinopharm/Beijing, Sputnik V",
          "Oxford/AstraZeneca",
          "Oxford/AstraZeneca, Pfizer/BioNTech, Sinopharm/Beijing, Sinovac",
          "Oxford/AstraZeneca, Pfizer/BioNTech, Sinovac",
          "BBIBP-CorV, Oxford/AstraZeneca, Sinovac, Sputnik V",
          "Oxford/AstraZeneca, Pfizer/BioNTech, Sinovac",
          "Moderna, Oxford/AstraZeneca, Pfizer/BioNTech",
          "Sinopharm/Beijing",
          "Johnson&Johnson, Moderna, Oxford/AstraZeneca, Pfizer/BioNTech",
          "Oxford/AstraZeneca",
          "Oxford/AstraZeneca",
          "Moderna, Pfizer/BioNTech",
          "Oxford/AstraZeneca",
          "Oxford/AstraZeneca",
          "Moderna, Oxford/AstraZeneca, Pfizer/BioNTech",
          "Johnson&Johnson, Moderna, Oxford/AstraZeneca, Pfizer/BioNTech",
          "Oxford/AstraZeneca",
          "Sinopharm/Beijing",
          "Oxford/AstraZeneca, Sinopharm/Beijing",
          "Oxford/AstraZeneca",
          "Johnson&Johnson, Moderna, Oxford/AstraZeneca, Pfizer/BioNTech",
          "Oxford/AstraZeneca, Sputnik V",
          "Pfizer/BioNTech",
          "Johnson&Johnson, Moderna, Oxford/AstraZeneca, Pfizer/BioNTech",
          "Moderna",
          "Oxford/AstraZeneca",
          "Moderna, Oxford/AstraZeneca",
          "Moderna, Oxford/AstraZeneca, Pfizer/BioNTech",
          "Sputnik V",
          "Oxford/AstraZeneca, Sinopharm/Beijing",
          "Oxford/AstraZeneca, Sputnik V",
          "Johnson&Johnson, Moderna, Oxford/AstraZeneca, Sputnik V",
          "Pfizer/BioNTech, Sinovac",
          "Johnson&Johnson, Moderna, Oxford/AstraZeneca, Pfizer/BioNTech, Sinopharm/Beijing, Sputnik V",
          "Johnson&Johnson, Moderna, Oxford/AstraZeneca, Pfizer/BioNTech",
          "Covaxin, Oxford/AstraZeneca",
          "Oxford/AstraZeneca, Sinovac",
          "BBIBP-CorV, Covaxin, Oxford/AstraZeneca, Sputnik V",
          "BBIBP-CorV, Oxford/AstraZeneca, Pfizer/BioNTech, Sputnik V",
          "Johnson&Johnson, Moderna, Oxford/AstraZeneca, Pfizer/BioNTech",
          "Oxford/AstraZeneca, Pfizer/BioNTech",
          "Moderna, Pfizer/BioNTech",
          "Johnson&Johnson, Moderna, Oxford/AstraZeneca, Pfizer/BioNTech",
          "Oxford/AstraZeneca",
          "Moderna, Pfizer/BioNTech",
          "Moderna, Oxford/AstraZeneca, Pfizer/BioNTech",
          "Oxford/AstraZeneca, Pfizer/BioNTech, Sinopharm/Beijing, Sputnik V",
          "QazVac, Sinopharm/HayatVax, Sputnik V",
          "Oxford/AstraZeneca, Sputnik V",
          "Oxford/AstraZeneca",
          "Pfizer/BioNTech",
          "Sinopharm/Beijing, Sputnik V",
          "Sinopharm/Beijing, Sputnik V",
          "Johnson&Johnson, Moderna, Oxford/AstraZeneca, Pfizer/BioNTech",
          "Oxford/AstraZeneca, Pfizer/BioNTech, Sinopharm/Beijing, Sputnik V",
          "Oxford/AstraZeneca",
          "Oxford/AstraZeneca",
          "Johnson&Johnson, Moderna, Oxford/AstraZeneca, Pfizer/BioNTech, Sinovac, Sputnik V",
          "Moderna, Pfizer/BioNTech",
          "Johnson&Johnson, Moderna, Oxford/AstraZeneca, Pfizer/BioNTech",
          "Moderna, Oxford/AstraZeneca, Pfizer/BioNTech",
          "Pfizer/BioNTech, Sinopharm/Beijing",
          "Oxford/AstraZeneca",
          "Oxford/AstraZeneca",
          "Oxford/AstraZeneca, Pfizer/BioNTech, Sinovac",
          "Oxford/AstraZeneca, Pfizer/BioNTech, Sinopharm/Beijing",
          "Oxford/AstraZeneca",
          "Johnson&Johnson, Moderna, Oxford/AstraZeneca, Pfizer/BioNTech",
          "BBIBP-CorV, Oxford/AstraZeneca",
          "BBIBP-CorV, Covaxin, Oxford/AstraZeneca",
          "CanSino, Oxford/AstraZeneca, Pfizer/BioNTech, Sinovac, Sputnik V",
          "Oxford/AstraZeneca, Pfizer/BioNTech, Sinopharm/Beijing, Sputnik V",
          "Pfizer/BioNTech",
          "Oxford/AstraZeneca, Pfizer/BioNTech, Sinopharm/Beijing, Sputnik V",
          "Oxford/AstraZeneca, Pfizer/BioNTech, Sinopharm/Beijing, Sputnik V",
          "Oxford/AstraZeneca",
          "Oxford/AstraZeneca, Sinopharm/Beijing",
          "Oxford/AstraZeneca, Sinopharm/Beijing",
          "Oxford/AstraZeneca",
          "Oxford/AstraZeneca, Sinopharm/Beijing",
          "Oxford/AstraZeneca",
          "Oxford/AstraZeneca, Sinopharm/Beijing",
          "Johnson&Johnson, Moderna, Oxford/AstraZeneca, Pfizer/BioNTech",
          "Pfizer/BioNTech",
          "Pfizer/BioNTech",
          "Oxford/AstraZeneca, Sputnik V",
          "BBIBP-CorV, Oxford/AstraZeneca",
          "Oxford/AstraZeneca",
          "Oxford/AstraZeneca, Pfizer/BioNTech, Sinopharm/Beijing, Sinovac, Sputnik V",
          "Oxford/AstraZeneca, Pfizer/BioNTech, Sinovac",
          "Moderna, Oxford/AstraZeneca, Pfizer/BioNTech",
          "Moderna, Pfizer/BioNTech",
          "Oxford/AstraZeneca, Pfizer/BioNTech",
          "CanSino, Oxford/AstraZeneca, Sinopharm/Beijing, Sinovac, Sputnik V",
          "Moderna, Oxford/AstraZeneca, Pfizer/BioNTech",
          "Oxford/AstraZeneca, Pfizer/BioNTech",
          "Oxford/AstraZeneca, Sinopharm/Beijing",
          "Covaxin, Oxford/AstraZeneca, Sinopharm/Beijing, Sinovac, Sputnik V",
          "Oxford/AstraZeneca, Pfizer/BioNTech, Sinopharm/Beijing",
          "Oxford/AstraZeneca, Pfizer/BioNTech, Sinovac, Sputnik V",
          "Oxford/AstraZeneca",
          "Johnson&Johnson, Moderna, Oxford/AstraZeneca, Pfizer/BioNTech",
          "Johnson&Johnson, Moderna, Oxford/AstraZeneca, Pfizer/BioNTech",
          "Moderna, Pfizer/BioNTech",
          "Johnson&Johnson, Moderna, Oxford/AstraZeneca, Pfizer/BioNTech",
          "EpiVacCorona, Sputnik V",
          "Moderna, Oxford/AstraZeneca, Pfizer/BioNTech",
          "Oxford/AstraZeneca",
          "Oxford/AstraZeneca",
          "Oxford/AstraZeneca",
          "Oxford/AstraZeneca",
          "Oxford/AstraZeneca",
          "Pfizer/BioNTech, Sputnik V",
          "Oxford/AstraZeneca",
          "Oxford/AstraZeneca, Pfizer/BioNTech",
          "Moderna, Oxford/AstraZeneca, Pfizer/BioNTech",
          "BBIBP-CorV, Oxford/AstraZeneca",
          "Oxford/AstraZeneca, Pfizer/BioNTech, Sinopharm/Beijing, Sputnik V",
          "Oxford/AstraZeneca, Sinopharm/Beijing",
          "BBIBP-CorV, Oxford/AstraZeneca",
          "Moderna, Pfizer/BioNTech",
          "Moderna, Oxford/AstraZeneca, Pfizer/BioNTech",
          "Moderna, Oxford/AstraZeneca, Pfizer/BioNTech",
          "Oxford/AstraZeneca, Pfizer/BioNTech",
          "Oxford/AstraZeneca",
          "BBIBP-CorV, Oxford/AstraZeneca, Sinovac",
          "Johnson&Johnson, Pfizer/BioNTech",
          "Johnson&Johnson, Oxford/AstraZeneca, Pfizer/BioNTech",
          "Oxford/AstraZeneca",
          "Johnson&Johnson, Moderna, Oxford/AstraZeneca, Pfizer/BioNTech",
          "Oxford/AstraZeneca, Sinopharm/Beijing, Sputnik V",
          "BBIBP-CorV, Oxford/AstraZeneca, Pfizer/BioNTech, Sinovac",
          "Oxford/AstraZeneca",
          "Oxford/AstraZeneca, Pfizer/BioNTech",
          "Moderna, Pfizer/BioNTech",
          "Oxford/AstraZeneca, Sinopharm/Beijing, Sputnik V",
          "Moderna, Oxford/AstraZeneca",
          "Oxford/AstraZeneca",
          "Oxford/AstraZeneca, Sinovac",
          "Oxford/AstraZeneca, Sinovac",
          "Oxford/AstraZeneca",
          "Oxford/AstraZeneca",
          "Oxford/AstraZeneca",
          "Oxford/AstraZeneca, Pfizer/BioNTech, Sinovac, Sputnik V",
          "Pfizer/BioNTech, Sinovac",
          "EpiVacCorona, Oxford/AstraZeneca, Sinopharm/Beijing, Sputnik V",
          "Pfizer/BioNTech",
          "Oxford/AstraZeneca",
          "Oxford/AstraZeneca",
          "Oxford/AstraZeneca, Pfizer/BioNTech, Sinovac",
          "Oxford/AstraZeneca, Pfizer/BioNTech, Sinopharm/Beijing, Sinopharm/Wuhan, Sputnik V",
          "Moderna, Oxford/AstraZeneca, Pfizer/BioNTech",
          "Johnson&Johnson, Moderna, Pfizer/BioNTech",
          "Oxford/AstraZeneca, Pfizer/BioNTech, Sinovac",
          "Oxford/AstraZeneca, RBD-Dimer, Sputnik V",
          "Oxford/AstraZeneca",
          "BBIBP-CorV, Sputnik V",
          "Oxford/AstraZeneca",
          "Moderna, Oxford/AstraZeneca, Pfizer/BioNTech",
          "Oxford/AstraZeneca",
          "Oxford/AstraZeneca",
          "Oxford/AstraZeneca, Sinopharm/Beijing",
          "Sinopharm/Beijing",
          "",
          "",
          "",
          "",
          "",
          "",
          "",
          "",
          "",
          "",
          "",
          "",
          "",
          "",
          "",
          "",
          "",
          "",
          "",
          "",
          "",
          "",
          "",
          "",
          "",
          "",
          "",
          "",
          "",
          "",
          "",
          "",
          "",
          "",
          "",
          "",
          "",
          "",
          "",
          "",
          "",
          "",
          "",
          "",
          "",
          "",
          "",
          "",
          "",
          "",
          "",
          "",
          "",
          "",
          "",
          ""
         ],
         "type": "treemap",
         "values": [
          13921,
          17565,
          22664,
          1376,
          33700,
          331,
          1278,
          338889,
          1853,
          2679,
          122092,
          90545,
          54088,
          1391,
          20163,
          196796,
          4526,
          20498,
          153742,
          2583,
          761,
          773,
          91636,
          45065,
          0,
          13677,
          6936,
          1352814,
          231,
          2545,
          27038,
          1825,
          101695,
          2697,
          455991,
          2871,
          1024,
          2300,
          0,
          298487,
          20298714,
          275583,
          4390,
          1078,
          561,
          40343,
          21777,
          35538,
          186081,
          3452,
          12513,
          96766,
          1153,
          51017,
          802,
          901,
          184208,
          76524,
          101183,
          46398,
          515433,
          5013,
          10163,
          3377,
          35777,
          772,
          189,
          12455,
          63726,
          577915,
          1784,
          1460,
          1458,
          8040,
          839179,
          54335,
          1068,
          97867,
          736,
          475,
          21549,
          817,
          12288,
          475,
          5000,
          21965,
          43279,
          125911,
          7546,
          3659357,
          507957,
          116028,
          14352,
          71265,
          1551,
          184949,
          585064,
          13076,
          1129530,
          1233,
          71119,
          97997,
          39237,
          5084,
          40778,
          3704,
          23319,
          16746,
          23394,
          666,
          1782,
          9240,
          411,
          28671,
          7178,
          6722,
          10256,
          13108,
          189329,
          7843,
          4197,
          7557,
          12831,
          11968,
          656610,
          16176,
          313,
          125462,
          8318,
          53,
          259446,
          7740,
          67615,
          3309,
          239,
          44361,
          223081,
          1239,
          16404,
          7350,
          7465,
          68909,
          15189,
          1663,
          17673,
          51353,
          24510,
          328526,
          21821,
          26049,
          2025,
          17893,
          157087,
          208399,
          0,
          341329,
          104054,
          37344,
          106652,
          392708,
          24860,
          165,
          753,
          1912,
          272,
          1229,
          725,
          823,
          204165,
          56025,
          13597,
          64449,
          2401,
          3169,
          49283,
          424,
          35941,
          19921,
          722,
          2180,
          62934,
          724621,
          1673,
          504283,
          92958,
          13719,
          6238,
          84473,
          91288,
          4674,
          100753,
          2482,
          281433,
          2579,
          10051,
          826,
          7817,
          34274,
          1222956,
          0,
          451,
          169,
          21822,
          55721,
          155312,
          602266,
          3384387,
          49357,
          70526,
          611,
          80433,
          132046,
          33151,
          343,
          10240,
          5680,
          22863,
          186081,
          0,
          11968,
          116028,
          1078,
          39759,
          13921,
          13719,
          14352,
          2180,
          101183,
          100931,
          298487,
          656610,
          328526,
          20298714,
          3661657,
          4390,
          17893,
          0,
          392708,
          3901976,
          125911,
          9240,
          21965,
          3435404,
          724621,
          62934,
          736,
          122302,
          1872077,
          1548382,
          810318,
          528375,
          164930,
          155312,
          184208,
          15189,
          374146,
          2047389,
          273915,
          70526,
          332023,
          101695,
          437323,
          792730,
          55941,
          128586,
          63705,
          6722,
          1266235,
          725,
          97997,
          29336,
          27023,
          12288
         ]
        }
       ],
       "layout": {
        "legend": {
         "tracegroupgap": 0
        },
        "template": {
         "data": {
          "bar": [
           {
            "error_x": {
             "color": "#2a3f5f"
            },
            "error_y": {
             "color": "#2a3f5f"
            },
            "marker": {
             "line": {
              "color": "#E5ECF6",
              "width": 0.5
             },
             "pattern": {
              "fillmode": "overlay",
              "size": 10,
              "solidity": 0.2
             }
            },
            "type": "bar"
           }
          ],
          "barpolar": [
           {
            "marker": {
             "line": {
              "color": "#E5ECF6",
              "width": 0.5
             },
             "pattern": {
              "fillmode": "overlay",
              "size": 10,
              "solidity": 0.2
             }
            },
            "type": "barpolar"
           }
          ],
          "carpet": [
           {
            "aaxis": {
             "endlinecolor": "#2a3f5f",
             "gridcolor": "white",
             "linecolor": "white",
             "minorgridcolor": "white",
             "startlinecolor": "#2a3f5f"
            },
            "baxis": {
             "endlinecolor": "#2a3f5f",
             "gridcolor": "white",
             "linecolor": "white",
             "minorgridcolor": "white",
             "startlinecolor": "#2a3f5f"
            },
            "type": "carpet"
           }
          ],
          "choropleth": [
           {
            "colorbar": {
             "outlinewidth": 0,
             "ticks": ""
            },
            "type": "choropleth"
           }
          ],
          "contour": [
           {
            "colorbar": {
             "outlinewidth": 0,
             "ticks": ""
            },
            "colorscale": [
             [
              0,
              "#0d0887"
             ],
             [
              0.1111111111111111,
              "#46039f"
             ],
             [
              0.2222222222222222,
              "#7201a8"
             ],
             [
              0.3333333333333333,
              "#9c179e"
             ],
             [
              0.4444444444444444,
              "#bd3786"
             ],
             [
              0.5555555555555556,
              "#d8576b"
             ],
             [
              0.6666666666666666,
              "#ed7953"
             ],
             [
              0.7777777777777778,
              "#fb9f3a"
             ],
             [
              0.8888888888888888,
              "#fdca26"
             ],
             [
              1,
              "#f0f921"
             ]
            ],
            "type": "contour"
           }
          ],
          "contourcarpet": [
           {
            "colorbar": {
             "outlinewidth": 0,
             "ticks": ""
            },
            "type": "contourcarpet"
           }
          ],
          "heatmap": [
           {
            "colorbar": {
             "outlinewidth": 0,
             "ticks": ""
            },
            "colorscale": [
             [
              0,
              "#0d0887"
             ],
             [
              0.1111111111111111,
              "#46039f"
             ],
             [
              0.2222222222222222,
              "#7201a8"
             ],
             [
              0.3333333333333333,
              "#9c179e"
             ],
             [
              0.4444444444444444,
              "#bd3786"
             ],
             [
              0.5555555555555556,
              "#d8576b"
             ],
             [
              0.6666666666666666,
              "#ed7953"
             ],
             [
              0.7777777777777778,
              "#fb9f3a"
             ],
             [
              0.8888888888888888,
              "#fdca26"
             ],
             [
              1,
              "#f0f921"
             ]
            ],
            "type": "heatmap"
           }
          ],
          "heatmapgl": [
           {
            "colorbar": {
             "outlinewidth": 0,
             "ticks": ""
            },
            "colorscale": [
             [
              0,
              "#0d0887"
             ],
             [
              0.1111111111111111,
              "#46039f"
             ],
             [
              0.2222222222222222,
              "#7201a8"
             ],
             [
              0.3333333333333333,
              "#9c179e"
             ],
             [
              0.4444444444444444,
              "#bd3786"
             ],
             [
              0.5555555555555556,
              "#d8576b"
             ],
             [
              0.6666666666666666,
              "#ed7953"
             ],
             [
              0.7777777777777778,
              "#fb9f3a"
             ],
             [
              0.8888888888888888,
              "#fdca26"
             ],
             [
              1,
              "#f0f921"
             ]
            ],
            "type": "heatmapgl"
           }
          ],
          "histogram": [
           {
            "marker": {
             "pattern": {
              "fillmode": "overlay",
              "size": 10,
              "solidity": 0.2
             }
            },
            "type": "histogram"
           }
          ],
          "histogram2d": [
           {
            "colorbar": {
             "outlinewidth": 0,
             "ticks": ""
            },
            "colorscale": [
             [
              0,
              "#0d0887"
             ],
             [
              0.1111111111111111,
              "#46039f"
             ],
             [
              0.2222222222222222,
              "#7201a8"
             ],
             [
              0.3333333333333333,
              "#9c179e"
             ],
             [
              0.4444444444444444,
              "#bd3786"
             ],
             [
              0.5555555555555556,
              "#d8576b"
             ],
             [
              0.6666666666666666,
              "#ed7953"
             ],
             [
              0.7777777777777778,
              "#fb9f3a"
             ],
             [
              0.8888888888888888,
              "#fdca26"
             ],
             [
              1,
              "#f0f921"
             ]
            ],
            "type": "histogram2d"
           }
          ],
          "histogram2dcontour": [
           {
            "colorbar": {
             "outlinewidth": 0,
             "ticks": ""
            },
            "colorscale": [
             [
              0,
              "#0d0887"
             ],
             [
              0.1111111111111111,
              "#46039f"
             ],
             [
              0.2222222222222222,
              "#7201a8"
             ],
             [
              0.3333333333333333,
              "#9c179e"
             ],
             [
              0.4444444444444444,
              "#bd3786"
             ],
             [
              0.5555555555555556,
              "#d8576b"
             ],
             [
              0.6666666666666666,
              "#ed7953"
             ],
             [
              0.7777777777777778,
              "#fb9f3a"
             ],
             [
              0.8888888888888888,
              "#fdca26"
             ],
             [
              1,
              "#f0f921"
             ]
            ],
            "type": "histogram2dcontour"
           }
          ],
          "mesh3d": [
           {
            "colorbar": {
             "outlinewidth": 0,
             "ticks": ""
            },
            "type": "mesh3d"
           }
          ],
          "parcoords": [
           {
            "line": {
             "colorbar": {
              "outlinewidth": 0,
              "ticks": ""
             }
            },
            "type": "parcoords"
           }
          ],
          "pie": [
           {
            "automargin": true,
            "type": "pie"
           }
          ],
          "scatter": [
           {
            "marker": {
             "colorbar": {
              "outlinewidth": 0,
              "ticks": ""
             }
            },
            "type": "scatter"
           }
          ],
          "scatter3d": [
           {
            "line": {
             "colorbar": {
              "outlinewidth": 0,
              "ticks": ""
             }
            },
            "marker": {
             "colorbar": {
              "outlinewidth": 0,
              "ticks": ""
             }
            },
            "type": "scatter3d"
           }
          ],
          "scattercarpet": [
           {
            "marker": {
             "colorbar": {
              "outlinewidth": 0,
              "ticks": ""
             }
            },
            "type": "scattercarpet"
           }
          ],
          "scattergeo": [
           {
            "marker": {
             "colorbar": {
              "outlinewidth": 0,
              "ticks": ""
             }
            },
            "type": "scattergeo"
           }
          ],
          "scattergl": [
           {
            "marker": {
             "colorbar": {
              "outlinewidth": 0,
              "ticks": ""
             }
            },
            "type": "scattergl"
           }
          ],
          "scattermapbox": [
           {
            "marker": {
             "colorbar": {
              "outlinewidth": 0,
              "ticks": ""
             }
            },
            "type": "scattermapbox"
           }
          ],
          "scatterpolar": [
           {
            "marker": {
             "colorbar": {
              "outlinewidth": 0,
              "ticks": ""
             }
            },
            "type": "scatterpolar"
           }
          ],
          "scatterpolargl": [
           {
            "marker": {
             "colorbar": {
              "outlinewidth": 0,
              "ticks": ""
             }
            },
            "type": "scatterpolargl"
           }
          ],
          "scatterternary": [
           {
            "marker": {
             "colorbar": {
              "outlinewidth": 0,
              "ticks": ""
             }
            },
            "type": "scatterternary"
           }
          ],
          "surface": [
           {
            "colorbar": {
             "outlinewidth": 0,
             "ticks": ""
            },
            "colorscale": [
             [
              0,
              "#0d0887"
             ],
             [
              0.1111111111111111,
              "#46039f"
             ],
             [
              0.2222222222222222,
              "#7201a8"
             ],
             [
              0.3333333333333333,
              "#9c179e"
             ],
             [
              0.4444444444444444,
              "#bd3786"
             ],
             [
              0.5555555555555556,
              "#d8576b"
             ],
             [
              0.6666666666666666,
              "#ed7953"
             ],
             [
              0.7777777777777778,
              "#fb9f3a"
             ],
             [
              0.8888888888888888,
              "#fdca26"
             ],
             [
              1,
              "#f0f921"
             ]
            ],
            "type": "surface"
           }
          ],
          "table": [
           {
            "cells": {
             "fill": {
              "color": "#EBF0F8"
             },
             "line": {
              "color": "white"
             }
            },
            "header": {
             "fill": {
              "color": "#C8D4E3"
             },
             "line": {
              "color": "white"
             }
            },
            "type": "table"
           }
          ]
         },
         "layout": {
          "annotationdefaults": {
           "arrowcolor": "#2a3f5f",
           "arrowhead": 0,
           "arrowwidth": 1
          },
          "autotypenumbers": "strict",
          "coloraxis": {
           "colorbar": {
            "outlinewidth": 0,
            "ticks": ""
           }
          },
          "colorscale": {
           "diverging": [
            [
             0,
             "#8e0152"
            ],
            [
             0.1,
             "#c51b7d"
            ],
            [
             0.2,
             "#de77ae"
            ],
            [
             0.3,
             "#f1b6da"
            ],
            [
             0.4,
             "#fde0ef"
            ],
            [
             0.5,
             "#f7f7f7"
            ],
            [
             0.6,
             "#e6f5d0"
            ],
            [
             0.7,
             "#b8e186"
            ],
            [
             0.8,
             "#7fbc41"
            ],
            [
             0.9,
             "#4d9221"
            ],
            [
             1,
             "#276419"
            ]
           ],
           "sequential": [
            [
             0,
             "#0d0887"
            ],
            [
             0.1111111111111111,
             "#46039f"
            ],
            [
             0.2222222222222222,
             "#7201a8"
            ],
            [
             0.3333333333333333,
             "#9c179e"
            ],
            [
             0.4444444444444444,
             "#bd3786"
            ],
            [
             0.5555555555555556,
             "#d8576b"
            ],
            [
             0.6666666666666666,
             "#ed7953"
            ],
            [
             0.7777777777777778,
             "#fb9f3a"
            ],
            [
             0.8888888888888888,
             "#fdca26"
            ],
            [
             1,
             "#f0f921"
            ]
           ],
           "sequentialminus": [
            [
             0,
             "#0d0887"
            ],
            [
             0.1111111111111111,
             "#46039f"
            ],
            [
             0.2222222222222222,
             "#7201a8"
            ],
            [
             0.3333333333333333,
             "#9c179e"
            ],
            [
             0.4444444444444444,
             "#bd3786"
            ],
            [
             0.5555555555555556,
             "#d8576b"
            ],
            [
             0.6666666666666666,
             "#ed7953"
            ],
            [
             0.7777777777777778,
             "#fb9f3a"
            ],
            [
             0.8888888888888888,
             "#fdca26"
            ],
            [
             1,
             "#f0f921"
            ]
           ]
          },
          "colorway": [
           "#636efa",
           "#EF553B",
           "#00cc96",
           "#ab63fa",
           "#FFA15A",
           "#19d3f3",
           "#FF6692",
           "#B6E880",
           "#FF97FF",
           "#FECB52"
          ],
          "font": {
           "color": "#2a3f5f"
          },
          "geo": {
           "bgcolor": "white",
           "lakecolor": "white",
           "landcolor": "#E5ECF6",
           "showlakes": true,
           "showland": true,
           "subunitcolor": "white"
          },
          "hoverlabel": {
           "align": "left"
          },
          "hovermode": "closest",
          "mapbox": {
           "style": "light"
          },
          "paper_bgcolor": "white",
          "plot_bgcolor": "#E5ECF6",
          "polar": {
           "angularaxis": {
            "gridcolor": "white",
            "linecolor": "white",
            "ticks": ""
           },
           "bgcolor": "#E5ECF6",
           "radialaxis": {
            "gridcolor": "white",
            "linecolor": "white",
            "ticks": ""
           }
          },
          "scene": {
           "xaxis": {
            "backgroundcolor": "#E5ECF6",
            "gridcolor": "white",
            "gridwidth": 2,
            "linecolor": "white",
            "showbackground": true,
            "ticks": "",
            "zerolinecolor": "white"
           },
           "yaxis": {
            "backgroundcolor": "#E5ECF6",
            "gridcolor": "white",
            "gridwidth": 2,
            "linecolor": "white",
            "showbackground": true,
            "ticks": "",
            "zerolinecolor": "white"
           },
           "zaxis": {
            "backgroundcolor": "#E5ECF6",
            "gridcolor": "white",
            "gridwidth": 2,
            "linecolor": "white",
            "showbackground": true,
            "ticks": "",
            "zerolinecolor": "white"
           }
          },
          "shapedefaults": {
           "line": {
            "color": "#2a3f5f"
           }
          },
          "ternary": {
           "aaxis": {
            "gridcolor": "white",
            "linecolor": "white",
            "ticks": ""
           },
           "baxis": {
            "gridcolor": "white",
            "linecolor": "white",
            "ticks": ""
           },
           "bgcolor": "#E5ECF6",
           "caxis": {
            "gridcolor": "white",
            "linecolor": "white",
            "ticks": ""
           }
          },
          "title": {
           "x": 0.05
          },
          "xaxis": {
           "automargin": true,
           "gridcolor": "white",
           "linecolor": "white",
           "ticks": "",
           "title": {
            "standoff": 15
           },
           "zerolinecolor": "white",
           "zerolinewidth": 2
          },
          "yaxis": {
           "automargin": true,
           "gridcolor": "white",
           "linecolor": "white",
           "ticks": "",
           "title": {
            "standoff": 15
           },
           "zerolinecolor": "white",
           "zerolinewidth": 2
          }
         }
        },
        "title": {
         "text": "Daily vaccinations per country, grouped by vaccine scheme"
        }
       }
      },
      "text/html": [
       "<div>                            <div id=\"edc6548b-a3c5-4f58-8b4d-f0b2239af1ec\" class=\"plotly-graph-div\" style=\"height:525px; width:100%;\"></div>            <script type=\"text/javascript\">                require([\"plotly\"], function(Plotly) {                    window.PLOTLYENV=window.PLOTLYENV || {};                                    if (document.getElementById(\"edc6548b-a3c5-4f58-8b4d-f0b2239af1ec\")) {                    Plotly.newPlot(                        \"edc6548b-a3c5-4f58-8b4d-f0b2239af1ec\",                        [{\"branchvalues\":\"total\",\"domain\":{\"x\":[0.0,1.0],\"y\":[0.0,1.0]},\"hovertemplate\":\"labels=%{label}<br>Daily vaccinations=%{value}<br>parent=%{parent}<br>id=%{id}<extra></extra>\",\"ids\":[\"BBIBP-CorV, Oxford/AstraZeneca, Pfizer/BioNTech/Afghanistan\",\"Oxford/AstraZeneca, Pfizer/BioNTech, Sinovac, Sputnik V/Albania\",\"Oxford/AstraZeneca, Sputnik V/Algeria\",\"Oxford/AstraZeneca, Pfizer/BioNTech/Andorra\",\"Oxford/AstraZeneca/Angola\",\"Oxford/AstraZeneca/Anguilla\",\"Oxford/AstraZeneca/Antigua and Barbuda\",\"Oxford/AstraZeneca, Sinopharm/Beijing, Sputnik V/Argentina\",\"Oxford/AstraZeneca, Sinovac, Sputnik V/Armenia\",\"Pfizer/BioNTech/Aruba\",\"Oxford/AstraZeneca, Pfizer/BioNTech/Australia\",\"Johnson&Johnson, Moderna, Oxford/AstraZeneca, Pfizer/BioNTech/Austria\",\"Oxford/AstraZeneca, Sinovac, Sputnik V/Azerbaijan\",\"Oxford/AstraZeneca/Bahamas\",\"Oxford/AstraZeneca, Pfizer/BioNTech, Sinopharm/Beijing, Sputnik V/Bahrain\",\"Oxford/AstraZeneca/Bangladesh\",\"Oxford/AstraZeneca/Barbados\",\"BBIBP-CorV, Sputnik V/Belarus\",\"Johnson&Johnson, Moderna, Oxford/AstraZeneca, Pfizer/BioNTech/Belgium\",\"Oxford/AstraZeneca, Sinopharm/Beijing/Belize\",\"Oxford/AstraZeneca, Sinovac/Benin\",\"Pfizer/BioNTech/Bermuda\",\"Oxford/AstraZeneca/Bhutan\",\"Oxford/AstraZeneca, Pfizer/BioNTech, Sinopharm/Beijing, Sputnik V/Bolivia\",\"Moderna, Pfizer/BioNTech/Bonaire Sint Eustatius and Saba\",\"Oxford/AstraZeneca, Pfizer/BioNTech, Sinovac, Sputnik V/Bosnia and Herzegovina\",\"Oxford/AstraZeneca/Botswana\",\"Oxford/AstraZeneca, Pfizer/BioNTech, Sinovac/Brazil\",\"Oxford/AstraZeneca/British Virgin Islands\",\"Oxford/AstraZeneca, Sinopharm/Beijing/Brunei\",\"Johnson&Johnson, Moderna, Oxford/AstraZeneca, Pfizer/BioNTech/Bulgaria\",\"Oxford/AstraZeneca/Burkina Faso\",\"Oxford/AstraZeneca, Sinopharm/Beijing, Sinovac/Cambodia\",\"BBIBP-CorV, Oxford/AstraZeneca/Cameroon\",\"Moderna, Oxford/AstraZeneca, Pfizer/BioNTech/Canada\",\"Oxford/AstraZeneca, Pfizer/BioNTech/Cape Verde\",\"Oxford/AstraZeneca, Pfizer/BioNTech/Cayman Islands\",\"Covaxin, Oxford/AstraZeneca/Central African Republic\",\"BBIBP-CorV/Chad\",\"CanSino, Oxford/AstraZeneca, Pfizer/BioNTech, Sinovac/Chile\",\"CanSino, Sinopharm/Beijing, Sinopharm/Wuhan, Sinovac/China\",\"Oxford/AstraZeneca, Pfizer/BioNTech, Sinovac/Colombia\",\"Covaxin, Oxford/AstraZeneca, Sinopharm/Beijing/Comoros\",\"BBIBP-CorV, Moderna, Oxford/AstraZeneca, Sputnik V/Congo\",\"Oxford/AstraZeneca/Cook Islands\",\"Oxford/AstraZeneca, Pfizer/BioNTech/Costa Rica\",\"Oxford/AstraZeneca/Cote d'Ivoire\",\"Moderna, Oxford/AstraZeneca, Pfizer/BioNTech/Croatia\",\"Abdala, Soberana02/Cuba\",\"Moderna, Pfizer/BioNTech/Curacao\",\"Johnson&Johnson, Moderna, Oxford/AstraZeneca, Pfizer/BioNTech/Cyprus\",\"Johnson&Johnson, Moderna, Oxford/AstraZeneca, Pfizer/BioNTech/Czechia\",\"Oxford/AstraZeneca/Democratic Republic of Congo\",\"Johnson&Johnson, Moderna, Pfizer/BioNTech/Denmark\",\"Oxford/AstraZeneca, Sinopharm/Beijing, Sputnik V/Djibouti\",\"Oxford/AstraZeneca/Dominica\",\"Oxford/AstraZeneca, Pfizer/BioNTech, Sinopharm/Beijing, Sinovac/Dominican Republic\",\"Oxford/AstraZeneca, Pfizer/BioNTech, Sinovac/Ecuador\",\"BBIBP-CorV, Oxford/AstraZeneca, Sinovac, Sputnik V/Egypt\",\"Oxford/AstraZeneca, Pfizer/BioNTech, Sinovac/El Salvador\",\"Moderna, Oxford/AstraZeneca, Pfizer/BioNTech/England\",\"Sinopharm/Beijing/Equatorial Guinea\",\"Johnson&Johnson, Moderna, Oxford/AstraZeneca, Pfizer/BioNTech/Estonia\",\"Oxford/AstraZeneca/Eswatini\",\"Oxford/AstraZeneca/Ethiopia\",\"Moderna, Pfizer/BioNTech/Faeroe Islands\",\"Oxford/AstraZeneca/Falkland Islands\",\"Oxford/AstraZeneca/Fiji\",\"Moderna, Oxford/AstraZeneca, Pfizer/BioNTech/Finland\",\"Johnson&Johnson, Moderna, Oxford/AstraZeneca, Pfizer/BioNTech/France\",\"Oxford/AstraZeneca/French Polynesia\",\"Sinopharm/Beijing/Gabon\",\"Oxford/AstraZeneca, Sinopharm/Beijing/Gambia\",\"Oxford/AstraZeneca/Georgia\",\"Johnson&Johnson, Moderna, Oxford/AstraZeneca, Pfizer/BioNTech/Germany\",\"Oxford/AstraZeneca, Sputnik V/Ghana\",\"Pfizer/BioNTech/Gibraltar\",\"Johnson&Johnson, Moderna, Oxford/AstraZeneca, Pfizer/BioNTech/Greece\",\"Moderna/Greenland\",\"Oxford/AstraZeneca/Grenada\",\"Moderna, Oxford/AstraZeneca/Guatemala\",\"Moderna, Oxford/AstraZeneca, Pfizer/BioNTech/Guernsey\",\"Sputnik V/Guinea\",\"Oxford/AstraZeneca, Sinopharm/Beijing/Guinea-Bissau\",\"Oxford/AstraZeneca, Sputnik V/Guyana\",\"Johnson&Johnson, Moderna, Oxford/AstraZeneca, Sputnik V/Honduras\",\"Pfizer/BioNTech, Sinovac/Hong Kong\",\"Johnson&Johnson, Moderna, Oxford/AstraZeneca, Pfizer/BioNTech, Sinopharm/Beijing, Sputnik V/Hungary\",\"Johnson&Johnson, Moderna, Oxford/AstraZeneca, Pfizer/BioNTech/Iceland\",\"Covaxin, Oxford/AstraZeneca/India\",\"Oxford/AstraZeneca, Sinovac/Indonesia\",\"BBIBP-CorV, Covaxin, Oxford/AstraZeneca, Sputnik V/Iran\",\"BBIBP-CorV, Oxford/AstraZeneca, Pfizer/BioNTech, Sputnik V/Iraq\",\"Johnson&Johnson, Moderna, Oxford/AstraZeneca, Pfizer/BioNTech/Ireland\",\"Oxford/AstraZeneca, Pfizer/BioNTech/Isle of Man\",\"Moderna, Pfizer/BioNTech/Israel\",\"Johnson&Johnson, Moderna, Oxford/AstraZeneca, Pfizer/BioNTech/Italy\",\"Oxford/AstraZeneca/Jamaica\",\"Moderna, Pfizer/BioNTech/Japan\",\"Moderna, Oxford/AstraZeneca, Pfizer/BioNTech/Jersey\",\"Oxford/AstraZeneca, Pfizer/BioNTech, Sinopharm/Beijing, Sputnik V/Jordan\",\"QazVac, Sinopharm/HayatVax, Sputnik V/Kazakhstan\",\"Oxford/AstraZeneca, Sputnik V/Kenya\",\"Oxford/AstraZeneca/Kosovo\",\"Pfizer/BioNTech/Kuwait\",\"Sinopharm/Beijing, Sputnik V/Kyrgyzstan\",\"Sinopharm/Beijing, Sputnik V/Laos\",\"Johnson&Johnson, Moderna, Oxford/AstraZeneca, Pfizer/BioNTech/Latvia\",\"Oxford/AstraZeneca, Pfizer/BioNTech, Sinopharm/Beijing, Sputnik V/Lebanon\",\"Oxford/AstraZeneca/Lesotho\",\"Oxford/AstraZeneca/Liberia\",\"Johnson&Johnson, Moderna, Oxford/AstraZeneca, Pfizer/BioNTech, Sinovac, Sputnik V/Libya\",\"Moderna, Pfizer/BioNTech/Liechtenstein\",\"Johnson&Johnson, Moderna, Oxford/AstraZeneca, Pfizer/BioNTech/Lithuania\",\"Moderna, Oxford/AstraZeneca, Pfizer/BioNTech/Luxembourg\",\"Pfizer/BioNTech, Sinopharm/Beijing/Macao\",\"Oxford/AstraZeneca/Madagascar\",\"Oxford/AstraZeneca/Malawi\",\"Oxford/AstraZeneca, Pfizer/BioNTech, Sinovac/Malaysia\",\"Oxford/AstraZeneca, Pfizer/BioNTech, Sinopharm/Beijing/Maldives\",\"Oxford/AstraZeneca/Mali\",\"Johnson&Johnson, Moderna, Oxford/AstraZeneca, Pfizer/BioNTech/Malta\",\"BBIBP-CorV, Oxford/AstraZeneca/Mauritania\",\"BBIBP-CorV, Covaxin, Oxford/AstraZeneca/Mauritius\",\"CanSino, Oxford/AstraZeneca, Pfizer/BioNTech, Sinovac, Sputnik V/Mexico\",\"Oxford/AstraZeneca, Pfizer/BioNTech, Sinopharm/Beijing, Sputnik V/Moldova\",\"Pfizer/BioNTech/Monaco\",\"Oxford/AstraZeneca, Pfizer/BioNTech, Sinopharm/Beijing, Sputnik V/Mongolia\",\"Oxford/AstraZeneca, Pfizer/BioNTech, Sinopharm/Beijing, Sputnik V/Montenegro\",\"Oxford/AstraZeneca/Montserrat\",\"Oxford/AstraZeneca, Sinopharm/Beijing/Morocco\",\"Oxford/AstraZeneca, Sinopharm/Beijing/Mozambique\",\"Oxford/AstraZeneca/Myanmar\",\"Oxford/AstraZeneca, Sinopharm/Beijing/Namibia\",\"Oxford/AstraZeneca/Nauru\",\"Oxford/AstraZeneca, Sinopharm/Beijing/Nepal\",\"Johnson&Johnson, Moderna, Oxford/AstraZeneca, Pfizer/BioNTech/Netherlands\",\"Pfizer/BioNTech/New Caledonia\",\"Pfizer/BioNTech/New Zealand\",\"Oxford/AstraZeneca, Sputnik V/Nicaragua\",\"BBIBP-CorV, Oxford/AstraZeneca/Niger\",\"Oxford/AstraZeneca/Nigeria\",\"Oxford/AstraZeneca, Pfizer/BioNTech, Sinopharm/Beijing, Sinovac, Sputnik V/North Macedonia\",\"Oxford/AstraZeneca, Pfizer/BioNTech, Sinovac/Northern Cyprus\",\"Moderna, Oxford/AstraZeneca, Pfizer/BioNTech/Northern Ireland\",\"Moderna, Pfizer/BioNTech/Norway\",\"Oxford/AstraZeneca, Pfizer/BioNTech/Oman\",\"CanSino, Oxford/AstraZeneca, Sinopharm/Beijing, Sinovac, Sputnik V/Pakistan\",\"Moderna, Oxford/AstraZeneca, Pfizer/BioNTech/Palestine\",\"Oxford/AstraZeneca, Pfizer/BioNTech/Panama\",\"Oxford/AstraZeneca, Sinopharm/Beijing/Papua New Guinea\",\"Covaxin, Oxford/AstraZeneca, Sinopharm/Beijing, Sinovac, Sputnik V/Paraguay\",\"Oxford/AstraZeneca, Pfizer/BioNTech, Sinopharm/Beijing/Peru\",\"Oxford/AstraZeneca, Pfizer/BioNTech, Sinovac, Sputnik V/Philippines\",\"Oxford/AstraZeneca/Pitcairn\",\"Johnson&Johnson, Moderna, Oxford/AstraZeneca, Pfizer/BioNTech/Poland\",\"Johnson&Johnson, Moderna, Oxford/AstraZeneca, Pfizer/BioNTech/Portugal\",\"Moderna, Pfizer/BioNTech/Qatar\",\"Johnson&Johnson, Moderna, Oxford/AstraZeneca, Pfizer/BioNTech/Romania\",\"EpiVacCorona, Sputnik V/Russia\",\"Moderna, Oxford/AstraZeneca, Pfizer/BioNTech/Rwanda\",\"Oxford/AstraZeneca/Saint Helena\",\"Oxford/AstraZeneca/Saint Kitts and Nevis\",\"Oxford/AstraZeneca/Saint Lucia\",\"Oxford/AstraZeneca/Saint Vincent and the Grenadines\",\"Oxford/AstraZeneca/Samoa\",\"Pfizer/BioNTech, Sputnik V/San Marino\",\"Oxford/AstraZeneca/Sao Tome and Principe\",\"Oxford/AstraZeneca, Pfizer/BioNTech/Saudi Arabia\",\"Moderna, Oxford/AstraZeneca, Pfizer/BioNTech/Scotland\",\"BBIBP-CorV, Oxford/AstraZeneca/Senegal\",\"Oxford/AstraZeneca, Pfizer/BioNTech, Sinopharm/Beijing, Sputnik V/Serbia\",\"Oxford/AstraZeneca, Sinopharm/Beijing/Seychelles\",\"BBIBP-CorV, Oxford/AstraZeneca/Sierra Leone\",\"Moderna, Pfizer/BioNTech/Singapore\",\"Moderna, Oxford/AstraZeneca, Pfizer/BioNTech/Sint Maarten (Dutch part)\",\"Moderna, Oxford/AstraZeneca, Pfizer/BioNTech/Slovakia\",\"Oxford/AstraZeneca, Pfizer/BioNTech/Slovenia\",\"Oxford/AstraZeneca/Solomon Islands\",\"BBIBP-CorV, Oxford/AstraZeneca, Sinovac/Somalia\",\"Johnson&Johnson, Pfizer/BioNTech/South Africa\",\"Johnson&Johnson, Oxford/AstraZeneca, Pfizer/BioNTech/South Korea\",\"Oxford/AstraZeneca/South Sudan\",\"Johnson&Johnson, Moderna, Oxford/AstraZeneca, Pfizer/BioNTech/Spain\",\"Oxford/AstraZeneca, Sinopharm/Beijing, Sputnik V/Sri Lanka\",\"BBIBP-CorV, Oxford/AstraZeneca, Pfizer/BioNTech, Sinovac/Sudan\",\"Oxford/AstraZeneca/Suriname\",\"Oxford/AstraZeneca, Pfizer/BioNTech/Sweden\",\"Moderna, Pfizer/BioNTech/Switzerland\",\"Oxford/AstraZeneca, Sinopharm/Beijing, Sputnik V/Syria\",\"Moderna, Oxford/AstraZeneca/Taiwan\",\"Oxford/AstraZeneca/Tajikistan\",\"Oxford/AstraZeneca, Sinovac/Thailand\",\"Oxford/AstraZeneca, Sinovac/Timor\",\"Oxford/AstraZeneca/Togo\",\"Oxford/AstraZeneca/Tonga\",\"Oxford/AstraZeneca/Trinidad and Tobago\",\"Oxford/AstraZeneca, Pfizer/BioNTech, Sinovac, Sputnik V/Tunisia\",\"Pfizer/BioNTech, Sinovac/Turkey\",\"EpiVacCorona, Oxford/AstraZeneca, Sinopharm/Beijing, Sputnik V/Turkmenistan\",\"Pfizer/BioNTech/Turks and Caicos Islands\",\"Oxford/AstraZeneca/Tuvalu\",\"Oxford/AstraZeneca/Uganda\",\"Oxford/AstraZeneca, Pfizer/BioNTech, Sinovac/Ukraine\",\"Oxford/AstraZeneca, Pfizer/BioNTech, Sinopharm/Beijing, Sinopharm/Wuhan, Sputnik V/United Arab Emirates\",\"Moderna, Oxford/AstraZeneca, Pfizer/BioNTech/United Kingdom\",\"Johnson&Johnson, Moderna, Pfizer/BioNTech/United States\",\"Oxford/AstraZeneca, Pfizer/BioNTech, Sinovac/Uruguay\",\"Oxford/AstraZeneca, RBD-Dimer, Sputnik V/Uzbekistan\",\"Oxford/AstraZeneca/Vanuatu\",\"BBIBP-CorV, Sputnik V/Venezuela\",\"Oxford/AstraZeneca/Vietnam\",\"Moderna, Oxford/AstraZeneca, Pfizer/BioNTech/Wales\",\"Oxford/AstraZeneca/Wallis and Futuna\",\"Oxford/AstraZeneca/Yemen\",\"Oxford/AstraZeneca, Sinopharm/Beijing/Zambia\",\"Sinopharm/Beijing/Zimbabwe\",\"Abdala, Soberana02\",\"BBIBP-CorV\",\"BBIBP-CorV, Covaxin, Oxford/AstraZeneca\",\"BBIBP-CorV, Covaxin, Oxford/AstraZeneca, Sputnik V\",\"BBIBP-CorV, Moderna, Oxford/AstraZeneca, Sputnik V\",\"BBIBP-CorV, Oxford/AstraZeneca\",\"BBIBP-CorV, Oxford/AstraZeneca, Pfizer/BioNTech\",\"BBIBP-CorV, Oxford/AstraZeneca, Pfizer/BioNTech, Sinovac\",\"BBIBP-CorV, Oxford/AstraZeneca, Pfizer/BioNTech, Sputnik V\",\"BBIBP-CorV, Oxford/AstraZeneca, Sinovac\",\"BBIBP-CorV, Oxford/AstraZeneca, Sinovac, Sputnik V\",\"BBIBP-CorV, Sputnik V\",\"CanSino, Oxford/AstraZeneca, Pfizer/BioNTech, Sinovac\",\"CanSino, Oxford/AstraZeneca, Pfizer/BioNTech, Sinovac, Sputnik V\",\"CanSino, Oxford/AstraZeneca, Sinopharm/Beijing, Sinovac, Sputnik V\",\"CanSino, Sinopharm/Beijing, Sinopharm/Wuhan, Sinovac\",\"Covaxin, Oxford/AstraZeneca\",\"Covaxin, Oxford/AstraZeneca, Sinopharm/Beijing\",\"Covaxin, Oxford/AstraZeneca, Sinopharm/Beijing, Sinovac, Sputnik V\",\"EpiVacCorona, Oxford/AstraZeneca, Sinopharm/Beijing, Sputnik V\",\"EpiVacCorona, Sputnik V\",\"Johnson&Johnson, Moderna, Oxford/AstraZeneca, Pfizer/BioNTech\",\"Johnson&Johnson, Moderna, Oxford/AstraZeneca, Pfizer/BioNTech, Sinopharm/Beijing, Sputnik V\",\"Johnson&Johnson, Moderna, Oxford/AstraZeneca, Pfizer/BioNTech, Sinovac, Sputnik V\",\"Johnson&Johnson, Moderna, Oxford/AstraZeneca, Sputnik V\",\"Johnson&Johnson, Moderna, Pfizer/BioNTech\",\"Johnson&Johnson, Oxford/AstraZeneca, Pfizer/BioNTech\",\"Johnson&Johnson, Pfizer/BioNTech\",\"Moderna\",\"Moderna, Oxford/AstraZeneca\",\"Moderna, Oxford/AstraZeneca, Pfizer/BioNTech\",\"Moderna, Pfizer/BioNTech\",\"Oxford/AstraZeneca\",\"Oxford/AstraZeneca, Pfizer/BioNTech\",\"Oxford/AstraZeneca, Pfizer/BioNTech, Sinopharm/Beijing\",\"Oxford/AstraZeneca, Pfizer/BioNTech, Sinopharm/Beijing, Sinopharm/Wuhan, Sputnik V\",\"Oxford/AstraZeneca, Pfizer/BioNTech, Sinopharm/Beijing, Sinovac\",\"Oxford/AstraZeneca, Pfizer/BioNTech, Sinopharm/Beijing, Sinovac, Sputnik V\",\"Oxford/AstraZeneca, Pfizer/BioNTech, Sinopharm/Beijing, Sputnik V\",\"Oxford/AstraZeneca, Pfizer/BioNTech, Sinovac\",\"Oxford/AstraZeneca, Pfizer/BioNTech, Sinovac, Sputnik V\",\"Oxford/AstraZeneca, RBD-Dimer, Sputnik V\",\"Oxford/AstraZeneca, Sinopharm/Beijing\",\"Oxford/AstraZeneca, Sinopharm/Beijing, Sinovac\",\"Oxford/AstraZeneca, Sinopharm/Beijing, Sputnik V\",\"Oxford/AstraZeneca, Sinovac\",\"Oxford/AstraZeneca, Sinovac, Sputnik V\",\"Oxford/AstraZeneca, Sputnik V\",\"Pfizer/BioNTech\",\"Pfizer/BioNTech, Sinopharm/Beijing\",\"Pfizer/BioNTech, Sinovac\",\"Pfizer/BioNTech, Sputnik V\",\"QazVac, Sinopharm/HayatVax, Sputnik V\",\"Sinopharm/Beijing\",\"Sinopharm/Beijing, Sputnik V\",\"Sputnik V\"],\"labels\":[\"Afghanistan\",\"Albania\",\"Algeria\",\"Andorra\",\"Angola\",\"Anguilla\",\"Antigua and Barbuda\",\"Argentina\",\"Armenia\",\"Aruba\",\"Australia\",\"Austria\",\"Azerbaijan\",\"Bahamas\",\"Bahrain\",\"Bangladesh\",\"Barbados\",\"Belarus\",\"Belgium\",\"Belize\",\"Benin\",\"Bermuda\",\"Bhutan\",\"Bolivia\",\"Bonaire Sint Eustatius and Saba\",\"Bosnia and Herzegovina\",\"Botswana\",\"Brazil\",\"British Virgin Islands\",\"Brunei\",\"Bulgaria\",\"Burkina Faso\",\"Cambodia\",\"Cameroon\",\"Canada\",\"Cape Verde\",\"Cayman Islands\",\"Central African Republic\",\"Chad\",\"Chile\",\"China\",\"Colombia\",\"Comoros\",\"Congo\",\"Cook Islands\",\"Costa Rica\",\"Cote d'Ivoire\",\"Croatia\",\"Cuba\",\"Curacao\",\"Cyprus\",\"Czechia\",\"Democratic Republic of Congo\",\"Denmark\",\"Djibouti\",\"Dominica\",\"Dominican Republic\",\"Ecuador\",\"Egypt\",\"El Salvador\",\"England\",\"Equatorial Guinea\",\"Estonia\",\"Eswatini\",\"Ethiopia\",\"Faeroe Islands\",\"Falkland Islands\",\"Fiji\",\"Finland\",\"France\",\"French Polynesia\",\"Gabon\",\"Gambia\",\"Georgia\",\"Germany\",\"Ghana\",\"Gibraltar\",\"Greece\",\"Greenland\",\"Grenada\",\"Guatemala\",\"Guernsey\",\"Guinea\",\"Guinea-Bissau\",\"Guyana\",\"Honduras\",\"Hong Kong\",\"Hungary\",\"Iceland\",\"India\",\"Indonesia\",\"Iran\",\"Iraq\",\"Ireland\",\"Isle of Man\",\"Israel\",\"Italy\",\"Jamaica\",\"Japan\",\"Jersey\",\"Jordan\",\"Kazakhstan\",\"Kenya\",\"Kosovo\",\"Kuwait\",\"Kyrgyzstan\",\"Laos\",\"Latvia\",\"Lebanon\",\"Lesotho\",\"Liberia\",\"Libya\",\"Liechtenstein\",\"Lithuania\",\"Luxembourg\",\"Macao\",\"Madagascar\",\"Malawi\",\"Malaysia\",\"Maldives\",\"Mali\",\"Malta\",\"Mauritania\",\"Mauritius\",\"Mexico\",\"Moldova\",\"Monaco\",\"Mongolia\",\"Montenegro\",\"Montserrat\",\"Morocco\",\"Mozambique\",\"Myanmar\",\"Namibia\",\"Nauru\",\"Nepal\",\"Netherlands\",\"New Caledonia\",\"New Zealand\",\"Nicaragua\",\"Niger\",\"Nigeria\",\"North Macedonia\",\"Northern Cyprus\",\"Northern Ireland\",\"Norway\",\"Oman\",\"Pakistan\",\"Palestine\",\"Panama\",\"Papua New Guinea\",\"Paraguay\",\"Peru\",\"Philippines\",\"Pitcairn\",\"Poland\",\"Portugal\",\"Qatar\",\"Romania\",\"Russia\",\"Rwanda\",\"Saint Helena\",\"Saint Kitts and Nevis\",\"Saint Lucia\",\"Saint Vincent and the Grenadines\",\"Samoa\",\"San Marino\",\"Sao Tome and Principe\",\"Saudi Arabia\",\"Scotland\",\"Senegal\",\"Serbia\",\"Seychelles\",\"Sierra Leone\",\"Singapore\",\"Sint Maarten (Dutch part)\",\"Slovakia\",\"Slovenia\",\"Solomon Islands\",\"Somalia\",\"South Africa\",\"South Korea\",\"South Sudan\",\"Spain\",\"Sri Lanka\",\"Sudan\",\"Suriname\",\"Sweden\",\"Switzerland\",\"Syria\",\"Taiwan\",\"Tajikistan\",\"Thailand\",\"Timor\",\"Togo\",\"Tonga\",\"Trinidad and Tobago\",\"Tunisia\",\"Turkey\",\"Turkmenistan\",\"Turks and Caicos Islands\",\"Tuvalu\",\"Uganda\",\"Ukraine\",\"United Arab Emirates\",\"United Kingdom\",\"United States\",\"Uruguay\",\"Uzbekistan\",\"Vanuatu\",\"Venezuela\",\"Vietnam\",\"Wales\",\"Wallis and Futuna\",\"Yemen\",\"Zambia\",\"Zimbabwe\",\"Abdala, Soberana02\",\"BBIBP-CorV\",\"BBIBP-CorV, Covaxin, Oxford/AstraZeneca\",\"BBIBP-CorV, Covaxin, Oxford/AstraZeneca, Sputnik V\",\"BBIBP-CorV, Moderna, Oxford/AstraZeneca, Sputnik V\",\"BBIBP-CorV, Oxford/AstraZeneca\",\"BBIBP-CorV, Oxford/AstraZeneca, Pfizer/BioNTech\",\"BBIBP-CorV, Oxford/AstraZeneca, Pfizer/BioNTech, Sinovac\",\"BBIBP-CorV, Oxford/AstraZeneca, Pfizer/BioNTech, Sputnik V\",\"BBIBP-CorV, Oxford/AstraZeneca, Sinovac\",\"BBIBP-CorV, Oxford/AstraZeneca, Sinovac, Sputnik V\",\"BBIBP-CorV, Sputnik V\",\"CanSino, Oxford/AstraZeneca, Pfizer/BioNTech, Sinovac\",\"CanSino, Oxford/AstraZeneca, Pfizer/BioNTech, Sinovac, Sputnik V\",\"CanSino, Oxford/AstraZeneca, Sinopharm/Beijing, Sinovac, Sputnik V\",\"CanSino, Sinopharm/Beijing, Sinopharm/Wuhan, Sinovac\",\"Covaxin, Oxford/AstraZeneca\",\"Covaxin, Oxford/AstraZeneca, Sinopharm/Beijing\",\"Covaxin, Oxford/AstraZeneca, Sinopharm/Beijing, Sinovac, Sputnik V\",\"EpiVacCorona, Oxford/AstraZeneca, Sinopharm/Beijing, Sputnik V\",\"EpiVacCorona, Sputnik V\",\"Johnson&Johnson, Moderna, Oxford/AstraZeneca, Pfizer/BioNTech\",\"Johnson&Johnson, Moderna, Oxford/AstraZeneca, Pfizer/BioNTech, Sinopharm/Beijing, Sputnik V\",\"Johnson&Johnson, Moderna, Oxford/AstraZeneca, Pfizer/BioNTech, Sinovac, Sputnik V\",\"Johnson&Johnson, Moderna, Oxford/AstraZeneca, Sputnik V\",\"Johnson&Johnson, Moderna, Pfizer/BioNTech\",\"Johnson&Johnson, Oxford/AstraZeneca, Pfizer/BioNTech\",\"Johnson&Johnson, Pfizer/BioNTech\",\"Moderna\",\"Moderna, Oxford/AstraZeneca\",\"Moderna, Oxford/AstraZeneca, Pfizer/BioNTech\",\"Moderna, Pfizer/BioNTech\",\"Oxford/AstraZeneca\",\"Oxford/AstraZeneca, Pfizer/BioNTech\",\"Oxford/AstraZeneca, Pfizer/BioNTech, Sinopharm/Beijing\",\"Oxford/AstraZeneca, Pfizer/BioNTech, Sinopharm/Beijing, Sinopharm/Wuhan, Sputnik V\",\"Oxford/AstraZeneca, Pfizer/BioNTech, Sinopharm/Beijing, Sinovac\",\"Oxford/AstraZeneca, Pfizer/BioNTech, Sinopharm/Beijing, Sinovac, Sputnik V\",\"Oxford/AstraZeneca, Pfizer/BioNTech, Sinopharm/Beijing, Sputnik V\",\"Oxford/AstraZeneca, Pfizer/BioNTech, Sinovac\",\"Oxford/AstraZeneca, Pfizer/BioNTech, Sinovac, Sputnik V\",\"Oxford/AstraZeneca, RBD-Dimer, Sputnik V\",\"Oxford/AstraZeneca, Sinopharm/Beijing\",\"Oxford/AstraZeneca, Sinopharm/Beijing, Sinovac\",\"Oxford/AstraZeneca, Sinopharm/Beijing, Sputnik V\",\"Oxford/AstraZeneca, Sinovac\",\"Oxford/AstraZeneca, Sinovac, Sputnik V\",\"Oxford/AstraZeneca, Sputnik V\",\"Pfizer/BioNTech\",\"Pfizer/BioNTech, Sinopharm/Beijing\",\"Pfizer/BioNTech, Sinovac\",\"Pfizer/BioNTech, Sputnik V\",\"QazVac, Sinopharm/HayatVax, Sputnik V\",\"Sinopharm/Beijing\",\"Sinopharm/Beijing, Sputnik V\",\"Sputnik V\"],\"name\":\"\",\"parents\":[\"BBIBP-CorV, Oxford/AstraZeneca, Pfizer/BioNTech\",\"Oxford/AstraZeneca, Pfizer/BioNTech, Sinovac, Sputnik V\",\"Oxford/AstraZeneca, Sputnik V\",\"Oxford/AstraZeneca, Pfizer/BioNTech\",\"Oxford/AstraZeneca\",\"Oxford/AstraZeneca\",\"Oxford/AstraZeneca\",\"Oxford/AstraZeneca, Sinopharm/Beijing, Sputnik V\",\"Oxford/AstraZeneca, Sinovac, Sputnik V\",\"Pfizer/BioNTech\",\"Oxford/AstraZeneca, Pfizer/BioNTech\",\"Johnson&Johnson, Moderna, Oxford/AstraZeneca, Pfizer/BioNTech\",\"Oxford/AstraZeneca, Sinovac, Sputnik V\",\"Oxford/AstraZeneca\",\"Oxford/AstraZeneca, Pfizer/BioNTech, Sinopharm/Beijing, Sputnik V\",\"Oxford/AstraZeneca\",\"Oxford/AstraZeneca\",\"BBIBP-CorV, Sputnik V\",\"Johnson&Johnson, Moderna, Oxford/AstraZeneca, Pfizer/BioNTech\",\"Oxford/AstraZeneca, Sinopharm/Beijing\",\"Oxford/AstraZeneca, Sinovac\",\"Pfizer/BioNTech\",\"Oxford/AstraZeneca\",\"Oxford/AstraZeneca, Pfizer/BioNTech, Sinopharm/Beijing, Sputnik V\",\"Moderna, Pfizer/BioNTech\",\"Oxford/AstraZeneca, Pfizer/BioNTech, Sinovac, Sputnik V\",\"Oxford/AstraZeneca\",\"Oxford/AstraZeneca, Pfizer/BioNTech, Sinovac\",\"Oxford/AstraZeneca\",\"Oxford/AstraZeneca, Sinopharm/Beijing\",\"Johnson&Johnson, Moderna, Oxford/AstraZeneca, Pfizer/BioNTech\",\"Oxford/AstraZeneca\",\"Oxford/AstraZeneca, Sinopharm/Beijing, Sinovac\",\"BBIBP-CorV, Oxford/AstraZeneca\",\"Moderna, Oxford/AstraZeneca, Pfizer/BioNTech\",\"Oxford/AstraZeneca, Pfizer/BioNTech\",\"Oxford/AstraZeneca, Pfizer/BioNTech\",\"Covaxin, Oxford/AstraZeneca\",\"BBIBP-CorV\",\"CanSino, Oxford/AstraZeneca, Pfizer/BioNTech, Sinovac\",\"CanSino, Sinopharm/Beijing, Sinopharm/Wuhan, Sinovac\",\"Oxford/AstraZeneca, Pfizer/BioNTech, Sinovac\",\"Covaxin, Oxford/AstraZeneca, Sinopharm/Beijing\",\"BBIBP-CorV, Moderna, Oxford/AstraZeneca, Sputnik V\",\"Oxford/AstraZeneca\",\"Oxford/AstraZeneca, Pfizer/BioNTech\",\"Oxford/AstraZeneca\",\"Moderna, Oxford/AstraZeneca, Pfizer/BioNTech\",\"Abdala, Soberana02\",\"Moderna, Pfizer/BioNTech\",\"Johnson&Johnson, Moderna, Oxford/AstraZeneca, Pfizer/BioNTech\",\"Johnson&Johnson, Moderna, Oxford/AstraZeneca, Pfizer/BioNTech\",\"Oxford/AstraZeneca\",\"Johnson&Johnson, Moderna, Pfizer/BioNTech\",\"Oxford/AstraZeneca, Sinopharm/Beijing, Sputnik V\",\"Oxford/AstraZeneca\",\"Oxford/AstraZeneca, Pfizer/BioNTech, Sinopharm/Beijing, Sinovac\",\"Oxford/AstraZeneca, Pfizer/BioNTech, Sinovac\",\"BBIBP-CorV, Oxford/AstraZeneca, Sinovac, Sputnik V\",\"Oxford/AstraZeneca, Pfizer/BioNTech, Sinovac\",\"Moderna, Oxford/AstraZeneca, Pfizer/BioNTech\",\"Sinopharm/Beijing\",\"Johnson&Johnson, Moderna, Oxford/AstraZeneca, Pfizer/BioNTech\",\"Oxford/AstraZeneca\",\"Oxford/AstraZeneca\",\"Moderna, Pfizer/BioNTech\",\"Oxford/AstraZeneca\",\"Oxford/AstraZeneca\",\"Moderna, Oxford/AstraZeneca, Pfizer/BioNTech\",\"Johnson&Johnson, Moderna, Oxford/AstraZeneca, Pfizer/BioNTech\",\"Oxford/AstraZeneca\",\"Sinopharm/Beijing\",\"Oxford/AstraZeneca, Sinopharm/Beijing\",\"Oxford/AstraZeneca\",\"Johnson&Johnson, Moderna, Oxford/AstraZeneca, Pfizer/BioNTech\",\"Oxford/AstraZeneca, Sputnik V\",\"Pfizer/BioNTech\",\"Johnson&Johnson, Moderna, Oxford/AstraZeneca, Pfizer/BioNTech\",\"Moderna\",\"Oxford/AstraZeneca\",\"Moderna, Oxford/AstraZeneca\",\"Moderna, Oxford/AstraZeneca, Pfizer/BioNTech\",\"Sputnik V\",\"Oxford/AstraZeneca, Sinopharm/Beijing\",\"Oxford/AstraZeneca, Sputnik V\",\"Johnson&Johnson, Moderna, Oxford/AstraZeneca, Sputnik V\",\"Pfizer/BioNTech, Sinovac\",\"Johnson&Johnson, Moderna, Oxford/AstraZeneca, Pfizer/BioNTech, Sinopharm/Beijing, Sputnik V\",\"Johnson&Johnson, Moderna, Oxford/AstraZeneca, Pfizer/BioNTech\",\"Covaxin, Oxford/AstraZeneca\",\"Oxford/AstraZeneca, Sinovac\",\"BBIBP-CorV, Covaxin, Oxford/AstraZeneca, Sputnik V\",\"BBIBP-CorV, Oxford/AstraZeneca, Pfizer/BioNTech, Sputnik V\",\"Johnson&Johnson, Moderna, Oxford/AstraZeneca, Pfizer/BioNTech\",\"Oxford/AstraZeneca, Pfizer/BioNTech\",\"Moderna, Pfizer/BioNTech\",\"Johnson&Johnson, Moderna, Oxford/AstraZeneca, Pfizer/BioNTech\",\"Oxford/AstraZeneca\",\"Moderna, Pfizer/BioNTech\",\"Moderna, Oxford/AstraZeneca, Pfizer/BioNTech\",\"Oxford/AstraZeneca, Pfizer/BioNTech, Sinopharm/Beijing, Sputnik V\",\"QazVac, Sinopharm/HayatVax, Sputnik V\",\"Oxford/AstraZeneca, Sputnik V\",\"Oxford/AstraZeneca\",\"Pfizer/BioNTech\",\"Sinopharm/Beijing, Sputnik V\",\"Sinopharm/Beijing, Sputnik V\",\"Johnson&Johnson, Moderna, Oxford/AstraZeneca, Pfizer/BioNTech\",\"Oxford/AstraZeneca, Pfizer/BioNTech, Sinopharm/Beijing, Sputnik V\",\"Oxford/AstraZeneca\",\"Oxford/AstraZeneca\",\"Johnson&Johnson, Moderna, Oxford/AstraZeneca, Pfizer/BioNTech, Sinovac, Sputnik V\",\"Moderna, Pfizer/BioNTech\",\"Johnson&Johnson, Moderna, Oxford/AstraZeneca, Pfizer/BioNTech\",\"Moderna, Oxford/AstraZeneca, Pfizer/BioNTech\",\"Pfizer/BioNTech, Sinopharm/Beijing\",\"Oxford/AstraZeneca\",\"Oxford/AstraZeneca\",\"Oxford/AstraZeneca, Pfizer/BioNTech, Sinovac\",\"Oxford/AstraZeneca, Pfizer/BioNTech, Sinopharm/Beijing\",\"Oxford/AstraZeneca\",\"Johnson&Johnson, Moderna, Oxford/AstraZeneca, Pfizer/BioNTech\",\"BBIBP-CorV, Oxford/AstraZeneca\",\"BBIBP-CorV, Covaxin, Oxford/AstraZeneca\",\"CanSino, Oxford/AstraZeneca, Pfizer/BioNTech, Sinovac, Sputnik V\",\"Oxford/AstraZeneca, Pfizer/BioNTech, Sinopharm/Beijing, Sputnik V\",\"Pfizer/BioNTech\",\"Oxford/AstraZeneca, Pfizer/BioNTech, Sinopharm/Beijing, Sputnik V\",\"Oxford/AstraZeneca, Pfizer/BioNTech, Sinopharm/Beijing, Sputnik V\",\"Oxford/AstraZeneca\",\"Oxford/AstraZeneca, Sinopharm/Beijing\",\"Oxford/AstraZeneca, Sinopharm/Beijing\",\"Oxford/AstraZeneca\",\"Oxford/AstraZeneca, Sinopharm/Beijing\",\"Oxford/AstraZeneca\",\"Oxford/AstraZeneca, Sinopharm/Beijing\",\"Johnson&Johnson, Moderna, Oxford/AstraZeneca, Pfizer/BioNTech\",\"Pfizer/BioNTech\",\"Pfizer/BioNTech\",\"Oxford/AstraZeneca, Sputnik V\",\"BBIBP-CorV, Oxford/AstraZeneca\",\"Oxford/AstraZeneca\",\"Oxford/AstraZeneca, Pfizer/BioNTech, Sinopharm/Beijing, Sinovac, Sputnik V\",\"Oxford/AstraZeneca, Pfizer/BioNTech, Sinovac\",\"Moderna, Oxford/AstraZeneca, Pfizer/BioNTech\",\"Moderna, Pfizer/BioNTech\",\"Oxford/AstraZeneca, Pfizer/BioNTech\",\"CanSino, Oxford/AstraZeneca, Sinopharm/Beijing, Sinovac, Sputnik V\",\"Moderna, Oxford/AstraZeneca, Pfizer/BioNTech\",\"Oxford/AstraZeneca, Pfizer/BioNTech\",\"Oxford/AstraZeneca, Sinopharm/Beijing\",\"Covaxin, Oxford/AstraZeneca, Sinopharm/Beijing, Sinovac, Sputnik V\",\"Oxford/AstraZeneca, Pfizer/BioNTech, Sinopharm/Beijing\",\"Oxford/AstraZeneca, Pfizer/BioNTech, Sinovac, Sputnik V\",\"Oxford/AstraZeneca\",\"Johnson&Johnson, Moderna, Oxford/AstraZeneca, Pfizer/BioNTech\",\"Johnson&Johnson, Moderna, Oxford/AstraZeneca, Pfizer/BioNTech\",\"Moderna, Pfizer/BioNTech\",\"Johnson&Johnson, Moderna, Oxford/AstraZeneca, Pfizer/BioNTech\",\"EpiVacCorona, Sputnik V\",\"Moderna, Oxford/AstraZeneca, Pfizer/BioNTech\",\"Oxford/AstraZeneca\",\"Oxford/AstraZeneca\",\"Oxford/AstraZeneca\",\"Oxford/AstraZeneca\",\"Oxford/AstraZeneca\",\"Pfizer/BioNTech, Sputnik V\",\"Oxford/AstraZeneca\",\"Oxford/AstraZeneca, Pfizer/BioNTech\",\"Moderna, Oxford/AstraZeneca, Pfizer/BioNTech\",\"BBIBP-CorV, Oxford/AstraZeneca\",\"Oxford/AstraZeneca, Pfizer/BioNTech, Sinopharm/Beijing, Sputnik V\",\"Oxford/AstraZeneca, Sinopharm/Beijing\",\"BBIBP-CorV, Oxford/AstraZeneca\",\"Moderna, Pfizer/BioNTech\",\"Moderna, Oxford/AstraZeneca, Pfizer/BioNTech\",\"Moderna, Oxford/AstraZeneca, Pfizer/BioNTech\",\"Oxford/AstraZeneca, Pfizer/BioNTech\",\"Oxford/AstraZeneca\",\"BBIBP-CorV, Oxford/AstraZeneca, Sinovac\",\"Johnson&Johnson, Pfizer/BioNTech\",\"Johnson&Johnson, Oxford/AstraZeneca, Pfizer/BioNTech\",\"Oxford/AstraZeneca\",\"Johnson&Johnson, Moderna, Oxford/AstraZeneca, Pfizer/BioNTech\",\"Oxford/AstraZeneca, Sinopharm/Beijing, Sputnik V\",\"BBIBP-CorV, Oxford/AstraZeneca, Pfizer/BioNTech, Sinovac\",\"Oxford/AstraZeneca\",\"Oxford/AstraZeneca, Pfizer/BioNTech\",\"Moderna, Pfizer/BioNTech\",\"Oxford/AstraZeneca, Sinopharm/Beijing, Sputnik V\",\"Moderna, Oxford/AstraZeneca\",\"Oxford/AstraZeneca\",\"Oxford/AstraZeneca, Sinovac\",\"Oxford/AstraZeneca, Sinovac\",\"Oxford/AstraZeneca\",\"Oxford/AstraZeneca\",\"Oxford/AstraZeneca\",\"Oxford/AstraZeneca, Pfizer/BioNTech, Sinovac, Sputnik V\",\"Pfizer/BioNTech, Sinovac\",\"EpiVacCorona, Oxford/AstraZeneca, Sinopharm/Beijing, Sputnik V\",\"Pfizer/BioNTech\",\"Oxford/AstraZeneca\",\"Oxford/AstraZeneca\",\"Oxford/AstraZeneca, Pfizer/BioNTech, Sinovac\",\"Oxford/AstraZeneca, Pfizer/BioNTech, Sinopharm/Beijing, Sinopharm/Wuhan, Sputnik V\",\"Moderna, Oxford/AstraZeneca, Pfizer/BioNTech\",\"Johnson&Johnson, Moderna, Pfizer/BioNTech\",\"Oxford/AstraZeneca, Pfizer/BioNTech, Sinovac\",\"Oxford/AstraZeneca, RBD-Dimer, Sputnik V\",\"Oxford/AstraZeneca\",\"BBIBP-CorV, Sputnik V\",\"Oxford/AstraZeneca\",\"Moderna, Oxford/AstraZeneca, Pfizer/BioNTech\",\"Oxford/AstraZeneca\",\"Oxford/AstraZeneca\",\"Oxford/AstraZeneca, Sinopharm/Beijing\",\"Sinopharm/Beijing\",\"\",\"\",\"\",\"\",\"\",\"\",\"\",\"\",\"\",\"\",\"\",\"\",\"\",\"\",\"\",\"\",\"\",\"\",\"\",\"\",\"\",\"\",\"\",\"\",\"\",\"\",\"\",\"\",\"\",\"\",\"\",\"\",\"\",\"\",\"\",\"\",\"\",\"\",\"\",\"\",\"\",\"\",\"\",\"\",\"\",\"\",\"\",\"\",\"\",\"\",\"\",\"\",\"\",\"\",\"\",\"\"],\"type\":\"treemap\",\"values\":[13921.0,17565.0,22664.0,1376.0,33700.0,331.0,1278.0,338889.0,1853.0,2679.0,122092.0,90545.0,54088.0,1391.0,20163.0,196796.0,4526.0,20498.0,153742.0,2583.0,761.0,773.0,91636.0,45065.0,0.0,13677.0,6936.0,1352814.0,231.0,2545.0,27038.0,1825.0,101695.0,2697.0,455991.0,2871.0,1024.0,2300.0,0.0,298487.0,20298714.0,275583.0,4390.0,1078.0,561.0,40343.0,21777.0,35538.0,186081.0,3452.0,12513.0,96766.0,1153.0,51017.0,802.0,901.0,184208.0,76524.0,101183.0,46398.0,515433.0,5013.0,10163.0,3377.0,35777.0,772.0,189.0,12455.0,63726.0,577915.0,1784.0,1460.0,1458.0,8040.0,839179.0,54335.0,1068.0,97867.0,736.0,475.0,21549.0,817.0,12288.0,475.0,5000.0,21965.0,43279.0,125911.0,7546.0,3659357.0,507957.0,116028.0,14352.0,71265.0,1551.0,184949.0,585064.0,13076.0,1129530.0,1233.0,71119.0,97997.0,39237.0,5084.0,40778.0,3704.0,23319.0,16746.0,23394.0,666.0,1782.0,9240.0,411.0,28671.0,7178.0,6722.0,10256.0,13108.0,189329.0,7843.0,4197.0,7557.0,12831.0,11968.0,656610.0,16176.0,313.0,125462.0,8318.0,53.0,259446.0,7740.0,67615.0,3309.0,239.0,44361.0,223081.0,1239.0,16404.0,7350.0,7465.0,68909.0,15189.0,1663.0,17673.0,51353.0,24510.0,328526.0,21821.0,26049.0,2025.0,17893.0,157087.0,208399.0,0.0,341329.0,104054.0,37344.0,106652.0,392708.0,24860.0,165.0,753.0,1912.0,272.0,1229.0,725.0,823.0,204165.0,56025.0,13597.0,64449.0,2401.0,3169.0,49283.0,424.0,35941.0,19921.0,722.0,2180.0,62934.0,724621.0,1673.0,504283.0,92958.0,13719.0,6238.0,84473.0,91288.0,4674.0,100753.0,2482.0,281433.0,2579.0,10051.0,826.0,7817.0,34274.0,1222956.0,0.0,451.0,169.0,21822.0,55721.0,155312.0,602266.0,3384387.0,49357.0,70526.0,611.0,80433.0,132046.0,33151.0,343.0,10240.0,5680.0,22863.0,186081.0,0.0,11968.0,116028.0,1078.0,39759.0,13921.0,13719.0,14352.0,2180.0,101183.0,100931.0,298487.0,656610.0,328526.0,20298714.0,3661657.0,4390.0,17893.0,0.0,392708.0,3901976.0,125911.0,9240.0,21965.0,3435404.0,724621.0,62934.0,736.0,122302.0,1872077.0,1548382.0,810318.0,528375.0,164930.0,155312.0,184208.0,15189.0,374146.0,2047389.0,273915.0,70526.0,332023.0,101695.0,437323.0,792730.0,55941.0,128586.0,63705.0,6722.0,1266235.0,725.0,97997.0,29336.0,27023.0,12288.0]}],                        {\"legend\":{\"tracegroupgap\":0},\"template\":{\"data\":{\"bar\":[{\"error_x\":{\"color\":\"#2a3f5f\"},\"error_y\":{\"color\":\"#2a3f5f\"},\"marker\":{\"line\":{\"color\":\"#E5ECF6\",\"width\":0.5},\"pattern\":{\"fillmode\":\"overlay\",\"size\":10,\"solidity\":0.2}},\"type\":\"bar\"}],\"barpolar\":[{\"marker\":{\"line\":{\"color\":\"#E5ECF6\",\"width\":0.5},\"pattern\":{\"fillmode\":\"overlay\",\"size\":10,\"solidity\":0.2}},\"type\":\"barpolar\"}],\"carpet\":[{\"aaxis\":{\"endlinecolor\":\"#2a3f5f\",\"gridcolor\":\"white\",\"linecolor\":\"white\",\"minorgridcolor\":\"white\",\"startlinecolor\":\"#2a3f5f\"},\"baxis\":{\"endlinecolor\":\"#2a3f5f\",\"gridcolor\":\"white\",\"linecolor\":\"white\",\"minorgridcolor\":\"white\",\"startlinecolor\":\"#2a3f5f\"},\"type\":\"carpet\"}],\"choropleth\":[{\"colorbar\":{\"outlinewidth\":0,\"ticks\":\"\"},\"type\":\"choropleth\"}],\"contour\":[{\"colorbar\":{\"outlinewidth\":0,\"ticks\":\"\"},\"colorscale\":[[0.0,\"#0d0887\"],[0.1111111111111111,\"#46039f\"],[0.2222222222222222,\"#7201a8\"],[0.3333333333333333,\"#9c179e\"],[0.4444444444444444,\"#bd3786\"],[0.5555555555555556,\"#d8576b\"],[0.6666666666666666,\"#ed7953\"],[0.7777777777777778,\"#fb9f3a\"],[0.8888888888888888,\"#fdca26\"],[1.0,\"#f0f921\"]],\"type\":\"contour\"}],\"contourcarpet\":[{\"colorbar\":{\"outlinewidth\":0,\"ticks\":\"\"},\"type\":\"contourcarpet\"}],\"heatmap\":[{\"colorbar\":{\"outlinewidth\":0,\"ticks\":\"\"},\"colorscale\":[[0.0,\"#0d0887\"],[0.1111111111111111,\"#46039f\"],[0.2222222222222222,\"#7201a8\"],[0.3333333333333333,\"#9c179e\"],[0.4444444444444444,\"#bd3786\"],[0.5555555555555556,\"#d8576b\"],[0.6666666666666666,\"#ed7953\"],[0.7777777777777778,\"#fb9f3a\"],[0.8888888888888888,\"#fdca26\"],[1.0,\"#f0f921\"]],\"type\":\"heatmap\"}],\"heatmapgl\":[{\"colorbar\":{\"outlinewidth\":0,\"ticks\":\"\"},\"colorscale\":[[0.0,\"#0d0887\"],[0.1111111111111111,\"#46039f\"],[0.2222222222222222,\"#7201a8\"],[0.3333333333333333,\"#9c179e\"],[0.4444444444444444,\"#bd3786\"],[0.5555555555555556,\"#d8576b\"],[0.6666666666666666,\"#ed7953\"],[0.7777777777777778,\"#fb9f3a\"],[0.8888888888888888,\"#fdca26\"],[1.0,\"#f0f921\"]],\"type\":\"heatmapgl\"}],\"histogram\":[{\"marker\":{\"pattern\":{\"fillmode\":\"overlay\",\"size\":10,\"solidity\":0.2}},\"type\":\"histogram\"}],\"histogram2d\":[{\"colorbar\":{\"outlinewidth\":0,\"ticks\":\"\"},\"colorscale\":[[0.0,\"#0d0887\"],[0.1111111111111111,\"#46039f\"],[0.2222222222222222,\"#7201a8\"],[0.3333333333333333,\"#9c179e\"],[0.4444444444444444,\"#bd3786\"],[0.5555555555555556,\"#d8576b\"],[0.6666666666666666,\"#ed7953\"],[0.7777777777777778,\"#fb9f3a\"],[0.8888888888888888,\"#fdca26\"],[1.0,\"#f0f921\"]],\"type\":\"histogram2d\"}],\"histogram2dcontour\":[{\"colorbar\":{\"outlinewidth\":0,\"ticks\":\"\"},\"colorscale\":[[0.0,\"#0d0887\"],[0.1111111111111111,\"#46039f\"],[0.2222222222222222,\"#7201a8\"],[0.3333333333333333,\"#9c179e\"],[0.4444444444444444,\"#bd3786\"],[0.5555555555555556,\"#d8576b\"],[0.6666666666666666,\"#ed7953\"],[0.7777777777777778,\"#fb9f3a\"],[0.8888888888888888,\"#fdca26\"],[1.0,\"#f0f921\"]],\"type\":\"histogram2dcontour\"}],\"mesh3d\":[{\"colorbar\":{\"outlinewidth\":0,\"ticks\":\"\"},\"type\":\"mesh3d\"}],\"parcoords\":[{\"line\":{\"colorbar\":{\"outlinewidth\":0,\"ticks\":\"\"}},\"type\":\"parcoords\"}],\"pie\":[{\"automargin\":true,\"type\":\"pie\"}],\"scatter\":[{\"marker\":{\"colorbar\":{\"outlinewidth\":0,\"ticks\":\"\"}},\"type\":\"scatter\"}],\"scatter3d\":[{\"line\":{\"colorbar\":{\"outlinewidth\":0,\"ticks\":\"\"}},\"marker\":{\"colorbar\":{\"outlinewidth\":0,\"ticks\":\"\"}},\"type\":\"scatter3d\"}],\"scattercarpet\":[{\"marker\":{\"colorbar\":{\"outlinewidth\":0,\"ticks\":\"\"}},\"type\":\"scattercarpet\"}],\"scattergeo\":[{\"marker\":{\"colorbar\":{\"outlinewidth\":0,\"ticks\":\"\"}},\"type\":\"scattergeo\"}],\"scattergl\":[{\"marker\":{\"colorbar\":{\"outlinewidth\":0,\"ticks\":\"\"}},\"type\":\"scattergl\"}],\"scattermapbox\":[{\"marker\":{\"colorbar\":{\"outlinewidth\":0,\"ticks\":\"\"}},\"type\":\"scattermapbox\"}],\"scatterpolar\":[{\"marker\":{\"colorbar\":{\"outlinewidth\":0,\"ticks\":\"\"}},\"type\":\"scatterpolar\"}],\"scatterpolargl\":[{\"marker\":{\"colorbar\":{\"outlinewidth\":0,\"ticks\":\"\"}},\"type\":\"scatterpolargl\"}],\"scatterternary\":[{\"marker\":{\"colorbar\":{\"outlinewidth\":0,\"ticks\":\"\"}},\"type\":\"scatterternary\"}],\"surface\":[{\"colorbar\":{\"outlinewidth\":0,\"ticks\":\"\"},\"colorscale\":[[0.0,\"#0d0887\"],[0.1111111111111111,\"#46039f\"],[0.2222222222222222,\"#7201a8\"],[0.3333333333333333,\"#9c179e\"],[0.4444444444444444,\"#bd3786\"],[0.5555555555555556,\"#d8576b\"],[0.6666666666666666,\"#ed7953\"],[0.7777777777777778,\"#fb9f3a\"],[0.8888888888888888,\"#fdca26\"],[1.0,\"#f0f921\"]],\"type\":\"surface\"}],\"table\":[{\"cells\":{\"fill\":{\"color\":\"#EBF0F8\"},\"line\":{\"color\":\"white\"}},\"header\":{\"fill\":{\"color\":\"#C8D4E3\"},\"line\":{\"color\":\"white\"}},\"type\":\"table\"}]},\"layout\":{\"annotationdefaults\":{\"arrowcolor\":\"#2a3f5f\",\"arrowhead\":0,\"arrowwidth\":1},\"autotypenumbers\":\"strict\",\"coloraxis\":{\"colorbar\":{\"outlinewidth\":0,\"ticks\":\"\"}},\"colorscale\":{\"diverging\":[[0,\"#8e0152\"],[0.1,\"#c51b7d\"],[0.2,\"#de77ae\"],[0.3,\"#f1b6da\"],[0.4,\"#fde0ef\"],[0.5,\"#f7f7f7\"],[0.6,\"#e6f5d0\"],[0.7,\"#b8e186\"],[0.8,\"#7fbc41\"],[0.9,\"#4d9221\"],[1,\"#276419\"]],\"sequential\":[[0.0,\"#0d0887\"],[0.1111111111111111,\"#46039f\"],[0.2222222222222222,\"#7201a8\"],[0.3333333333333333,\"#9c179e\"],[0.4444444444444444,\"#bd3786\"],[0.5555555555555556,\"#d8576b\"],[0.6666666666666666,\"#ed7953\"],[0.7777777777777778,\"#fb9f3a\"],[0.8888888888888888,\"#fdca26\"],[1.0,\"#f0f921\"]],\"sequentialminus\":[[0.0,\"#0d0887\"],[0.1111111111111111,\"#46039f\"],[0.2222222222222222,\"#7201a8\"],[0.3333333333333333,\"#9c179e\"],[0.4444444444444444,\"#bd3786\"],[0.5555555555555556,\"#d8576b\"],[0.6666666666666666,\"#ed7953\"],[0.7777777777777778,\"#fb9f3a\"],[0.8888888888888888,\"#fdca26\"],[1.0,\"#f0f921\"]]},\"colorway\":[\"#636efa\",\"#EF553B\",\"#00cc96\",\"#ab63fa\",\"#FFA15A\",\"#19d3f3\",\"#FF6692\",\"#B6E880\",\"#FF97FF\",\"#FECB52\"],\"font\":{\"color\":\"#2a3f5f\"},\"geo\":{\"bgcolor\":\"white\",\"lakecolor\":\"white\",\"landcolor\":\"#E5ECF6\",\"showlakes\":true,\"showland\":true,\"subunitcolor\":\"white\"},\"hoverlabel\":{\"align\":\"left\"},\"hovermode\":\"closest\",\"mapbox\":{\"style\":\"light\"},\"paper_bgcolor\":\"white\",\"plot_bgcolor\":\"#E5ECF6\",\"polar\":{\"angularaxis\":{\"gridcolor\":\"white\",\"linecolor\":\"white\",\"ticks\":\"\"},\"bgcolor\":\"#E5ECF6\",\"radialaxis\":{\"gridcolor\":\"white\",\"linecolor\":\"white\",\"ticks\":\"\"}},\"scene\":{\"xaxis\":{\"backgroundcolor\":\"#E5ECF6\",\"gridcolor\":\"white\",\"gridwidth\":2,\"linecolor\":\"white\",\"showbackground\":true,\"ticks\":\"\",\"zerolinecolor\":\"white\"},\"yaxis\":{\"backgroundcolor\":\"#E5ECF6\",\"gridcolor\":\"white\",\"gridwidth\":2,\"linecolor\":\"white\",\"showbackground\":true,\"ticks\":\"\",\"zerolinecolor\":\"white\"},\"zaxis\":{\"backgroundcolor\":\"#E5ECF6\",\"gridcolor\":\"white\",\"gridwidth\":2,\"linecolor\":\"white\",\"showbackground\":true,\"ticks\":\"\",\"zerolinecolor\":\"white\"}},\"shapedefaults\":{\"line\":{\"color\":\"#2a3f5f\"}},\"ternary\":{\"aaxis\":{\"gridcolor\":\"white\",\"linecolor\":\"white\",\"ticks\":\"\"},\"baxis\":{\"gridcolor\":\"white\",\"linecolor\":\"white\",\"ticks\":\"\"},\"bgcolor\":\"#E5ECF6\",\"caxis\":{\"gridcolor\":\"white\",\"linecolor\":\"white\",\"ticks\":\"\"}},\"title\":{\"x\":0.05},\"xaxis\":{\"automargin\":true,\"gridcolor\":\"white\",\"linecolor\":\"white\",\"ticks\":\"\",\"title\":{\"standoff\":15},\"zerolinecolor\":\"white\",\"zerolinewidth\":2},\"yaxis\":{\"automargin\":true,\"gridcolor\":\"white\",\"linecolor\":\"white\",\"ticks\":\"\",\"title\":{\"standoff\":15},\"zerolinecolor\":\"white\",\"zerolinewidth\":2}}},\"title\":{\"text\":\"Daily vaccinations per country, grouped by vaccine scheme\"}},                        {\"responsive\": true}                    ).then(function(){\n",
       "                            \n",
       "var gd = document.getElementById('edc6548b-a3c5-4f58-8b4d-f0b2239af1ec');\n",
       "var x = new MutationObserver(function (mutations, observer) {{\n",
       "        var display = window.getComputedStyle(gd).display;\n",
       "        if (!display || display === 'none') {{\n",
       "            console.log([gd, 'removed!']);\n",
       "            Plotly.purge(gd);\n",
       "            observer.disconnect();\n",
       "        }}\n",
       "}});\n",
       "\n",
       "// Listen for the removal of the full notebook cells\n",
       "var notebookContainer = gd.closest('#notebook-container');\n",
       "if (notebookContainer) {{\n",
       "    x.observe(notebookContainer, {childList: true});\n",
       "}}\n",
       "\n",
       "// Listen for the clearing of the current output cell\n",
       "var outputEl = gd.closest('.output');\n",
       "if (outputEl) {{\n",
       "    x.observe(outputEl, {childList: true});\n",
       "}}\n",
       "\n",
       "                        })                };                });            </script>        </div>"
      ]
     },
     "metadata": {},
     "output_type": "display_data"
    }
   ],
   "source": [
    "fig = px.treemap(country_vaccine, path = ['Vaccines', 'Country'], values = 'Daily vaccinations',\n",
    "                title=\"Daily vaccinations per country, grouped by vaccine scheme\")\n",
    "fig.show()"
   ]
  },
  {
   "cell_type": "code",
   "execution_count": 23,
   "metadata": {},
   "outputs": [],
   "source": [
    "def draw_trace_bar(data, feature, title, xlab, ylab,color='Blue'):\n",
    "    data = data.sort_values(feature, ascending=False).groupby(feature).head(5)\n",
    "    trace = go.Bar(\n",
    "            x = data['Country'],\n",
    "            y = data[feature],\n",
    "            marker=dict(color=color),\n",
    "            text=data['Country']\n",
    "        )\n",
    "    data = [trace]\n",
    "\n",
    "    layout = dict(title = title,\n",
    "              xaxis = dict(title = xlab, showticklabels=True, tickangle=45, \n",
    "                           zeroline=True, zerolinewidth=1, zerolinecolor='grey',\n",
    "                           showline=True, linewidth=2, linecolor='black', mirror=True,\n",
    "                          tickfont=dict(\n",
    "                            size=10,\n",
    "                            color='black'),), \n",
    "              yaxis = dict(title = ylab, gridcolor='lightgrey', zeroline=True, zerolinewidth=1, zerolinecolor='grey',\n",
    "                          showline=True, linewidth=2, linecolor='black', mirror=True),\n",
    "              plot_bgcolor = 'rgba(0, 0, 0, 0)', paper_bgcolor = 'rgba(0, 0, 0, 0)',\n",
    "              hovermode = 'closest'\n",
    "             )\n",
    "    fig = dict(data = data, layout = layout)\n",
    "    iplot(fig, filename='draw_trace')"
   ]
  },
  {
   "cell_type": "code",
   "execution_count": 24,
   "metadata": {
    "scrolled": true
   },
   "outputs": [
    {
     "data": {
      "application/vnd.plotly.v1+json": {
       "config": {
        "linkText": "Export to plot.ly",
        "plotlyServerURL": "https://plot.ly",
        "showLink": false
       },
       "data": [
        {
         "marker": {
          "color": "Darkgreen"
         },
         "text": [
          "China",
          "United States",
          "India",
          "Brazil",
          "United Kingdom",
          "Germany",
          "England",
          "France",
          "Italy",
          "Turkey",
          "Mexico",
          "Spain",
          "Indonesia",
          "Russia",
          "Canada",
          "Japan",
          "Poland",
          "Chile",
          "Argentina",
          "South Korea",
          "Morocco",
          "Saudi Arabia",
          "Colombia",
          "United Arab Emirates",
          "Netherlands",
          "Pakistan",
          "Israel",
          "Bangladesh",
          "Belgium",
          "Hungary",
          "Romania",
          "Philippines",
          "Thailand",
          "Portugal",
          "Greece",
          "Czechia",
          "Dominican Republic",
          "Austria",
          "Sweden",
          "Australia",
          "Switzerland",
          "Scotland",
          "Peru",
          "Cambodia",
          "Malaysia",
          "Serbia",
          "Cuba",
          "Iran",
          "Singapore",
          "Kazakhstan",
          "Egypt",
          "Finland",
          "Wales",
          "Norway",
          "Mongolia",
          "Ecuador",
          "Uruguay",
          "Sri Lanka",
          "Slovakia",
          "Nepal",
          "Hong Kong",
          "Ireland",
          "Denmark",
          "Kuwait",
          "Jordan",
          "Myanmar",
          "Azerbaijan",
          "Qatar",
          "Uzbekistan",
          "Algeria",
          "El Salvador",
          "Vietnam",
          "Croatia",
          "Nigeria",
          "Bolivia",
          "Costa Rica",
          "South Africa",
          "Lithuania",
          "Ukraine",
          "Ethiopia",
          "Northern Ireland",
          "Bahrain",
          "Bulgaria",
          "Tunisia",
          "Taiwan",
          "Panama",
          "Slovenia",
          "Angola",
          "Venezuela",
          "Ghana",
          "Laos",
          "Kenya",
          "Zimbabwe",
          "Lebanon",
          "Latvia",
          "Belarus",
          "Estonia",
          "New Zealand",
          "Albania",
          "Uganda",
          "Guatemala",
          "Cyprus",
          "Cote d'Ivoire",
          "Oman",
          "Palestine",
          "Iraq",
          "Paraguay",
          "Afghanistan",
          "Senegal",
          "Moldova",
          "Malta",
          "Sudan",
          "Mauritius",
          "Rwanda",
          "Honduras",
          "Maldives",
          "Bhutan",
          "North Macedonia",
          "Luxembourg",
          "Guinea",
          "Malawi",
          "Mozambique",
          "Iceland",
          "Libya",
          "Togo",
          "Georgia",
          "Guyana",
          "Bosnia and Herzegovina",
          "Macao",
          "Montenegro",
          "Equatorial Guinea",
          "Yemen",
          "Fiji",
          "Trinidad and Tobago",
          "Jamaica",
          "Madagascar",
          "Niger",
          "Mali",
          "Suriname",
          "Nicaragua",
          "Curacao",
          "Somalia",
          "Barbados",
          "Botswana",
          "Zambia",
          "Seychelles",
          "Mauritania",
          "Kyrgyzstan",
          "Kosovo",
          "Northern Cyprus",
          "Namibia",
          "Aruba",
          "French Polynesia",
          "Jersey",
          "Timor",
          "Tajikistan",
          "New Caledonia",
          "Belize",
          "Sierra Leone",
          "Cameroon",
          "Isle of Man",
          "Cayman Islands",
          "Comoros",
          "Bahamas",
          "Gibraltar",
          "Bermuda",
          "Guernsey",
          "Syria",
          "Liberia",
          "Congo",
          "Brunei",
          "Cape Verde",
          "Antigua and Barbuda",
          "Armenia",
          "Saint Lucia",
          "Andorra",
          "San Marino",
          "Democratic Republic of Congo",
          "Central African Republic",
          "Faeroe Islands",
          "Turkmenistan",
          "Gabon",
          "Gambia",
          "Samoa",
          "Papua New Guinea",
          "Turks and Caicos Islands",
          "Dominica",
          "Lesotho",
          "Sint Maarten (Dutch part)",
          "Eswatini",
          "Monaco",
          "Saint Kitts and Nevis",
          "Greenland",
          "Tonga",
          "South Sudan",
          "Grenada",
          "Liechtenstein",
          "Benin",
          "Sao Tome and Principe",
          "Saint Vincent and the Grenadines",
          "Djibouti",
          "British Virgin Islands",
          "Guinea-Bissau",
          "Burkina Faso",
          "Solomon Islands",
          "Anguilla",
          "Cook Islands",
          "Wallis and Futuna",
          "Saint Helena",
          "Nauru",
          "Bonaire Sint Eustatius and Saba",
          "Chad",
          "Vanuatu",
          "Tuvalu",
          "Falkland Islands",
          "Montserrat",
          "Pitcairn"
         ],
         "type": "bar",
         "x": [
          "China",
          "United States",
          "India",
          "Brazil",
          "United Kingdom",
          "Germany",
          "England",
          "France",
          "Italy",
          "Turkey",
          "Mexico",
          "Spain",
          "Indonesia",
          "Russia",
          "Canada",
          "Japan",
          "Poland",
          "Chile",
          "Argentina",
          "South Korea",
          "Morocco",
          "Saudi Arabia",
          "Colombia",
          "United Arab Emirates",
          "Netherlands",
          "Pakistan",
          "Israel",
          "Bangladesh",
          "Belgium",
          "Hungary",
          "Romania",
          "Philippines",
          "Thailand",
          "Portugal",
          "Greece",
          "Czechia",
          "Dominican Republic",
          "Austria",
          "Sweden",
          "Australia",
          "Switzerland",
          "Scotland",
          "Peru",
          "Cambodia",
          "Malaysia",
          "Serbia",
          "Cuba",
          "Iran",
          "Singapore",
          "Kazakhstan",
          "Egypt",
          "Finland",
          "Wales",
          "Norway",
          "Mongolia",
          "Ecuador",
          "Uruguay",
          "Sri Lanka",
          "Slovakia",
          "Nepal",
          "Hong Kong",
          "Ireland",
          "Denmark",
          "Kuwait",
          "Jordan",
          "Myanmar",
          "Azerbaijan",
          "Qatar",
          "Uzbekistan",
          "Algeria",
          "El Salvador",
          "Vietnam",
          "Croatia",
          "Nigeria",
          "Bolivia",
          "Costa Rica",
          "South Africa",
          "Lithuania",
          "Ukraine",
          "Ethiopia",
          "Northern Ireland",
          "Bahrain",
          "Bulgaria",
          "Tunisia",
          "Taiwan",
          "Panama",
          "Slovenia",
          "Angola",
          "Venezuela",
          "Ghana",
          "Laos",
          "Kenya",
          "Zimbabwe",
          "Lebanon",
          "Latvia",
          "Belarus",
          "Estonia",
          "New Zealand",
          "Albania",
          "Uganda",
          "Guatemala",
          "Cyprus",
          "Cote d'Ivoire",
          "Oman",
          "Palestine",
          "Iraq",
          "Paraguay",
          "Afghanistan",
          "Senegal",
          "Moldova",
          "Malta",
          "Sudan",
          "Mauritius",
          "Rwanda",
          "Honduras",
          "Maldives",
          "Bhutan",
          "North Macedonia",
          "Luxembourg",
          "Guinea",
          "Malawi",
          "Mozambique",
          "Iceland",
          "Libya",
          "Togo",
          "Georgia",
          "Guyana",
          "Bosnia and Herzegovina",
          "Macao",
          "Montenegro",
          "Equatorial Guinea",
          "Yemen",
          "Fiji",
          "Trinidad and Tobago",
          "Jamaica",
          "Madagascar",
          "Niger",
          "Mali",
          "Suriname",
          "Nicaragua",
          "Curacao",
          "Somalia",
          "Barbados",
          "Botswana",
          "Zambia",
          "Seychelles",
          "Mauritania",
          "Kyrgyzstan",
          "Kosovo",
          "Northern Cyprus",
          "Namibia",
          "Aruba",
          "French Polynesia",
          "Jersey",
          "Timor",
          "Tajikistan",
          "New Caledonia",
          "Belize",
          "Sierra Leone",
          "Cameroon",
          "Isle of Man",
          "Cayman Islands",
          "Comoros",
          "Bahamas",
          "Gibraltar",
          "Bermuda",
          "Guernsey",
          "Syria",
          "Liberia",
          "Congo",
          "Brunei",
          "Cape Verde",
          "Antigua and Barbuda",
          "Armenia",
          "Saint Lucia",
          "Andorra",
          "San Marino",
          "Democratic Republic of Congo",
          "Central African Republic",
          "Faeroe Islands",
          "Turkmenistan",
          "Gabon",
          "Gambia",
          "Samoa",
          "Papua New Guinea",
          "Turks and Caicos Islands",
          "Dominica",
          "Lesotho",
          "Sint Maarten (Dutch part)",
          "Eswatini",
          "Monaco",
          "Saint Kitts and Nevis",
          "Greenland",
          "Tonga",
          "South Sudan",
          "Grenada",
          "Liechtenstein",
          "Benin",
          "Sao Tome and Principe",
          "Saint Vincent and the Grenadines",
          "Djibouti",
          "British Virgin Islands",
          "Guinea-Bissau",
          "Burkina Faso",
          "Solomon Islands",
          "Anguilla",
          "Cook Islands",
          "Wallis and Futuna",
          "Saint Helena",
          "Nauru",
          "Bonaire Sint Eustatius and Saba",
          "Chad",
          "Vanuatu",
          "Tuvalu",
          "Falkland Islands",
          "Montserrat",
          "Pitcairn"
         ],
         "y": [
          1029223000,
          317966408,
          274286599,
          86960570,
          74577678,
          66454623,
          62636714,
          48213297,
          46016709,
          42613378,
          40031327,
          35412140,
          35283078,
          34901304,
          32189274,
          31592030,
          26494562,
          21385816,
          18085389,
          17946801,
          17494081,
          16649095,
          14953869,
          14512626,
          12927990,
          12750760,
          10645542,
          10083608,
          9642996,
          9249943,
          8736769,
          8407342,
          7587178,
          7575648,
          7508584,
          7229505,
          7012445,
          6874440,
          6731352,
          6556029,
          6405316,
          6234407,
          6137047,
          6098584,
          5815575,
          5146241,
          4855270,
          4792881,
          4691386,
          4397655,
          4010467,
          3929061,
          3755314,
          3634323,
          3608480,
          3558254,
          3509364,
          3261432,
          3242169,
          3231849,
          3220603,
          3218310,
          3200785,
          3100000,
          3099657,
          2994900,
          2989458,
          2886323,
          2695058,
          2500000,
          2466561,
          2422643,
          2359472,
          2225765,
          2181452,
          2150520,
          2141624,
          2089104,
          2086492,
          1974476,
          1951243,
          1943301,
          1660175,
          1583153,
          1541732,
          1412477,
          1394087,
          1380174,
          1302992,
          1232876,
          1208878,
          1183376,
          1138733,
          1130669,
          1070843,
          1068413,
          899962,
          891702,
          880912,
          821659,
          808754,
          739365,
          725916,
          720199,
          716393,
          703820,
          662804,
          662003,
          632648,
          631346,
          628735,
          610924,
          598863,
          578569,
          541792,
          497871,
          484189,
          473853,
          468346,
          452651,
          420685,
          394930,
          355178,
          351408,
          347246,
          316599,
          315816,
          315780,
          291995,
          275658,
          257146,
          251385,
          242539,
          215991,
          194315,
          188752,
          186207,
          176038,
          175694,
          167500,
          164397,
          159923,
          155423,
          150019,
          148304,
          137676,
          136003,
          135578,
          133868,
          129743,
          124064,
          123890,
          119393,
          116607,
          110531,
          102711,
          101168,
          97404,
          97315,
          97245,
          95763,
          87517,
          84360,
          79246,
          77831,
          76860,
          76401,
          71519,
          68821,
          67511,
          66972,
          63606,
          62204,
          55557,
          51178,
          51107,
          44064,
          42951,
          42644,
          42457,
          41993,
          41737,
          40810,
          40230,
          38176,
          38110,
          37978,
          36759,
          36209,
          35227,
          33965,
          32415,
          32175,
          29980,
          29410,
          29157,
          28606,
          26624,
          23918,
          23087,
          21357,
          20278,
          18706,
          17775,
          17000,
          15198,
          12254,
          8657,
          7892,
          7438,
          7391,
          5324,
          5140,
          4772,
          4407,
          2600,
          47
         ]
        }
       ],
       "layout": {
        "hovermode": "closest",
        "paper_bgcolor": "rgba(0, 0, 0, 0)",
        "plot_bgcolor": "rgba(0, 0, 0, 0)",
        "template": {
         "data": {
          "bar": [
           {
            "error_x": {
             "color": "#2a3f5f"
            },
            "error_y": {
             "color": "#2a3f5f"
            },
            "marker": {
             "line": {
              "color": "#E5ECF6",
              "width": 0.5
             },
             "pattern": {
              "fillmode": "overlay",
              "size": 10,
              "solidity": 0.2
             }
            },
            "type": "bar"
           }
          ],
          "barpolar": [
           {
            "marker": {
             "line": {
              "color": "#E5ECF6",
              "width": 0.5
             },
             "pattern": {
              "fillmode": "overlay",
              "size": 10,
              "solidity": 0.2
             }
            },
            "type": "barpolar"
           }
          ],
          "carpet": [
           {
            "aaxis": {
             "endlinecolor": "#2a3f5f",
             "gridcolor": "white",
             "linecolor": "white",
             "minorgridcolor": "white",
             "startlinecolor": "#2a3f5f"
            },
            "baxis": {
             "endlinecolor": "#2a3f5f",
             "gridcolor": "white",
             "linecolor": "white",
             "minorgridcolor": "white",
             "startlinecolor": "#2a3f5f"
            },
            "type": "carpet"
           }
          ],
          "choropleth": [
           {
            "colorbar": {
             "outlinewidth": 0,
             "ticks": ""
            },
            "type": "choropleth"
           }
          ],
          "contour": [
           {
            "colorbar": {
             "outlinewidth": 0,
             "ticks": ""
            },
            "colorscale": [
             [
              0,
              "#0d0887"
             ],
             [
              0.1111111111111111,
              "#46039f"
             ],
             [
              0.2222222222222222,
              "#7201a8"
             ],
             [
              0.3333333333333333,
              "#9c179e"
             ],
             [
              0.4444444444444444,
              "#bd3786"
             ],
             [
              0.5555555555555556,
              "#d8576b"
             ],
             [
              0.6666666666666666,
              "#ed7953"
             ],
             [
              0.7777777777777778,
              "#fb9f3a"
             ],
             [
              0.8888888888888888,
              "#fdca26"
             ],
             [
              1,
              "#f0f921"
             ]
            ],
            "type": "contour"
           }
          ],
          "contourcarpet": [
           {
            "colorbar": {
             "outlinewidth": 0,
             "ticks": ""
            },
            "type": "contourcarpet"
           }
          ],
          "heatmap": [
           {
            "colorbar": {
             "outlinewidth": 0,
             "ticks": ""
            },
            "colorscale": [
             [
              0,
              "#0d0887"
             ],
             [
              0.1111111111111111,
              "#46039f"
             ],
             [
              0.2222222222222222,
              "#7201a8"
             ],
             [
              0.3333333333333333,
              "#9c179e"
             ],
             [
              0.4444444444444444,
              "#bd3786"
             ],
             [
              0.5555555555555556,
              "#d8576b"
             ],
             [
              0.6666666666666666,
              "#ed7953"
             ],
             [
              0.7777777777777778,
              "#fb9f3a"
             ],
             [
              0.8888888888888888,
              "#fdca26"
             ],
             [
              1,
              "#f0f921"
             ]
            ],
            "type": "heatmap"
           }
          ],
          "heatmapgl": [
           {
            "colorbar": {
             "outlinewidth": 0,
             "ticks": ""
            },
            "colorscale": [
             [
              0,
              "#0d0887"
             ],
             [
              0.1111111111111111,
              "#46039f"
             ],
             [
              0.2222222222222222,
              "#7201a8"
             ],
             [
              0.3333333333333333,
              "#9c179e"
             ],
             [
              0.4444444444444444,
              "#bd3786"
             ],
             [
              0.5555555555555556,
              "#d8576b"
             ],
             [
              0.6666666666666666,
              "#ed7953"
             ],
             [
              0.7777777777777778,
              "#fb9f3a"
             ],
             [
              0.8888888888888888,
              "#fdca26"
             ],
             [
              1,
              "#f0f921"
             ]
            ],
            "type": "heatmapgl"
           }
          ],
          "histogram": [
           {
            "marker": {
             "pattern": {
              "fillmode": "overlay",
              "size": 10,
              "solidity": 0.2
             }
            },
            "type": "histogram"
           }
          ],
          "histogram2d": [
           {
            "colorbar": {
             "outlinewidth": 0,
             "ticks": ""
            },
            "colorscale": [
             [
              0,
              "#0d0887"
             ],
             [
              0.1111111111111111,
              "#46039f"
             ],
             [
              0.2222222222222222,
              "#7201a8"
             ],
             [
              0.3333333333333333,
              "#9c179e"
             ],
             [
              0.4444444444444444,
              "#bd3786"
             ],
             [
              0.5555555555555556,
              "#d8576b"
             ],
             [
              0.6666666666666666,
              "#ed7953"
             ],
             [
              0.7777777777777778,
              "#fb9f3a"
             ],
             [
              0.8888888888888888,
              "#fdca26"
             ],
             [
              1,
              "#f0f921"
             ]
            ],
            "type": "histogram2d"
           }
          ],
          "histogram2dcontour": [
           {
            "colorbar": {
             "outlinewidth": 0,
             "ticks": ""
            },
            "colorscale": [
             [
              0,
              "#0d0887"
             ],
             [
              0.1111111111111111,
              "#46039f"
             ],
             [
              0.2222222222222222,
              "#7201a8"
             ],
             [
              0.3333333333333333,
              "#9c179e"
             ],
             [
              0.4444444444444444,
              "#bd3786"
             ],
             [
              0.5555555555555556,
              "#d8576b"
             ],
             [
              0.6666666666666666,
              "#ed7953"
             ],
             [
              0.7777777777777778,
              "#fb9f3a"
             ],
             [
              0.8888888888888888,
              "#fdca26"
             ],
             [
              1,
              "#f0f921"
             ]
            ],
            "type": "histogram2dcontour"
           }
          ],
          "mesh3d": [
           {
            "colorbar": {
             "outlinewidth": 0,
             "ticks": ""
            },
            "type": "mesh3d"
           }
          ],
          "parcoords": [
           {
            "line": {
             "colorbar": {
              "outlinewidth": 0,
              "ticks": ""
             }
            },
            "type": "parcoords"
           }
          ],
          "pie": [
           {
            "automargin": true,
            "type": "pie"
           }
          ],
          "scatter": [
           {
            "marker": {
             "colorbar": {
              "outlinewidth": 0,
              "ticks": ""
             }
            },
            "type": "scatter"
           }
          ],
          "scatter3d": [
           {
            "line": {
             "colorbar": {
              "outlinewidth": 0,
              "ticks": ""
             }
            },
            "marker": {
             "colorbar": {
              "outlinewidth": 0,
              "ticks": ""
             }
            },
            "type": "scatter3d"
           }
          ],
          "scattercarpet": [
           {
            "marker": {
             "colorbar": {
              "outlinewidth": 0,
              "ticks": ""
             }
            },
            "type": "scattercarpet"
           }
          ],
          "scattergeo": [
           {
            "marker": {
             "colorbar": {
              "outlinewidth": 0,
              "ticks": ""
             }
            },
            "type": "scattergeo"
           }
          ],
          "scattergl": [
           {
            "marker": {
             "colorbar": {
              "outlinewidth": 0,
              "ticks": ""
             }
            },
            "type": "scattergl"
           }
          ],
          "scattermapbox": [
           {
            "marker": {
             "colorbar": {
              "outlinewidth": 0,
              "ticks": ""
             }
            },
            "type": "scattermapbox"
           }
          ],
          "scatterpolar": [
           {
            "marker": {
             "colorbar": {
              "outlinewidth": 0,
              "ticks": ""
             }
            },
            "type": "scatterpolar"
           }
          ],
          "scatterpolargl": [
           {
            "marker": {
             "colorbar": {
              "outlinewidth": 0,
              "ticks": ""
             }
            },
            "type": "scatterpolargl"
           }
          ],
          "scatterternary": [
           {
            "marker": {
             "colorbar": {
              "outlinewidth": 0,
              "ticks": ""
             }
            },
            "type": "scatterternary"
           }
          ],
          "surface": [
           {
            "colorbar": {
             "outlinewidth": 0,
             "ticks": ""
            },
            "colorscale": [
             [
              0,
              "#0d0887"
             ],
             [
              0.1111111111111111,
              "#46039f"
             ],
             [
              0.2222222222222222,
              "#7201a8"
             ],
             [
              0.3333333333333333,
              "#9c179e"
             ],
             [
              0.4444444444444444,
              "#bd3786"
             ],
             [
              0.5555555555555556,
              "#d8576b"
             ],
             [
              0.6666666666666666,
              "#ed7953"
             ],
             [
              0.7777777777777778,
              "#fb9f3a"
             ],
             [
              0.8888888888888888,
              "#fdca26"
             ],
             [
              1,
              "#f0f921"
             ]
            ],
            "type": "surface"
           }
          ],
          "table": [
           {
            "cells": {
             "fill": {
              "color": "#EBF0F8"
             },
             "line": {
              "color": "white"
             }
            },
            "header": {
             "fill": {
              "color": "#C8D4E3"
             },
             "line": {
              "color": "white"
             }
            },
            "type": "table"
           }
          ]
         },
         "layout": {
          "annotationdefaults": {
           "arrowcolor": "#2a3f5f",
           "arrowhead": 0,
           "arrowwidth": 1
          },
          "autotypenumbers": "strict",
          "coloraxis": {
           "colorbar": {
            "outlinewidth": 0,
            "ticks": ""
           }
          },
          "colorscale": {
           "diverging": [
            [
             0,
             "#8e0152"
            ],
            [
             0.1,
             "#c51b7d"
            ],
            [
             0.2,
             "#de77ae"
            ],
            [
             0.3,
             "#f1b6da"
            ],
            [
             0.4,
             "#fde0ef"
            ],
            [
             0.5,
             "#f7f7f7"
            ],
            [
             0.6,
             "#e6f5d0"
            ],
            [
             0.7,
             "#b8e186"
            ],
            [
             0.8,
             "#7fbc41"
            ],
            [
             0.9,
             "#4d9221"
            ],
            [
             1,
             "#276419"
            ]
           ],
           "sequential": [
            [
             0,
             "#0d0887"
            ],
            [
             0.1111111111111111,
             "#46039f"
            ],
            [
             0.2222222222222222,
             "#7201a8"
            ],
            [
             0.3333333333333333,
             "#9c179e"
            ],
            [
             0.4444444444444444,
             "#bd3786"
            ],
            [
             0.5555555555555556,
             "#d8576b"
            ],
            [
             0.6666666666666666,
             "#ed7953"
            ],
            [
             0.7777777777777778,
             "#fb9f3a"
            ],
            [
             0.8888888888888888,
             "#fdca26"
            ],
            [
             1,
             "#f0f921"
            ]
           ],
           "sequentialminus": [
            [
             0,
             "#0d0887"
            ],
            [
             0.1111111111111111,
             "#46039f"
            ],
            [
             0.2222222222222222,
             "#7201a8"
            ],
            [
             0.3333333333333333,
             "#9c179e"
            ],
            [
             0.4444444444444444,
             "#bd3786"
            ],
            [
             0.5555555555555556,
             "#d8576b"
            ],
            [
             0.6666666666666666,
             "#ed7953"
            ],
            [
             0.7777777777777778,
             "#fb9f3a"
            ],
            [
             0.8888888888888888,
             "#fdca26"
            ],
            [
             1,
             "#f0f921"
            ]
           ]
          },
          "colorway": [
           "#636efa",
           "#EF553B",
           "#00cc96",
           "#ab63fa",
           "#FFA15A",
           "#19d3f3",
           "#FF6692",
           "#B6E880",
           "#FF97FF",
           "#FECB52"
          ],
          "font": {
           "color": "#2a3f5f"
          },
          "geo": {
           "bgcolor": "white",
           "lakecolor": "white",
           "landcolor": "#E5ECF6",
           "showlakes": true,
           "showland": true,
           "subunitcolor": "white"
          },
          "hoverlabel": {
           "align": "left"
          },
          "hovermode": "closest",
          "mapbox": {
           "style": "light"
          },
          "paper_bgcolor": "white",
          "plot_bgcolor": "#E5ECF6",
          "polar": {
           "angularaxis": {
            "gridcolor": "white",
            "linecolor": "white",
            "ticks": ""
           },
           "bgcolor": "#E5ECF6",
           "radialaxis": {
            "gridcolor": "white",
            "linecolor": "white",
            "ticks": ""
           }
          },
          "scene": {
           "xaxis": {
            "backgroundcolor": "#E5ECF6",
            "gridcolor": "white",
            "gridwidth": 2,
            "linecolor": "white",
            "showbackground": true,
            "ticks": "",
            "zerolinecolor": "white"
           },
           "yaxis": {
            "backgroundcolor": "#E5ECF6",
            "gridcolor": "white",
            "gridwidth": 2,
            "linecolor": "white",
            "showbackground": true,
            "ticks": "",
            "zerolinecolor": "white"
           },
           "zaxis": {
            "backgroundcolor": "#E5ECF6",
            "gridcolor": "white",
            "gridwidth": 2,
            "linecolor": "white",
            "showbackground": true,
            "ticks": "",
            "zerolinecolor": "white"
           }
          },
          "shapedefaults": {
           "line": {
            "color": "#2a3f5f"
           }
          },
          "ternary": {
           "aaxis": {
            "gridcolor": "white",
            "linecolor": "white",
            "ticks": ""
           },
           "baxis": {
            "gridcolor": "white",
            "linecolor": "white",
            "ticks": ""
           },
           "bgcolor": "#E5ECF6",
           "caxis": {
            "gridcolor": "white",
            "linecolor": "white",
            "ticks": ""
           }
          },
          "title": {
           "x": 0.05
          },
          "xaxis": {
           "automargin": true,
           "gridcolor": "white",
           "linecolor": "white",
           "ticks": "",
           "title": {
            "standoff": 15
           },
           "zerolinecolor": "white",
           "zerolinewidth": 2
          },
          "yaxis": {
           "automargin": true,
           "gridcolor": "white",
           "linecolor": "white",
           "ticks": "",
           "title": {
            "standoff": 15
           },
           "zerolinecolor": "white",
           "zerolinewidth": 2
          }
         }
        },
        "title": {
         "text": "Vaccination total per country"
        },
        "xaxis": {
         "linecolor": "black",
         "linewidth": 2,
         "mirror": true,
         "showline": true,
         "showticklabels": true,
         "tickangle": 45,
         "tickfont": {
          "color": "black",
          "size": 10
         },
         "title": {
          "text": "Country"
         },
         "zeroline": true,
         "zerolinecolor": "grey",
         "zerolinewidth": 1
        },
        "yaxis": {
         "gridcolor": "lightgrey",
         "linecolor": "black",
         "linewidth": 2,
         "mirror": true,
         "showline": true,
         "title": {
          "text": "Vaccination total"
         },
         "zeroline": true,
         "zerolinecolor": "grey",
         "zerolinewidth": 1
        }
       }
      },
      "text/html": [
       "<div>                            <div id=\"0a03908a-68b8-46a8-9781-039f5cf87ee7\" class=\"plotly-graph-div\" style=\"height:525px; width:100%;\"></div>            <script type=\"text/javascript\">                require([\"plotly\"], function(Plotly) {                    window.PLOTLYENV=window.PLOTLYENV || {};                                    if (document.getElementById(\"0a03908a-68b8-46a8-9781-039f5cf87ee7\")) {                    Plotly.newPlot(                        \"0a03908a-68b8-46a8-9781-039f5cf87ee7\",                        [{\"marker\":{\"color\":\"Darkgreen\"},\"text\":[\"China\",\"United States\",\"India\",\"Brazil\",\"United Kingdom\",\"Germany\",\"England\",\"France\",\"Italy\",\"Turkey\",\"Mexico\",\"Spain\",\"Indonesia\",\"Russia\",\"Canada\",\"Japan\",\"Poland\",\"Chile\",\"Argentina\",\"South Korea\",\"Morocco\",\"Saudi Arabia\",\"Colombia\",\"United Arab Emirates\",\"Netherlands\",\"Pakistan\",\"Israel\",\"Bangladesh\",\"Belgium\",\"Hungary\",\"Romania\",\"Philippines\",\"Thailand\",\"Portugal\",\"Greece\",\"Czechia\",\"Dominican Republic\",\"Austria\",\"Sweden\",\"Australia\",\"Switzerland\",\"Scotland\",\"Peru\",\"Cambodia\",\"Malaysia\",\"Serbia\",\"Cuba\",\"Iran\",\"Singapore\",\"Kazakhstan\",\"Egypt\",\"Finland\",\"Wales\",\"Norway\",\"Mongolia\",\"Ecuador\",\"Uruguay\",\"Sri Lanka\",\"Slovakia\",\"Nepal\",\"Hong Kong\",\"Ireland\",\"Denmark\",\"Kuwait\",\"Jordan\",\"Myanmar\",\"Azerbaijan\",\"Qatar\",\"Uzbekistan\",\"Algeria\",\"El Salvador\",\"Vietnam\",\"Croatia\",\"Nigeria\",\"Bolivia\",\"Costa Rica\",\"South Africa\",\"Lithuania\",\"Ukraine\",\"Ethiopia\",\"Northern Ireland\",\"Bahrain\",\"Bulgaria\",\"Tunisia\",\"Taiwan\",\"Panama\",\"Slovenia\",\"Angola\",\"Venezuela\",\"Ghana\",\"Laos\",\"Kenya\",\"Zimbabwe\",\"Lebanon\",\"Latvia\",\"Belarus\",\"Estonia\",\"New Zealand\",\"Albania\",\"Uganda\",\"Guatemala\",\"Cyprus\",\"Cote d'Ivoire\",\"Oman\",\"Palestine\",\"Iraq\",\"Paraguay\",\"Afghanistan\",\"Senegal\",\"Moldova\",\"Malta\",\"Sudan\",\"Mauritius\",\"Rwanda\",\"Honduras\",\"Maldives\",\"Bhutan\",\"North Macedonia\",\"Luxembourg\",\"Guinea\",\"Malawi\",\"Mozambique\",\"Iceland\",\"Libya\",\"Togo\",\"Georgia\",\"Guyana\",\"Bosnia and Herzegovina\",\"Macao\",\"Montenegro\",\"Equatorial Guinea\",\"Yemen\",\"Fiji\",\"Trinidad and Tobago\",\"Jamaica\",\"Madagascar\",\"Niger\",\"Mali\",\"Suriname\",\"Nicaragua\",\"Curacao\",\"Somalia\",\"Barbados\",\"Botswana\",\"Zambia\",\"Seychelles\",\"Mauritania\",\"Kyrgyzstan\",\"Kosovo\",\"Northern Cyprus\",\"Namibia\",\"Aruba\",\"French Polynesia\",\"Jersey\",\"Timor\",\"Tajikistan\",\"New Caledonia\",\"Belize\",\"Sierra Leone\",\"Cameroon\",\"Isle of Man\",\"Cayman Islands\",\"Comoros\",\"Bahamas\",\"Gibraltar\",\"Bermuda\",\"Guernsey\",\"Syria\",\"Liberia\",\"Congo\",\"Brunei\",\"Cape Verde\",\"Antigua and Barbuda\",\"Armenia\",\"Saint Lucia\",\"Andorra\",\"San Marino\",\"Democratic Republic of Congo\",\"Central African Republic\",\"Faeroe Islands\",\"Turkmenistan\",\"Gabon\",\"Gambia\",\"Samoa\",\"Papua New Guinea\",\"Turks and Caicos Islands\",\"Dominica\",\"Lesotho\",\"Sint Maarten (Dutch part)\",\"Eswatini\",\"Monaco\",\"Saint Kitts and Nevis\",\"Greenland\",\"Tonga\",\"South Sudan\",\"Grenada\",\"Liechtenstein\",\"Benin\",\"Sao Tome and Principe\",\"Saint Vincent and the Grenadines\",\"Djibouti\",\"British Virgin Islands\",\"Guinea-Bissau\",\"Burkina Faso\",\"Solomon Islands\",\"Anguilla\",\"Cook Islands\",\"Wallis and Futuna\",\"Saint Helena\",\"Nauru\",\"Bonaire Sint Eustatius and Saba\",\"Chad\",\"Vanuatu\",\"Tuvalu\",\"Falkland Islands\",\"Montserrat\",\"Pitcairn\"],\"type\":\"bar\",\"x\":[\"China\",\"United States\",\"India\",\"Brazil\",\"United Kingdom\",\"Germany\",\"England\",\"France\",\"Italy\",\"Turkey\",\"Mexico\",\"Spain\",\"Indonesia\",\"Russia\",\"Canada\",\"Japan\",\"Poland\",\"Chile\",\"Argentina\",\"South Korea\",\"Morocco\",\"Saudi Arabia\",\"Colombia\",\"United Arab Emirates\",\"Netherlands\",\"Pakistan\",\"Israel\",\"Bangladesh\",\"Belgium\",\"Hungary\",\"Romania\",\"Philippines\",\"Thailand\",\"Portugal\",\"Greece\",\"Czechia\",\"Dominican Republic\",\"Austria\",\"Sweden\",\"Australia\",\"Switzerland\",\"Scotland\",\"Peru\",\"Cambodia\",\"Malaysia\",\"Serbia\",\"Cuba\",\"Iran\",\"Singapore\",\"Kazakhstan\",\"Egypt\",\"Finland\",\"Wales\",\"Norway\",\"Mongolia\",\"Ecuador\",\"Uruguay\",\"Sri Lanka\",\"Slovakia\",\"Nepal\",\"Hong Kong\",\"Ireland\",\"Denmark\",\"Kuwait\",\"Jordan\",\"Myanmar\",\"Azerbaijan\",\"Qatar\",\"Uzbekistan\",\"Algeria\",\"El Salvador\",\"Vietnam\",\"Croatia\",\"Nigeria\",\"Bolivia\",\"Costa Rica\",\"South Africa\",\"Lithuania\",\"Ukraine\",\"Ethiopia\",\"Northern Ireland\",\"Bahrain\",\"Bulgaria\",\"Tunisia\",\"Taiwan\",\"Panama\",\"Slovenia\",\"Angola\",\"Venezuela\",\"Ghana\",\"Laos\",\"Kenya\",\"Zimbabwe\",\"Lebanon\",\"Latvia\",\"Belarus\",\"Estonia\",\"New Zealand\",\"Albania\",\"Uganda\",\"Guatemala\",\"Cyprus\",\"Cote d'Ivoire\",\"Oman\",\"Palestine\",\"Iraq\",\"Paraguay\",\"Afghanistan\",\"Senegal\",\"Moldova\",\"Malta\",\"Sudan\",\"Mauritius\",\"Rwanda\",\"Honduras\",\"Maldives\",\"Bhutan\",\"North Macedonia\",\"Luxembourg\",\"Guinea\",\"Malawi\",\"Mozambique\",\"Iceland\",\"Libya\",\"Togo\",\"Georgia\",\"Guyana\",\"Bosnia and Herzegovina\",\"Macao\",\"Montenegro\",\"Equatorial Guinea\",\"Yemen\",\"Fiji\",\"Trinidad and Tobago\",\"Jamaica\",\"Madagascar\",\"Niger\",\"Mali\",\"Suriname\",\"Nicaragua\",\"Curacao\",\"Somalia\",\"Barbados\",\"Botswana\",\"Zambia\",\"Seychelles\",\"Mauritania\",\"Kyrgyzstan\",\"Kosovo\",\"Northern Cyprus\",\"Namibia\",\"Aruba\",\"French Polynesia\",\"Jersey\",\"Timor\",\"Tajikistan\",\"New Caledonia\",\"Belize\",\"Sierra Leone\",\"Cameroon\",\"Isle of Man\",\"Cayman Islands\",\"Comoros\",\"Bahamas\",\"Gibraltar\",\"Bermuda\",\"Guernsey\",\"Syria\",\"Liberia\",\"Congo\",\"Brunei\",\"Cape Verde\",\"Antigua and Barbuda\",\"Armenia\",\"Saint Lucia\",\"Andorra\",\"San Marino\",\"Democratic Republic of Congo\",\"Central African Republic\",\"Faeroe Islands\",\"Turkmenistan\",\"Gabon\",\"Gambia\",\"Samoa\",\"Papua New Guinea\",\"Turks and Caicos Islands\",\"Dominica\",\"Lesotho\",\"Sint Maarten (Dutch part)\",\"Eswatini\",\"Monaco\",\"Saint Kitts and Nevis\",\"Greenland\",\"Tonga\",\"South Sudan\",\"Grenada\",\"Liechtenstein\",\"Benin\",\"Sao Tome and Principe\",\"Saint Vincent and the Grenadines\",\"Djibouti\",\"British Virgin Islands\",\"Guinea-Bissau\",\"Burkina Faso\",\"Solomon Islands\",\"Anguilla\",\"Cook Islands\",\"Wallis and Futuna\",\"Saint Helena\",\"Nauru\",\"Bonaire Sint Eustatius and Saba\",\"Chad\",\"Vanuatu\",\"Tuvalu\",\"Falkland Islands\",\"Montserrat\",\"Pitcairn\"],\"y\":[1029223000.0,317966408.0,274286599.0,86960570.0,74577678.0,66454623.0,62636714.0,48213297.0,46016709.0,42613378.0,40031327.0,35412140.0,35283078.0,34901304.0,32189274.0,31592030.0,26494562.0,21385816.0,18085389.0,17946801.0,17494081.0,16649095.0,14953869.0,14512626.0,12927990.0,12750760.0,10645542.0,10083608.0,9642996.0,9249943.0,8736769.0,8407342.0,7587178.0,7575648.0,7508584.0,7229505.0,7012445.0,6874440.0,6731352.0,6556029.0,6405316.0,6234407.0,6137047.0,6098584.0,5815575.0,5146241.0,4855270.0,4792881.0,4691386.0,4397655.0,4010467.0,3929061.0,3755314.0,3634323.0,3608480.0,3558254.0,3509364.0,3261432.0,3242169.0,3231849.0,3220603.0,3218310.0,3200785.0,3100000.0,3099657.0,2994900.0,2989458.0,2886323.0,2695058.0,2500000.0,2466561.0,2422643.0,2359472.0,2225765.0,2181452.0,2150520.0,2141624.0,2089104.0,2086492.0,1974476.0,1951243.0,1943301.0,1660175.0,1583153.0,1541732.0,1412477.0,1394087.0,1380174.0,1302992.0,1232876.0,1208878.0,1183376.0,1138733.0,1130669.0,1070843.0,1068413.0,899962.0,891702.0,880912.0,821659.0,808754.0,739365.0,725916.0,720199.0,716393.0,703820.0,662804.0,662003.0,632648.0,631346.0,628735.0,610924.0,598863.0,578569.0,541792.0,497871.0,484189.0,473853.0,468346.0,452651.0,420685.0,394930.0,355178.0,351408.0,347246.0,316599.0,315816.0,315780.0,291995.0,275658.0,257146.0,251385.0,242539.0,215991.0,194315.0,188752.0,186207.0,176038.0,175694.0,167500.0,164397.0,159923.0,155423.0,150019.0,148304.0,137676.0,136003.0,135578.0,133868.0,129743.0,124064.0,123890.0,119393.0,116607.0,110531.0,102711.0,101168.0,97404.0,97315.0,97245.0,95763.0,87517.0,84360.0,79246.0,77831.0,76860.0,76401.0,71519.0,68821.0,67511.0,66972.0,63606.0,62204.0,55557.0,51178.0,51107.0,44064.0,42951.0,42644.0,42457.0,41993.0,41737.0,40810.0,40230.0,38176.0,38110.0,37978.0,36759.0,36209.0,35227.0,33965.0,32415.0,32175.0,29980.0,29410.0,29157.0,28606.0,26624.0,23918.0,23087.0,21357.0,20278.0,18706.0,17775.0,17000.0,15198.0,12254.0,8657.0,7892.0,7438.0,7391.0,5324.0,5140.0,4772.0,4407.0,2600.0,47.0]}],                        {\"hovermode\":\"closest\",\"paper_bgcolor\":\"rgba(0, 0, 0, 0)\",\"plot_bgcolor\":\"rgba(0, 0, 0, 0)\",\"template\":{\"data\":{\"bar\":[{\"error_x\":{\"color\":\"#2a3f5f\"},\"error_y\":{\"color\":\"#2a3f5f\"},\"marker\":{\"line\":{\"color\":\"#E5ECF6\",\"width\":0.5},\"pattern\":{\"fillmode\":\"overlay\",\"size\":10,\"solidity\":0.2}},\"type\":\"bar\"}],\"barpolar\":[{\"marker\":{\"line\":{\"color\":\"#E5ECF6\",\"width\":0.5},\"pattern\":{\"fillmode\":\"overlay\",\"size\":10,\"solidity\":0.2}},\"type\":\"barpolar\"}],\"carpet\":[{\"aaxis\":{\"endlinecolor\":\"#2a3f5f\",\"gridcolor\":\"white\",\"linecolor\":\"white\",\"minorgridcolor\":\"white\",\"startlinecolor\":\"#2a3f5f\"},\"baxis\":{\"endlinecolor\":\"#2a3f5f\",\"gridcolor\":\"white\",\"linecolor\":\"white\",\"minorgridcolor\":\"white\",\"startlinecolor\":\"#2a3f5f\"},\"type\":\"carpet\"}],\"choropleth\":[{\"colorbar\":{\"outlinewidth\":0,\"ticks\":\"\"},\"type\":\"choropleth\"}],\"contour\":[{\"colorbar\":{\"outlinewidth\":0,\"ticks\":\"\"},\"colorscale\":[[0.0,\"#0d0887\"],[0.1111111111111111,\"#46039f\"],[0.2222222222222222,\"#7201a8\"],[0.3333333333333333,\"#9c179e\"],[0.4444444444444444,\"#bd3786\"],[0.5555555555555556,\"#d8576b\"],[0.6666666666666666,\"#ed7953\"],[0.7777777777777778,\"#fb9f3a\"],[0.8888888888888888,\"#fdca26\"],[1.0,\"#f0f921\"]],\"type\":\"contour\"}],\"contourcarpet\":[{\"colorbar\":{\"outlinewidth\":0,\"ticks\":\"\"},\"type\":\"contourcarpet\"}],\"heatmap\":[{\"colorbar\":{\"outlinewidth\":0,\"ticks\":\"\"},\"colorscale\":[[0.0,\"#0d0887\"],[0.1111111111111111,\"#46039f\"],[0.2222222222222222,\"#7201a8\"],[0.3333333333333333,\"#9c179e\"],[0.4444444444444444,\"#bd3786\"],[0.5555555555555556,\"#d8576b\"],[0.6666666666666666,\"#ed7953\"],[0.7777777777777778,\"#fb9f3a\"],[0.8888888888888888,\"#fdca26\"],[1.0,\"#f0f921\"]],\"type\":\"heatmap\"}],\"heatmapgl\":[{\"colorbar\":{\"outlinewidth\":0,\"ticks\":\"\"},\"colorscale\":[[0.0,\"#0d0887\"],[0.1111111111111111,\"#46039f\"],[0.2222222222222222,\"#7201a8\"],[0.3333333333333333,\"#9c179e\"],[0.4444444444444444,\"#bd3786\"],[0.5555555555555556,\"#d8576b\"],[0.6666666666666666,\"#ed7953\"],[0.7777777777777778,\"#fb9f3a\"],[0.8888888888888888,\"#fdca26\"],[1.0,\"#f0f921\"]],\"type\":\"heatmapgl\"}],\"histogram\":[{\"marker\":{\"pattern\":{\"fillmode\":\"overlay\",\"size\":10,\"solidity\":0.2}},\"type\":\"histogram\"}],\"histogram2d\":[{\"colorbar\":{\"outlinewidth\":0,\"ticks\":\"\"},\"colorscale\":[[0.0,\"#0d0887\"],[0.1111111111111111,\"#46039f\"],[0.2222222222222222,\"#7201a8\"],[0.3333333333333333,\"#9c179e\"],[0.4444444444444444,\"#bd3786\"],[0.5555555555555556,\"#d8576b\"],[0.6666666666666666,\"#ed7953\"],[0.7777777777777778,\"#fb9f3a\"],[0.8888888888888888,\"#fdca26\"],[1.0,\"#f0f921\"]],\"type\":\"histogram2d\"}],\"histogram2dcontour\":[{\"colorbar\":{\"outlinewidth\":0,\"ticks\":\"\"},\"colorscale\":[[0.0,\"#0d0887\"],[0.1111111111111111,\"#46039f\"],[0.2222222222222222,\"#7201a8\"],[0.3333333333333333,\"#9c179e\"],[0.4444444444444444,\"#bd3786\"],[0.5555555555555556,\"#d8576b\"],[0.6666666666666666,\"#ed7953\"],[0.7777777777777778,\"#fb9f3a\"],[0.8888888888888888,\"#fdca26\"],[1.0,\"#f0f921\"]],\"type\":\"histogram2dcontour\"}],\"mesh3d\":[{\"colorbar\":{\"outlinewidth\":0,\"ticks\":\"\"},\"type\":\"mesh3d\"}],\"parcoords\":[{\"line\":{\"colorbar\":{\"outlinewidth\":0,\"ticks\":\"\"}},\"type\":\"parcoords\"}],\"pie\":[{\"automargin\":true,\"type\":\"pie\"}],\"scatter\":[{\"marker\":{\"colorbar\":{\"outlinewidth\":0,\"ticks\":\"\"}},\"type\":\"scatter\"}],\"scatter3d\":[{\"line\":{\"colorbar\":{\"outlinewidth\":0,\"ticks\":\"\"}},\"marker\":{\"colorbar\":{\"outlinewidth\":0,\"ticks\":\"\"}},\"type\":\"scatter3d\"}],\"scattercarpet\":[{\"marker\":{\"colorbar\":{\"outlinewidth\":0,\"ticks\":\"\"}},\"type\":\"scattercarpet\"}],\"scattergeo\":[{\"marker\":{\"colorbar\":{\"outlinewidth\":0,\"ticks\":\"\"}},\"type\":\"scattergeo\"}],\"scattergl\":[{\"marker\":{\"colorbar\":{\"outlinewidth\":0,\"ticks\":\"\"}},\"type\":\"scattergl\"}],\"scattermapbox\":[{\"marker\":{\"colorbar\":{\"outlinewidth\":0,\"ticks\":\"\"}},\"type\":\"scattermapbox\"}],\"scatterpolar\":[{\"marker\":{\"colorbar\":{\"outlinewidth\":0,\"ticks\":\"\"}},\"type\":\"scatterpolar\"}],\"scatterpolargl\":[{\"marker\":{\"colorbar\":{\"outlinewidth\":0,\"ticks\":\"\"}},\"type\":\"scatterpolargl\"}],\"scatterternary\":[{\"marker\":{\"colorbar\":{\"outlinewidth\":0,\"ticks\":\"\"}},\"type\":\"scatterternary\"}],\"surface\":[{\"colorbar\":{\"outlinewidth\":0,\"ticks\":\"\"},\"colorscale\":[[0.0,\"#0d0887\"],[0.1111111111111111,\"#46039f\"],[0.2222222222222222,\"#7201a8\"],[0.3333333333333333,\"#9c179e\"],[0.4444444444444444,\"#bd3786\"],[0.5555555555555556,\"#d8576b\"],[0.6666666666666666,\"#ed7953\"],[0.7777777777777778,\"#fb9f3a\"],[0.8888888888888888,\"#fdca26\"],[1.0,\"#f0f921\"]],\"type\":\"surface\"}],\"table\":[{\"cells\":{\"fill\":{\"color\":\"#EBF0F8\"},\"line\":{\"color\":\"white\"}},\"header\":{\"fill\":{\"color\":\"#C8D4E3\"},\"line\":{\"color\":\"white\"}},\"type\":\"table\"}]},\"layout\":{\"annotationdefaults\":{\"arrowcolor\":\"#2a3f5f\",\"arrowhead\":0,\"arrowwidth\":1},\"autotypenumbers\":\"strict\",\"coloraxis\":{\"colorbar\":{\"outlinewidth\":0,\"ticks\":\"\"}},\"colorscale\":{\"diverging\":[[0,\"#8e0152\"],[0.1,\"#c51b7d\"],[0.2,\"#de77ae\"],[0.3,\"#f1b6da\"],[0.4,\"#fde0ef\"],[0.5,\"#f7f7f7\"],[0.6,\"#e6f5d0\"],[0.7,\"#b8e186\"],[0.8,\"#7fbc41\"],[0.9,\"#4d9221\"],[1,\"#276419\"]],\"sequential\":[[0.0,\"#0d0887\"],[0.1111111111111111,\"#46039f\"],[0.2222222222222222,\"#7201a8\"],[0.3333333333333333,\"#9c179e\"],[0.4444444444444444,\"#bd3786\"],[0.5555555555555556,\"#d8576b\"],[0.6666666666666666,\"#ed7953\"],[0.7777777777777778,\"#fb9f3a\"],[0.8888888888888888,\"#fdca26\"],[1.0,\"#f0f921\"]],\"sequentialminus\":[[0.0,\"#0d0887\"],[0.1111111111111111,\"#46039f\"],[0.2222222222222222,\"#7201a8\"],[0.3333333333333333,\"#9c179e\"],[0.4444444444444444,\"#bd3786\"],[0.5555555555555556,\"#d8576b\"],[0.6666666666666666,\"#ed7953\"],[0.7777777777777778,\"#fb9f3a\"],[0.8888888888888888,\"#fdca26\"],[1.0,\"#f0f921\"]]},\"colorway\":[\"#636efa\",\"#EF553B\",\"#00cc96\",\"#ab63fa\",\"#FFA15A\",\"#19d3f3\",\"#FF6692\",\"#B6E880\",\"#FF97FF\",\"#FECB52\"],\"font\":{\"color\":\"#2a3f5f\"},\"geo\":{\"bgcolor\":\"white\",\"lakecolor\":\"white\",\"landcolor\":\"#E5ECF6\",\"showlakes\":true,\"showland\":true,\"subunitcolor\":\"white\"},\"hoverlabel\":{\"align\":\"left\"},\"hovermode\":\"closest\",\"mapbox\":{\"style\":\"light\"},\"paper_bgcolor\":\"white\",\"plot_bgcolor\":\"#E5ECF6\",\"polar\":{\"angularaxis\":{\"gridcolor\":\"white\",\"linecolor\":\"white\",\"ticks\":\"\"},\"bgcolor\":\"#E5ECF6\",\"radialaxis\":{\"gridcolor\":\"white\",\"linecolor\":\"white\",\"ticks\":\"\"}},\"scene\":{\"xaxis\":{\"backgroundcolor\":\"#E5ECF6\",\"gridcolor\":\"white\",\"gridwidth\":2,\"linecolor\":\"white\",\"showbackground\":true,\"ticks\":\"\",\"zerolinecolor\":\"white\"},\"yaxis\":{\"backgroundcolor\":\"#E5ECF6\",\"gridcolor\":\"white\",\"gridwidth\":2,\"linecolor\":\"white\",\"showbackground\":true,\"ticks\":\"\",\"zerolinecolor\":\"white\"},\"zaxis\":{\"backgroundcolor\":\"#E5ECF6\",\"gridcolor\":\"white\",\"gridwidth\":2,\"linecolor\":\"white\",\"showbackground\":true,\"ticks\":\"\",\"zerolinecolor\":\"white\"}},\"shapedefaults\":{\"line\":{\"color\":\"#2a3f5f\"}},\"ternary\":{\"aaxis\":{\"gridcolor\":\"white\",\"linecolor\":\"white\",\"ticks\":\"\"},\"baxis\":{\"gridcolor\":\"white\",\"linecolor\":\"white\",\"ticks\":\"\"},\"bgcolor\":\"#E5ECF6\",\"caxis\":{\"gridcolor\":\"white\",\"linecolor\":\"white\",\"ticks\":\"\"}},\"title\":{\"x\":0.05},\"xaxis\":{\"automargin\":true,\"gridcolor\":\"white\",\"linecolor\":\"white\",\"ticks\":\"\",\"title\":{\"standoff\":15},\"zerolinecolor\":\"white\",\"zerolinewidth\":2},\"yaxis\":{\"automargin\":true,\"gridcolor\":\"white\",\"linecolor\":\"white\",\"ticks\":\"\",\"title\":{\"standoff\":15},\"zerolinecolor\":\"white\",\"zerolinewidth\":2}}},\"title\":{\"text\":\"Vaccination total per country\"},\"xaxis\":{\"linecolor\":\"black\",\"linewidth\":2,\"mirror\":true,\"showline\":true,\"showticklabels\":true,\"tickangle\":45,\"tickfont\":{\"color\":\"black\",\"size\":10},\"title\":{\"text\":\"Country\"},\"zeroline\":true,\"zerolinecolor\":\"grey\",\"zerolinewidth\":1},\"yaxis\":{\"gridcolor\":\"lightgrey\",\"linecolor\":\"black\",\"linewidth\":2,\"mirror\":true,\"showline\":true,\"title\":{\"text\":\"Vaccination total\"},\"zeroline\":true,\"zerolinecolor\":\"grey\",\"zerolinewidth\":1}},                        {\"responsive\": true}                    ).then(function(){\n",
       "                            \n",
       "var gd = document.getElementById('0a03908a-68b8-46a8-9781-039f5cf87ee7');\n",
       "var x = new MutationObserver(function (mutations, observer) {{\n",
       "        var display = window.getComputedStyle(gd).display;\n",
       "        if (!display || display === 'none') {{\n",
       "            console.log([gd, 'removed!']);\n",
       "            Plotly.purge(gd);\n",
       "            observer.disconnect();\n",
       "        }}\n",
       "}});\n",
       "\n",
       "// Listen for the removal of the full notebook cells\n",
       "var notebookContainer = gd.closest('#notebook-container');\n",
       "if (notebookContainer) {{\n",
       "    x.observe(notebookContainer, {childList: true});\n",
       "}}\n",
       "\n",
       "// Listen for the clearing of the current output cell\n",
       "var outputEl = gd.closest('.output');\n",
       "if (outputEl) {{\n",
       "    x.observe(outputEl, {childList: true});\n",
       "}}\n",
       "\n",
       "                        })                };                });            </script>        </div>"
      ]
     },
     "metadata": {},
     "output_type": "display_data"
    }
   ],
   "source": [
    "draw_trace_bar(country_vaccine, 'Total vaccinations', 'Vaccination total per country', 'Country', 'Vaccination total', \"Darkgreen\" )"
   ]
  },
  {
   "cell_type": "code",
   "execution_count": 25,
   "metadata": {},
   "outputs": [
    {
     "data": {
      "application/vnd.plotly.v1+json": {
       "config": {
        "linkText": "Export to plot.ly",
        "plotlyServerURL": "https://plot.ly",
        "showLink": false
       },
       "data": [
        {
         "marker": {
          "color": "red"
         },
         "text": [
          "China",
          "India",
          "United States",
          "Brazil",
          "Turkey",
          "Japan",
          "Germany",
          "South Korea",
          "Mexico",
          "United Kingdom",
          "Italy",
          "France",
          "England",
          "Indonesia",
          "Spain",
          "Canada",
          "Russia",
          "Poland",
          "Argentina",
          "Pakistan",
          "Chile",
          "Thailand",
          "Colombia",
          "Morocco",
          "Netherlands",
          "Philippines",
          "Saudi Arabia",
          "Bangladesh",
          "Malaysia",
          "Cuba",
          "Israel",
          "Dominican Republic",
          "Peru",
          "United Arab Emirates",
          "Belgium",
          "Vietnam",
          "Hungary",
          "Mongolia",
          "Australia",
          "Iran",
          "Romania",
          "Portugal",
          "Cambodia",
          "Egypt",
          "Taiwan",
          "Kazakhstan",
          "Greece",
          "Czechia",
          "Sri Lanka",
          "Bhutan",
          "Switzerland",
          "Austria",
          "Sweden",
          "Venezuela",
          "Ecuador",
          "Ireland",
          "Jordan",
          "Uzbekistan",
          "Nigeria",
          "Myanmar",
          "Serbia",
          "Finland",
          "South Africa",
          "Scotland",
          "Ukraine",
          "Ghana",
          "Azerbaijan",
          "Norway",
          "Denmark",
          "Uruguay",
          "Singapore",
          "El Salvador",
          "Bolivia",
          "Nepal",
          "Hong Kong",
          "Kuwait",
          "Costa Rica",
          "Kenya",
          "Qatar",
          "Slovakia",
          "Ethiopia",
          "Croatia",
          "Tunisia",
          "Angola",
          "Wales",
          "Lithuania",
          "Bulgaria",
          "Panama",
          "Rwanda",
          "Oman",
          "Lebanon",
          "Laos",
          "Zimbabwe",
          "Algeria",
          "Honduras",
          "Uganda",
          "Palestine",
          "Cote d'Ivoire",
          "Guatemala",
          "Belarus",
          "Bahrain",
          "Slovenia",
          "Paraguay",
          "Northern Ireland",
          "Albania",
          "Latvia",
          "New Zealand",
          "Moldova",
          "North Macedonia",
          "Iraq",
          "Afghanistan",
          "Sudan",
          "Bosnia and Herzegovina",
          "Senegal",
          "Malawi",
          "Jamaica",
          "Mauritania",
          "Cyprus",
          "Fiji",
          "Guinea",
          "Mauritius",
          "Madagascar",
          "Yemen",
          "Estonia",
          "Togo",
          "Libya",
          "Montenegro",
          "Georgia",
          "Maldives",
          "Trinidad and Tobago",
          "Mozambique",
          "Malta",
          "Iceland",
          "Niger",
          "Nicaragua",
          "Luxembourg",
          "Botswana",
          "Macao",
          "Suriname",
          "Zambia",
          "Kosovo",
          "Equatorial Guinea",
          "Guyana",
          "Syria",
          "Barbados",
          "Comoros",
          "Mali",
          "Kyrgyzstan",
          "Curacao",
          "Eswatini",
          "Namibia",
          "Sierra Leone",
          "Cape Verde",
          "Cameroon",
          "Aruba",
          "Belize",
          "Timor",
          "Brunei",
          "Tajikistan",
          "Seychelles",
          "Central African Republic",
          "Somalia",
          "Papua New Guinea",
          "Saint Lucia",
          "Armenia",
          "Burkina Faso",
          "French Polynesia",
          "Liberia",
          "South Sudan",
          "Northern Cyprus",
          "Isle of Man",
          "Gabon",
          "Gambia",
          "Bahamas",
          "Andorra",
          "Antigua and Barbuda",
          "New Caledonia",
          "Jersey",
          "Samoa",
          "Democratic Republic of Congo",
          "Congo",
          "Gibraltar",
          "Cayman Islands",
          "Dominica",
          "Tonga",
          "Sao Tome and Principe",
          "Guernsey",
          "Djibouti",
          "Bermuda",
          "Faeroe Islands",
          "Benin",
          "Saint Kitts and Nevis",
          "Greenland",
          "San Marino",
          "Solomon Islands",
          "Lesotho",
          "Vanuatu",
          "Cook Islands",
          "Guinea-Bissau",
          "Grenada",
          "Turks and Caicos Islands",
          "Sint Maarten (Dutch part)",
          "Liechtenstein",
          "Wallis and Futuna",
          "Anguilla",
          "Monaco",
          "Saint Vincent and the Grenadines",
          "Nauru",
          "British Virgin Islands",
          "Falkland Islands",
          "Tuvalu",
          "Saint Helena",
          "Montserrat",
          "Bonaire Sint Eustatius and Saba",
          "Chad",
          "Pitcairn",
          "Turkmenistan"
         ],
         "type": "bar",
         "x": [
          "China",
          "India",
          "United States",
          "Brazil",
          "Turkey",
          "Japan",
          "Germany",
          "South Korea",
          "Mexico",
          "United Kingdom",
          "Italy",
          "France",
          "England",
          "Indonesia",
          "Spain",
          "Canada",
          "Russia",
          "Poland",
          "Argentina",
          "Pakistan",
          "Chile",
          "Thailand",
          "Colombia",
          "Morocco",
          "Netherlands",
          "Philippines",
          "Saudi Arabia",
          "Bangladesh",
          "Malaysia",
          "Cuba",
          "Israel",
          "Dominican Republic",
          "Peru",
          "United Arab Emirates",
          "Belgium",
          "Vietnam",
          "Hungary",
          "Mongolia",
          "Australia",
          "Iran",
          "Romania",
          "Portugal",
          "Cambodia",
          "Egypt",
          "Taiwan",
          "Kazakhstan",
          "Greece",
          "Czechia",
          "Sri Lanka",
          "Bhutan",
          "Switzerland",
          "Austria",
          "Sweden",
          "Venezuela",
          "Ecuador",
          "Ireland",
          "Jordan",
          "Uzbekistan",
          "Nigeria",
          "Myanmar",
          "Serbia",
          "Finland",
          "South Africa",
          "Scotland",
          "Ukraine",
          "Ghana",
          "Azerbaijan",
          "Norway",
          "Denmark",
          "Uruguay",
          "Singapore",
          "El Salvador",
          "Bolivia",
          "Nepal",
          "Hong Kong",
          "Kuwait",
          "Costa Rica",
          "Kenya",
          "Qatar",
          "Slovakia",
          "Ethiopia",
          "Croatia",
          "Tunisia",
          "Angola",
          "Wales",
          "Lithuania",
          "Bulgaria",
          "Panama",
          "Rwanda",
          "Oman",
          "Lebanon",
          "Laos",
          "Zimbabwe",
          "Algeria",
          "Honduras",
          "Uganda",
          "Palestine",
          "Cote d'Ivoire",
          "Guatemala",
          "Belarus",
          "Bahrain",
          "Slovenia",
          "Paraguay",
          "Northern Ireland",
          "Albania",
          "Latvia",
          "New Zealand",
          "Moldova",
          "North Macedonia",
          "Iraq",
          "Afghanistan",
          "Sudan",
          "Bosnia and Herzegovina",
          "Senegal",
          "Malawi",
          "Jamaica",
          "Mauritania",
          "Cyprus",
          "Fiji",
          "Guinea",
          "Mauritius",
          "Madagascar",
          "Yemen",
          "Estonia",
          "Togo",
          "Libya",
          "Montenegro",
          "Georgia",
          "Maldives",
          "Trinidad and Tobago",
          "Mozambique",
          "Malta",
          "Iceland",
          "Niger",
          "Nicaragua",
          "Luxembourg",
          "Botswana",
          "Macao",
          "Suriname",
          "Zambia",
          "Kosovo",
          "Equatorial Guinea",
          "Guyana",
          "Syria",
          "Barbados",
          "Comoros",
          "Mali",
          "Kyrgyzstan",
          "Curacao",
          "Eswatini",
          "Namibia",
          "Sierra Leone",
          "Cape Verde",
          "Cameroon",
          "Aruba",
          "Belize",
          "Timor",
          "Brunei",
          "Tajikistan",
          "Seychelles",
          "Central African Republic",
          "Somalia",
          "Papua New Guinea",
          "Saint Lucia",
          "Armenia",
          "Burkina Faso",
          "French Polynesia",
          "Liberia",
          "South Sudan",
          "Northern Cyprus",
          "Isle of Man",
          "Gabon",
          "Gambia",
          "Bahamas",
          "Andorra",
          "Antigua and Barbuda",
          "New Caledonia",
          "Jersey",
          "Samoa",
          "Democratic Republic of Congo",
          "Congo",
          "Gibraltar",
          "Cayman Islands",
          "Dominica",
          "Tonga",
          "Sao Tome and Principe",
          "Guernsey",
          "Djibouti",
          "Bermuda",
          "Faeroe Islands",
          "Benin",
          "Saint Kitts and Nevis",
          "Greenland",
          "San Marino",
          "Solomon Islands",
          "Lesotho",
          "Vanuatu",
          "Cook Islands",
          "Guinea-Bissau",
          "Grenada",
          "Turks and Caicos Islands",
          "Sint Maarten (Dutch part)",
          "Liechtenstein",
          "Wallis and Futuna",
          "Anguilla",
          "Monaco",
          "Saint Vincent and the Grenadines",
          "Nauru",
          "British Virgin Islands",
          "Falkland Islands",
          "Tuvalu",
          "Saint Helena",
          "Montserrat",
          "Bonaire Sint Eustatius and Saba",
          "Chad",
          "Pitcairn",
          "Turkmenistan"
         ],
         "y": [
          20298714,
          3659357,
          3384387,
          1352814,
          1222956,
          1129530,
          839179,
          724621,
          656610,
          602266,
          585064,
          577915,
          515433,
          507957,
          504283,
          455991,
          392708,
          341329,
          338889,
          328526,
          298487,
          281433,
          275583,
          259446,
          223081,
          208399,
          204165,
          196796,
          189329,
          186081,
          184949,
          184208,
          157087,
          155312,
          153742,
          132046,
          125911,
          125462,
          122092,
          116028,
          106652,
          104054,
          101695,
          101183,
          100753,
          97997,
          97867,
          96766,
          92958,
          91636,
          91288,
          90545,
          84473,
          80433,
          76524,
          71265,
          71119,
          70526,
          68909,
          67615,
          64449,
          63726,
          62934,
          56025,
          55721,
          54335,
          54088,
          51353,
          51017,
          49357,
          49283,
          46398,
          45065,
          44361,
          43279,
          40778,
          40343,
          39237,
          37344,
          35941,
          35777,
          35538,
          34274,
          33700,
          33151,
          28671,
          27038,
          26049,
          24860,
          24510,
          23394,
          23319,
          22863,
          22664,
          21965,
          21822,
          21821,
          21777,
          21549,
          20498,
          20163,
          19921,
          17893,
          17673,
          17565,
          16746,
          16404,
          16176,
          15189,
          14352,
          13921,
          13719,
          13677,
          13597,
          13108,
          13076,
          12831,
          12513,
          12455,
          12288,
          11968,
          10256,
          10240,
          10163,
          10051,
          9240,
          8318,
          8040,
          7843,
          7817,
          7740,
          7557,
          7546,
          7465,
          7350,
          7178,
          6936,
          6722,
          6238,
          5680,
          5084,
          5013,
          5000,
          4674,
          4526,
          4390,
          4197,
          3704,
          3452,
          3377,
          3309,
          3169,
          2871,
          2697,
          2679,
          2583,
          2579,
          2545,
          2482,
          2401,
          2300,
          2180,
          2025,
          1912,
          1853,
          1825,
          1784,
          1782,
          1673,
          1663,
          1551,
          1460,
          1458,
          1391,
          1376,
          1278,
          1239,
          1233,
          1229,
          1153,
          1078,
          1068,
          1024,
          901,
          826,
          823,
          817,
          802,
          773,
          772,
          761,
          753,
          736,
          725,
          722,
          666,
          611,
          561,
          475,
          475,
          451,
          424,
          411,
          343,
          331,
          313,
          272,
          239,
          231,
          189,
          169,
          165,
          53,
          null,
          null,
          null,
          null
         ]
        }
       ],
       "layout": {
        "hovermode": "closest",
        "paper_bgcolor": "rgba(0, 0, 0, 0)",
        "plot_bgcolor": "rgba(0, 0, 0, 0)",
        "template": {
         "data": {
          "bar": [
           {
            "error_x": {
             "color": "#2a3f5f"
            },
            "error_y": {
             "color": "#2a3f5f"
            },
            "marker": {
             "line": {
              "color": "#E5ECF6",
              "width": 0.5
             },
             "pattern": {
              "fillmode": "overlay",
              "size": 10,
              "solidity": 0.2
             }
            },
            "type": "bar"
           }
          ],
          "barpolar": [
           {
            "marker": {
             "line": {
              "color": "#E5ECF6",
              "width": 0.5
             },
             "pattern": {
              "fillmode": "overlay",
              "size": 10,
              "solidity": 0.2
             }
            },
            "type": "barpolar"
           }
          ],
          "carpet": [
           {
            "aaxis": {
             "endlinecolor": "#2a3f5f",
             "gridcolor": "white",
             "linecolor": "white",
             "minorgridcolor": "white",
             "startlinecolor": "#2a3f5f"
            },
            "baxis": {
             "endlinecolor": "#2a3f5f",
             "gridcolor": "white",
             "linecolor": "white",
             "minorgridcolor": "white",
             "startlinecolor": "#2a3f5f"
            },
            "type": "carpet"
           }
          ],
          "choropleth": [
           {
            "colorbar": {
             "outlinewidth": 0,
             "ticks": ""
            },
            "type": "choropleth"
           }
          ],
          "contour": [
           {
            "colorbar": {
             "outlinewidth": 0,
             "ticks": ""
            },
            "colorscale": [
             [
              0,
              "#0d0887"
             ],
             [
              0.1111111111111111,
              "#46039f"
             ],
             [
              0.2222222222222222,
              "#7201a8"
             ],
             [
              0.3333333333333333,
              "#9c179e"
             ],
             [
              0.4444444444444444,
              "#bd3786"
             ],
             [
              0.5555555555555556,
              "#d8576b"
             ],
             [
              0.6666666666666666,
              "#ed7953"
             ],
             [
              0.7777777777777778,
              "#fb9f3a"
             ],
             [
              0.8888888888888888,
              "#fdca26"
             ],
             [
              1,
              "#f0f921"
             ]
            ],
            "type": "contour"
           }
          ],
          "contourcarpet": [
           {
            "colorbar": {
             "outlinewidth": 0,
             "ticks": ""
            },
            "type": "contourcarpet"
           }
          ],
          "heatmap": [
           {
            "colorbar": {
             "outlinewidth": 0,
             "ticks": ""
            },
            "colorscale": [
             [
              0,
              "#0d0887"
             ],
             [
              0.1111111111111111,
              "#46039f"
             ],
             [
              0.2222222222222222,
              "#7201a8"
             ],
             [
              0.3333333333333333,
              "#9c179e"
             ],
             [
              0.4444444444444444,
              "#bd3786"
             ],
             [
              0.5555555555555556,
              "#d8576b"
             ],
             [
              0.6666666666666666,
              "#ed7953"
             ],
             [
              0.7777777777777778,
              "#fb9f3a"
             ],
             [
              0.8888888888888888,
              "#fdca26"
             ],
             [
              1,
              "#f0f921"
             ]
            ],
            "type": "heatmap"
           }
          ],
          "heatmapgl": [
           {
            "colorbar": {
             "outlinewidth": 0,
             "ticks": ""
            },
            "colorscale": [
             [
              0,
              "#0d0887"
             ],
             [
              0.1111111111111111,
              "#46039f"
             ],
             [
              0.2222222222222222,
              "#7201a8"
             ],
             [
              0.3333333333333333,
              "#9c179e"
             ],
             [
              0.4444444444444444,
              "#bd3786"
             ],
             [
              0.5555555555555556,
              "#d8576b"
             ],
             [
              0.6666666666666666,
              "#ed7953"
             ],
             [
              0.7777777777777778,
              "#fb9f3a"
             ],
             [
              0.8888888888888888,
              "#fdca26"
             ],
             [
              1,
              "#f0f921"
             ]
            ],
            "type": "heatmapgl"
           }
          ],
          "histogram": [
           {
            "marker": {
             "pattern": {
              "fillmode": "overlay",
              "size": 10,
              "solidity": 0.2
             }
            },
            "type": "histogram"
           }
          ],
          "histogram2d": [
           {
            "colorbar": {
             "outlinewidth": 0,
             "ticks": ""
            },
            "colorscale": [
             [
              0,
              "#0d0887"
             ],
             [
              0.1111111111111111,
              "#46039f"
             ],
             [
              0.2222222222222222,
              "#7201a8"
             ],
             [
              0.3333333333333333,
              "#9c179e"
             ],
             [
              0.4444444444444444,
              "#bd3786"
             ],
             [
              0.5555555555555556,
              "#d8576b"
             ],
             [
              0.6666666666666666,
              "#ed7953"
             ],
             [
              0.7777777777777778,
              "#fb9f3a"
             ],
             [
              0.8888888888888888,
              "#fdca26"
             ],
             [
              1,
              "#f0f921"
             ]
            ],
            "type": "histogram2d"
           }
          ],
          "histogram2dcontour": [
           {
            "colorbar": {
             "outlinewidth": 0,
             "ticks": ""
            },
            "colorscale": [
             [
              0,
              "#0d0887"
             ],
             [
              0.1111111111111111,
              "#46039f"
             ],
             [
              0.2222222222222222,
              "#7201a8"
             ],
             [
              0.3333333333333333,
              "#9c179e"
             ],
             [
              0.4444444444444444,
              "#bd3786"
             ],
             [
              0.5555555555555556,
              "#d8576b"
             ],
             [
              0.6666666666666666,
              "#ed7953"
             ],
             [
              0.7777777777777778,
              "#fb9f3a"
             ],
             [
              0.8888888888888888,
              "#fdca26"
             ],
             [
              1,
              "#f0f921"
             ]
            ],
            "type": "histogram2dcontour"
           }
          ],
          "mesh3d": [
           {
            "colorbar": {
             "outlinewidth": 0,
             "ticks": ""
            },
            "type": "mesh3d"
           }
          ],
          "parcoords": [
           {
            "line": {
             "colorbar": {
              "outlinewidth": 0,
              "ticks": ""
             }
            },
            "type": "parcoords"
           }
          ],
          "pie": [
           {
            "automargin": true,
            "type": "pie"
           }
          ],
          "scatter": [
           {
            "marker": {
             "colorbar": {
              "outlinewidth": 0,
              "ticks": ""
             }
            },
            "type": "scatter"
           }
          ],
          "scatter3d": [
           {
            "line": {
             "colorbar": {
              "outlinewidth": 0,
              "ticks": ""
             }
            },
            "marker": {
             "colorbar": {
              "outlinewidth": 0,
              "ticks": ""
             }
            },
            "type": "scatter3d"
           }
          ],
          "scattercarpet": [
           {
            "marker": {
             "colorbar": {
              "outlinewidth": 0,
              "ticks": ""
             }
            },
            "type": "scattercarpet"
           }
          ],
          "scattergeo": [
           {
            "marker": {
             "colorbar": {
              "outlinewidth": 0,
              "ticks": ""
             }
            },
            "type": "scattergeo"
           }
          ],
          "scattergl": [
           {
            "marker": {
             "colorbar": {
              "outlinewidth": 0,
              "ticks": ""
             }
            },
            "type": "scattergl"
           }
          ],
          "scattermapbox": [
           {
            "marker": {
             "colorbar": {
              "outlinewidth": 0,
              "ticks": ""
             }
            },
            "type": "scattermapbox"
           }
          ],
          "scatterpolar": [
           {
            "marker": {
             "colorbar": {
              "outlinewidth": 0,
              "ticks": ""
             }
            },
            "type": "scatterpolar"
           }
          ],
          "scatterpolargl": [
           {
            "marker": {
             "colorbar": {
              "outlinewidth": 0,
              "ticks": ""
             }
            },
            "type": "scatterpolargl"
           }
          ],
          "scatterternary": [
           {
            "marker": {
             "colorbar": {
              "outlinewidth": 0,
              "ticks": ""
             }
            },
            "type": "scatterternary"
           }
          ],
          "surface": [
           {
            "colorbar": {
             "outlinewidth": 0,
             "ticks": ""
            },
            "colorscale": [
             [
              0,
              "#0d0887"
             ],
             [
              0.1111111111111111,
              "#46039f"
             ],
             [
              0.2222222222222222,
              "#7201a8"
             ],
             [
              0.3333333333333333,
              "#9c179e"
             ],
             [
              0.4444444444444444,
              "#bd3786"
             ],
             [
              0.5555555555555556,
              "#d8576b"
             ],
             [
              0.6666666666666666,
              "#ed7953"
             ],
             [
              0.7777777777777778,
              "#fb9f3a"
             ],
             [
              0.8888888888888888,
              "#fdca26"
             ],
             [
              1,
              "#f0f921"
             ]
            ],
            "type": "surface"
           }
          ],
          "table": [
           {
            "cells": {
             "fill": {
              "color": "#EBF0F8"
             },
             "line": {
              "color": "white"
             }
            },
            "header": {
             "fill": {
              "color": "#C8D4E3"
             },
             "line": {
              "color": "white"
             }
            },
            "type": "table"
           }
          ]
         },
         "layout": {
          "annotationdefaults": {
           "arrowcolor": "#2a3f5f",
           "arrowhead": 0,
           "arrowwidth": 1
          },
          "autotypenumbers": "strict",
          "coloraxis": {
           "colorbar": {
            "outlinewidth": 0,
            "ticks": ""
           }
          },
          "colorscale": {
           "diverging": [
            [
             0,
             "#8e0152"
            ],
            [
             0.1,
             "#c51b7d"
            ],
            [
             0.2,
             "#de77ae"
            ],
            [
             0.3,
             "#f1b6da"
            ],
            [
             0.4,
             "#fde0ef"
            ],
            [
             0.5,
             "#f7f7f7"
            ],
            [
             0.6,
             "#e6f5d0"
            ],
            [
             0.7,
             "#b8e186"
            ],
            [
             0.8,
             "#7fbc41"
            ],
            [
             0.9,
             "#4d9221"
            ],
            [
             1,
             "#276419"
            ]
           ],
           "sequential": [
            [
             0,
             "#0d0887"
            ],
            [
             0.1111111111111111,
             "#46039f"
            ],
            [
             0.2222222222222222,
             "#7201a8"
            ],
            [
             0.3333333333333333,
             "#9c179e"
            ],
            [
             0.4444444444444444,
             "#bd3786"
            ],
            [
             0.5555555555555556,
             "#d8576b"
            ],
            [
             0.6666666666666666,
             "#ed7953"
            ],
            [
             0.7777777777777778,
             "#fb9f3a"
            ],
            [
             0.8888888888888888,
             "#fdca26"
            ],
            [
             1,
             "#f0f921"
            ]
           ],
           "sequentialminus": [
            [
             0,
             "#0d0887"
            ],
            [
             0.1111111111111111,
             "#46039f"
            ],
            [
             0.2222222222222222,
             "#7201a8"
            ],
            [
             0.3333333333333333,
             "#9c179e"
            ],
            [
             0.4444444444444444,
             "#bd3786"
            ],
            [
             0.5555555555555556,
             "#d8576b"
            ],
            [
             0.6666666666666666,
             "#ed7953"
            ],
            [
             0.7777777777777778,
             "#fb9f3a"
            ],
            [
             0.8888888888888888,
             "#fdca26"
            ],
            [
             1,
             "#f0f921"
            ]
           ]
          },
          "colorway": [
           "#636efa",
           "#EF553B",
           "#00cc96",
           "#ab63fa",
           "#FFA15A",
           "#19d3f3",
           "#FF6692",
           "#B6E880",
           "#FF97FF",
           "#FECB52"
          ],
          "font": {
           "color": "#2a3f5f"
          },
          "geo": {
           "bgcolor": "white",
           "lakecolor": "white",
           "landcolor": "#E5ECF6",
           "showlakes": true,
           "showland": true,
           "subunitcolor": "white"
          },
          "hoverlabel": {
           "align": "left"
          },
          "hovermode": "closest",
          "mapbox": {
           "style": "light"
          },
          "paper_bgcolor": "white",
          "plot_bgcolor": "#E5ECF6",
          "polar": {
           "angularaxis": {
            "gridcolor": "white",
            "linecolor": "white",
            "ticks": ""
           },
           "bgcolor": "#E5ECF6",
           "radialaxis": {
            "gridcolor": "white",
            "linecolor": "white",
            "ticks": ""
           }
          },
          "scene": {
           "xaxis": {
            "backgroundcolor": "#E5ECF6",
            "gridcolor": "white",
            "gridwidth": 2,
            "linecolor": "white",
            "showbackground": true,
            "ticks": "",
            "zerolinecolor": "white"
           },
           "yaxis": {
            "backgroundcolor": "#E5ECF6",
            "gridcolor": "white",
            "gridwidth": 2,
            "linecolor": "white",
            "showbackground": true,
            "ticks": "",
            "zerolinecolor": "white"
           },
           "zaxis": {
            "backgroundcolor": "#E5ECF6",
            "gridcolor": "white",
            "gridwidth": 2,
            "linecolor": "white",
            "showbackground": true,
            "ticks": "",
            "zerolinecolor": "white"
           }
          },
          "shapedefaults": {
           "line": {
            "color": "#2a3f5f"
           }
          },
          "ternary": {
           "aaxis": {
            "gridcolor": "white",
            "linecolor": "white",
            "ticks": ""
           },
           "baxis": {
            "gridcolor": "white",
            "linecolor": "white",
            "ticks": ""
           },
           "bgcolor": "#E5ECF6",
           "caxis": {
            "gridcolor": "white",
            "linecolor": "white",
            "ticks": ""
           }
          },
          "title": {
           "x": 0.05
          },
          "xaxis": {
           "automargin": true,
           "gridcolor": "white",
           "linecolor": "white",
           "ticks": "",
           "title": {
            "standoff": 15
           },
           "zerolinecolor": "white",
           "zerolinewidth": 2
          },
          "yaxis": {
           "automargin": true,
           "gridcolor": "white",
           "linecolor": "white",
           "ticks": "",
           "title": {
            "standoff": 15
           },
           "zerolinecolor": "white",
           "zerolinewidth": 2
          }
         }
        },
        "title": {
         "text": "Daily vaccinations per country"
        },
        "xaxis": {
         "linecolor": "black",
         "linewidth": 2,
         "mirror": true,
         "showline": true,
         "showticklabels": true,
         "tickangle": 45,
         "tickfont": {
          "color": "black",
          "size": 10
         },
         "title": {
          "text": "Country"
         },
         "zeroline": true,
         "zerolinecolor": "grey",
         "zerolinewidth": 1
        },
        "yaxis": {
         "gridcolor": "lightgrey",
         "linecolor": "black",
         "linewidth": 2,
         "mirror": true,
         "showline": true,
         "title": {
          "text": "Daily vaccinations"
         },
         "zeroline": true,
         "zerolinecolor": "grey",
         "zerolinewidth": 1
        }
       }
      },
      "text/html": [
       "<div>                            <div id=\"984b0da1-4ebd-4a38-8401-c3c05a167f10\" class=\"plotly-graph-div\" style=\"height:525px; width:100%;\"></div>            <script type=\"text/javascript\">                require([\"plotly\"], function(Plotly) {                    window.PLOTLYENV=window.PLOTLYENV || {};                                    if (document.getElementById(\"984b0da1-4ebd-4a38-8401-c3c05a167f10\")) {                    Plotly.newPlot(                        \"984b0da1-4ebd-4a38-8401-c3c05a167f10\",                        [{\"marker\":{\"color\":\"red\"},\"text\":[\"China\",\"India\",\"United States\",\"Brazil\",\"Turkey\",\"Japan\",\"Germany\",\"South Korea\",\"Mexico\",\"United Kingdom\",\"Italy\",\"France\",\"England\",\"Indonesia\",\"Spain\",\"Canada\",\"Russia\",\"Poland\",\"Argentina\",\"Pakistan\",\"Chile\",\"Thailand\",\"Colombia\",\"Morocco\",\"Netherlands\",\"Philippines\",\"Saudi Arabia\",\"Bangladesh\",\"Malaysia\",\"Cuba\",\"Israel\",\"Dominican Republic\",\"Peru\",\"United Arab Emirates\",\"Belgium\",\"Vietnam\",\"Hungary\",\"Mongolia\",\"Australia\",\"Iran\",\"Romania\",\"Portugal\",\"Cambodia\",\"Egypt\",\"Taiwan\",\"Kazakhstan\",\"Greece\",\"Czechia\",\"Sri Lanka\",\"Bhutan\",\"Switzerland\",\"Austria\",\"Sweden\",\"Venezuela\",\"Ecuador\",\"Ireland\",\"Jordan\",\"Uzbekistan\",\"Nigeria\",\"Myanmar\",\"Serbia\",\"Finland\",\"South Africa\",\"Scotland\",\"Ukraine\",\"Ghana\",\"Azerbaijan\",\"Norway\",\"Denmark\",\"Uruguay\",\"Singapore\",\"El Salvador\",\"Bolivia\",\"Nepal\",\"Hong Kong\",\"Kuwait\",\"Costa Rica\",\"Kenya\",\"Qatar\",\"Slovakia\",\"Ethiopia\",\"Croatia\",\"Tunisia\",\"Angola\",\"Wales\",\"Lithuania\",\"Bulgaria\",\"Panama\",\"Rwanda\",\"Oman\",\"Lebanon\",\"Laos\",\"Zimbabwe\",\"Algeria\",\"Honduras\",\"Uganda\",\"Palestine\",\"Cote d'Ivoire\",\"Guatemala\",\"Belarus\",\"Bahrain\",\"Slovenia\",\"Paraguay\",\"Northern Ireland\",\"Albania\",\"Latvia\",\"New Zealand\",\"Moldova\",\"North Macedonia\",\"Iraq\",\"Afghanistan\",\"Sudan\",\"Bosnia and Herzegovina\",\"Senegal\",\"Malawi\",\"Jamaica\",\"Mauritania\",\"Cyprus\",\"Fiji\",\"Guinea\",\"Mauritius\",\"Madagascar\",\"Yemen\",\"Estonia\",\"Togo\",\"Libya\",\"Montenegro\",\"Georgia\",\"Maldives\",\"Trinidad and Tobago\",\"Mozambique\",\"Malta\",\"Iceland\",\"Niger\",\"Nicaragua\",\"Luxembourg\",\"Botswana\",\"Macao\",\"Suriname\",\"Zambia\",\"Kosovo\",\"Equatorial Guinea\",\"Guyana\",\"Syria\",\"Barbados\",\"Comoros\",\"Mali\",\"Kyrgyzstan\",\"Curacao\",\"Eswatini\",\"Namibia\",\"Sierra Leone\",\"Cape Verde\",\"Cameroon\",\"Aruba\",\"Belize\",\"Timor\",\"Brunei\",\"Tajikistan\",\"Seychelles\",\"Central African Republic\",\"Somalia\",\"Papua New Guinea\",\"Saint Lucia\",\"Armenia\",\"Burkina Faso\",\"French Polynesia\",\"Liberia\",\"South Sudan\",\"Northern Cyprus\",\"Isle of Man\",\"Gabon\",\"Gambia\",\"Bahamas\",\"Andorra\",\"Antigua and Barbuda\",\"New Caledonia\",\"Jersey\",\"Samoa\",\"Democratic Republic of Congo\",\"Congo\",\"Gibraltar\",\"Cayman Islands\",\"Dominica\",\"Tonga\",\"Sao Tome and Principe\",\"Guernsey\",\"Djibouti\",\"Bermuda\",\"Faeroe Islands\",\"Benin\",\"Saint Kitts and Nevis\",\"Greenland\",\"San Marino\",\"Solomon Islands\",\"Lesotho\",\"Vanuatu\",\"Cook Islands\",\"Guinea-Bissau\",\"Grenada\",\"Turks and Caicos Islands\",\"Sint Maarten (Dutch part)\",\"Liechtenstein\",\"Wallis and Futuna\",\"Anguilla\",\"Monaco\",\"Saint Vincent and the Grenadines\",\"Nauru\",\"British Virgin Islands\",\"Falkland Islands\",\"Tuvalu\",\"Saint Helena\",\"Montserrat\",\"Bonaire Sint Eustatius and Saba\",\"Chad\",\"Pitcairn\",\"Turkmenistan\"],\"type\":\"bar\",\"x\":[\"China\",\"India\",\"United States\",\"Brazil\",\"Turkey\",\"Japan\",\"Germany\",\"South Korea\",\"Mexico\",\"United Kingdom\",\"Italy\",\"France\",\"England\",\"Indonesia\",\"Spain\",\"Canada\",\"Russia\",\"Poland\",\"Argentina\",\"Pakistan\",\"Chile\",\"Thailand\",\"Colombia\",\"Morocco\",\"Netherlands\",\"Philippines\",\"Saudi Arabia\",\"Bangladesh\",\"Malaysia\",\"Cuba\",\"Israel\",\"Dominican Republic\",\"Peru\",\"United Arab Emirates\",\"Belgium\",\"Vietnam\",\"Hungary\",\"Mongolia\",\"Australia\",\"Iran\",\"Romania\",\"Portugal\",\"Cambodia\",\"Egypt\",\"Taiwan\",\"Kazakhstan\",\"Greece\",\"Czechia\",\"Sri Lanka\",\"Bhutan\",\"Switzerland\",\"Austria\",\"Sweden\",\"Venezuela\",\"Ecuador\",\"Ireland\",\"Jordan\",\"Uzbekistan\",\"Nigeria\",\"Myanmar\",\"Serbia\",\"Finland\",\"South Africa\",\"Scotland\",\"Ukraine\",\"Ghana\",\"Azerbaijan\",\"Norway\",\"Denmark\",\"Uruguay\",\"Singapore\",\"El Salvador\",\"Bolivia\",\"Nepal\",\"Hong Kong\",\"Kuwait\",\"Costa Rica\",\"Kenya\",\"Qatar\",\"Slovakia\",\"Ethiopia\",\"Croatia\",\"Tunisia\",\"Angola\",\"Wales\",\"Lithuania\",\"Bulgaria\",\"Panama\",\"Rwanda\",\"Oman\",\"Lebanon\",\"Laos\",\"Zimbabwe\",\"Algeria\",\"Honduras\",\"Uganda\",\"Palestine\",\"Cote d'Ivoire\",\"Guatemala\",\"Belarus\",\"Bahrain\",\"Slovenia\",\"Paraguay\",\"Northern Ireland\",\"Albania\",\"Latvia\",\"New Zealand\",\"Moldova\",\"North Macedonia\",\"Iraq\",\"Afghanistan\",\"Sudan\",\"Bosnia and Herzegovina\",\"Senegal\",\"Malawi\",\"Jamaica\",\"Mauritania\",\"Cyprus\",\"Fiji\",\"Guinea\",\"Mauritius\",\"Madagascar\",\"Yemen\",\"Estonia\",\"Togo\",\"Libya\",\"Montenegro\",\"Georgia\",\"Maldives\",\"Trinidad and Tobago\",\"Mozambique\",\"Malta\",\"Iceland\",\"Niger\",\"Nicaragua\",\"Luxembourg\",\"Botswana\",\"Macao\",\"Suriname\",\"Zambia\",\"Kosovo\",\"Equatorial Guinea\",\"Guyana\",\"Syria\",\"Barbados\",\"Comoros\",\"Mali\",\"Kyrgyzstan\",\"Curacao\",\"Eswatini\",\"Namibia\",\"Sierra Leone\",\"Cape Verde\",\"Cameroon\",\"Aruba\",\"Belize\",\"Timor\",\"Brunei\",\"Tajikistan\",\"Seychelles\",\"Central African Republic\",\"Somalia\",\"Papua New Guinea\",\"Saint Lucia\",\"Armenia\",\"Burkina Faso\",\"French Polynesia\",\"Liberia\",\"South Sudan\",\"Northern Cyprus\",\"Isle of Man\",\"Gabon\",\"Gambia\",\"Bahamas\",\"Andorra\",\"Antigua and Barbuda\",\"New Caledonia\",\"Jersey\",\"Samoa\",\"Democratic Republic of Congo\",\"Congo\",\"Gibraltar\",\"Cayman Islands\",\"Dominica\",\"Tonga\",\"Sao Tome and Principe\",\"Guernsey\",\"Djibouti\",\"Bermuda\",\"Faeroe Islands\",\"Benin\",\"Saint Kitts and Nevis\",\"Greenland\",\"San Marino\",\"Solomon Islands\",\"Lesotho\",\"Vanuatu\",\"Cook Islands\",\"Guinea-Bissau\",\"Grenada\",\"Turks and Caicos Islands\",\"Sint Maarten (Dutch part)\",\"Liechtenstein\",\"Wallis and Futuna\",\"Anguilla\",\"Monaco\",\"Saint Vincent and the Grenadines\",\"Nauru\",\"British Virgin Islands\",\"Falkland Islands\",\"Tuvalu\",\"Saint Helena\",\"Montserrat\",\"Bonaire Sint Eustatius and Saba\",\"Chad\",\"Pitcairn\",\"Turkmenistan\"],\"y\":[20298714.0,3659357.0,3384387.0,1352814.0,1222956.0,1129530.0,839179.0,724621.0,656610.0,602266.0,585064.0,577915.0,515433.0,507957.0,504283.0,455991.0,392708.0,341329.0,338889.0,328526.0,298487.0,281433.0,275583.0,259446.0,223081.0,208399.0,204165.0,196796.0,189329.0,186081.0,184949.0,184208.0,157087.0,155312.0,153742.0,132046.0,125911.0,125462.0,122092.0,116028.0,106652.0,104054.0,101695.0,101183.0,100753.0,97997.0,97867.0,96766.0,92958.0,91636.0,91288.0,90545.0,84473.0,80433.0,76524.0,71265.0,71119.0,70526.0,68909.0,67615.0,64449.0,63726.0,62934.0,56025.0,55721.0,54335.0,54088.0,51353.0,51017.0,49357.0,49283.0,46398.0,45065.0,44361.0,43279.0,40778.0,40343.0,39237.0,37344.0,35941.0,35777.0,35538.0,34274.0,33700.0,33151.0,28671.0,27038.0,26049.0,24860.0,24510.0,23394.0,23319.0,22863.0,22664.0,21965.0,21822.0,21821.0,21777.0,21549.0,20498.0,20163.0,19921.0,17893.0,17673.0,17565.0,16746.0,16404.0,16176.0,15189.0,14352.0,13921.0,13719.0,13677.0,13597.0,13108.0,13076.0,12831.0,12513.0,12455.0,12288.0,11968.0,10256.0,10240.0,10163.0,10051.0,9240.0,8318.0,8040.0,7843.0,7817.0,7740.0,7557.0,7546.0,7465.0,7350.0,7178.0,6936.0,6722.0,6238.0,5680.0,5084.0,5013.0,5000.0,4674.0,4526.0,4390.0,4197.0,3704.0,3452.0,3377.0,3309.0,3169.0,2871.0,2697.0,2679.0,2583.0,2579.0,2545.0,2482.0,2401.0,2300.0,2180.0,2025.0,1912.0,1853.0,1825.0,1784.0,1782.0,1673.0,1663.0,1551.0,1460.0,1458.0,1391.0,1376.0,1278.0,1239.0,1233.0,1229.0,1153.0,1078.0,1068.0,1024.0,901.0,826.0,823.0,817.0,802.0,773.0,772.0,761.0,753.0,736.0,725.0,722.0,666.0,611.0,561.0,475.0,475.0,451.0,424.0,411.0,343.0,331.0,313.0,272.0,239.0,231.0,189.0,169.0,165.0,53.0,null,null,null,null]}],                        {\"hovermode\":\"closest\",\"paper_bgcolor\":\"rgba(0, 0, 0, 0)\",\"plot_bgcolor\":\"rgba(0, 0, 0, 0)\",\"template\":{\"data\":{\"bar\":[{\"error_x\":{\"color\":\"#2a3f5f\"},\"error_y\":{\"color\":\"#2a3f5f\"},\"marker\":{\"line\":{\"color\":\"#E5ECF6\",\"width\":0.5},\"pattern\":{\"fillmode\":\"overlay\",\"size\":10,\"solidity\":0.2}},\"type\":\"bar\"}],\"barpolar\":[{\"marker\":{\"line\":{\"color\":\"#E5ECF6\",\"width\":0.5},\"pattern\":{\"fillmode\":\"overlay\",\"size\":10,\"solidity\":0.2}},\"type\":\"barpolar\"}],\"carpet\":[{\"aaxis\":{\"endlinecolor\":\"#2a3f5f\",\"gridcolor\":\"white\",\"linecolor\":\"white\",\"minorgridcolor\":\"white\",\"startlinecolor\":\"#2a3f5f\"},\"baxis\":{\"endlinecolor\":\"#2a3f5f\",\"gridcolor\":\"white\",\"linecolor\":\"white\",\"minorgridcolor\":\"white\",\"startlinecolor\":\"#2a3f5f\"},\"type\":\"carpet\"}],\"choropleth\":[{\"colorbar\":{\"outlinewidth\":0,\"ticks\":\"\"},\"type\":\"choropleth\"}],\"contour\":[{\"colorbar\":{\"outlinewidth\":0,\"ticks\":\"\"},\"colorscale\":[[0.0,\"#0d0887\"],[0.1111111111111111,\"#46039f\"],[0.2222222222222222,\"#7201a8\"],[0.3333333333333333,\"#9c179e\"],[0.4444444444444444,\"#bd3786\"],[0.5555555555555556,\"#d8576b\"],[0.6666666666666666,\"#ed7953\"],[0.7777777777777778,\"#fb9f3a\"],[0.8888888888888888,\"#fdca26\"],[1.0,\"#f0f921\"]],\"type\":\"contour\"}],\"contourcarpet\":[{\"colorbar\":{\"outlinewidth\":0,\"ticks\":\"\"},\"type\":\"contourcarpet\"}],\"heatmap\":[{\"colorbar\":{\"outlinewidth\":0,\"ticks\":\"\"},\"colorscale\":[[0.0,\"#0d0887\"],[0.1111111111111111,\"#46039f\"],[0.2222222222222222,\"#7201a8\"],[0.3333333333333333,\"#9c179e\"],[0.4444444444444444,\"#bd3786\"],[0.5555555555555556,\"#d8576b\"],[0.6666666666666666,\"#ed7953\"],[0.7777777777777778,\"#fb9f3a\"],[0.8888888888888888,\"#fdca26\"],[1.0,\"#f0f921\"]],\"type\":\"heatmap\"}],\"heatmapgl\":[{\"colorbar\":{\"outlinewidth\":0,\"ticks\":\"\"},\"colorscale\":[[0.0,\"#0d0887\"],[0.1111111111111111,\"#46039f\"],[0.2222222222222222,\"#7201a8\"],[0.3333333333333333,\"#9c179e\"],[0.4444444444444444,\"#bd3786\"],[0.5555555555555556,\"#d8576b\"],[0.6666666666666666,\"#ed7953\"],[0.7777777777777778,\"#fb9f3a\"],[0.8888888888888888,\"#fdca26\"],[1.0,\"#f0f921\"]],\"type\":\"heatmapgl\"}],\"histogram\":[{\"marker\":{\"pattern\":{\"fillmode\":\"overlay\",\"size\":10,\"solidity\":0.2}},\"type\":\"histogram\"}],\"histogram2d\":[{\"colorbar\":{\"outlinewidth\":0,\"ticks\":\"\"},\"colorscale\":[[0.0,\"#0d0887\"],[0.1111111111111111,\"#46039f\"],[0.2222222222222222,\"#7201a8\"],[0.3333333333333333,\"#9c179e\"],[0.4444444444444444,\"#bd3786\"],[0.5555555555555556,\"#d8576b\"],[0.6666666666666666,\"#ed7953\"],[0.7777777777777778,\"#fb9f3a\"],[0.8888888888888888,\"#fdca26\"],[1.0,\"#f0f921\"]],\"type\":\"histogram2d\"}],\"histogram2dcontour\":[{\"colorbar\":{\"outlinewidth\":0,\"ticks\":\"\"},\"colorscale\":[[0.0,\"#0d0887\"],[0.1111111111111111,\"#46039f\"],[0.2222222222222222,\"#7201a8\"],[0.3333333333333333,\"#9c179e\"],[0.4444444444444444,\"#bd3786\"],[0.5555555555555556,\"#d8576b\"],[0.6666666666666666,\"#ed7953\"],[0.7777777777777778,\"#fb9f3a\"],[0.8888888888888888,\"#fdca26\"],[1.0,\"#f0f921\"]],\"type\":\"histogram2dcontour\"}],\"mesh3d\":[{\"colorbar\":{\"outlinewidth\":0,\"ticks\":\"\"},\"type\":\"mesh3d\"}],\"parcoords\":[{\"line\":{\"colorbar\":{\"outlinewidth\":0,\"ticks\":\"\"}},\"type\":\"parcoords\"}],\"pie\":[{\"automargin\":true,\"type\":\"pie\"}],\"scatter\":[{\"marker\":{\"colorbar\":{\"outlinewidth\":0,\"ticks\":\"\"}},\"type\":\"scatter\"}],\"scatter3d\":[{\"line\":{\"colorbar\":{\"outlinewidth\":0,\"ticks\":\"\"}},\"marker\":{\"colorbar\":{\"outlinewidth\":0,\"ticks\":\"\"}},\"type\":\"scatter3d\"}],\"scattercarpet\":[{\"marker\":{\"colorbar\":{\"outlinewidth\":0,\"ticks\":\"\"}},\"type\":\"scattercarpet\"}],\"scattergeo\":[{\"marker\":{\"colorbar\":{\"outlinewidth\":0,\"ticks\":\"\"}},\"type\":\"scattergeo\"}],\"scattergl\":[{\"marker\":{\"colorbar\":{\"outlinewidth\":0,\"ticks\":\"\"}},\"type\":\"scattergl\"}],\"scattermapbox\":[{\"marker\":{\"colorbar\":{\"outlinewidth\":0,\"ticks\":\"\"}},\"type\":\"scattermapbox\"}],\"scatterpolar\":[{\"marker\":{\"colorbar\":{\"outlinewidth\":0,\"ticks\":\"\"}},\"type\":\"scatterpolar\"}],\"scatterpolargl\":[{\"marker\":{\"colorbar\":{\"outlinewidth\":0,\"ticks\":\"\"}},\"type\":\"scatterpolargl\"}],\"scatterternary\":[{\"marker\":{\"colorbar\":{\"outlinewidth\":0,\"ticks\":\"\"}},\"type\":\"scatterternary\"}],\"surface\":[{\"colorbar\":{\"outlinewidth\":0,\"ticks\":\"\"},\"colorscale\":[[0.0,\"#0d0887\"],[0.1111111111111111,\"#46039f\"],[0.2222222222222222,\"#7201a8\"],[0.3333333333333333,\"#9c179e\"],[0.4444444444444444,\"#bd3786\"],[0.5555555555555556,\"#d8576b\"],[0.6666666666666666,\"#ed7953\"],[0.7777777777777778,\"#fb9f3a\"],[0.8888888888888888,\"#fdca26\"],[1.0,\"#f0f921\"]],\"type\":\"surface\"}],\"table\":[{\"cells\":{\"fill\":{\"color\":\"#EBF0F8\"},\"line\":{\"color\":\"white\"}},\"header\":{\"fill\":{\"color\":\"#C8D4E3\"},\"line\":{\"color\":\"white\"}},\"type\":\"table\"}]},\"layout\":{\"annotationdefaults\":{\"arrowcolor\":\"#2a3f5f\",\"arrowhead\":0,\"arrowwidth\":1},\"autotypenumbers\":\"strict\",\"coloraxis\":{\"colorbar\":{\"outlinewidth\":0,\"ticks\":\"\"}},\"colorscale\":{\"diverging\":[[0,\"#8e0152\"],[0.1,\"#c51b7d\"],[0.2,\"#de77ae\"],[0.3,\"#f1b6da\"],[0.4,\"#fde0ef\"],[0.5,\"#f7f7f7\"],[0.6,\"#e6f5d0\"],[0.7,\"#b8e186\"],[0.8,\"#7fbc41\"],[0.9,\"#4d9221\"],[1,\"#276419\"]],\"sequential\":[[0.0,\"#0d0887\"],[0.1111111111111111,\"#46039f\"],[0.2222222222222222,\"#7201a8\"],[0.3333333333333333,\"#9c179e\"],[0.4444444444444444,\"#bd3786\"],[0.5555555555555556,\"#d8576b\"],[0.6666666666666666,\"#ed7953\"],[0.7777777777777778,\"#fb9f3a\"],[0.8888888888888888,\"#fdca26\"],[1.0,\"#f0f921\"]],\"sequentialminus\":[[0.0,\"#0d0887\"],[0.1111111111111111,\"#46039f\"],[0.2222222222222222,\"#7201a8\"],[0.3333333333333333,\"#9c179e\"],[0.4444444444444444,\"#bd3786\"],[0.5555555555555556,\"#d8576b\"],[0.6666666666666666,\"#ed7953\"],[0.7777777777777778,\"#fb9f3a\"],[0.8888888888888888,\"#fdca26\"],[1.0,\"#f0f921\"]]},\"colorway\":[\"#636efa\",\"#EF553B\",\"#00cc96\",\"#ab63fa\",\"#FFA15A\",\"#19d3f3\",\"#FF6692\",\"#B6E880\",\"#FF97FF\",\"#FECB52\"],\"font\":{\"color\":\"#2a3f5f\"},\"geo\":{\"bgcolor\":\"white\",\"lakecolor\":\"white\",\"landcolor\":\"#E5ECF6\",\"showlakes\":true,\"showland\":true,\"subunitcolor\":\"white\"},\"hoverlabel\":{\"align\":\"left\"},\"hovermode\":\"closest\",\"mapbox\":{\"style\":\"light\"},\"paper_bgcolor\":\"white\",\"plot_bgcolor\":\"#E5ECF6\",\"polar\":{\"angularaxis\":{\"gridcolor\":\"white\",\"linecolor\":\"white\",\"ticks\":\"\"},\"bgcolor\":\"#E5ECF6\",\"radialaxis\":{\"gridcolor\":\"white\",\"linecolor\":\"white\",\"ticks\":\"\"}},\"scene\":{\"xaxis\":{\"backgroundcolor\":\"#E5ECF6\",\"gridcolor\":\"white\",\"gridwidth\":2,\"linecolor\":\"white\",\"showbackground\":true,\"ticks\":\"\",\"zerolinecolor\":\"white\"},\"yaxis\":{\"backgroundcolor\":\"#E5ECF6\",\"gridcolor\":\"white\",\"gridwidth\":2,\"linecolor\":\"white\",\"showbackground\":true,\"ticks\":\"\",\"zerolinecolor\":\"white\"},\"zaxis\":{\"backgroundcolor\":\"#E5ECF6\",\"gridcolor\":\"white\",\"gridwidth\":2,\"linecolor\":\"white\",\"showbackground\":true,\"ticks\":\"\",\"zerolinecolor\":\"white\"}},\"shapedefaults\":{\"line\":{\"color\":\"#2a3f5f\"}},\"ternary\":{\"aaxis\":{\"gridcolor\":\"white\",\"linecolor\":\"white\",\"ticks\":\"\"},\"baxis\":{\"gridcolor\":\"white\",\"linecolor\":\"white\",\"ticks\":\"\"},\"bgcolor\":\"#E5ECF6\",\"caxis\":{\"gridcolor\":\"white\",\"linecolor\":\"white\",\"ticks\":\"\"}},\"title\":{\"x\":0.05},\"xaxis\":{\"automargin\":true,\"gridcolor\":\"white\",\"linecolor\":\"white\",\"ticks\":\"\",\"title\":{\"standoff\":15},\"zerolinecolor\":\"white\",\"zerolinewidth\":2},\"yaxis\":{\"automargin\":true,\"gridcolor\":\"white\",\"linecolor\":\"white\",\"ticks\":\"\",\"title\":{\"standoff\":15},\"zerolinecolor\":\"white\",\"zerolinewidth\":2}}},\"title\":{\"text\":\"Daily vaccinations per country\"},\"xaxis\":{\"linecolor\":\"black\",\"linewidth\":2,\"mirror\":true,\"showline\":true,\"showticklabels\":true,\"tickangle\":45,\"tickfont\":{\"color\":\"black\",\"size\":10},\"title\":{\"text\":\"Country\"},\"zeroline\":true,\"zerolinecolor\":\"grey\",\"zerolinewidth\":1},\"yaxis\":{\"gridcolor\":\"lightgrey\",\"linecolor\":\"black\",\"linewidth\":2,\"mirror\":true,\"showline\":true,\"title\":{\"text\":\"Daily vaccinations\"},\"zeroline\":true,\"zerolinecolor\":\"grey\",\"zerolinewidth\":1}},                        {\"responsive\": true}                    ).then(function(){\n",
       "                            \n",
       "var gd = document.getElementById('984b0da1-4ebd-4a38-8401-c3c05a167f10');\n",
       "var x = new MutationObserver(function (mutations, observer) {{\n",
       "        var display = window.getComputedStyle(gd).display;\n",
       "        if (!display || display === 'none') {{\n",
       "            console.log([gd, 'removed!']);\n",
       "            Plotly.purge(gd);\n",
       "            observer.disconnect();\n",
       "        }}\n",
       "}});\n",
       "\n",
       "// Listen for the removal of the full notebook cells\n",
       "var notebookContainer = gd.closest('#notebook-container');\n",
       "if (notebookContainer) {{\n",
       "    x.observe(notebookContainer, {childList: true});\n",
       "}}\n",
       "\n",
       "// Listen for the clearing of the current output cell\n",
       "var outputEl = gd.closest('.output');\n",
       "if (outputEl) {{\n",
       "    x.observe(outputEl, {childList: true});\n",
       "}}\n",
       "\n",
       "                        })                };                });            </script>        </div>"
      ]
     },
     "metadata": {},
     "output_type": "display_data"
    }
   ],
   "source": [
    "draw_trace_bar(country_vaccine, 'Daily vaccinations', 'Daily vaccinations per country', 'Country', 'Daily vaccinations', \"red\" )"
   ]
  },
  {
   "cell_type": "code",
   "execution_count": 26,
   "metadata": {
    "scrolled": true
   },
   "outputs": [
    {
     "data": {
      "application/vnd.plotly.v1+json": {
       "config": {
        "linkText": "Export to plot.ly",
        "plotlyServerURL": "https://plot.ly",
        "showLink": false
       },
       "data": [
        {
         "marker": {
          "color": "lightblue"
         },
         "text": [
          "China",
          "India",
          "United States",
          "Brazil",
          "United Kingdom",
          "Germany",
          "England",
          "France",
          "Italy",
          "Turkey",
          "Mexico",
          "Canada",
          "Indonesia",
          "Spain",
          "Japan",
          "Russia",
          "Poland",
          "South Korea",
          "Argentina",
          "Chile",
          "Pakistan",
          "Colombia",
          "Morocco",
          "Netherlands",
          "Belgium",
          "Philippines",
          "Bangladesh",
          "Australia",
          "Israel",
          "Thailand",
          "Hungary",
          "United Arab Emirates",
          "Portugal",
          "Czechia",
          "Romania",
          "Dominican Republic",
          "Greece",
          "Austria",
          "Sweden",
          "Malaysia",
          "Iran",
          "Switzerland",
          "Peru",
          "Scotland",
          "Cambodia",
          "Egypt",
          "Finland",
          "Denmark",
          "Kuwait",
          "Kazakhstan",
          "Singapore",
          "Serbia",
          "Nepal",
          "Algeria",
          "Sri Lanka",
          "Ecuador",
          "Vietnam",
          "Cuba",
          "Wales",
          "Ireland",
          "Norway",
          "Uruguay",
          "South Africa",
          "Jordan",
          "Nigeria",
          "Azerbaijan",
          "Hong Kong",
          "Slovakia",
          "Mongolia",
          "Ethiopia",
          "Myanmar",
          "Ukraine",
          "Uzbekistan",
          "Qatar",
          "Bolivia",
          "Croatia",
          "El Salvador",
          "Costa Rica",
          "Lithuania",
          "Tunisia",
          "Northern Ireland",
          "Venezuela",
          "Bahrain",
          "Kenya",
          "Taiwan",
          "Panama",
          "Bulgaria",
          "Angola",
          "Ghana",
          "Uganda",
          "Slovenia",
          "Lebanon",
          "Laos",
          "Cote d'Ivoire",
          "Zimbabwe",
          "Belarus",
          "Guatemala",
          "Latvia",
          "New Zealand",
          "Estonia",
          "Oman",
          "Albania",
          "Sudan",
          "Iraq",
          "Afghanistan",
          "Bhutan",
          "Honduras",
          "Senegal",
          "Palestine",
          "Cyprus",
          "Paraguay",
          "Moldova",
          "Malawi",
          "Mauritius",
          "Malta",
          "Libya",
          "Rwanda",
          "Guinea",
          "Mozambique",
          "Maldives",
          "Luxembourg",
          "North Macedonia",
          "Togo",
          "Bosnia and Herzegovina",
          "Yemen",
          "Iceland",
          "Fiji",
          "Georgia",
          "Guyana",
          "Macao",
          "Madagascar",
          "Trinidad and Tobago",
          "Niger",
          "Nicaragua",
          "Jamaica",
          "Botswana",
          "Equatorial Guinea",
          "Montenegro",
          "Suriname",
          "Zambia",
          "Somalia",
          "Mali",
          "Mauritania",
          "Kosovo",
          "Namibia",
          "Timor",
          "Barbados",
          "Tajikistan",
          "Kyrgyzstan",
          "Curacao",
          "Sierra Leone",
          "Cameroon",
          "Belize",
          "Northern Cyprus",
          "Syria",
          "Seychelles",
          "Liberia",
          "Aruba",
          "Jersey",
          "French Polynesia",
          "Isle of Man",
          "Cape Verde",
          "New Caledonia",
          "Brunei",
          "Bahamas",
          "Cayman Islands",
          "Armenia",
          "Comoros",
          "Bermuda",
          "Central African Republic",
          "Democratic Republic of Congo",
          "Samoa",
          "Gibraltar",
          "Papua New Guinea",
          "Lesotho",
          "Antigua and Barbuda",
          "Eswatini",
          "Andorra",
          "Guernsey",
          "Turkmenistan",
          "Gambia",
          "Saint Lucia",
          "Gabon",
          "Tonga",
          "South Sudan",
          "Faeroe Islands",
          "Turks and Caicos Islands",
          "Congo",
          "San Marino",
          "Saint Kitts and Nevis",
          "Greenland",
          "Benin",
          "Sint Maarten (Dutch part)",
          "Dominica",
          "Grenada",
          "Monaco",
          "Guinea-Bissau",
          "Saint Vincent and the Grenadines",
          "Liechtenstein",
          "Burkina Faso",
          "Solomon Islands",
          "Djibouti",
          "British Virgin Islands",
          "Sao Tome and Principe",
          "Cook Islands",
          "Anguilla",
          "Nauru",
          "Bonaire Sint Eustatius and Saba",
          "Chad",
          "Vanuatu",
          "Tuvalu",
          "Wallis and Futuna",
          "Saint Helena",
          "Falkland Islands",
          "Montserrat",
          "Pitcairn",
          "Saudi Arabia"
         ],
         "type": "bar",
         "x": [
          "China",
          "India",
          "United States",
          "Brazil",
          "United Kingdom",
          "Germany",
          "England",
          "France",
          "Italy",
          "Turkey",
          "Mexico",
          "Canada",
          "Indonesia",
          "Spain",
          "Japan",
          "Russia",
          "Poland",
          "South Korea",
          "Argentina",
          "Chile",
          "Pakistan",
          "Colombia",
          "Morocco",
          "Netherlands",
          "Belgium",
          "Philippines",
          "Bangladesh",
          "Australia",
          "Israel",
          "Thailand",
          "Hungary",
          "United Arab Emirates",
          "Portugal",
          "Czechia",
          "Romania",
          "Dominican Republic",
          "Greece",
          "Austria",
          "Sweden",
          "Malaysia",
          "Iran",
          "Switzerland",
          "Peru",
          "Scotland",
          "Cambodia",
          "Egypt",
          "Finland",
          "Denmark",
          "Kuwait",
          "Kazakhstan",
          "Singapore",
          "Serbia",
          "Nepal",
          "Algeria",
          "Sri Lanka",
          "Ecuador",
          "Vietnam",
          "Cuba",
          "Wales",
          "Ireland",
          "Norway",
          "Uruguay",
          "South Africa",
          "Jordan",
          "Nigeria",
          "Azerbaijan",
          "Hong Kong",
          "Slovakia",
          "Mongolia",
          "Ethiopia",
          "Myanmar",
          "Ukraine",
          "Uzbekistan",
          "Qatar",
          "Bolivia",
          "Croatia",
          "El Salvador",
          "Costa Rica",
          "Lithuania",
          "Tunisia",
          "Northern Ireland",
          "Venezuela",
          "Bahrain",
          "Kenya",
          "Taiwan",
          "Panama",
          "Bulgaria",
          "Angola",
          "Ghana",
          "Uganda",
          "Slovenia",
          "Lebanon",
          "Laos",
          "Cote d'Ivoire",
          "Zimbabwe",
          "Belarus",
          "Guatemala",
          "Latvia",
          "New Zealand",
          "Estonia",
          "Oman",
          "Albania",
          "Sudan",
          "Iraq",
          "Afghanistan",
          "Bhutan",
          "Honduras",
          "Senegal",
          "Palestine",
          "Cyprus",
          "Paraguay",
          "Moldova",
          "Malawi",
          "Mauritius",
          "Malta",
          "Libya",
          "Rwanda",
          "Guinea",
          "Mozambique",
          "Maldives",
          "Luxembourg",
          "North Macedonia",
          "Togo",
          "Bosnia and Herzegovina",
          "Yemen",
          "Iceland",
          "Fiji",
          "Georgia",
          "Guyana",
          "Macao",
          "Madagascar",
          "Trinidad and Tobago",
          "Niger",
          "Nicaragua",
          "Jamaica",
          "Botswana",
          "Equatorial Guinea",
          "Montenegro",
          "Suriname",
          "Zambia",
          "Somalia",
          "Mali",
          "Mauritania",
          "Kosovo",
          "Namibia",
          "Timor",
          "Barbados",
          "Tajikistan",
          "Kyrgyzstan",
          "Curacao",
          "Sierra Leone",
          "Cameroon",
          "Belize",
          "Northern Cyprus",
          "Syria",
          "Seychelles",
          "Liberia",
          "Aruba",
          "Jersey",
          "French Polynesia",
          "Isle of Man",
          "Cape Verde",
          "New Caledonia",
          "Brunei",
          "Bahamas",
          "Cayman Islands",
          "Armenia",
          "Comoros",
          "Bermuda",
          "Central African Republic",
          "Democratic Republic of Congo",
          "Samoa",
          "Gibraltar",
          "Papua New Guinea",
          "Lesotho",
          "Antigua and Barbuda",
          "Eswatini",
          "Andorra",
          "Guernsey",
          "Turkmenistan",
          "Gambia",
          "Saint Lucia",
          "Gabon",
          "Tonga",
          "South Sudan",
          "Faeroe Islands",
          "Turks and Caicos Islands",
          "Congo",
          "San Marino",
          "Saint Kitts and Nevis",
          "Greenland",
          "Benin",
          "Sint Maarten (Dutch part)",
          "Dominica",
          "Grenada",
          "Monaco",
          "Guinea-Bissau",
          "Saint Vincent and the Grenadines",
          "Liechtenstein",
          "Burkina Faso",
          "Solomon Islands",
          "Djibouti",
          "British Virgin Islands",
          "Sao Tome and Principe",
          "Cook Islands",
          "Anguilla",
          "Nauru",
          "Bonaire Sint Eustatius and Saba",
          "Chad",
          "Vanuatu",
          "Tuvalu",
          "Wallis and Futuna",
          "Saint Helena",
          "Falkland Islands",
          "Montserrat",
          "Pitcairn",
          "Saudi Arabia"
         ],
         "y": [
          622000000,
          224541283,
          177088290,
          62741992,
          43127763,
          42284584,
          36101778,
          31981541,
          31431717,
          28123248,
          27753807,
          25105109,
          23043372,
          22684911,
          22437512,
          19657314,
          16152134,
          15014819,
          14397649,
          12081916,
          10209149,
          10172100,
          9375240,
          8610697,
          6330438,
          6253400,
          5823245,
          5698309,
          5495050,
          5486092,
          5411431,
          5081853,
          4871081,
          4775887,
          4633520,
          4541739,
          4526238,
          4462739,
          4315017,
          4202601,
          3984095,
          3918450,
          3777819,
          3647437,
          3366207,
          3315854,
          3077639,
          3010813,
          2875000,
          2744212,
          2700446,
          2693998,
          2500196,
          2500000,
          2455180,
          2351838,
          2300960,
          2244336,
          2237710,
          2217448,
          2177852,
          2146891,
          2141624,
          2100892,
          1964095,
          1949635,
          1940427,
          1938210,
          1912235,
          1894717,
          1772177,
          1726040,
          1623764,
          1620571,
          1615514,
          1450798,
          1425927,
          1409778,
          1207804,
          1165402,
          1140838,
          1079134,
          1043787,
          995012,
          985084,
          929180,
          911349,
          866381,
          852047,
          821659,
          799225,
          761818,
          753750,
          725916,
          703065,
          699141,
          661474,
          634665,
          567188,
          544287,
          535578,
          515884,
          508271,
          494524,
          484737,
          484189,
          484018,
          480311,
          445598,
          443121,
          422474,
          401379,
          383273,
          380362,
          352478,
          351408,
          350400,
          336515,
          320129,
          315156,
          283338,
          274710,
          270784,
          252499,
          251385,
          238814,
          237940,
          234410,
          223659,
          205772,
          188752,
          176849,
          172812,
          167500,
          163209,
          150019,
          148579,
          147995,
          144662,
          142089,
          135107,
          130574,
          129020,
          116057,
          104199,
          103813,
          90735,
          89121,
          88178,
          88065,
          82145,
          78476,
          76148,
          75463,
          71519,
          70660,
          68134,
          66865,
          65146,
          64749,
          62417,
          60771,
          55277,
          55005,
          54199,
          47001,
          46503,
          43140,
          41198,
          41095,
          40342,
          40230,
          39133,
          38176,
          36637,
          35611,
          35227,
          34646,
          32969,
          32240,
          30421,
          30063,
          29400,
          28631,
          27338,
          25952,
          22700,
          22623,
          22172,
          22012,
          21863,
          21834,
          20358,
          20134,
          19024,
          18836,
          18706,
          18417,
          17873,
          17775,
          17000,
          12547,
          12405,
          12374,
          9589,
          9183,
          7438,
          5726,
          5324,
          5140,
          4772,
          4470,
          4361,
          2632,
          1394,
          47,
          null
         ]
        }
       ],
       "layout": {
        "hovermode": "closest",
        "paper_bgcolor": "rgba(0, 0, 0, 0)",
        "plot_bgcolor": "rgba(0, 0, 0, 0)",
        "template": {
         "data": {
          "bar": [
           {
            "error_x": {
             "color": "#2a3f5f"
            },
            "error_y": {
             "color": "#2a3f5f"
            },
            "marker": {
             "line": {
              "color": "#E5ECF6",
              "width": 0.5
             },
             "pattern": {
              "fillmode": "overlay",
              "size": 10,
              "solidity": 0.2
             }
            },
            "type": "bar"
           }
          ],
          "barpolar": [
           {
            "marker": {
             "line": {
              "color": "#E5ECF6",
              "width": 0.5
             },
             "pattern": {
              "fillmode": "overlay",
              "size": 10,
              "solidity": 0.2
             }
            },
            "type": "barpolar"
           }
          ],
          "carpet": [
           {
            "aaxis": {
             "endlinecolor": "#2a3f5f",
             "gridcolor": "white",
             "linecolor": "white",
             "minorgridcolor": "white",
             "startlinecolor": "#2a3f5f"
            },
            "baxis": {
             "endlinecolor": "#2a3f5f",
             "gridcolor": "white",
             "linecolor": "white",
             "minorgridcolor": "white",
             "startlinecolor": "#2a3f5f"
            },
            "type": "carpet"
           }
          ],
          "choropleth": [
           {
            "colorbar": {
             "outlinewidth": 0,
             "ticks": ""
            },
            "type": "choropleth"
           }
          ],
          "contour": [
           {
            "colorbar": {
             "outlinewidth": 0,
             "ticks": ""
            },
            "colorscale": [
             [
              0,
              "#0d0887"
             ],
             [
              0.1111111111111111,
              "#46039f"
             ],
             [
              0.2222222222222222,
              "#7201a8"
             ],
             [
              0.3333333333333333,
              "#9c179e"
             ],
             [
              0.4444444444444444,
              "#bd3786"
             ],
             [
              0.5555555555555556,
              "#d8576b"
             ],
             [
              0.6666666666666666,
              "#ed7953"
             ],
             [
              0.7777777777777778,
              "#fb9f3a"
             ],
             [
              0.8888888888888888,
              "#fdca26"
             ],
             [
              1,
              "#f0f921"
             ]
            ],
            "type": "contour"
           }
          ],
          "contourcarpet": [
           {
            "colorbar": {
             "outlinewidth": 0,
             "ticks": ""
            },
            "type": "contourcarpet"
           }
          ],
          "heatmap": [
           {
            "colorbar": {
             "outlinewidth": 0,
             "ticks": ""
            },
            "colorscale": [
             [
              0,
              "#0d0887"
             ],
             [
              0.1111111111111111,
              "#46039f"
             ],
             [
              0.2222222222222222,
              "#7201a8"
             ],
             [
              0.3333333333333333,
              "#9c179e"
             ],
             [
              0.4444444444444444,
              "#bd3786"
             ],
             [
              0.5555555555555556,
              "#d8576b"
             ],
             [
              0.6666666666666666,
              "#ed7953"
             ],
             [
              0.7777777777777778,
              "#fb9f3a"
             ],
             [
              0.8888888888888888,
              "#fdca26"
             ],
             [
              1,
              "#f0f921"
             ]
            ],
            "type": "heatmap"
           }
          ],
          "heatmapgl": [
           {
            "colorbar": {
             "outlinewidth": 0,
             "ticks": ""
            },
            "colorscale": [
             [
              0,
              "#0d0887"
             ],
             [
              0.1111111111111111,
              "#46039f"
             ],
             [
              0.2222222222222222,
              "#7201a8"
             ],
             [
              0.3333333333333333,
              "#9c179e"
             ],
             [
              0.4444444444444444,
              "#bd3786"
             ],
             [
              0.5555555555555556,
              "#d8576b"
             ],
             [
              0.6666666666666666,
              "#ed7953"
             ],
             [
              0.7777777777777778,
              "#fb9f3a"
             ],
             [
              0.8888888888888888,
              "#fdca26"
             ],
             [
              1,
              "#f0f921"
             ]
            ],
            "type": "heatmapgl"
           }
          ],
          "histogram": [
           {
            "marker": {
             "pattern": {
              "fillmode": "overlay",
              "size": 10,
              "solidity": 0.2
             }
            },
            "type": "histogram"
           }
          ],
          "histogram2d": [
           {
            "colorbar": {
             "outlinewidth": 0,
             "ticks": ""
            },
            "colorscale": [
             [
              0,
              "#0d0887"
             ],
             [
              0.1111111111111111,
              "#46039f"
             ],
             [
              0.2222222222222222,
              "#7201a8"
             ],
             [
              0.3333333333333333,
              "#9c179e"
             ],
             [
              0.4444444444444444,
              "#bd3786"
             ],
             [
              0.5555555555555556,
              "#d8576b"
             ],
             [
              0.6666666666666666,
              "#ed7953"
             ],
             [
              0.7777777777777778,
              "#fb9f3a"
             ],
             [
              0.8888888888888888,
              "#fdca26"
             ],
             [
              1,
              "#f0f921"
             ]
            ],
            "type": "histogram2d"
           }
          ],
          "histogram2dcontour": [
           {
            "colorbar": {
             "outlinewidth": 0,
             "ticks": ""
            },
            "colorscale": [
             [
              0,
              "#0d0887"
             ],
             [
              0.1111111111111111,
              "#46039f"
             ],
             [
              0.2222222222222222,
              "#7201a8"
             ],
             [
              0.3333333333333333,
              "#9c179e"
             ],
             [
              0.4444444444444444,
              "#bd3786"
             ],
             [
              0.5555555555555556,
              "#d8576b"
             ],
             [
              0.6666666666666666,
              "#ed7953"
             ],
             [
              0.7777777777777778,
              "#fb9f3a"
             ],
             [
              0.8888888888888888,
              "#fdca26"
             ],
             [
              1,
              "#f0f921"
             ]
            ],
            "type": "histogram2dcontour"
           }
          ],
          "mesh3d": [
           {
            "colorbar": {
             "outlinewidth": 0,
             "ticks": ""
            },
            "type": "mesh3d"
           }
          ],
          "parcoords": [
           {
            "line": {
             "colorbar": {
              "outlinewidth": 0,
              "ticks": ""
             }
            },
            "type": "parcoords"
           }
          ],
          "pie": [
           {
            "automargin": true,
            "type": "pie"
           }
          ],
          "scatter": [
           {
            "marker": {
             "colorbar": {
              "outlinewidth": 0,
              "ticks": ""
             }
            },
            "type": "scatter"
           }
          ],
          "scatter3d": [
           {
            "line": {
             "colorbar": {
              "outlinewidth": 0,
              "ticks": ""
             }
            },
            "marker": {
             "colorbar": {
              "outlinewidth": 0,
              "ticks": ""
             }
            },
            "type": "scatter3d"
           }
          ],
          "scattercarpet": [
           {
            "marker": {
             "colorbar": {
              "outlinewidth": 0,
              "ticks": ""
             }
            },
            "type": "scattercarpet"
           }
          ],
          "scattergeo": [
           {
            "marker": {
             "colorbar": {
              "outlinewidth": 0,
              "ticks": ""
             }
            },
            "type": "scattergeo"
           }
          ],
          "scattergl": [
           {
            "marker": {
             "colorbar": {
              "outlinewidth": 0,
              "ticks": ""
             }
            },
            "type": "scattergl"
           }
          ],
          "scattermapbox": [
           {
            "marker": {
             "colorbar": {
              "outlinewidth": 0,
              "ticks": ""
             }
            },
            "type": "scattermapbox"
           }
          ],
          "scatterpolar": [
           {
            "marker": {
             "colorbar": {
              "outlinewidth": 0,
              "ticks": ""
             }
            },
            "type": "scatterpolar"
           }
          ],
          "scatterpolargl": [
           {
            "marker": {
             "colorbar": {
              "outlinewidth": 0,
              "ticks": ""
             }
            },
            "type": "scatterpolargl"
           }
          ],
          "scatterternary": [
           {
            "marker": {
             "colorbar": {
              "outlinewidth": 0,
              "ticks": ""
             }
            },
            "type": "scatterternary"
           }
          ],
          "surface": [
           {
            "colorbar": {
             "outlinewidth": 0,
             "ticks": ""
            },
            "colorscale": [
             [
              0,
              "#0d0887"
             ],
             [
              0.1111111111111111,
              "#46039f"
             ],
             [
              0.2222222222222222,
              "#7201a8"
             ],
             [
              0.3333333333333333,
              "#9c179e"
             ],
             [
              0.4444444444444444,
              "#bd3786"
             ],
             [
              0.5555555555555556,
              "#d8576b"
             ],
             [
              0.6666666666666666,
              "#ed7953"
             ],
             [
              0.7777777777777778,
              "#fb9f3a"
             ],
             [
              0.8888888888888888,
              "#fdca26"
             ],
             [
              1,
              "#f0f921"
             ]
            ],
            "type": "surface"
           }
          ],
          "table": [
           {
            "cells": {
             "fill": {
              "color": "#EBF0F8"
             },
             "line": {
              "color": "white"
             }
            },
            "header": {
             "fill": {
              "color": "#C8D4E3"
             },
             "line": {
              "color": "white"
             }
            },
            "type": "table"
           }
          ]
         },
         "layout": {
          "annotationdefaults": {
           "arrowcolor": "#2a3f5f",
           "arrowhead": 0,
           "arrowwidth": 1
          },
          "autotypenumbers": "strict",
          "coloraxis": {
           "colorbar": {
            "outlinewidth": 0,
            "ticks": ""
           }
          },
          "colorscale": {
           "diverging": [
            [
             0,
             "#8e0152"
            ],
            [
             0.1,
             "#c51b7d"
            ],
            [
             0.2,
             "#de77ae"
            ],
            [
             0.3,
             "#f1b6da"
            ],
            [
             0.4,
             "#fde0ef"
            ],
            [
             0.5,
             "#f7f7f7"
            ],
            [
             0.6,
             "#e6f5d0"
            ],
            [
             0.7,
             "#b8e186"
            ],
            [
             0.8,
             "#7fbc41"
            ],
            [
             0.9,
             "#4d9221"
            ],
            [
             1,
             "#276419"
            ]
           ],
           "sequential": [
            [
             0,
             "#0d0887"
            ],
            [
             0.1111111111111111,
             "#46039f"
            ],
            [
             0.2222222222222222,
             "#7201a8"
            ],
            [
             0.3333333333333333,
             "#9c179e"
            ],
            [
             0.4444444444444444,
             "#bd3786"
            ],
            [
             0.5555555555555556,
             "#d8576b"
            ],
            [
             0.6666666666666666,
             "#ed7953"
            ],
            [
             0.7777777777777778,
             "#fb9f3a"
            ],
            [
             0.8888888888888888,
             "#fdca26"
            ],
            [
             1,
             "#f0f921"
            ]
           ],
           "sequentialminus": [
            [
             0,
             "#0d0887"
            ],
            [
             0.1111111111111111,
             "#46039f"
            ],
            [
             0.2222222222222222,
             "#7201a8"
            ],
            [
             0.3333333333333333,
             "#9c179e"
            ],
            [
             0.4444444444444444,
             "#bd3786"
            ],
            [
             0.5555555555555556,
             "#d8576b"
            ],
            [
             0.6666666666666666,
             "#ed7953"
            ],
            [
             0.7777777777777778,
             "#fb9f3a"
            ],
            [
             0.8888888888888888,
             "#fdca26"
            ],
            [
             1,
             "#f0f921"
            ]
           ]
          },
          "colorway": [
           "#636efa",
           "#EF553B",
           "#00cc96",
           "#ab63fa",
           "#FFA15A",
           "#19d3f3",
           "#FF6692",
           "#B6E880",
           "#FF97FF",
           "#FECB52"
          ],
          "font": {
           "color": "#2a3f5f"
          },
          "geo": {
           "bgcolor": "white",
           "lakecolor": "white",
           "landcolor": "#E5ECF6",
           "showlakes": true,
           "showland": true,
           "subunitcolor": "white"
          },
          "hoverlabel": {
           "align": "left"
          },
          "hovermode": "closest",
          "mapbox": {
           "style": "light"
          },
          "paper_bgcolor": "white",
          "plot_bgcolor": "#E5ECF6",
          "polar": {
           "angularaxis": {
            "gridcolor": "white",
            "linecolor": "white",
            "ticks": ""
           },
           "bgcolor": "#E5ECF6",
           "radialaxis": {
            "gridcolor": "white",
            "linecolor": "white",
            "ticks": ""
           }
          },
          "scene": {
           "xaxis": {
            "backgroundcolor": "#E5ECF6",
            "gridcolor": "white",
            "gridwidth": 2,
            "linecolor": "white",
            "showbackground": true,
            "ticks": "",
            "zerolinecolor": "white"
           },
           "yaxis": {
            "backgroundcolor": "#E5ECF6",
            "gridcolor": "white",
            "gridwidth": 2,
            "linecolor": "white",
            "showbackground": true,
            "ticks": "",
            "zerolinecolor": "white"
           },
           "zaxis": {
            "backgroundcolor": "#E5ECF6",
            "gridcolor": "white",
            "gridwidth": 2,
            "linecolor": "white",
            "showbackground": true,
            "ticks": "",
            "zerolinecolor": "white"
           }
          },
          "shapedefaults": {
           "line": {
            "color": "#2a3f5f"
           }
          },
          "ternary": {
           "aaxis": {
            "gridcolor": "white",
            "linecolor": "white",
            "ticks": ""
           },
           "baxis": {
            "gridcolor": "white",
            "linecolor": "white",
            "ticks": ""
           },
           "bgcolor": "#E5ECF6",
           "caxis": {
            "gridcolor": "white",
            "linecolor": "white",
            "ticks": ""
           }
          },
          "title": {
           "x": 0.05
          },
          "xaxis": {
           "automargin": true,
           "gridcolor": "white",
           "linecolor": "white",
           "ticks": "",
           "title": {
            "standoff": 15
           },
           "zerolinecolor": "white",
           "zerolinewidth": 2
          },
          "yaxis": {
           "automargin": true,
           "gridcolor": "white",
           "linecolor": "white",
           "ticks": "",
           "title": {
            "standoff": 15
           },
           "zerolinecolor": "white",
           "zerolinewidth": 2
          }
         }
        },
        "title": {
         "text": "People vaccinated per country"
        },
        "xaxis": {
         "linecolor": "black",
         "linewidth": 2,
         "mirror": true,
         "showline": true,
         "showticklabels": true,
         "tickangle": 45,
         "tickfont": {
          "color": "black",
          "size": 10
         },
         "title": {
          "text": "Country"
         },
         "zeroline": true,
         "zerolinecolor": "grey",
         "zerolinewidth": 1
        },
        "yaxis": {
         "gridcolor": "lightgrey",
         "linecolor": "black",
         "linewidth": 2,
         "mirror": true,
         "showline": true,
         "title": {
          "text": "People vaccinated"
         },
         "zeroline": true,
         "zerolinecolor": "grey",
         "zerolinewidth": 1
        }
       }
      },
      "text/html": [
       "<div>                            <div id=\"f3edb7df-7766-45b2-9a0c-d2bff7549559\" class=\"plotly-graph-div\" style=\"height:525px; width:100%;\"></div>            <script type=\"text/javascript\">                require([\"plotly\"], function(Plotly) {                    window.PLOTLYENV=window.PLOTLYENV || {};                                    if (document.getElementById(\"f3edb7df-7766-45b2-9a0c-d2bff7549559\")) {                    Plotly.newPlot(                        \"f3edb7df-7766-45b2-9a0c-d2bff7549559\",                        [{\"marker\":{\"color\":\"lightblue\"},\"text\":[\"China\",\"India\",\"United States\",\"Brazil\",\"United Kingdom\",\"Germany\",\"England\",\"France\",\"Italy\",\"Turkey\",\"Mexico\",\"Canada\",\"Indonesia\",\"Spain\",\"Japan\",\"Russia\",\"Poland\",\"South Korea\",\"Argentina\",\"Chile\",\"Pakistan\",\"Colombia\",\"Morocco\",\"Netherlands\",\"Belgium\",\"Philippines\",\"Bangladesh\",\"Australia\",\"Israel\",\"Thailand\",\"Hungary\",\"United Arab Emirates\",\"Portugal\",\"Czechia\",\"Romania\",\"Dominican Republic\",\"Greece\",\"Austria\",\"Sweden\",\"Malaysia\",\"Iran\",\"Switzerland\",\"Peru\",\"Scotland\",\"Cambodia\",\"Egypt\",\"Finland\",\"Denmark\",\"Kuwait\",\"Kazakhstan\",\"Singapore\",\"Serbia\",\"Nepal\",\"Algeria\",\"Sri Lanka\",\"Ecuador\",\"Vietnam\",\"Cuba\",\"Wales\",\"Ireland\",\"Norway\",\"Uruguay\",\"South Africa\",\"Jordan\",\"Nigeria\",\"Azerbaijan\",\"Hong Kong\",\"Slovakia\",\"Mongolia\",\"Ethiopia\",\"Myanmar\",\"Ukraine\",\"Uzbekistan\",\"Qatar\",\"Bolivia\",\"Croatia\",\"El Salvador\",\"Costa Rica\",\"Lithuania\",\"Tunisia\",\"Northern Ireland\",\"Venezuela\",\"Bahrain\",\"Kenya\",\"Taiwan\",\"Panama\",\"Bulgaria\",\"Angola\",\"Ghana\",\"Uganda\",\"Slovenia\",\"Lebanon\",\"Laos\",\"Cote d'Ivoire\",\"Zimbabwe\",\"Belarus\",\"Guatemala\",\"Latvia\",\"New Zealand\",\"Estonia\",\"Oman\",\"Albania\",\"Sudan\",\"Iraq\",\"Afghanistan\",\"Bhutan\",\"Honduras\",\"Senegal\",\"Palestine\",\"Cyprus\",\"Paraguay\",\"Moldova\",\"Malawi\",\"Mauritius\",\"Malta\",\"Libya\",\"Rwanda\",\"Guinea\",\"Mozambique\",\"Maldives\",\"Luxembourg\",\"North Macedonia\",\"Togo\",\"Bosnia and Herzegovina\",\"Yemen\",\"Iceland\",\"Fiji\",\"Georgia\",\"Guyana\",\"Macao\",\"Madagascar\",\"Trinidad and Tobago\",\"Niger\",\"Nicaragua\",\"Jamaica\",\"Botswana\",\"Equatorial Guinea\",\"Montenegro\",\"Suriname\",\"Zambia\",\"Somalia\",\"Mali\",\"Mauritania\",\"Kosovo\",\"Namibia\",\"Timor\",\"Barbados\",\"Tajikistan\",\"Kyrgyzstan\",\"Curacao\",\"Sierra Leone\",\"Cameroon\",\"Belize\",\"Northern Cyprus\",\"Syria\",\"Seychelles\",\"Liberia\",\"Aruba\",\"Jersey\",\"French Polynesia\",\"Isle of Man\",\"Cape Verde\",\"New Caledonia\",\"Brunei\",\"Bahamas\",\"Cayman Islands\",\"Armenia\",\"Comoros\",\"Bermuda\",\"Central African Republic\",\"Democratic Republic of Congo\",\"Samoa\",\"Gibraltar\",\"Papua New Guinea\",\"Lesotho\",\"Antigua and Barbuda\",\"Eswatini\",\"Andorra\",\"Guernsey\",\"Turkmenistan\",\"Gambia\",\"Saint Lucia\",\"Gabon\",\"Tonga\",\"South Sudan\",\"Faeroe Islands\",\"Turks and Caicos Islands\",\"Congo\",\"San Marino\",\"Saint Kitts and Nevis\",\"Greenland\",\"Benin\",\"Sint Maarten (Dutch part)\",\"Dominica\",\"Grenada\",\"Monaco\",\"Guinea-Bissau\",\"Saint Vincent and the Grenadines\",\"Liechtenstein\",\"Burkina Faso\",\"Solomon Islands\",\"Djibouti\",\"British Virgin Islands\",\"Sao Tome and Principe\",\"Cook Islands\",\"Anguilla\",\"Nauru\",\"Bonaire Sint Eustatius and Saba\",\"Chad\",\"Vanuatu\",\"Tuvalu\",\"Wallis and Futuna\",\"Saint Helena\",\"Falkland Islands\",\"Montserrat\",\"Pitcairn\",\"Saudi Arabia\"],\"type\":\"bar\",\"x\":[\"China\",\"India\",\"United States\",\"Brazil\",\"United Kingdom\",\"Germany\",\"England\",\"France\",\"Italy\",\"Turkey\",\"Mexico\",\"Canada\",\"Indonesia\",\"Spain\",\"Japan\",\"Russia\",\"Poland\",\"South Korea\",\"Argentina\",\"Chile\",\"Pakistan\",\"Colombia\",\"Morocco\",\"Netherlands\",\"Belgium\",\"Philippines\",\"Bangladesh\",\"Australia\",\"Israel\",\"Thailand\",\"Hungary\",\"United Arab Emirates\",\"Portugal\",\"Czechia\",\"Romania\",\"Dominican Republic\",\"Greece\",\"Austria\",\"Sweden\",\"Malaysia\",\"Iran\",\"Switzerland\",\"Peru\",\"Scotland\",\"Cambodia\",\"Egypt\",\"Finland\",\"Denmark\",\"Kuwait\",\"Kazakhstan\",\"Singapore\",\"Serbia\",\"Nepal\",\"Algeria\",\"Sri Lanka\",\"Ecuador\",\"Vietnam\",\"Cuba\",\"Wales\",\"Ireland\",\"Norway\",\"Uruguay\",\"South Africa\",\"Jordan\",\"Nigeria\",\"Azerbaijan\",\"Hong Kong\",\"Slovakia\",\"Mongolia\",\"Ethiopia\",\"Myanmar\",\"Ukraine\",\"Uzbekistan\",\"Qatar\",\"Bolivia\",\"Croatia\",\"El Salvador\",\"Costa Rica\",\"Lithuania\",\"Tunisia\",\"Northern Ireland\",\"Venezuela\",\"Bahrain\",\"Kenya\",\"Taiwan\",\"Panama\",\"Bulgaria\",\"Angola\",\"Ghana\",\"Uganda\",\"Slovenia\",\"Lebanon\",\"Laos\",\"Cote d'Ivoire\",\"Zimbabwe\",\"Belarus\",\"Guatemala\",\"Latvia\",\"New Zealand\",\"Estonia\",\"Oman\",\"Albania\",\"Sudan\",\"Iraq\",\"Afghanistan\",\"Bhutan\",\"Honduras\",\"Senegal\",\"Palestine\",\"Cyprus\",\"Paraguay\",\"Moldova\",\"Malawi\",\"Mauritius\",\"Malta\",\"Libya\",\"Rwanda\",\"Guinea\",\"Mozambique\",\"Maldives\",\"Luxembourg\",\"North Macedonia\",\"Togo\",\"Bosnia and Herzegovina\",\"Yemen\",\"Iceland\",\"Fiji\",\"Georgia\",\"Guyana\",\"Macao\",\"Madagascar\",\"Trinidad and Tobago\",\"Niger\",\"Nicaragua\",\"Jamaica\",\"Botswana\",\"Equatorial Guinea\",\"Montenegro\",\"Suriname\",\"Zambia\",\"Somalia\",\"Mali\",\"Mauritania\",\"Kosovo\",\"Namibia\",\"Timor\",\"Barbados\",\"Tajikistan\",\"Kyrgyzstan\",\"Curacao\",\"Sierra Leone\",\"Cameroon\",\"Belize\",\"Northern Cyprus\",\"Syria\",\"Seychelles\",\"Liberia\",\"Aruba\",\"Jersey\",\"French Polynesia\",\"Isle of Man\",\"Cape Verde\",\"New Caledonia\",\"Brunei\",\"Bahamas\",\"Cayman Islands\",\"Armenia\",\"Comoros\",\"Bermuda\",\"Central African Republic\",\"Democratic Republic of Congo\",\"Samoa\",\"Gibraltar\",\"Papua New Guinea\",\"Lesotho\",\"Antigua and Barbuda\",\"Eswatini\",\"Andorra\",\"Guernsey\",\"Turkmenistan\",\"Gambia\",\"Saint Lucia\",\"Gabon\",\"Tonga\",\"South Sudan\",\"Faeroe Islands\",\"Turks and Caicos Islands\",\"Congo\",\"San Marino\",\"Saint Kitts and Nevis\",\"Greenland\",\"Benin\",\"Sint Maarten (Dutch part)\",\"Dominica\",\"Grenada\",\"Monaco\",\"Guinea-Bissau\",\"Saint Vincent and the Grenadines\",\"Liechtenstein\",\"Burkina Faso\",\"Solomon Islands\",\"Djibouti\",\"British Virgin Islands\",\"Sao Tome and Principe\",\"Cook Islands\",\"Anguilla\",\"Nauru\",\"Bonaire Sint Eustatius and Saba\",\"Chad\",\"Vanuatu\",\"Tuvalu\",\"Wallis and Futuna\",\"Saint Helena\",\"Falkland Islands\",\"Montserrat\",\"Pitcairn\",\"Saudi Arabia\"],\"y\":[622000000.0,224541283.0,177088290.0,62741992.0,43127763.0,42284584.0,36101778.0,31981541.0,31431717.0,28123248.0,27753807.0,25105109.0,23043372.0,22684911.0,22437512.0,19657314.0,16152134.0,15014819.0,14397649.0,12081916.0,10209149.0,10172100.0,9375240.0,8610697.0,6330438.0,6253400.0,5823245.0,5698309.0,5495050.0,5486092.0,5411431.0,5081853.0,4871081.0,4775887.0,4633520.0,4541739.0,4526238.0,4462739.0,4315017.0,4202601.0,3984095.0,3918450.0,3777819.0,3647437.0,3366207.0,3315854.0,3077639.0,3010813.0,2875000.0,2744212.0,2700446.0,2693998.0,2500196.0,2500000.0,2455180.0,2351838.0,2300960.0,2244336.0,2237710.0,2217448.0,2177852.0,2146891.0,2141624.0,2100892.0,1964095.0,1949635.0,1940427.0,1938210.0,1912235.0,1894717.0,1772177.0,1726040.0,1623764.0,1620571.0,1615514.0,1450798.0,1425927.0,1409778.0,1207804.0,1165402.0,1140838.0,1079134.0,1043787.0,995012.0,985084.0,929180.0,911349.0,866381.0,852047.0,821659.0,799225.0,761818.0,753750.0,725916.0,703065.0,699141.0,661474.0,634665.0,567188.0,544287.0,535578.0,515884.0,508271.0,494524.0,484737.0,484189.0,484018.0,480311.0,445598.0,443121.0,422474.0,401379.0,383273.0,380362.0,352478.0,351408.0,350400.0,336515.0,320129.0,315156.0,283338.0,274710.0,270784.0,252499.0,251385.0,238814.0,237940.0,234410.0,223659.0,205772.0,188752.0,176849.0,172812.0,167500.0,163209.0,150019.0,148579.0,147995.0,144662.0,142089.0,135107.0,130574.0,129020.0,116057.0,104199.0,103813.0,90735.0,89121.0,88178.0,88065.0,82145.0,78476.0,76148.0,75463.0,71519.0,70660.0,68134.0,66865.0,65146.0,64749.0,62417.0,60771.0,55277.0,55005.0,54199.0,47001.0,46503.0,43140.0,41198.0,41095.0,40342.0,40230.0,39133.0,38176.0,36637.0,35611.0,35227.0,34646.0,32969.0,32240.0,30421.0,30063.0,29400.0,28631.0,27338.0,25952.0,22700.0,22623.0,22172.0,22012.0,21863.0,21834.0,20358.0,20134.0,19024.0,18836.0,18706.0,18417.0,17873.0,17775.0,17000.0,12547.0,12405.0,12374.0,9589.0,9183.0,7438.0,5726.0,5324.0,5140.0,4772.0,4470.0,4361.0,2632.0,1394.0,47.0,null]}],                        {\"hovermode\":\"closest\",\"paper_bgcolor\":\"rgba(0, 0, 0, 0)\",\"plot_bgcolor\":\"rgba(0, 0, 0, 0)\",\"template\":{\"data\":{\"bar\":[{\"error_x\":{\"color\":\"#2a3f5f\"},\"error_y\":{\"color\":\"#2a3f5f\"},\"marker\":{\"line\":{\"color\":\"#E5ECF6\",\"width\":0.5},\"pattern\":{\"fillmode\":\"overlay\",\"size\":10,\"solidity\":0.2}},\"type\":\"bar\"}],\"barpolar\":[{\"marker\":{\"line\":{\"color\":\"#E5ECF6\",\"width\":0.5},\"pattern\":{\"fillmode\":\"overlay\",\"size\":10,\"solidity\":0.2}},\"type\":\"barpolar\"}],\"carpet\":[{\"aaxis\":{\"endlinecolor\":\"#2a3f5f\",\"gridcolor\":\"white\",\"linecolor\":\"white\",\"minorgridcolor\":\"white\",\"startlinecolor\":\"#2a3f5f\"},\"baxis\":{\"endlinecolor\":\"#2a3f5f\",\"gridcolor\":\"white\",\"linecolor\":\"white\",\"minorgridcolor\":\"white\",\"startlinecolor\":\"#2a3f5f\"},\"type\":\"carpet\"}],\"choropleth\":[{\"colorbar\":{\"outlinewidth\":0,\"ticks\":\"\"},\"type\":\"choropleth\"}],\"contour\":[{\"colorbar\":{\"outlinewidth\":0,\"ticks\":\"\"},\"colorscale\":[[0.0,\"#0d0887\"],[0.1111111111111111,\"#46039f\"],[0.2222222222222222,\"#7201a8\"],[0.3333333333333333,\"#9c179e\"],[0.4444444444444444,\"#bd3786\"],[0.5555555555555556,\"#d8576b\"],[0.6666666666666666,\"#ed7953\"],[0.7777777777777778,\"#fb9f3a\"],[0.8888888888888888,\"#fdca26\"],[1.0,\"#f0f921\"]],\"type\":\"contour\"}],\"contourcarpet\":[{\"colorbar\":{\"outlinewidth\":0,\"ticks\":\"\"},\"type\":\"contourcarpet\"}],\"heatmap\":[{\"colorbar\":{\"outlinewidth\":0,\"ticks\":\"\"},\"colorscale\":[[0.0,\"#0d0887\"],[0.1111111111111111,\"#46039f\"],[0.2222222222222222,\"#7201a8\"],[0.3333333333333333,\"#9c179e\"],[0.4444444444444444,\"#bd3786\"],[0.5555555555555556,\"#d8576b\"],[0.6666666666666666,\"#ed7953\"],[0.7777777777777778,\"#fb9f3a\"],[0.8888888888888888,\"#fdca26\"],[1.0,\"#f0f921\"]],\"type\":\"heatmap\"}],\"heatmapgl\":[{\"colorbar\":{\"outlinewidth\":0,\"ticks\":\"\"},\"colorscale\":[[0.0,\"#0d0887\"],[0.1111111111111111,\"#46039f\"],[0.2222222222222222,\"#7201a8\"],[0.3333333333333333,\"#9c179e\"],[0.4444444444444444,\"#bd3786\"],[0.5555555555555556,\"#d8576b\"],[0.6666666666666666,\"#ed7953\"],[0.7777777777777778,\"#fb9f3a\"],[0.8888888888888888,\"#fdca26\"],[1.0,\"#f0f921\"]],\"type\":\"heatmapgl\"}],\"histogram\":[{\"marker\":{\"pattern\":{\"fillmode\":\"overlay\",\"size\":10,\"solidity\":0.2}},\"type\":\"histogram\"}],\"histogram2d\":[{\"colorbar\":{\"outlinewidth\":0,\"ticks\":\"\"},\"colorscale\":[[0.0,\"#0d0887\"],[0.1111111111111111,\"#46039f\"],[0.2222222222222222,\"#7201a8\"],[0.3333333333333333,\"#9c179e\"],[0.4444444444444444,\"#bd3786\"],[0.5555555555555556,\"#d8576b\"],[0.6666666666666666,\"#ed7953\"],[0.7777777777777778,\"#fb9f3a\"],[0.8888888888888888,\"#fdca26\"],[1.0,\"#f0f921\"]],\"type\":\"histogram2d\"}],\"histogram2dcontour\":[{\"colorbar\":{\"outlinewidth\":0,\"ticks\":\"\"},\"colorscale\":[[0.0,\"#0d0887\"],[0.1111111111111111,\"#46039f\"],[0.2222222222222222,\"#7201a8\"],[0.3333333333333333,\"#9c179e\"],[0.4444444444444444,\"#bd3786\"],[0.5555555555555556,\"#d8576b\"],[0.6666666666666666,\"#ed7953\"],[0.7777777777777778,\"#fb9f3a\"],[0.8888888888888888,\"#fdca26\"],[1.0,\"#f0f921\"]],\"type\":\"histogram2dcontour\"}],\"mesh3d\":[{\"colorbar\":{\"outlinewidth\":0,\"ticks\":\"\"},\"type\":\"mesh3d\"}],\"parcoords\":[{\"line\":{\"colorbar\":{\"outlinewidth\":0,\"ticks\":\"\"}},\"type\":\"parcoords\"}],\"pie\":[{\"automargin\":true,\"type\":\"pie\"}],\"scatter\":[{\"marker\":{\"colorbar\":{\"outlinewidth\":0,\"ticks\":\"\"}},\"type\":\"scatter\"}],\"scatter3d\":[{\"line\":{\"colorbar\":{\"outlinewidth\":0,\"ticks\":\"\"}},\"marker\":{\"colorbar\":{\"outlinewidth\":0,\"ticks\":\"\"}},\"type\":\"scatter3d\"}],\"scattercarpet\":[{\"marker\":{\"colorbar\":{\"outlinewidth\":0,\"ticks\":\"\"}},\"type\":\"scattercarpet\"}],\"scattergeo\":[{\"marker\":{\"colorbar\":{\"outlinewidth\":0,\"ticks\":\"\"}},\"type\":\"scattergeo\"}],\"scattergl\":[{\"marker\":{\"colorbar\":{\"outlinewidth\":0,\"ticks\":\"\"}},\"type\":\"scattergl\"}],\"scattermapbox\":[{\"marker\":{\"colorbar\":{\"outlinewidth\":0,\"ticks\":\"\"}},\"type\":\"scattermapbox\"}],\"scatterpolar\":[{\"marker\":{\"colorbar\":{\"outlinewidth\":0,\"ticks\":\"\"}},\"type\":\"scatterpolar\"}],\"scatterpolargl\":[{\"marker\":{\"colorbar\":{\"outlinewidth\":0,\"ticks\":\"\"}},\"type\":\"scatterpolargl\"}],\"scatterternary\":[{\"marker\":{\"colorbar\":{\"outlinewidth\":0,\"ticks\":\"\"}},\"type\":\"scatterternary\"}],\"surface\":[{\"colorbar\":{\"outlinewidth\":0,\"ticks\":\"\"},\"colorscale\":[[0.0,\"#0d0887\"],[0.1111111111111111,\"#46039f\"],[0.2222222222222222,\"#7201a8\"],[0.3333333333333333,\"#9c179e\"],[0.4444444444444444,\"#bd3786\"],[0.5555555555555556,\"#d8576b\"],[0.6666666666666666,\"#ed7953\"],[0.7777777777777778,\"#fb9f3a\"],[0.8888888888888888,\"#fdca26\"],[1.0,\"#f0f921\"]],\"type\":\"surface\"}],\"table\":[{\"cells\":{\"fill\":{\"color\":\"#EBF0F8\"},\"line\":{\"color\":\"white\"}},\"header\":{\"fill\":{\"color\":\"#C8D4E3\"},\"line\":{\"color\":\"white\"}},\"type\":\"table\"}]},\"layout\":{\"annotationdefaults\":{\"arrowcolor\":\"#2a3f5f\",\"arrowhead\":0,\"arrowwidth\":1},\"autotypenumbers\":\"strict\",\"coloraxis\":{\"colorbar\":{\"outlinewidth\":0,\"ticks\":\"\"}},\"colorscale\":{\"diverging\":[[0,\"#8e0152\"],[0.1,\"#c51b7d\"],[0.2,\"#de77ae\"],[0.3,\"#f1b6da\"],[0.4,\"#fde0ef\"],[0.5,\"#f7f7f7\"],[0.6,\"#e6f5d0\"],[0.7,\"#b8e186\"],[0.8,\"#7fbc41\"],[0.9,\"#4d9221\"],[1,\"#276419\"]],\"sequential\":[[0.0,\"#0d0887\"],[0.1111111111111111,\"#46039f\"],[0.2222222222222222,\"#7201a8\"],[0.3333333333333333,\"#9c179e\"],[0.4444444444444444,\"#bd3786\"],[0.5555555555555556,\"#d8576b\"],[0.6666666666666666,\"#ed7953\"],[0.7777777777777778,\"#fb9f3a\"],[0.8888888888888888,\"#fdca26\"],[1.0,\"#f0f921\"]],\"sequentialminus\":[[0.0,\"#0d0887\"],[0.1111111111111111,\"#46039f\"],[0.2222222222222222,\"#7201a8\"],[0.3333333333333333,\"#9c179e\"],[0.4444444444444444,\"#bd3786\"],[0.5555555555555556,\"#d8576b\"],[0.6666666666666666,\"#ed7953\"],[0.7777777777777778,\"#fb9f3a\"],[0.8888888888888888,\"#fdca26\"],[1.0,\"#f0f921\"]]},\"colorway\":[\"#636efa\",\"#EF553B\",\"#00cc96\",\"#ab63fa\",\"#FFA15A\",\"#19d3f3\",\"#FF6692\",\"#B6E880\",\"#FF97FF\",\"#FECB52\"],\"font\":{\"color\":\"#2a3f5f\"},\"geo\":{\"bgcolor\":\"white\",\"lakecolor\":\"white\",\"landcolor\":\"#E5ECF6\",\"showlakes\":true,\"showland\":true,\"subunitcolor\":\"white\"},\"hoverlabel\":{\"align\":\"left\"},\"hovermode\":\"closest\",\"mapbox\":{\"style\":\"light\"},\"paper_bgcolor\":\"white\",\"plot_bgcolor\":\"#E5ECF6\",\"polar\":{\"angularaxis\":{\"gridcolor\":\"white\",\"linecolor\":\"white\",\"ticks\":\"\"},\"bgcolor\":\"#E5ECF6\",\"radialaxis\":{\"gridcolor\":\"white\",\"linecolor\":\"white\",\"ticks\":\"\"}},\"scene\":{\"xaxis\":{\"backgroundcolor\":\"#E5ECF6\",\"gridcolor\":\"white\",\"gridwidth\":2,\"linecolor\":\"white\",\"showbackground\":true,\"ticks\":\"\",\"zerolinecolor\":\"white\"},\"yaxis\":{\"backgroundcolor\":\"#E5ECF6\",\"gridcolor\":\"white\",\"gridwidth\":2,\"linecolor\":\"white\",\"showbackground\":true,\"ticks\":\"\",\"zerolinecolor\":\"white\"},\"zaxis\":{\"backgroundcolor\":\"#E5ECF6\",\"gridcolor\":\"white\",\"gridwidth\":2,\"linecolor\":\"white\",\"showbackground\":true,\"ticks\":\"\",\"zerolinecolor\":\"white\"}},\"shapedefaults\":{\"line\":{\"color\":\"#2a3f5f\"}},\"ternary\":{\"aaxis\":{\"gridcolor\":\"white\",\"linecolor\":\"white\",\"ticks\":\"\"},\"baxis\":{\"gridcolor\":\"white\",\"linecolor\":\"white\",\"ticks\":\"\"},\"bgcolor\":\"#E5ECF6\",\"caxis\":{\"gridcolor\":\"white\",\"linecolor\":\"white\",\"ticks\":\"\"}},\"title\":{\"x\":0.05},\"xaxis\":{\"automargin\":true,\"gridcolor\":\"white\",\"linecolor\":\"white\",\"ticks\":\"\",\"title\":{\"standoff\":15},\"zerolinecolor\":\"white\",\"zerolinewidth\":2},\"yaxis\":{\"automargin\":true,\"gridcolor\":\"white\",\"linecolor\":\"white\",\"ticks\":\"\",\"title\":{\"standoff\":15},\"zerolinecolor\":\"white\",\"zerolinewidth\":2}}},\"title\":{\"text\":\"People vaccinated per country\"},\"xaxis\":{\"linecolor\":\"black\",\"linewidth\":2,\"mirror\":true,\"showline\":true,\"showticklabels\":true,\"tickangle\":45,\"tickfont\":{\"color\":\"black\",\"size\":10},\"title\":{\"text\":\"Country\"},\"zeroline\":true,\"zerolinecolor\":\"grey\",\"zerolinewidth\":1},\"yaxis\":{\"gridcolor\":\"lightgrey\",\"linecolor\":\"black\",\"linewidth\":2,\"mirror\":true,\"showline\":true,\"title\":{\"text\":\"People vaccinated\"},\"zeroline\":true,\"zerolinecolor\":\"grey\",\"zerolinewidth\":1}},                        {\"responsive\": true}                    ).then(function(){\n",
       "                            \n",
       "var gd = document.getElementById('f3edb7df-7766-45b2-9a0c-d2bff7549559');\n",
       "var x = new MutationObserver(function (mutations, observer) {{\n",
       "        var display = window.getComputedStyle(gd).display;\n",
       "        if (!display || display === 'none') {{\n",
       "            console.log([gd, 'removed!']);\n",
       "            Plotly.purge(gd);\n",
       "            observer.disconnect();\n",
       "        }}\n",
       "}});\n",
       "\n",
       "// Listen for the removal of the full notebook cells\n",
       "var notebookContainer = gd.closest('#notebook-container');\n",
       "if (notebookContainer) {{\n",
       "    x.observe(notebookContainer, {childList: true});\n",
       "}}\n",
       "\n",
       "// Listen for the clearing of the current output cell\n",
       "var outputEl = gd.closest('.output');\n",
       "if (outputEl) {{\n",
       "    x.observe(outputEl, {childList: true});\n",
       "}}\n",
       "\n",
       "                        })                };                });            </script>        </div>"
      ]
     },
     "metadata": {},
     "output_type": "display_data"
    }
   ],
   "source": [
    "draw_trace_bar(country_vaccine, 'People vaccinated', 'People vaccinated per country', 'Country',\\\n",
    "               'People vaccinated', \"lightblue\" )"
   ]
  },
  {
   "cell_type": "code",
   "execution_count": 32,
   "metadata": {
    "scrolled": true
   },
   "outputs": [
    {
     "ename": "KeyError",
     "evalue": "'Country'",
     "output_type": "error",
     "traceback": [
      "\u001b[1;31m---------------------------------------------------------------------------\u001b[0m",
      "\u001b[1;31mKeyError\u001b[0m                                  Traceback (most recent call last)",
      "\u001b[1;32mc:\\users\\abhis\\appdata\\local\\programs\\python\\python39\\lib\\site-packages\\pandas\\core\\indexes\\base.py\u001b[0m in \u001b[0;36mget_loc\u001b[1;34m(self, key, method, tolerance)\u001b[0m\n\u001b[0;32m   3079\u001b[0m             \u001b[1;32mtry\u001b[0m\u001b[1;33m:\u001b[0m\u001b[1;33m\u001b[0m\u001b[1;33m\u001b[0m\u001b[0m\n\u001b[1;32m-> 3080\u001b[1;33m                 \u001b[1;32mreturn\u001b[0m \u001b[0mself\u001b[0m\u001b[1;33m.\u001b[0m\u001b[0m_engine\u001b[0m\u001b[1;33m.\u001b[0m\u001b[0mget_loc\u001b[0m\u001b[1;33m(\u001b[0m\u001b[0mcasted_key\u001b[0m\u001b[1;33m)\u001b[0m\u001b[1;33m\u001b[0m\u001b[1;33m\u001b[0m\u001b[0m\n\u001b[0m\u001b[0;32m   3081\u001b[0m             \u001b[1;32mexcept\u001b[0m \u001b[0mKeyError\u001b[0m \u001b[1;32mas\u001b[0m \u001b[0merr\u001b[0m\u001b[1;33m:\u001b[0m\u001b[1;33m\u001b[0m\u001b[1;33m\u001b[0m\u001b[0m\n",
      "\u001b[1;32mpandas\\_libs\\index.pyx\u001b[0m in \u001b[0;36mpandas._libs.index.IndexEngine.get_loc\u001b[1;34m()\u001b[0m\n",
      "\u001b[1;32mpandas\\_libs\\index.pyx\u001b[0m in \u001b[0;36mpandas._libs.index.IndexEngine.get_loc\u001b[1;34m()\u001b[0m\n",
      "\u001b[1;32mpandas\\_libs\\hashtable_class_helper.pxi\u001b[0m in \u001b[0;36mpandas._libs.hashtable.PyObjectHashTable.get_item\u001b[1;34m()\u001b[0m\n",
      "\u001b[1;32mpandas\\_libs\\hashtable_class_helper.pxi\u001b[0m in \u001b[0;36mpandas._libs.hashtable.PyObjectHashTable.get_item\u001b[1;34m()\u001b[0m\n",
      "\u001b[1;31mKeyError\u001b[0m: 'Country'",
      "\nThe above exception was the direct cause of the following exception:\n",
      "\u001b[1;31mKeyError\u001b[0m                                  Traceback (most recent call last)",
      "\u001b[1;32m<ipython-input-32-851b6540e8d2>\u001b[0m in \u001b[0;36m<module>\u001b[1;34m\u001b[0m\n\u001b[0;32m      1\u001b[0m trace = go.Choropleth(\n\u001b[1;32m----> 2\u001b[1;33m             \u001b[0mlocations\u001b[0m \u001b[1;33m=\u001b[0m \u001b[0mcountry_vaccine\u001b[0m\u001b[1;33m[\u001b[0m\u001b[1;34m'Country'\u001b[0m\u001b[1;33m]\u001b[0m\u001b[1;33m,\u001b[0m\u001b[1;33m\u001b[0m\u001b[1;33m\u001b[0m\u001b[0m\n\u001b[0m\u001b[0;32m      3\u001b[0m             \u001b[0mlocationmode\u001b[0m\u001b[1;33m=\u001b[0m\u001b[1;34m'country names'\u001b[0m\u001b[1;33m,\u001b[0m\u001b[1;33m\u001b[0m\u001b[1;33m\u001b[0m\u001b[0m\n\u001b[0;32m      4\u001b[0m             \u001b[0mz\u001b[0m \u001b[1;33m=\u001b[0m \u001b[0mcountry_vaccine\u001b[0m\u001b[1;33m[\u001b[0m\u001b[1;34m'Total vaccinations'\u001b[0m\u001b[1;33m]\u001b[0m\u001b[1;33m,\u001b[0m\u001b[1;33m\u001b[0m\u001b[1;33m\u001b[0m\u001b[0m\n\u001b[0;32m      5\u001b[0m             \u001b[0mtext\u001b[0m \u001b[1;33m=\u001b[0m \u001b[0mcountry_vaccine\u001b[0m\u001b[1;33m[\u001b[0m\u001b[1;34m'Country'\u001b[0m\u001b[1;33m]\u001b[0m\u001b[1;33m,\u001b[0m\u001b[1;33m\u001b[0m\u001b[1;33m\u001b[0m\u001b[0m\n",
      "\u001b[1;32mc:\\users\\abhis\\appdata\\local\\programs\\python\\python39\\lib\\site-packages\\pandas\\core\\frame.py\u001b[0m in \u001b[0;36m__getitem__\u001b[1;34m(self, key)\u001b[0m\n\u001b[0;32m   3022\u001b[0m             \u001b[1;32mif\u001b[0m \u001b[0mself\u001b[0m\u001b[1;33m.\u001b[0m\u001b[0mcolumns\u001b[0m\u001b[1;33m.\u001b[0m\u001b[0mnlevels\u001b[0m \u001b[1;33m>\u001b[0m \u001b[1;36m1\u001b[0m\u001b[1;33m:\u001b[0m\u001b[1;33m\u001b[0m\u001b[1;33m\u001b[0m\u001b[0m\n\u001b[0;32m   3023\u001b[0m                 \u001b[1;32mreturn\u001b[0m \u001b[0mself\u001b[0m\u001b[1;33m.\u001b[0m\u001b[0m_getitem_multilevel\u001b[0m\u001b[1;33m(\u001b[0m\u001b[0mkey\u001b[0m\u001b[1;33m)\u001b[0m\u001b[1;33m\u001b[0m\u001b[1;33m\u001b[0m\u001b[0m\n\u001b[1;32m-> 3024\u001b[1;33m             \u001b[0mindexer\u001b[0m \u001b[1;33m=\u001b[0m \u001b[0mself\u001b[0m\u001b[1;33m.\u001b[0m\u001b[0mcolumns\u001b[0m\u001b[1;33m.\u001b[0m\u001b[0mget_loc\u001b[0m\u001b[1;33m(\u001b[0m\u001b[0mkey\u001b[0m\u001b[1;33m)\u001b[0m\u001b[1;33m\u001b[0m\u001b[1;33m\u001b[0m\u001b[0m\n\u001b[0m\u001b[0;32m   3025\u001b[0m             \u001b[1;32mif\u001b[0m \u001b[0mis_integer\u001b[0m\u001b[1;33m(\u001b[0m\u001b[0mindexer\u001b[0m\u001b[1;33m)\u001b[0m\u001b[1;33m:\u001b[0m\u001b[1;33m\u001b[0m\u001b[1;33m\u001b[0m\u001b[0m\n\u001b[0;32m   3026\u001b[0m                 \u001b[0mindexer\u001b[0m \u001b[1;33m=\u001b[0m \u001b[1;33m[\u001b[0m\u001b[0mindexer\u001b[0m\u001b[1;33m]\u001b[0m\u001b[1;33m\u001b[0m\u001b[1;33m\u001b[0m\u001b[0m\n",
      "\u001b[1;32mc:\\users\\abhis\\appdata\\local\\programs\\python\\python39\\lib\\site-packages\\pandas\\core\\indexes\\base.py\u001b[0m in \u001b[0;36mget_loc\u001b[1;34m(self, key, method, tolerance)\u001b[0m\n\u001b[0;32m   3080\u001b[0m                 \u001b[1;32mreturn\u001b[0m \u001b[0mself\u001b[0m\u001b[1;33m.\u001b[0m\u001b[0m_engine\u001b[0m\u001b[1;33m.\u001b[0m\u001b[0mget_loc\u001b[0m\u001b[1;33m(\u001b[0m\u001b[0mcasted_key\u001b[0m\u001b[1;33m)\u001b[0m\u001b[1;33m\u001b[0m\u001b[1;33m\u001b[0m\u001b[0m\n\u001b[0;32m   3081\u001b[0m             \u001b[1;32mexcept\u001b[0m \u001b[0mKeyError\u001b[0m \u001b[1;32mas\u001b[0m \u001b[0merr\u001b[0m\u001b[1;33m:\u001b[0m\u001b[1;33m\u001b[0m\u001b[1;33m\u001b[0m\u001b[0m\n\u001b[1;32m-> 3082\u001b[1;33m                 \u001b[1;32mraise\u001b[0m \u001b[0mKeyError\u001b[0m\u001b[1;33m(\u001b[0m\u001b[0mkey\u001b[0m\u001b[1;33m)\u001b[0m \u001b[1;32mfrom\u001b[0m \u001b[0merr\u001b[0m\u001b[1;33m\u001b[0m\u001b[1;33m\u001b[0m\u001b[0m\n\u001b[0m\u001b[0;32m   3083\u001b[0m \u001b[1;33m\u001b[0m\u001b[0m\n\u001b[0;32m   3084\u001b[0m         \u001b[1;32mif\u001b[0m \u001b[0mtolerance\u001b[0m \u001b[1;32mis\u001b[0m \u001b[1;32mnot\u001b[0m \u001b[1;32mNone\u001b[0m\u001b[1;33m:\u001b[0m\u001b[1;33m\u001b[0m\u001b[1;33m\u001b[0m\u001b[0m\n",
      "\u001b[1;31mKeyError\u001b[0m: 'Country'"
     ]
    }
   ],
   "source": [
    "trace = go.Choropleth(\n",
    "            locations = country_vaccine['Country'],\n",
    "            locationmode='country names',\n",
    "            z = country_vaccine['Total vaccinations'],\n",
    "            text = country_vaccine['Country'],\n",
    "            autocolorscale =False,\n",
    "            reversescale = True,\n",
    "            colorscale = 'viridis',\n",
    "            marker = dict(\n",
    "                line = dict(\n",
    "                    color = 'rgb(0,0,0)',\n",
    "                    width = 0.5)\n",
    "            ),\n",
    "            colorbar = dict(\n",
    "                title = 'Total vaccinations',\n",
    "                tickprefix = '')\n",
    "        )\n",
    "\n",
    "data = [trace]\n",
    "layout = go.Layout(\n",
    "    title = 'Total vaccinations per country',\n",
    "    geo = dict(\n",
    "        showframe = True,\n",
    "        showlakes = False,\n",
    "        showcoastlines = True,\n",
    "        projection = dict(\n",
    "            type = 'natural earth'\n",
    "        )\n",
    "    )\n",
    ")\n",
    "\n",
    "fig = dict( data=data, layout=layout )\n",
    "iplot(fig)"
   ]
  },
  {
   "cell_type": "code",
   "execution_count": 18,
   "metadata": {
    "scrolled": true
   },
   "outputs": [
    {
     "data": {
      "application/vnd.plotly.v1+json": {
       "config": {
        "linkText": "Export to plot.ly",
        "plotlyServerURL": "https://plot.ly",
        "showLink": false
       },
       "data": [
        {
         "autocolorscale": false,
         "colorbar": {
          "tickprefix": "",
          "title": {
           "text": "Daily vaccinations"
          }
         },
         "colorscale": [
          [
           0,
           "#440154"
          ],
          [
           0.1111111111111111,
           "#482878"
          ],
          [
           0.2222222222222222,
           "#3e4989"
          ],
          [
           0.3333333333333333,
           "#31688e"
          ],
          [
           0.4444444444444444,
           "#26828e"
          ],
          [
           0.5555555555555556,
           "#1f9e89"
          ],
          [
           0.6666666666666666,
           "#35b779"
          ],
          [
           0.7777777777777778,
           "#6ece58"
          ],
          [
           0.8888888888888888,
           "#b5de2b"
          ],
          [
           1,
           "#fde725"
          ]
         ],
         "locationmode": "country names",
         "locations": [
          "Afghanistan",
          "Albania",
          "Algeria",
          "Andorra",
          "Angola",
          "Anguilla",
          "Antigua and Barbuda",
          "Argentina",
          "Armenia",
          "Aruba",
          "Australia",
          "Austria",
          "Azerbaijan",
          "Bahamas",
          "Bahrain",
          "Bangladesh",
          "Barbados",
          "Belarus",
          "Belgium",
          "Belize",
          "Benin",
          "Bermuda",
          "Bhutan",
          "Bolivia",
          "Bonaire Sint Eustatius and Saba",
          "Bosnia and Herzegovina",
          "Botswana",
          "Brazil",
          "British Virgin Islands",
          "Brunei",
          "Bulgaria",
          "Burkina Faso",
          "Cambodia",
          "Cameroon",
          "Canada",
          "Cape Verde",
          "Cayman Islands",
          "Central African Republic",
          "Chad",
          "Chile",
          "China",
          "Colombia",
          "Comoros",
          "Congo",
          "Cook Islands",
          "Costa Rica",
          "Cote d'Ivoire",
          "Croatia",
          "Cuba",
          "Curacao",
          "Cyprus",
          "Czechia",
          "Democratic Republic of Congo",
          "Denmark",
          "Djibouti",
          "Dominica",
          "Dominican Republic",
          "Ecuador",
          "Egypt",
          "El Salvador",
          "England",
          "Equatorial Guinea",
          "Estonia",
          "Eswatini",
          "Ethiopia",
          "Faeroe Islands",
          "Falkland Islands",
          "Fiji",
          "Finland",
          "France",
          "French Polynesia",
          "Gabon",
          "Gambia",
          "Georgia",
          "Germany",
          "Ghana",
          "Gibraltar",
          "Greece",
          "Greenland",
          "Grenada",
          "Guatemala",
          "Guernsey",
          "Guinea",
          "Guinea-Bissau",
          "Guyana",
          "Honduras",
          "Hong Kong",
          "Hungary",
          "Iceland",
          "India",
          "Indonesia",
          "Iran",
          "Iraq",
          "Ireland",
          "Isle of Man",
          "Israel",
          "Italy",
          "Jamaica",
          "Japan",
          "Jersey",
          "Jordan",
          "Kazakhstan",
          "Kenya",
          "Kosovo",
          "Kuwait",
          "Kyrgyzstan",
          "Laos",
          "Latvia",
          "Lebanon",
          "Lesotho",
          "Liberia",
          "Libya",
          "Liechtenstein",
          "Lithuania",
          "Luxembourg",
          "Macao",
          "Madagascar",
          "Malawi",
          "Malaysia",
          "Maldives",
          "Mali",
          "Malta",
          "Mauritania",
          "Mauritius",
          "Mexico",
          "Moldova",
          "Monaco",
          "Mongolia",
          "Montenegro",
          "Montserrat",
          "Morocco",
          "Mozambique",
          "Myanmar",
          "Namibia",
          "Nauru",
          "Nepal",
          "Netherlands",
          "New Caledonia",
          "New Zealand",
          "Nicaragua",
          "Niger",
          "Nigeria",
          "North Macedonia",
          "Northern Cyprus",
          "Northern Ireland",
          "Norway",
          "Oman",
          "Pakistan",
          "Palestine",
          "Panama",
          "Papua New Guinea",
          "Paraguay",
          "Peru",
          "Philippines",
          "Pitcairn",
          "Poland",
          "Portugal",
          "Qatar",
          "Romania",
          "Russia",
          "Rwanda",
          "Saint Helena",
          "Saint Kitts and Nevis",
          "Saint Lucia",
          "Saint Vincent and the Grenadines",
          "Samoa",
          "San Marino",
          "Sao Tome and Principe",
          "Saudi Arabia",
          "Scotland",
          "Senegal",
          "Serbia",
          "Seychelles",
          "Sierra Leone",
          "Singapore",
          "Sint Maarten (Dutch part)",
          "Slovakia",
          "Slovenia",
          "Solomon Islands",
          "Somalia",
          "South Africa",
          "South Korea",
          "South Sudan",
          "Spain",
          "Sri Lanka",
          "Sudan",
          "Suriname",
          "Sweden",
          "Switzerland",
          "Syria",
          "Taiwan",
          "Tajikistan",
          "Thailand",
          "Timor",
          "Togo",
          "Tonga",
          "Trinidad and Tobago",
          "Tunisia",
          "Turkey",
          "Turkmenistan",
          "Turks and Caicos Islands",
          "Tuvalu",
          "Uganda",
          "Ukraine",
          "United Arab Emirates",
          "United Kingdom",
          "United States",
          "Uruguay",
          "Uzbekistan",
          "Vanuatu",
          "Venezuela",
          "Vietnam",
          "Wales",
          "Wallis and Futuna",
          "Yemen",
          "Zambia",
          "Zimbabwe"
         ],
         "marker": {
          "line": {
           "color": "rgb(0,0,0)",
           "width": 0.5
          }
         },
         "reversescale": true,
         "text": [
          "Afghanistan",
          "Albania",
          "Algeria",
          "Andorra",
          "Angola",
          "Anguilla",
          "Antigua and Barbuda",
          "Argentina",
          "Armenia",
          "Aruba",
          "Australia",
          "Austria",
          "Azerbaijan",
          "Bahamas",
          "Bahrain",
          "Bangladesh",
          "Barbados",
          "Belarus",
          "Belgium",
          "Belize",
          "Benin",
          "Bermuda",
          "Bhutan",
          "Bolivia",
          "Bonaire Sint Eustatius and Saba",
          "Bosnia and Herzegovina",
          "Botswana",
          "Brazil",
          "British Virgin Islands",
          "Brunei",
          "Bulgaria",
          "Burkina Faso",
          "Cambodia",
          "Cameroon",
          "Canada",
          "Cape Verde",
          "Cayman Islands",
          "Central African Republic",
          "Chad",
          "Chile",
          "China",
          "Colombia",
          "Comoros",
          "Congo",
          "Cook Islands",
          "Costa Rica",
          "Cote d'Ivoire",
          "Croatia",
          "Cuba",
          "Curacao",
          "Cyprus",
          "Czechia",
          "Democratic Republic of Congo",
          "Denmark",
          "Djibouti",
          "Dominica",
          "Dominican Republic",
          "Ecuador",
          "Egypt",
          "El Salvador",
          "England",
          "Equatorial Guinea",
          "Estonia",
          "Eswatini",
          "Ethiopia",
          "Faeroe Islands",
          "Falkland Islands",
          "Fiji",
          "Finland",
          "France",
          "French Polynesia",
          "Gabon",
          "Gambia",
          "Georgia",
          "Germany",
          "Ghana",
          "Gibraltar",
          "Greece",
          "Greenland",
          "Grenada",
          "Guatemala",
          "Guernsey",
          "Guinea",
          "Guinea-Bissau",
          "Guyana",
          "Honduras",
          "Hong Kong",
          "Hungary",
          "Iceland",
          "India",
          "Indonesia",
          "Iran",
          "Iraq",
          "Ireland",
          "Isle of Man",
          "Israel",
          "Italy",
          "Jamaica",
          "Japan",
          "Jersey",
          "Jordan",
          "Kazakhstan",
          "Kenya",
          "Kosovo",
          "Kuwait",
          "Kyrgyzstan",
          "Laos",
          "Latvia",
          "Lebanon",
          "Lesotho",
          "Liberia",
          "Libya",
          "Liechtenstein",
          "Lithuania",
          "Luxembourg",
          "Macao",
          "Madagascar",
          "Malawi",
          "Malaysia",
          "Maldives",
          "Mali",
          "Malta",
          "Mauritania",
          "Mauritius",
          "Mexico",
          "Moldova",
          "Monaco",
          "Mongolia",
          "Montenegro",
          "Montserrat",
          "Morocco",
          "Mozambique",
          "Myanmar",
          "Namibia",
          "Nauru",
          "Nepal",
          "Netherlands",
          "New Caledonia",
          "New Zealand",
          "Nicaragua",
          "Niger",
          "Nigeria",
          "North Macedonia",
          "Northern Cyprus",
          "Northern Ireland",
          "Norway",
          "Oman",
          "Pakistan",
          "Palestine",
          "Panama",
          "Papua New Guinea",
          "Paraguay",
          "Peru",
          "Philippines",
          "Pitcairn",
          "Poland",
          "Portugal",
          "Qatar",
          "Romania",
          "Russia",
          "Rwanda",
          "Saint Helena",
          "Saint Kitts and Nevis",
          "Saint Lucia",
          "Saint Vincent and the Grenadines",
          "Samoa",
          "San Marino",
          "Sao Tome and Principe",
          "Saudi Arabia",
          "Scotland",
          "Senegal",
          "Serbia",
          "Seychelles",
          "Sierra Leone",
          "Singapore",
          "Sint Maarten (Dutch part)",
          "Slovakia",
          "Slovenia",
          "Solomon Islands",
          "Somalia",
          "South Africa",
          "South Korea",
          "South Sudan",
          "Spain",
          "Sri Lanka",
          "Sudan",
          "Suriname",
          "Sweden",
          "Switzerland",
          "Syria",
          "Taiwan",
          "Tajikistan",
          "Thailand",
          "Timor",
          "Togo",
          "Tonga",
          "Trinidad and Tobago",
          "Tunisia",
          "Turkey",
          "Turkmenistan",
          "Turks and Caicos Islands",
          "Tuvalu",
          "Uganda",
          "Ukraine",
          "United Arab Emirates",
          "United Kingdom",
          "United States",
          "Uruguay",
          "Uzbekistan",
          "Vanuatu",
          "Venezuela",
          "Vietnam",
          "Wales",
          "Wallis and Futuna",
          "Yemen",
          "Zambia",
          "Zimbabwe"
         ],
         "type": "choropleth",
         "z": [
          13921,
          17565,
          22664,
          1376,
          33700,
          331,
          1278,
          338889,
          1853,
          2679,
          122092,
          90545,
          54088,
          1391,
          20163,
          196796,
          4526,
          20498,
          153742,
          2583,
          761,
          773,
          91636,
          45065,
          null,
          13677,
          6936,
          1352814,
          231,
          2545,
          27038,
          1825,
          101695,
          2697,
          455991,
          2871,
          1024,
          2300,
          null,
          298487,
          20298714,
          275583,
          4390,
          1078,
          561,
          40343,
          21777,
          35538,
          186081,
          3452,
          12513,
          96766,
          1153,
          51017,
          802,
          901,
          184208,
          76524,
          101183,
          46398,
          515433,
          5013,
          10163,
          3377,
          35777,
          772,
          189,
          12455,
          63726,
          577915,
          1784,
          1460,
          1458,
          8040,
          839179,
          54335,
          1068,
          97867,
          736,
          475,
          21549,
          817,
          12288,
          475,
          5000,
          21965,
          43279,
          125911,
          7546,
          3659357,
          507957,
          116028,
          14352,
          71265,
          1551,
          184949,
          585064,
          13076,
          1129530,
          1233,
          71119,
          97997,
          39237,
          5084,
          40778,
          3704,
          23319,
          16746,
          23394,
          666,
          1782,
          9240,
          411,
          28671,
          7178,
          6722,
          10256,
          13108,
          189329,
          7843,
          4197,
          7557,
          12831,
          11968,
          656610,
          16176,
          313,
          125462,
          8318,
          53,
          259446,
          7740,
          67615,
          3309,
          239,
          44361,
          223081,
          1239,
          16404,
          7350,
          7465,
          68909,
          15189,
          1663,
          17673,
          51353,
          24510,
          328526,
          21821,
          26049,
          2025,
          17893,
          157087,
          208399,
          null,
          341329,
          104054,
          37344,
          106652,
          392708,
          24860,
          165,
          753,
          1912,
          272,
          1229,
          725,
          823,
          204165,
          56025,
          13597,
          64449,
          2401,
          3169,
          49283,
          424,
          35941,
          19921,
          722,
          2180,
          62934,
          724621,
          1673,
          504283,
          92958,
          13719,
          6238,
          84473,
          91288,
          4674,
          100753,
          2482,
          281433,
          2579,
          10051,
          826,
          7817,
          34274,
          1222956,
          null,
          451,
          169,
          21822,
          55721,
          155312,
          602266,
          3384387,
          49357,
          70526,
          611,
          80433,
          132046,
          33151,
          343,
          10240,
          5680,
          22863
         ]
        }
       ],
       "layout": {
        "geo": {
         "projection": {
          "type": "natural earth"
         },
         "showcoastlines": true,
         "showframe": true,
         "showlakes": false
        },
        "template": {
         "data": {
          "bar": [
           {
            "error_x": {
             "color": "#2a3f5f"
            },
            "error_y": {
             "color": "#2a3f5f"
            },
            "marker": {
             "line": {
              "color": "#E5ECF6",
              "width": 0.5
             },
             "pattern": {
              "fillmode": "overlay",
              "size": 10,
              "solidity": 0.2
             }
            },
            "type": "bar"
           }
          ],
          "barpolar": [
           {
            "marker": {
             "line": {
              "color": "#E5ECF6",
              "width": 0.5
             },
             "pattern": {
              "fillmode": "overlay",
              "size": 10,
              "solidity": 0.2
             }
            },
            "type": "barpolar"
           }
          ],
          "carpet": [
           {
            "aaxis": {
             "endlinecolor": "#2a3f5f",
             "gridcolor": "white",
             "linecolor": "white",
             "minorgridcolor": "white",
             "startlinecolor": "#2a3f5f"
            },
            "baxis": {
             "endlinecolor": "#2a3f5f",
             "gridcolor": "white",
             "linecolor": "white",
             "minorgridcolor": "white",
             "startlinecolor": "#2a3f5f"
            },
            "type": "carpet"
           }
          ],
          "choropleth": [
           {
            "colorbar": {
             "outlinewidth": 0,
             "ticks": ""
            },
            "type": "choropleth"
           }
          ],
          "contour": [
           {
            "colorbar": {
             "outlinewidth": 0,
             "ticks": ""
            },
            "colorscale": [
             [
              0,
              "#0d0887"
             ],
             [
              0.1111111111111111,
              "#46039f"
             ],
             [
              0.2222222222222222,
              "#7201a8"
             ],
             [
              0.3333333333333333,
              "#9c179e"
             ],
             [
              0.4444444444444444,
              "#bd3786"
             ],
             [
              0.5555555555555556,
              "#d8576b"
             ],
             [
              0.6666666666666666,
              "#ed7953"
             ],
             [
              0.7777777777777778,
              "#fb9f3a"
             ],
             [
              0.8888888888888888,
              "#fdca26"
             ],
             [
              1,
              "#f0f921"
             ]
            ],
            "type": "contour"
           }
          ],
          "contourcarpet": [
           {
            "colorbar": {
             "outlinewidth": 0,
             "ticks": ""
            },
            "type": "contourcarpet"
           }
          ],
          "heatmap": [
           {
            "colorbar": {
             "outlinewidth": 0,
             "ticks": ""
            },
            "colorscale": [
             [
              0,
              "#0d0887"
             ],
             [
              0.1111111111111111,
              "#46039f"
             ],
             [
              0.2222222222222222,
              "#7201a8"
             ],
             [
              0.3333333333333333,
              "#9c179e"
             ],
             [
              0.4444444444444444,
              "#bd3786"
             ],
             [
              0.5555555555555556,
              "#d8576b"
             ],
             [
              0.6666666666666666,
              "#ed7953"
             ],
             [
              0.7777777777777778,
              "#fb9f3a"
             ],
             [
              0.8888888888888888,
              "#fdca26"
             ],
             [
              1,
              "#f0f921"
             ]
            ],
            "type": "heatmap"
           }
          ],
          "heatmapgl": [
           {
            "colorbar": {
             "outlinewidth": 0,
             "ticks": ""
            },
            "colorscale": [
             [
              0,
              "#0d0887"
             ],
             [
              0.1111111111111111,
              "#46039f"
             ],
             [
              0.2222222222222222,
              "#7201a8"
             ],
             [
              0.3333333333333333,
              "#9c179e"
             ],
             [
              0.4444444444444444,
              "#bd3786"
             ],
             [
              0.5555555555555556,
              "#d8576b"
             ],
             [
              0.6666666666666666,
              "#ed7953"
             ],
             [
              0.7777777777777778,
              "#fb9f3a"
             ],
             [
              0.8888888888888888,
              "#fdca26"
             ],
             [
              1,
              "#f0f921"
             ]
            ],
            "type": "heatmapgl"
           }
          ],
          "histogram": [
           {
            "marker": {
             "pattern": {
              "fillmode": "overlay",
              "size": 10,
              "solidity": 0.2
             }
            },
            "type": "histogram"
           }
          ],
          "histogram2d": [
           {
            "colorbar": {
             "outlinewidth": 0,
             "ticks": ""
            },
            "colorscale": [
             [
              0,
              "#0d0887"
             ],
             [
              0.1111111111111111,
              "#46039f"
             ],
             [
              0.2222222222222222,
              "#7201a8"
             ],
             [
              0.3333333333333333,
              "#9c179e"
             ],
             [
              0.4444444444444444,
              "#bd3786"
             ],
             [
              0.5555555555555556,
              "#d8576b"
             ],
             [
              0.6666666666666666,
              "#ed7953"
             ],
             [
              0.7777777777777778,
              "#fb9f3a"
             ],
             [
              0.8888888888888888,
              "#fdca26"
             ],
             [
              1,
              "#f0f921"
             ]
            ],
            "type": "histogram2d"
           }
          ],
          "histogram2dcontour": [
           {
            "colorbar": {
             "outlinewidth": 0,
             "ticks": ""
            },
            "colorscale": [
             [
              0,
              "#0d0887"
             ],
             [
              0.1111111111111111,
              "#46039f"
             ],
             [
              0.2222222222222222,
              "#7201a8"
             ],
             [
              0.3333333333333333,
              "#9c179e"
             ],
             [
              0.4444444444444444,
              "#bd3786"
             ],
             [
              0.5555555555555556,
              "#d8576b"
             ],
             [
              0.6666666666666666,
              "#ed7953"
             ],
             [
              0.7777777777777778,
              "#fb9f3a"
             ],
             [
              0.8888888888888888,
              "#fdca26"
             ],
             [
              1,
              "#f0f921"
             ]
            ],
            "type": "histogram2dcontour"
           }
          ],
          "mesh3d": [
           {
            "colorbar": {
             "outlinewidth": 0,
             "ticks": ""
            },
            "type": "mesh3d"
           }
          ],
          "parcoords": [
           {
            "line": {
             "colorbar": {
              "outlinewidth": 0,
              "ticks": ""
             }
            },
            "type": "parcoords"
           }
          ],
          "pie": [
           {
            "automargin": true,
            "type": "pie"
           }
          ],
          "scatter": [
           {
            "marker": {
             "colorbar": {
              "outlinewidth": 0,
              "ticks": ""
             }
            },
            "type": "scatter"
           }
          ],
          "scatter3d": [
           {
            "line": {
             "colorbar": {
              "outlinewidth": 0,
              "ticks": ""
             }
            },
            "marker": {
             "colorbar": {
              "outlinewidth": 0,
              "ticks": ""
             }
            },
            "type": "scatter3d"
           }
          ],
          "scattercarpet": [
           {
            "marker": {
             "colorbar": {
              "outlinewidth": 0,
              "ticks": ""
             }
            },
            "type": "scattercarpet"
           }
          ],
          "scattergeo": [
           {
            "marker": {
             "colorbar": {
              "outlinewidth": 0,
              "ticks": ""
             }
            },
            "type": "scattergeo"
           }
          ],
          "scattergl": [
           {
            "marker": {
             "colorbar": {
              "outlinewidth": 0,
              "ticks": ""
             }
            },
            "type": "scattergl"
           }
          ],
          "scattermapbox": [
           {
            "marker": {
             "colorbar": {
              "outlinewidth": 0,
              "ticks": ""
             }
            },
            "type": "scattermapbox"
           }
          ],
          "scatterpolar": [
           {
            "marker": {
             "colorbar": {
              "outlinewidth": 0,
              "ticks": ""
             }
            },
            "type": "scatterpolar"
           }
          ],
          "scatterpolargl": [
           {
            "marker": {
             "colorbar": {
              "outlinewidth": 0,
              "ticks": ""
             }
            },
            "type": "scatterpolargl"
           }
          ],
          "scatterternary": [
           {
            "marker": {
             "colorbar": {
              "outlinewidth": 0,
              "ticks": ""
             }
            },
            "type": "scatterternary"
           }
          ],
          "surface": [
           {
            "colorbar": {
             "outlinewidth": 0,
             "ticks": ""
            },
            "colorscale": [
             [
              0,
              "#0d0887"
             ],
             [
              0.1111111111111111,
              "#46039f"
             ],
             [
              0.2222222222222222,
              "#7201a8"
             ],
             [
              0.3333333333333333,
              "#9c179e"
             ],
             [
              0.4444444444444444,
              "#bd3786"
             ],
             [
              0.5555555555555556,
              "#d8576b"
             ],
             [
              0.6666666666666666,
              "#ed7953"
             ],
             [
              0.7777777777777778,
              "#fb9f3a"
             ],
             [
              0.8888888888888888,
              "#fdca26"
             ],
             [
              1,
              "#f0f921"
             ]
            ],
            "type": "surface"
           }
          ],
          "table": [
           {
            "cells": {
             "fill": {
              "color": "#EBF0F8"
             },
             "line": {
              "color": "white"
             }
            },
            "header": {
             "fill": {
              "color": "#C8D4E3"
             },
             "line": {
              "color": "white"
             }
            },
            "type": "table"
           }
          ]
         },
         "layout": {
          "annotationdefaults": {
           "arrowcolor": "#2a3f5f",
           "arrowhead": 0,
           "arrowwidth": 1
          },
          "autotypenumbers": "strict",
          "coloraxis": {
           "colorbar": {
            "outlinewidth": 0,
            "ticks": ""
           }
          },
          "colorscale": {
           "diverging": [
            [
             0,
             "#8e0152"
            ],
            [
             0.1,
             "#c51b7d"
            ],
            [
             0.2,
             "#de77ae"
            ],
            [
             0.3,
             "#f1b6da"
            ],
            [
             0.4,
             "#fde0ef"
            ],
            [
             0.5,
             "#f7f7f7"
            ],
            [
             0.6,
             "#e6f5d0"
            ],
            [
             0.7,
             "#b8e186"
            ],
            [
             0.8,
             "#7fbc41"
            ],
            [
             0.9,
             "#4d9221"
            ],
            [
             1,
             "#276419"
            ]
           ],
           "sequential": [
            [
             0,
             "#0d0887"
            ],
            [
             0.1111111111111111,
             "#46039f"
            ],
            [
             0.2222222222222222,
             "#7201a8"
            ],
            [
             0.3333333333333333,
             "#9c179e"
            ],
            [
             0.4444444444444444,
             "#bd3786"
            ],
            [
             0.5555555555555556,
             "#d8576b"
            ],
            [
             0.6666666666666666,
             "#ed7953"
            ],
            [
             0.7777777777777778,
             "#fb9f3a"
            ],
            [
             0.8888888888888888,
             "#fdca26"
            ],
            [
             1,
             "#f0f921"
            ]
           ],
           "sequentialminus": [
            [
             0,
             "#0d0887"
            ],
            [
             0.1111111111111111,
             "#46039f"
            ],
            [
             0.2222222222222222,
             "#7201a8"
            ],
            [
             0.3333333333333333,
             "#9c179e"
            ],
            [
             0.4444444444444444,
             "#bd3786"
            ],
            [
             0.5555555555555556,
             "#d8576b"
            ],
            [
             0.6666666666666666,
             "#ed7953"
            ],
            [
             0.7777777777777778,
             "#fb9f3a"
            ],
            [
             0.8888888888888888,
             "#fdca26"
            ],
            [
             1,
             "#f0f921"
            ]
           ]
          },
          "colorway": [
           "#636efa",
           "#EF553B",
           "#00cc96",
           "#ab63fa",
           "#FFA15A",
           "#19d3f3",
           "#FF6692",
           "#B6E880",
           "#FF97FF",
           "#FECB52"
          ],
          "font": {
           "color": "#2a3f5f"
          },
          "geo": {
           "bgcolor": "white",
           "lakecolor": "white",
           "landcolor": "#E5ECF6",
           "showlakes": true,
           "showland": true,
           "subunitcolor": "white"
          },
          "hoverlabel": {
           "align": "left"
          },
          "hovermode": "closest",
          "mapbox": {
           "style": "light"
          },
          "paper_bgcolor": "white",
          "plot_bgcolor": "#E5ECF6",
          "polar": {
           "angularaxis": {
            "gridcolor": "white",
            "linecolor": "white",
            "ticks": ""
           },
           "bgcolor": "#E5ECF6",
           "radialaxis": {
            "gridcolor": "white",
            "linecolor": "white",
            "ticks": ""
           }
          },
          "scene": {
           "xaxis": {
            "backgroundcolor": "#E5ECF6",
            "gridcolor": "white",
            "gridwidth": 2,
            "linecolor": "white",
            "showbackground": true,
            "ticks": "",
            "zerolinecolor": "white"
           },
           "yaxis": {
            "backgroundcolor": "#E5ECF6",
            "gridcolor": "white",
            "gridwidth": 2,
            "linecolor": "white",
            "showbackground": true,
            "ticks": "",
            "zerolinecolor": "white"
           },
           "zaxis": {
            "backgroundcolor": "#E5ECF6",
            "gridcolor": "white",
            "gridwidth": 2,
            "linecolor": "white",
            "showbackground": true,
            "ticks": "",
            "zerolinecolor": "white"
           }
          },
          "shapedefaults": {
           "line": {
            "color": "#2a3f5f"
           }
          },
          "ternary": {
           "aaxis": {
            "gridcolor": "white",
            "linecolor": "white",
            "ticks": ""
           },
           "baxis": {
            "gridcolor": "white",
            "linecolor": "white",
            "ticks": ""
           },
           "bgcolor": "#E5ECF6",
           "caxis": {
            "gridcolor": "white",
            "linecolor": "white",
            "ticks": ""
           }
          },
          "title": {
           "x": 0.05
          },
          "xaxis": {
           "automargin": true,
           "gridcolor": "white",
           "linecolor": "white",
           "ticks": "",
           "title": {
            "standoff": 15
           },
           "zerolinecolor": "white",
           "zerolinewidth": 2
          },
          "yaxis": {
           "automargin": true,
           "gridcolor": "white",
           "linecolor": "white",
           "ticks": "",
           "title": {
            "standoff": 15
           },
           "zerolinecolor": "white",
           "zerolinewidth": 2
          }
         }
        },
        "title": {
         "text": "Daily vaccinations per country"
        }
       }
      },
      "text/html": [
       "<div>                            <div id=\"92ff7279-3e8b-4f4b-8a76-fc4a8b4c937f\" class=\"plotly-graph-div\" style=\"height:525px; width:100%;\"></div>            <script type=\"text/javascript\">                require([\"plotly\"], function(Plotly) {                    window.PLOTLYENV=window.PLOTLYENV || {};                                    if (document.getElementById(\"92ff7279-3e8b-4f4b-8a76-fc4a8b4c937f\")) {                    Plotly.newPlot(                        \"92ff7279-3e8b-4f4b-8a76-fc4a8b4c937f\",                        [{\"autocolorscale\":false,\"colorbar\":{\"tickprefix\":\"\",\"title\":{\"text\":\"Daily vaccinations\"}},\"colorscale\":[[0.0,\"#440154\"],[0.1111111111111111,\"#482878\"],[0.2222222222222222,\"#3e4989\"],[0.3333333333333333,\"#31688e\"],[0.4444444444444444,\"#26828e\"],[0.5555555555555556,\"#1f9e89\"],[0.6666666666666666,\"#35b779\"],[0.7777777777777778,\"#6ece58\"],[0.8888888888888888,\"#b5de2b\"],[1.0,\"#fde725\"]],\"locationmode\":\"country names\",\"locations\":[\"Afghanistan\",\"Albania\",\"Algeria\",\"Andorra\",\"Angola\",\"Anguilla\",\"Antigua and Barbuda\",\"Argentina\",\"Armenia\",\"Aruba\",\"Australia\",\"Austria\",\"Azerbaijan\",\"Bahamas\",\"Bahrain\",\"Bangladesh\",\"Barbados\",\"Belarus\",\"Belgium\",\"Belize\",\"Benin\",\"Bermuda\",\"Bhutan\",\"Bolivia\",\"Bonaire Sint Eustatius and Saba\",\"Bosnia and Herzegovina\",\"Botswana\",\"Brazil\",\"British Virgin Islands\",\"Brunei\",\"Bulgaria\",\"Burkina Faso\",\"Cambodia\",\"Cameroon\",\"Canada\",\"Cape Verde\",\"Cayman Islands\",\"Central African Republic\",\"Chad\",\"Chile\",\"China\",\"Colombia\",\"Comoros\",\"Congo\",\"Cook Islands\",\"Costa Rica\",\"Cote d'Ivoire\",\"Croatia\",\"Cuba\",\"Curacao\",\"Cyprus\",\"Czechia\",\"Democratic Republic of Congo\",\"Denmark\",\"Djibouti\",\"Dominica\",\"Dominican Republic\",\"Ecuador\",\"Egypt\",\"El Salvador\",\"England\",\"Equatorial Guinea\",\"Estonia\",\"Eswatini\",\"Ethiopia\",\"Faeroe Islands\",\"Falkland Islands\",\"Fiji\",\"Finland\",\"France\",\"French Polynesia\",\"Gabon\",\"Gambia\",\"Georgia\",\"Germany\",\"Ghana\",\"Gibraltar\",\"Greece\",\"Greenland\",\"Grenada\",\"Guatemala\",\"Guernsey\",\"Guinea\",\"Guinea-Bissau\",\"Guyana\",\"Honduras\",\"Hong Kong\",\"Hungary\",\"Iceland\",\"India\",\"Indonesia\",\"Iran\",\"Iraq\",\"Ireland\",\"Isle of Man\",\"Israel\",\"Italy\",\"Jamaica\",\"Japan\",\"Jersey\",\"Jordan\",\"Kazakhstan\",\"Kenya\",\"Kosovo\",\"Kuwait\",\"Kyrgyzstan\",\"Laos\",\"Latvia\",\"Lebanon\",\"Lesotho\",\"Liberia\",\"Libya\",\"Liechtenstein\",\"Lithuania\",\"Luxembourg\",\"Macao\",\"Madagascar\",\"Malawi\",\"Malaysia\",\"Maldives\",\"Mali\",\"Malta\",\"Mauritania\",\"Mauritius\",\"Mexico\",\"Moldova\",\"Monaco\",\"Mongolia\",\"Montenegro\",\"Montserrat\",\"Morocco\",\"Mozambique\",\"Myanmar\",\"Namibia\",\"Nauru\",\"Nepal\",\"Netherlands\",\"New Caledonia\",\"New Zealand\",\"Nicaragua\",\"Niger\",\"Nigeria\",\"North Macedonia\",\"Northern Cyprus\",\"Northern Ireland\",\"Norway\",\"Oman\",\"Pakistan\",\"Palestine\",\"Panama\",\"Papua New Guinea\",\"Paraguay\",\"Peru\",\"Philippines\",\"Pitcairn\",\"Poland\",\"Portugal\",\"Qatar\",\"Romania\",\"Russia\",\"Rwanda\",\"Saint Helena\",\"Saint Kitts and Nevis\",\"Saint Lucia\",\"Saint Vincent and the Grenadines\",\"Samoa\",\"San Marino\",\"Sao Tome and Principe\",\"Saudi Arabia\",\"Scotland\",\"Senegal\",\"Serbia\",\"Seychelles\",\"Sierra Leone\",\"Singapore\",\"Sint Maarten (Dutch part)\",\"Slovakia\",\"Slovenia\",\"Solomon Islands\",\"Somalia\",\"South Africa\",\"South Korea\",\"South Sudan\",\"Spain\",\"Sri Lanka\",\"Sudan\",\"Suriname\",\"Sweden\",\"Switzerland\",\"Syria\",\"Taiwan\",\"Tajikistan\",\"Thailand\",\"Timor\",\"Togo\",\"Tonga\",\"Trinidad and Tobago\",\"Tunisia\",\"Turkey\",\"Turkmenistan\",\"Turks and Caicos Islands\",\"Tuvalu\",\"Uganda\",\"Ukraine\",\"United Arab Emirates\",\"United Kingdom\",\"United States\",\"Uruguay\",\"Uzbekistan\",\"Vanuatu\",\"Venezuela\",\"Vietnam\",\"Wales\",\"Wallis and Futuna\",\"Yemen\",\"Zambia\",\"Zimbabwe\"],\"marker\":{\"line\":{\"color\":\"rgb(0,0,0)\",\"width\":0.5}},\"reversescale\":true,\"text\":[\"Afghanistan\",\"Albania\",\"Algeria\",\"Andorra\",\"Angola\",\"Anguilla\",\"Antigua and Barbuda\",\"Argentina\",\"Armenia\",\"Aruba\",\"Australia\",\"Austria\",\"Azerbaijan\",\"Bahamas\",\"Bahrain\",\"Bangladesh\",\"Barbados\",\"Belarus\",\"Belgium\",\"Belize\",\"Benin\",\"Bermuda\",\"Bhutan\",\"Bolivia\",\"Bonaire Sint Eustatius and Saba\",\"Bosnia and Herzegovina\",\"Botswana\",\"Brazil\",\"British Virgin Islands\",\"Brunei\",\"Bulgaria\",\"Burkina Faso\",\"Cambodia\",\"Cameroon\",\"Canada\",\"Cape Verde\",\"Cayman Islands\",\"Central African Republic\",\"Chad\",\"Chile\",\"China\",\"Colombia\",\"Comoros\",\"Congo\",\"Cook Islands\",\"Costa Rica\",\"Cote d'Ivoire\",\"Croatia\",\"Cuba\",\"Curacao\",\"Cyprus\",\"Czechia\",\"Democratic Republic of Congo\",\"Denmark\",\"Djibouti\",\"Dominica\",\"Dominican Republic\",\"Ecuador\",\"Egypt\",\"El Salvador\",\"England\",\"Equatorial Guinea\",\"Estonia\",\"Eswatini\",\"Ethiopia\",\"Faeroe Islands\",\"Falkland Islands\",\"Fiji\",\"Finland\",\"France\",\"French Polynesia\",\"Gabon\",\"Gambia\",\"Georgia\",\"Germany\",\"Ghana\",\"Gibraltar\",\"Greece\",\"Greenland\",\"Grenada\",\"Guatemala\",\"Guernsey\",\"Guinea\",\"Guinea-Bissau\",\"Guyana\",\"Honduras\",\"Hong Kong\",\"Hungary\",\"Iceland\",\"India\",\"Indonesia\",\"Iran\",\"Iraq\",\"Ireland\",\"Isle of Man\",\"Israel\",\"Italy\",\"Jamaica\",\"Japan\",\"Jersey\",\"Jordan\",\"Kazakhstan\",\"Kenya\",\"Kosovo\",\"Kuwait\",\"Kyrgyzstan\",\"Laos\",\"Latvia\",\"Lebanon\",\"Lesotho\",\"Liberia\",\"Libya\",\"Liechtenstein\",\"Lithuania\",\"Luxembourg\",\"Macao\",\"Madagascar\",\"Malawi\",\"Malaysia\",\"Maldives\",\"Mali\",\"Malta\",\"Mauritania\",\"Mauritius\",\"Mexico\",\"Moldova\",\"Monaco\",\"Mongolia\",\"Montenegro\",\"Montserrat\",\"Morocco\",\"Mozambique\",\"Myanmar\",\"Namibia\",\"Nauru\",\"Nepal\",\"Netherlands\",\"New Caledonia\",\"New Zealand\",\"Nicaragua\",\"Niger\",\"Nigeria\",\"North Macedonia\",\"Northern Cyprus\",\"Northern Ireland\",\"Norway\",\"Oman\",\"Pakistan\",\"Palestine\",\"Panama\",\"Papua New Guinea\",\"Paraguay\",\"Peru\",\"Philippines\",\"Pitcairn\",\"Poland\",\"Portugal\",\"Qatar\",\"Romania\",\"Russia\",\"Rwanda\",\"Saint Helena\",\"Saint Kitts and Nevis\",\"Saint Lucia\",\"Saint Vincent and the Grenadines\",\"Samoa\",\"San Marino\",\"Sao Tome and Principe\",\"Saudi Arabia\",\"Scotland\",\"Senegal\",\"Serbia\",\"Seychelles\",\"Sierra Leone\",\"Singapore\",\"Sint Maarten (Dutch part)\",\"Slovakia\",\"Slovenia\",\"Solomon Islands\",\"Somalia\",\"South Africa\",\"South Korea\",\"South Sudan\",\"Spain\",\"Sri Lanka\",\"Sudan\",\"Suriname\",\"Sweden\",\"Switzerland\",\"Syria\",\"Taiwan\",\"Tajikistan\",\"Thailand\",\"Timor\",\"Togo\",\"Tonga\",\"Trinidad and Tobago\",\"Tunisia\",\"Turkey\",\"Turkmenistan\",\"Turks and Caicos Islands\",\"Tuvalu\",\"Uganda\",\"Ukraine\",\"United Arab Emirates\",\"United Kingdom\",\"United States\",\"Uruguay\",\"Uzbekistan\",\"Vanuatu\",\"Venezuela\",\"Vietnam\",\"Wales\",\"Wallis and Futuna\",\"Yemen\",\"Zambia\",\"Zimbabwe\"],\"type\":\"choropleth\",\"z\":[13921.0,17565.0,22664.0,1376.0,33700.0,331.0,1278.0,338889.0,1853.0,2679.0,122092.0,90545.0,54088.0,1391.0,20163.0,196796.0,4526.0,20498.0,153742.0,2583.0,761.0,773.0,91636.0,45065.0,null,13677.0,6936.0,1352814.0,231.0,2545.0,27038.0,1825.0,101695.0,2697.0,455991.0,2871.0,1024.0,2300.0,null,298487.0,20298714.0,275583.0,4390.0,1078.0,561.0,40343.0,21777.0,35538.0,186081.0,3452.0,12513.0,96766.0,1153.0,51017.0,802.0,901.0,184208.0,76524.0,101183.0,46398.0,515433.0,5013.0,10163.0,3377.0,35777.0,772.0,189.0,12455.0,63726.0,577915.0,1784.0,1460.0,1458.0,8040.0,839179.0,54335.0,1068.0,97867.0,736.0,475.0,21549.0,817.0,12288.0,475.0,5000.0,21965.0,43279.0,125911.0,7546.0,3659357.0,507957.0,116028.0,14352.0,71265.0,1551.0,184949.0,585064.0,13076.0,1129530.0,1233.0,71119.0,97997.0,39237.0,5084.0,40778.0,3704.0,23319.0,16746.0,23394.0,666.0,1782.0,9240.0,411.0,28671.0,7178.0,6722.0,10256.0,13108.0,189329.0,7843.0,4197.0,7557.0,12831.0,11968.0,656610.0,16176.0,313.0,125462.0,8318.0,53.0,259446.0,7740.0,67615.0,3309.0,239.0,44361.0,223081.0,1239.0,16404.0,7350.0,7465.0,68909.0,15189.0,1663.0,17673.0,51353.0,24510.0,328526.0,21821.0,26049.0,2025.0,17893.0,157087.0,208399.0,null,341329.0,104054.0,37344.0,106652.0,392708.0,24860.0,165.0,753.0,1912.0,272.0,1229.0,725.0,823.0,204165.0,56025.0,13597.0,64449.0,2401.0,3169.0,49283.0,424.0,35941.0,19921.0,722.0,2180.0,62934.0,724621.0,1673.0,504283.0,92958.0,13719.0,6238.0,84473.0,91288.0,4674.0,100753.0,2482.0,281433.0,2579.0,10051.0,826.0,7817.0,34274.0,1222956.0,null,451.0,169.0,21822.0,55721.0,155312.0,602266.0,3384387.0,49357.0,70526.0,611.0,80433.0,132046.0,33151.0,343.0,10240.0,5680.0,22863.0]}],                        {\"geo\":{\"projection\":{\"type\":\"natural earth\"},\"showcoastlines\":true,\"showframe\":true,\"showlakes\":false},\"template\":{\"data\":{\"bar\":[{\"error_x\":{\"color\":\"#2a3f5f\"},\"error_y\":{\"color\":\"#2a3f5f\"},\"marker\":{\"line\":{\"color\":\"#E5ECF6\",\"width\":0.5},\"pattern\":{\"fillmode\":\"overlay\",\"size\":10,\"solidity\":0.2}},\"type\":\"bar\"}],\"barpolar\":[{\"marker\":{\"line\":{\"color\":\"#E5ECF6\",\"width\":0.5},\"pattern\":{\"fillmode\":\"overlay\",\"size\":10,\"solidity\":0.2}},\"type\":\"barpolar\"}],\"carpet\":[{\"aaxis\":{\"endlinecolor\":\"#2a3f5f\",\"gridcolor\":\"white\",\"linecolor\":\"white\",\"minorgridcolor\":\"white\",\"startlinecolor\":\"#2a3f5f\"},\"baxis\":{\"endlinecolor\":\"#2a3f5f\",\"gridcolor\":\"white\",\"linecolor\":\"white\",\"minorgridcolor\":\"white\",\"startlinecolor\":\"#2a3f5f\"},\"type\":\"carpet\"}],\"choropleth\":[{\"colorbar\":{\"outlinewidth\":0,\"ticks\":\"\"},\"type\":\"choropleth\"}],\"contour\":[{\"colorbar\":{\"outlinewidth\":0,\"ticks\":\"\"},\"colorscale\":[[0.0,\"#0d0887\"],[0.1111111111111111,\"#46039f\"],[0.2222222222222222,\"#7201a8\"],[0.3333333333333333,\"#9c179e\"],[0.4444444444444444,\"#bd3786\"],[0.5555555555555556,\"#d8576b\"],[0.6666666666666666,\"#ed7953\"],[0.7777777777777778,\"#fb9f3a\"],[0.8888888888888888,\"#fdca26\"],[1.0,\"#f0f921\"]],\"type\":\"contour\"}],\"contourcarpet\":[{\"colorbar\":{\"outlinewidth\":0,\"ticks\":\"\"},\"type\":\"contourcarpet\"}],\"heatmap\":[{\"colorbar\":{\"outlinewidth\":0,\"ticks\":\"\"},\"colorscale\":[[0.0,\"#0d0887\"],[0.1111111111111111,\"#46039f\"],[0.2222222222222222,\"#7201a8\"],[0.3333333333333333,\"#9c179e\"],[0.4444444444444444,\"#bd3786\"],[0.5555555555555556,\"#d8576b\"],[0.6666666666666666,\"#ed7953\"],[0.7777777777777778,\"#fb9f3a\"],[0.8888888888888888,\"#fdca26\"],[1.0,\"#f0f921\"]],\"type\":\"heatmap\"}],\"heatmapgl\":[{\"colorbar\":{\"outlinewidth\":0,\"ticks\":\"\"},\"colorscale\":[[0.0,\"#0d0887\"],[0.1111111111111111,\"#46039f\"],[0.2222222222222222,\"#7201a8\"],[0.3333333333333333,\"#9c179e\"],[0.4444444444444444,\"#bd3786\"],[0.5555555555555556,\"#d8576b\"],[0.6666666666666666,\"#ed7953\"],[0.7777777777777778,\"#fb9f3a\"],[0.8888888888888888,\"#fdca26\"],[1.0,\"#f0f921\"]],\"type\":\"heatmapgl\"}],\"histogram\":[{\"marker\":{\"pattern\":{\"fillmode\":\"overlay\",\"size\":10,\"solidity\":0.2}},\"type\":\"histogram\"}],\"histogram2d\":[{\"colorbar\":{\"outlinewidth\":0,\"ticks\":\"\"},\"colorscale\":[[0.0,\"#0d0887\"],[0.1111111111111111,\"#46039f\"],[0.2222222222222222,\"#7201a8\"],[0.3333333333333333,\"#9c179e\"],[0.4444444444444444,\"#bd3786\"],[0.5555555555555556,\"#d8576b\"],[0.6666666666666666,\"#ed7953\"],[0.7777777777777778,\"#fb9f3a\"],[0.8888888888888888,\"#fdca26\"],[1.0,\"#f0f921\"]],\"type\":\"histogram2d\"}],\"histogram2dcontour\":[{\"colorbar\":{\"outlinewidth\":0,\"ticks\":\"\"},\"colorscale\":[[0.0,\"#0d0887\"],[0.1111111111111111,\"#46039f\"],[0.2222222222222222,\"#7201a8\"],[0.3333333333333333,\"#9c179e\"],[0.4444444444444444,\"#bd3786\"],[0.5555555555555556,\"#d8576b\"],[0.6666666666666666,\"#ed7953\"],[0.7777777777777778,\"#fb9f3a\"],[0.8888888888888888,\"#fdca26\"],[1.0,\"#f0f921\"]],\"type\":\"histogram2dcontour\"}],\"mesh3d\":[{\"colorbar\":{\"outlinewidth\":0,\"ticks\":\"\"},\"type\":\"mesh3d\"}],\"parcoords\":[{\"line\":{\"colorbar\":{\"outlinewidth\":0,\"ticks\":\"\"}},\"type\":\"parcoords\"}],\"pie\":[{\"automargin\":true,\"type\":\"pie\"}],\"scatter\":[{\"marker\":{\"colorbar\":{\"outlinewidth\":0,\"ticks\":\"\"}},\"type\":\"scatter\"}],\"scatter3d\":[{\"line\":{\"colorbar\":{\"outlinewidth\":0,\"ticks\":\"\"}},\"marker\":{\"colorbar\":{\"outlinewidth\":0,\"ticks\":\"\"}},\"type\":\"scatter3d\"}],\"scattercarpet\":[{\"marker\":{\"colorbar\":{\"outlinewidth\":0,\"ticks\":\"\"}},\"type\":\"scattercarpet\"}],\"scattergeo\":[{\"marker\":{\"colorbar\":{\"outlinewidth\":0,\"ticks\":\"\"}},\"type\":\"scattergeo\"}],\"scattergl\":[{\"marker\":{\"colorbar\":{\"outlinewidth\":0,\"ticks\":\"\"}},\"type\":\"scattergl\"}],\"scattermapbox\":[{\"marker\":{\"colorbar\":{\"outlinewidth\":0,\"ticks\":\"\"}},\"type\":\"scattermapbox\"}],\"scatterpolar\":[{\"marker\":{\"colorbar\":{\"outlinewidth\":0,\"ticks\":\"\"}},\"type\":\"scatterpolar\"}],\"scatterpolargl\":[{\"marker\":{\"colorbar\":{\"outlinewidth\":0,\"ticks\":\"\"}},\"type\":\"scatterpolargl\"}],\"scatterternary\":[{\"marker\":{\"colorbar\":{\"outlinewidth\":0,\"ticks\":\"\"}},\"type\":\"scatterternary\"}],\"surface\":[{\"colorbar\":{\"outlinewidth\":0,\"ticks\":\"\"},\"colorscale\":[[0.0,\"#0d0887\"],[0.1111111111111111,\"#46039f\"],[0.2222222222222222,\"#7201a8\"],[0.3333333333333333,\"#9c179e\"],[0.4444444444444444,\"#bd3786\"],[0.5555555555555556,\"#d8576b\"],[0.6666666666666666,\"#ed7953\"],[0.7777777777777778,\"#fb9f3a\"],[0.8888888888888888,\"#fdca26\"],[1.0,\"#f0f921\"]],\"type\":\"surface\"}],\"table\":[{\"cells\":{\"fill\":{\"color\":\"#EBF0F8\"},\"line\":{\"color\":\"white\"}},\"header\":{\"fill\":{\"color\":\"#C8D4E3\"},\"line\":{\"color\":\"white\"}},\"type\":\"table\"}]},\"layout\":{\"annotationdefaults\":{\"arrowcolor\":\"#2a3f5f\",\"arrowhead\":0,\"arrowwidth\":1},\"autotypenumbers\":\"strict\",\"coloraxis\":{\"colorbar\":{\"outlinewidth\":0,\"ticks\":\"\"}},\"colorscale\":{\"diverging\":[[0,\"#8e0152\"],[0.1,\"#c51b7d\"],[0.2,\"#de77ae\"],[0.3,\"#f1b6da\"],[0.4,\"#fde0ef\"],[0.5,\"#f7f7f7\"],[0.6,\"#e6f5d0\"],[0.7,\"#b8e186\"],[0.8,\"#7fbc41\"],[0.9,\"#4d9221\"],[1,\"#276419\"]],\"sequential\":[[0.0,\"#0d0887\"],[0.1111111111111111,\"#46039f\"],[0.2222222222222222,\"#7201a8\"],[0.3333333333333333,\"#9c179e\"],[0.4444444444444444,\"#bd3786\"],[0.5555555555555556,\"#d8576b\"],[0.6666666666666666,\"#ed7953\"],[0.7777777777777778,\"#fb9f3a\"],[0.8888888888888888,\"#fdca26\"],[1.0,\"#f0f921\"]],\"sequentialminus\":[[0.0,\"#0d0887\"],[0.1111111111111111,\"#46039f\"],[0.2222222222222222,\"#7201a8\"],[0.3333333333333333,\"#9c179e\"],[0.4444444444444444,\"#bd3786\"],[0.5555555555555556,\"#d8576b\"],[0.6666666666666666,\"#ed7953\"],[0.7777777777777778,\"#fb9f3a\"],[0.8888888888888888,\"#fdca26\"],[1.0,\"#f0f921\"]]},\"colorway\":[\"#636efa\",\"#EF553B\",\"#00cc96\",\"#ab63fa\",\"#FFA15A\",\"#19d3f3\",\"#FF6692\",\"#B6E880\",\"#FF97FF\",\"#FECB52\"],\"font\":{\"color\":\"#2a3f5f\"},\"geo\":{\"bgcolor\":\"white\",\"lakecolor\":\"white\",\"landcolor\":\"#E5ECF6\",\"showlakes\":true,\"showland\":true,\"subunitcolor\":\"white\"},\"hoverlabel\":{\"align\":\"left\"},\"hovermode\":\"closest\",\"mapbox\":{\"style\":\"light\"},\"paper_bgcolor\":\"white\",\"plot_bgcolor\":\"#E5ECF6\",\"polar\":{\"angularaxis\":{\"gridcolor\":\"white\",\"linecolor\":\"white\",\"ticks\":\"\"},\"bgcolor\":\"#E5ECF6\",\"radialaxis\":{\"gridcolor\":\"white\",\"linecolor\":\"white\",\"ticks\":\"\"}},\"scene\":{\"xaxis\":{\"backgroundcolor\":\"#E5ECF6\",\"gridcolor\":\"white\",\"gridwidth\":2,\"linecolor\":\"white\",\"showbackground\":true,\"ticks\":\"\",\"zerolinecolor\":\"white\"},\"yaxis\":{\"backgroundcolor\":\"#E5ECF6\",\"gridcolor\":\"white\",\"gridwidth\":2,\"linecolor\":\"white\",\"showbackground\":true,\"ticks\":\"\",\"zerolinecolor\":\"white\"},\"zaxis\":{\"backgroundcolor\":\"#E5ECF6\",\"gridcolor\":\"white\",\"gridwidth\":2,\"linecolor\":\"white\",\"showbackground\":true,\"ticks\":\"\",\"zerolinecolor\":\"white\"}},\"shapedefaults\":{\"line\":{\"color\":\"#2a3f5f\"}},\"ternary\":{\"aaxis\":{\"gridcolor\":\"white\",\"linecolor\":\"white\",\"ticks\":\"\"},\"baxis\":{\"gridcolor\":\"white\",\"linecolor\":\"white\",\"ticks\":\"\"},\"bgcolor\":\"#E5ECF6\",\"caxis\":{\"gridcolor\":\"white\",\"linecolor\":\"white\",\"ticks\":\"\"}},\"title\":{\"x\":0.05},\"xaxis\":{\"automargin\":true,\"gridcolor\":\"white\",\"linecolor\":\"white\",\"ticks\":\"\",\"title\":{\"standoff\":15},\"zerolinecolor\":\"white\",\"zerolinewidth\":2},\"yaxis\":{\"automargin\":true,\"gridcolor\":\"white\",\"linecolor\":\"white\",\"ticks\":\"\",\"title\":{\"standoff\":15},\"zerolinecolor\":\"white\",\"zerolinewidth\":2}}},\"title\":{\"text\":\"Daily vaccinations per country\"}},                        {\"responsive\": true}                    ).then(function(){\n",
       "                            \n",
       "var gd = document.getElementById('92ff7279-3e8b-4f4b-8a76-fc4a8b4c937f');\n",
       "var x = new MutationObserver(function (mutations, observer) {{\n",
       "        var display = window.getComputedStyle(gd).display;\n",
       "        if (!display || display === 'none') {{\n",
       "            console.log([gd, 'removed!']);\n",
       "            Plotly.purge(gd);\n",
       "            observer.disconnect();\n",
       "        }}\n",
       "}});\n",
       "\n",
       "// Listen for the removal of the full notebook cells\n",
       "var notebookContainer = gd.closest('#notebook-container');\n",
       "if (notebookContainer) {{\n",
       "    x.observe(notebookContainer, {childList: true});\n",
       "}}\n",
       "\n",
       "// Listen for the clearing of the current output cell\n",
       "var outputEl = gd.closest('.output');\n",
       "if (outputEl) {{\n",
       "    x.observe(outputEl, {childList: true});\n",
       "}}\n",
       "\n",
       "                        })                };                });            </script>        </div>"
      ]
     },
     "metadata": {},
     "output_type": "display_data"
    }
   ],
   "source": [
    "trace = go.Choropleth(\n",
    "            locations = country_vaccine['Country'],\n",
    "            locationmode='country names',\n",
    "            z = country_vaccine['Daily vaccinations'],\n",
    "            text = country_vaccine['Country'],\n",
    "            autocolorscale =False,\n",
    "            reversescale = True,\n",
    "            colorscale = 'viridis',\n",
    "            marker = dict(\n",
    "                line = dict(\n",
    "                    color = 'rgb(0,0,0)',\n",
    "                    width = 0.5)\n",
    "            ),\n",
    "            colorbar = dict(\n",
    "                title = 'Daily vaccinations',\n",
    "                tickprefix = '')\n",
    "        )\n",
    "\n",
    "data = [trace]\n",
    "layout = go.Layout(\n",
    "    title = 'Daily vaccinations per country',\n",
    "    geo = dict(\n",
    "        showframe = True,\n",
    "        showlakes = False,\n",
    "        showcoastlines = True,\n",
    "        projection = dict(\n",
    "            type = 'natural earth'\n",
    "        )\n",
    "    )\n",
    ")\n",
    "\n",
    "fig = dict( data=data, layout=layout )\n",
    "iplot(fig)\n"
   ]
  },
  {
   "cell_type": "code",
   "execution_count": 19,
   "metadata": {
    "scrolled": true
   },
   "outputs": [
    {
     "data": {
      "application/vnd.plotly.v1+json": {
       "config": {
        "linkText": "Export to plot.ly",
        "plotlyServerURL": "https://plot.ly",
        "showLink": false
       },
       "data": [
        {
         "autocolorscale": false,
         "colorbar": {
          "tickprefix": "",
          "title": {
           "text": "People vaccinated"
          }
         },
         "colorscale": [
          [
           0,
           "#440154"
          ],
          [
           0.1111111111111111,
           "#482878"
          ],
          [
           0.2222222222222222,
           "#3e4989"
          ],
          [
           0.3333333333333333,
           "#31688e"
          ],
          [
           0.4444444444444444,
           "#26828e"
          ],
          [
           0.5555555555555556,
           "#1f9e89"
          ],
          [
           0.6666666666666666,
           "#35b779"
          ],
          [
           0.7777777777777778,
           "#6ece58"
          ],
          [
           0.8888888888888888,
           "#b5de2b"
          ],
          [
           1,
           "#fde725"
          ]
         ],
         "locationmode": "country names",
         "locations": [
          "Afghanistan",
          "Albania",
          "Algeria",
          "Andorra",
          "Angola",
          "Anguilla",
          "Antigua and Barbuda",
          "Argentina",
          "Armenia",
          "Aruba",
          "Australia",
          "Austria",
          "Azerbaijan",
          "Bahamas",
          "Bahrain",
          "Bangladesh",
          "Barbados",
          "Belarus",
          "Belgium",
          "Belize",
          "Benin",
          "Bermuda",
          "Bhutan",
          "Bolivia",
          "Bonaire Sint Eustatius and Saba",
          "Bosnia and Herzegovina",
          "Botswana",
          "Brazil",
          "British Virgin Islands",
          "Brunei",
          "Bulgaria",
          "Burkina Faso",
          "Cambodia",
          "Cameroon",
          "Canada",
          "Cape Verde",
          "Cayman Islands",
          "Central African Republic",
          "Chad",
          "Chile",
          "China",
          "Colombia",
          "Comoros",
          "Congo",
          "Cook Islands",
          "Costa Rica",
          "Cote d'Ivoire",
          "Croatia",
          "Cuba",
          "Curacao",
          "Cyprus",
          "Czechia",
          "Democratic Republic of Congo",
          "Denmark",
          "Djibouti",
          "Dominica",
          "Dominican Republic",
          "Ecuador",
          "Egypt",
          "El Salvador",
          "England",
          "Equatorial Guinea",
          "Estonia",
          "Eswatini",
          "Ethiopia",
          "Faeroe Islands",
          "Falkland Islands",
          "Fiji",
          "Finland",
          "France",
          "French Polynesia",
          "Gabon",
          "Gambia",
          "Georgia",
          "Germany",
          "Ghana",
          "Gibraltar",
          "Greece",
          "Greenland",
          "Grenada",
          "Guatemala",
          "Guernsey",
          "Guinea",
          "Guinea-Bissau",
          "Guyana",
          "Honduras",
          "Hong Kong",
          "Hungary",
          "Iceland",
          "India",
          "Indonesia",
          "Iran",
          "Iraq",
          "Ireland",
          "Isle of Man",
          "Israel",
          "Italy",
          "Jamaica",
          "Japan",
          "Jersey",
          "Jordan",
          "Kazakhstan",
          "Kenya",
          "Kosovo",
          "Kuwait",
          "Kyrgyzstan",
          "Laos",
          "Latvia",
          "Lebanon",
          "Lesotho",
          "Liberia",
          "Libya",
          "Liechtenstein",
          "Lithuania",
          "Luxembourg",
          "Macao",
          "Madagascar",
          "Malawi",
          "Malaysia",
          "Maldives",
          "Mali",
          "Malta",
          "Mauritania",
          "Mauritius",
          "Mexico",
          "Moldova",
          "Monaco",
          "Mongolia",
          "Montenegro",
          "Montserrat",
          "Morocco",
          "Mozambique",
          "Myanmar",
          "Namibia",
          "Nauru",
          "Nepal",
          "Netherlands",
          "New Caledonia",
          "New Zealand",
          "Nicaragua",
          "Niger",
          "Nigeria",
          "North Macedonia",
          "Northern Cyprus",
          "Northern Ireland",
          "Norway",
          "Oman",
          "Pakistan",
          "Palestine",
          "Panama",
          "Papua New Guinea",
          "Paraguay",
          "Peru",
          "Philippines",
          "Pitcairn",
          "Poland",
          "Portugal",
          "Qatar",
          "Romania",
          "Russia",
          "Rwanda",
          "Saint Helena",
          "Saint Kitts and Nevis",
          "Saint Lucia",
          "Saint Vincent and the Grenadines",
          "Samoa",
          "San Marino",
          "Sao Tome and Principe",
          "Saudi Arabia",
          "Scotland",
          "Senegal",
          "Serbia",
          "Seychelles",
          "Sierra Leone",
          "Singapore",
          "Sint Maarten (Dutch part)",
          "Slovakia",
          "Slovenia",
          "Solomon Islands",
          "Somalia",
          "South Africa",
          "South Korea",
          "South Sudan",
          "Spain",
          "Sri Lanka",
          "Sudan",
          "Suriname",
          "Sweden",
          "Switzerland",
          "Syria",
          "Taiwan",
          "Tajikistan",
          "Thailand",
          "Timor",
          "Togo",
          "Tonga",
          "Trinidad and Tobago",
          "Tunisia",
          "Turkey",
          "Turkmenistan",
          "Turks and Caicos Islands",
          "Tuvalu",
          "Uganda",
          "Ukraine",
          "United Arab Emirates",
          "United Kingdom",
          "United States",
          "Uruguay",
          "Uzbekistan",
          "Vanuatu",
          "Venezuela",
          "Vietnam",
          "Wales",
          "Wallis and Futuna",
          "Yemen",
          "Zambia",
          "Zimbabwe"
         ],
         "marker": {
          "line": {
           "color": "rgb(0,0,0)",
           "width": 0.5
          }
         },
         "reversescale": true,
         "text": [
          "Afghanistan",
          "Albania",
          "Algeria",
          "Andorra",
          "Angola",
          "Anguilla",
          "Antigua and Barbuda",
          "Argentina",
          "Armenia",
          "Aruba",
          "Australia",
          "Austria",
          "Azerbaijan",
          "Bahamas",
          "Bahrain",
          "Bangladesh",
          "Barbados",
          "Belarus",
          "Belgium",
          "Belize",
          "Benin",
          "Bermuda",
          "Bhutan",
          "Bolivia",
          "Bonaire Sint Eustatius and Saba",
          "Bosnia and Herzegovina",
          "Botswana",
          "Brazil",
          "British Virgin Islands",
          "Brunei",
          "Bulgaria",
          "Burkina Faso",
          "Cambodia",
          "Cameroon",
          "Canada",
          "Cape Verde",
          "Cayman Islands",
          "Central African Republic",
          "Chad",
          "Chile",
          "China",
          "Colombia",
          "Comoros",
          "Congo",
          "Cook Islands",
          "Costa Rica",
          "Cote d'Ivoire",
          "Croatia",
          "Cuba",
          "Curacao",
          "Cyprus",
          "Czechia",
          "Democratic Republic of Congo",
          "Denmark",
          "Djibouti",
          "Dominica",
          "Dominican Republic",
          "Ecuador",
          "Egypt",
          "El Salvador",
          "England",
          "Equatorial Guinea",
          "Estonia",
          "Eswatini",
          "Ethiopia",
          "Faeroe Islands",
          "Falkland Islands",
          "Fiji",
          "Finland",
          "France",
          "French Polynesia",
          "Gabon",
          "Gambia",
          "Georgia",
          "Germany",
          "Ghana",
          "Gibraltar",
          "Greece",
          "Greenland",
          "Grenada",
          "Guatemala",
          "Guernsey",
          "Guinea",
          "Guinea-Bissau",
          "Guyana",
          "Honduras",
          "Hong Kong",
          "Hungary",
          "Iceland",
          "India",
          "Indonesia",
          "Iran",
          "Iraq",
          "Ireland",
          "Isle of Man",
          "Israel",
          "Italy",
          "Jamaica",
          "Japan",
          "Jersey",
          "Jordan",
          "Kazakhstan",
          "Kenya",
          "Kosovo",
          "Kuwait",
          "Kyrgyzstan",
          "Laos",
          "Latvia",
          "Lebanon",
          "Lesotho",
          "Liberia",
          "Libya",
          "Liechtenstein",
          "Lithuania",
          "Luxembourg",
          "Macao",
          "Madagascar",
          "Malawi",
          "Malaysia",
          "Maldives",
          "Mali",
          "Malta",
          "Mauritania",
          "Mauritius",
          "Mexico",
          "Moldova",
          "Monaco",
          "Mongolia",
          "Montenegro",
          "Montserrat",
          "Morocco",
          "Mozambique",
          "Myanmar",
          "Namibia",
          "Nauru",
          "Nepal",
          "Netherlands",
          "New Caledonia",
          "New Zealand",
          "Nicaragua",
          "Niger",
          "Nigeria",
          "North Macedonia",
          "Northern Cyprus",
          "Northern Ireland",
          "Norway",
          "Oman",
          "Pakistan",
          "Palestine",
          "Panama",
          "Papua New Guinea",
          "Paraguay",
          "Peru",
          "Philippines",
          "Pitcairn",
          "Poland",
          "Portugal",
          "Qatar",
          "Romania",
          "Russia",
          "Rwanda",
          "Saint Helena",
          "Saint Kitts and Nevis",
          "Saint Lucia",
          "Saint Vincent and the Grenadines",
          "Samoa",
          "San Marino",
          "Sao Tome and Principe",
          "Saudi Arabia",
          "Scotland",
          "Senegal",
          "Serbia",
          "Seychelles",
          "Sierra Leone",
          "Singapore",
          "Sint Maarten (Dutch part)",
          "Slovakia",
          "Slovenia",
          "Solomon Islands",
          "Somalia",
          "South Africa",
          "South Korea",
          "South Sudan",
          "Spain",
          "Sri Lanka",
          "Sudan",
          "Suriname",
          "Sweden",
          "Switzerland",
          "Syria",
          "Taiwan",
          "Tajikistan",
          "Thailand",
          "Timor",
          "Togo",
          "Tonga",
          "Trinidad and Tobago",
          "Tunisia",
          "Turkey",
          "Turkmenistan",
          "Turks and Caicos Islands",
          "Tuvalu",
          "Uganda",
          "Ukraine",
          "United Arab Emirates",
          "United Kingdom",
          "United States",
          "Uruguay",
          "Uzbekistan",
          "Vanuatu",
          "Venezuela",
          "Vietnam",
          "Wales",
          "Wallis and Futuna",
          "Yemen",
          "Zambia",
          "Zimbabwe"
         ],
         "type": "choropleth",
         "z": [
          484737,
          515884,
          2500000,
          34646,
          866381,
          9183,
          35611,
          14397649,
          46503,
          66865,
          5698309,
          4462739,
          1949635,
          54199,
          1043787,
          5823245,
          90735,
          699141,
          6330438,
          76148,
          21834,
          41198,
          484189,
          1615514,
          5726,
          252499,
          150019,
          62741992,
          12405,
          55005,
          911349,
          17775,
          3366207,
          78476,
          25105109,
          60771,
          47001,
          41095,
          5324,
          12081916,
          622000000,
          10172100,
          43140,
          22623,
          9589,
          1409778,
          725916,
          1450798,
          2244336,
          88065,
          443121,
          4775887,
          40342,
          3010813,
          12547,
          20134,
          4541739,
          2351838,
          3315854,
          1425927,
          36101778,
          148579,
          544287,
          35227,
          1894717,
          25952,
          2632,
          237940,
          3077639,
          31981541,
          64749,
          29400,
          30421,
          234410,
          42284584,
          852047,
          39133,
          4526238,
          21863,
          19024,
          661474,
          32969,
          336515,
          18706,
          223659,
          484018,
          1940427,
          5411431,
          238814,
          224541283,
          23043372,
          3984095,
          494524,
          2217448,
          62417,
          5495050,
          31431717,
          163209,
          22437512,
          65146,
          2100892,
          2744212,
          995012,
          116057,
          2875000,
          88178,
          753750,
          634665,
          761818,
          36637,
          68134,
          351408,
          17873,
          1207804,
          283338,
          205772,
          188752,
          383273,
          4202601,
          315156,
          130574,
          352478,
          129020,
          380362,
          27753807,
          401379,
          18836,
          1912235,
          147995,
          1394,
          9375240,
          320129,
          1772177,
          104199,
          7438,
          2500196,
          8610697,
          55277,
          567188,
          167500,
          172812,
          1964095,
          274710,
          75463,
          1140838,
          2177852,
          535578,
          10209149,
          445598,
          929180,
          38176,
          422474,
          3777819,
          6253400,
          47,
          16152134,
          4871081,
          1620571,
          4633520,
          19657314,
          350400,
          4361,
          22012,
          30063,
          18417,
          40230,
          22172,
          12374,
          null,
          3647437,
          480311,
          2693998,
          70660,
          82145,
          2700446,
          20358,
          1938210,
          799225,
          17000,
          135107,
          2141624,
          15014819,
          27338,
          22684911,
          2455180,
          508271,
          144662,
          4315017,
          3918450,
          71519,
          985084,
          89121,
          5486092,
          103813,
          270784,
          28631,
          176849,
          1165402,
          28123248,
          32240,
          22700,
          4772,
          821659,
          1726040,
          5081853,
          43127763,
          177088290,
          2146891,
          1623764,
          5140,
          1079134,
          2300960,
          2237710,
          4470,
          251385,
          142089,
          703065
         ]
        }
       ],
       "layout": {
        "geo": {
         "projection": {
          "type": "natural earth"
         },
         "showcoastlines": true,
         "showframe": true,
         "showlakes": false
        },
        "template": {
         "data": {
          "bar": [
           {
            "error_x": {
             "color": "#2a3f5f"
            },
            "error_y": {
             "color": "#2a3f5f"
            },
            "marker": {
             "line": {
              "color": "#E5ECF6",
              "width": 0.5
             },
             "pattern": {
              "fillmode": "overlay",
              "size": 10,
              "solidity": 0.2
             }
            },
            "type": "bar"
           }
          ],
          "barpolar": [
           {
            "marker": {
             "line": {
              "color": "#E5ECF6",
              "width": 0.5
             },
             "pattern": {
              "fillmode": "overlay",
              "size": 10,
              "solidity": 0.2
             }
            },
            "type": "barpolar"
           }
          ],
          "carpet": [
           {
            "aaxis": {
             "endlinecolor": "#2a3f5f",
             "gridcolor": "white",
             "linecolor": "white",
             "minorgridcolor": "white",
             "startlinecolor": "#2a3f5f"
            },
            "baxis": {
             "endlinecolor": "#2a3f5f",
             "gridcolor": "white",
             "linecolor": "white",
             "minorgridcolor": "white",
             "startlinecolor": "#2a3f5f"
            },
            "type": "carpet"
           }
          ],
          "choropleth": [
           {
            "colorbar": {
             "outlinewidth": 0,
             "ticks": ""
            },
            "type": "choropleth"
           }
          ],
          "contour": [
           {
            "colorbar": {
             "outlinewidth": 0,
             "ticks": ""
            },
            "colorscale": [
             [
              0,
              "#0d0887"
             ],
             [
              0.1111111111111111,
              "#46039f"
             ],
             [
              0.2222222222222222,
              "#7201a8"
             ],
             [
              0.3333333333333333,
              "#9c179e"
             ],
             [
              0.4444444444444444,
              "#bd3786"
             ],
             [
              0.5555555555555556,
              "#d8576b"
             ],
             [
              0.6666666666666666,
              "#ed7953"
             ],
             [
              0.7777777777777778,
              "#fb9f3a"
             ],
             [
              0.8888888888888888,
              "#fdca26"
             ],
             [
              1,
              "#f0f921"
             ]
            ],
            "type": "contour"
           }
          ],
          "contourcarpet": [
           {
            "colorbar": {
             "outlinewidth": 0,
             "ticks": ""
            },
            "type": "contourcarpet"
           }
          ],
          "heatmap": [
           {
            "colorbar": {
             "outlinewidth": 0,
             "ticks": ""
            },
            "colorscale": [
             [
              0,
              "#0d0887"
             ],
             [
              0.1111111111111111,
              "#46039f"
             ],
             [
              0.2222222222222222,
              "#7201a8"
             ],
             [
              0.3333333333333333,
              "#9c179e"
             ],
             [
              0.4444444444444444,
              "#bd3786"
             ],
             [
              0.5555555555555556,
              "#d8576b"
             ],
             [
              0.6666666666666666,
              "#ed7953"
             ],
             [
              0.7777777777777778,
              "#fb9f3a"
             ],
             [
              0.8888888888888888,
              "#fdca26"
             ],
             [
              1,
              "#f0f921"
             ]
            ],
            "type": "heatmap"
           }
          ],
          "heatmapgl": [
           {
            "colorbar": {
             "outlinewidth": 0,
             "ticks": ""
            },
            "colorscale": [
             [
              0,
              "#0d0887"
             ],
             [
              0.1111111111111111,
              "#46039f"
             ],
             [
              0.2222222222222222,
              "#7201a8"
             ],
             [
              0.3333333333333333,
              "#9c179e"
             ],
             [
              0.4444444444444444,
              "#bd3786"
             ],
             [
              0.5555555555555556,
              "#d8576b"
             ],
             [
              0.6666666666666666,
              "#ed7953"
             ],
             [
              0.7777777777777778,
              "#fb9f3a"
             ],
             [
              0.8888888888888888,
              "#fdca26"
             ],
             [
              1,
              "#f0f921"
             ]
            ],
            "type": "heatmapgl"
           }
          ],
          "histogram": [
           {
            "marker": {
             "pattern": {
              "fillmode": "overlay",
              "size": 10,
              "solidity": 0.2
             }
            },
            "type": "histogram"
           }
          ],
          "histogram2d": [
           {
            "colorbar": {
             "outlinewidth": 0,
             "ticks": ""
            },
            "colorscale": [
             [
              0,
              "#0d0887"
             ],
             [
              0.1111111111111111,
              "#46039f"
             ],
             [
              0.2222222222222222,
              "#7201a8"
             ],
             [
              0.3333333333333333,
              "#9c179e"
             ],
             [
              0.4444444444444444,
              "#bd3786"
             ],
             [
              0.5555555555555556,
              "#d8576b"
             ],
             [
              0.6666666666666666,
              "#ed7953"
             ],
             [
              0.7777777777777778,
              "#fb9f3a"
             ],
             [
              0.8888888888888888,
              "#fdca26"
             ],
             [
              1,
              "#f0f921"
             ]
            ],
            "type": "histogram2d"
           }
          ],
          "histogram2dcontour": [
           {
            "colorbar": {
             "outlinewidth": 0,
             "ticks": ""
            },
            "colorscale": [
             [
              0,
              "#0d0887"
             ],
             [
              0.1111111111111111,
              "#46039f"
             ],
             [
              0.2222222222222222,
              "#7201a8"
             ],
             [
              0.3333333333333333,
              "#9c179e"
             ],
             [
              0.4444444444444444,
              "#bd3786"
             ],
             [
              0.5555555555555556,
              "#d8576b"
             ],
             [
              0.6666666666666666,
              "#ed7953"
             ],
             [
              0.7777777777777778,
              "#fb9f3a"
             ],
             [
              0.8888888888888888,
              "#fdca26"
             ],
             [
              1,
              "#f0f921"
             ]
            ],
            "type": "histogram2dcontour"
           }
          ],
          "mesh3d": [
           {
            "colorbar": {
             "outlinewidth": 0,
             "ticks": ""
            },
            "type": "mesh3d"
           }
          ],
          "parcoords": [
           {
            "line": {
             "colorbar": {
              "outlinewidth": 0,
              "ticks": ""
             }
            },
            "type": "parcoords"
           }
          ],
          "pie": [
           {
            "automargin": true,
            "type": "pie"
           }
          ],
          "scatter": [
           {
            "marker": {
             "colorbar": {
              "outlinewidth": 0,
              "ticks": ""
             }
            },
            "type": "scatter"
           }
          ],
          "scatter3d": [
           {
            "line": {
             "colorbar": {
              "outlinewidth": 0,
              "ticks": ""
             }
            },
            "marker": {
             "colorbar": {
              "outlinewidth": 0,
              "ticks": ""
             }
            },
            "type": "scatter3d"
           }
          ],
          "scattercarpet": [
           {
            "marker": {
             "colorbar": {
              "outlinewidth": 0,
              "ticks": ""
             }
            },
            "type": "scattercarpet"
           }
          ],
          "scattergeo": [
           {
            "marker": {
             "colorbar": {
              "outlinewidth": 0,
              "ticks": ""
             }
            },
            "type": "scattergeo"
           }
          ],
          "scattergl": [
           {
            "marker": {
             "colorbar": {
              "outlinewidth": 0,
              "ticks": ""
             }
            },
            "type": "scattergl"
           }
          ],
          "scattermapbox": [
           {
            "marker": {
             "colorbar": {
              "outlinewidth": 0,
              "ticks": ""
             }
            },
            "type": "scattermapbox"
           }
          ],
          "scatterpolar": [
           {
            "marker": {
             "colorbar": {
              "outlinewidth": 0,
              "ticks": ""
             }
            },
            "type": "scatterpolar"
           }
          ],
          "scatterpolargl": [
           {
            "marker": {
             "colorbar": {
              "outlinewidth": 0,
              "ticks": ""
             }
            },
            "type": "scatterpolargl"
           }
          ],
          "scatterternary": [
           {
            "marker": {
             "colorbar": {
              "outlinewidth": 0,
              "ticks": ""
             }
            },
            "type": "scatterternary"
           }
          ],
          "surface": [
           {
            "colorbar": {
             "outlinewidth": 0,
             "ticks": ""
            },
            "colorscale": [
             [
              0,
              "#0d0887"
             ],
             [
              0.1111111111111111,
              "#46039f"
             ],
             [
              0.2222222222222222,
              "#7201a8"
             ],
             [
              0.3333333333333333,
              "#9c179e"
             ],
             [
              0.4444444444444444,
              "#bd3786"
             ],
             [
              0.5555555555555556,
              "#d8576b"
             ],
             [
              0.6666666666666666,
              "#ed7953"
             ],
             [
              0.7777777777777778,
              "#fb9f3a"
             ],
             [
              0.8888888888888888,
              "#fdca26"
             ],
             [
              1,
              "#f0f921"
             ]
            ],
            "type": "surface"
           }
          ],
          "table": [
           {
            "cells": {
             "fill": {
              "color": "#EBF0F8"
             },
             "line": {
              "color": "white"
             }
            },
            "header": {
             "fill": {
              "color": "#C8D4E3"
             },
             "line": {
              "color": "white"
             }
            },
            "type": "table"
           }
          ]
         },
         "layout": {
          "annotationdefaults": {
           "arrowcolor": "#2a3f5f",
           "arrowhead": 0,
           "arrowwidth": 1
          },
          "autotypenumbers": "strict",
          "coloraxis": {
           "colorbar": {
            "outlinewidth": 0,
            "ticks": ""
           }
          },
          "colorscale": {
           "diverging": [
            [
             0,
             "#8e0152"
            ],
            [
             0.1,
             "#c51b7d"
            ],
            [
             0.2,
             "#de77ae"
            ],
            [
             0.3,
             "#f1b6da"
            ],
            [
             0.4,
             "#fde0ef"
            ],
            [
             0.5,
             "#f7f7f7"
            ],
            [
             0.6,
             "#e6f5d0"
            ],
            [
             0.7,
             "#b8e186"
            ],
            [
             0.8,
             "#7fbc41"
            ],
            [
             0.9,
             "#4d9221"
            ],
            [
             1,
             "#276419"
            ]
           ],
           "sequential": [
            [
             0,
             "#0d0887"
            ],
            [
             0.1111111111111111,
             "#46039f"
            ],
            [
             0.2222222222222222,
             "#7201a8"
            ],
            [
             0.3333333333333333,
             "#9c179e"
            ],
            [
             0.4444444444444444,
             "#bd3786"
            ],
            [
             0.5555555555555556,
             "#d8576b"
            ],
            [
             0.6666666666666666,
             "#ed7953"
            ],
            [
             0.7777777777777778,
             "#fb9f3a"
            ],
            [
             0.8888888888888888,
             "#fdca26"
            ],
            [
             1,
             "#f0f921"
            ]
           ],
           "sequentialminus": [
            [
             0,
             "#0d0887"
            ],
            [
             0.1111111111111111,
             "#46039f"
            ],
            [
             0.2222222222222222,
             "#7201a8"
            ],
            [
             0.3333333333333333,
             "#9c179e"
            ],
            [
             0.4444444444444444,
             "#bd3786"
            ],
            [
             0.5555555555555556,
             "#d8576b"
            ],
            [
             0.6666666666666666,
             "#ed7953"
            ],
            [
             0.7777777777777778,
             "#fb9f3a"
            ],
            [
             0.8888888888888888,
             "#fdca26"
            ],
            [
             1,
             "#f0f921"
            ]
           ]
          },
          "colorway": [
           "#636efa",
           "#EF553B",
           "#00cc96",
           "#ab63fa",
           "#FFA15A",
           "#19d3f3",
           "#FF6692",
           "#B6E880",
           "#FF97FF",
           "#FECB52"
          ],
          "font": {
           "color": "#2a3f5f"
          },
          "geo": {
           "bgcolor": "white",
           "lakecolor": "white",
           "landcolor": "#E5ECF6",
           "showlakes": true,
           "showland": true,
           "subunitcolor": "white"
          },
          "hoverlabel": {
           "align": "left"
          },
          "hovermode": "closest",
          "mapbox": {
           "style": "light"
          },
          "paper_bgcolor": "white",
          "plot_bgcolor": "#E5ECF6",
          "polar": {
           "angularaxis": {
            "gridcolor": "white",
            "linecolor": "white",
            "ticks": ""
           },
           "bgcolor": "#E5ECF6",
           "radialaxis": {
            "gridcolor": "white",
            "linecolor": "white",
            "ticks": ""
           }
          },
          "scene": {
           "xaxis": {
            "backgroundcolor": "#E5ECF6",
            "gridcolor": "white",
            "gridwidth": 2,
            "linecolor": "white",
            "showbackground": true,
            "ticks": "",
            "zerolinecolor": "white"
           },
           "yaxis": {
            "backgroundcolor": "#E5ECF6",
            "gridcolor": "white",
            "gridwidth": 2,
            "linecolor": "white",
            "showbackground": true,
            "ticks": "",
            "zerolinecolor": "white"
           },
           "zaxis": {
            "backgroundcolor": "#E5ECF6",
            "gridcolor": "white",
            "gridwidth": 2,
            "linecolor": "white",
            "showbackground": true,
            "ticks": "",
            "zerolinecolor": "white"
           }
          },
          "shapedefaults": {
           "line": {
            "color": "#2a3f5f"
           }
          },
          "ternary": {
           "aaxis": {
            "gridcolor": "white",
            "linecolor": "white",
            "ticks": ""
           },
           "baxis": {
            "gridcolor": "white",
            "linecolor": "white",
            "ticks": ""
           },
           "bgcolor": "#E5ECF6",
           "caxis": {
            "gridcolor": "white",
            "linecolor": "white",
            "ticks": ""
           }
          },
          "title": {
           "x": 0.05
          },
          "xaxis": {
           "automargin": true,
           "gridcolor": "white",
           "linecolor": "white",
           "ticks": "",
           "title": {
            "standoff": 15
           },
           "zerolinecolor": "white",
           "zerolinewidth": 2
          },
          "yaxis": {
           "automargin": true,
           "gridcolor": "white",
           "linecolor": "white",
           "ticks": "",
           "title": {
            "standoff": 15
           },
           "zerolinecolor": "white",
           "zerolinewidth": 2
          }
         }
        },
        "title": {
         "text": "People vaccinated per country"
        }
       }
      },
      "text/html": [
       "<div>                            <div id=\"bd0a2392-876d-40e8-bb34-a93773cbc55c\" class=\"plotly-graph-div\" style=\"height:525px; width:100%;\"></div>            <script type=\"text/javascript\">                require([\"plotly\"], function(Plotly) {                    window.PLOTLYENV=window.PLOTLYENV || {};                                    if (document.getElementById(\"bd0a2392-876d-40e8-bb34-a93773cbc55c\")) {                    Plotly.newPlot(                        \"bd0a2392-876d-40e8-bb34-a93773cbc55c\",                        [{\"autocolorscale\":false,\"colorbar\":{\"tickprefix\":\"\",\"title\":{\"text\":\"People vaccinated\"}},\"colorscale\":[[0.0,\"#440154\"],[0.1111111111111111,\"#482878\"],[0.2222222222222222,\"#3e4989\"],[0.3333333333333333,\"#31688e\"],[0.4444444444444444,\"#26828e\"],[0.5555555555555556,\"#1f9e89\"],[0.6666666666666666,\"#35b779\"],[0.7777777777777778,\"#6ece58\"],[0.8888888888888888,\"#b5de2b\"],[1.0,\"#fde725\"]],\"locationmode\":\"country names\",\"locations\":[\"Afghanistan\",\"Albania\",\"Algeria\",\"Andorra\",\"Angola\",\"Anguilla\",\"Antigua and Barbuda\",\"Argentina\",\"Armenia\",\"Aruba\",\"Australia\",\"Austria\",\"Azerbaijan\",\"Bahamas\",\"Bahrain\",\"Bangladesh\",\"Barbados\",\"Belarus\",\"Belgium\",\"Belize\",\"Benin\",\"Bermuda\",\"Bhutan\",\"Bolivia\",\"Bonaire Sint Eustatius and Saba\",\"Bosnia and Herzegovina\",\"Botswana\",\"Brazil\",\"British Virgin Islands\",\"Brunei\",\"Bulgaria\",\"Burkina Faso\",\"Cambodia\",\"Cameroon\",\"Canada\",\"Cape Verde\",\"Cayman Islands\",\"Central African Republic\",\"Chad\",\"Chile\",\"China\",\"Colombia\",\"Comoros\",\"Congo\",\"Cook Islands\",\"Costa Rica\",\"Cote d'Ivoire\",\"Croatia\",\"Cuba\",\"Curacao\",\"Cyprus\",\"Czechia\",\"Democratic Republic of Congo\",\"Denmark\",\"Djibouti\",\"Dominica\",\"Dominican Republic\",\"Ecuador\",\"Egypt\",\"El Salvador\",\"England\",\"Equatorial Guinea\",\"Estonia\",\"Eswatini\",\"Ethiopia\",\"Faeroe Islands\",\"Falkland Islands\",\"Fiji\",\"Finland\",\"France\",\"French Polynesia\",\"Gabon\",\"Gambia\",\"Georgia\",\"Germany\",\"Ghana\",\"Gibraltar\",\"Greece\",\"Greenland\",\"Grenada\",\"Guatemala\",\"Guernsey\",\"Guinea\",\"Guinea-Bissau\",\"Guyana\",\"Honduras\",\"Hong Kong\",\"Hungary\",\"Iceland\",\"India\",\"Indonesia\",\"Iran\",\"Iraq\",\"Ireland\",\"Isle of Man\",\"Israel\",\"Italy\",\"Jamaica\",\"Japan\",\"Jersey\",\"Jordan\",\"Kazakhstan\",\"Kenya\",\"Kosovo\",\"Kuwait\",\"Kyrgyzstan\",\"Laos\",\"Latvia\",\"Lebanon\",\"Lesotho\",\"Liberia\",\"Libya\",\"Liechtenstein\",\"Lithuania\",\"Luxembourg\",\"Macao\",\"Madagascar\",\"Malawi\",\"Malaysia\",\"Maldives\",\"Mali\",\"Malta\",\"Mauritania\",\"Mauritius\",\"Mexico\",\"Moldova\",\"Monaco\",\"Mongolia\",\"Montenegro\",\"Montserrat\",\"Morocco\",\"Mozambique\",\"Myanmar\",\"Namibia\",\"Nauru\",\"Nepal\",\"Netherlands\",\"New Caledonia\",\"New Zealand\",\"Nicaragua\",\"Niger\",\"Nigeria\",\"North Macedonia\",\"Northern Cyprus\",\"Northern Ireland\",\"Norway\",\"Oman\",\"Pakistan\",\"Palestine\",\"Panama\",\"Papua New Guinea\",\"Paraguay\",\"Peru\",\"Philippines\",\"Pitcairn\",\"Poland\",\"Portugal\",\"Qatar\",\"Romania\",\"Russia\",\"Rwanda\",\"Saint Helena\",\"Saint Kitts and Nevis\",\"Saint Lucia\",\"Saint Vincent and the Grenadines\",\"Samoa\",\"San Marino\",\"Sao Tome and Principe\",\"Saudi Arabia\",\"Scotland\",\"Senegal\",\"Serbia\",\"Seychelles\",\"Sierra Leone\",\"Singapore\",\"Sint Maarten (Dutch part)\",\"Slovakia\",\"Slovenia\",\"Solomon Islands\",\"Somalia\",\"South Africa\",\"South Korea\",\"South Sudan\",\"Spain\",\"Sri Lanka\",\"Sudan\",\"Suriname\",\"Sweden\",\"Switzerland\",\"Syria\",\"Taiwan\",\"Tajikistan\",\"Thailand\",\"Timor\",\"Togo\",\"Tonga\",\"Trinidad and Tobago\",\"Tunisia\",\"Turkey\",\"Turkmenistan\",\"Turks and Caicos Islands\",\"Tuvalu\",\"Uganda\",\"Ukraine\",\"United Arab Emirates\",\"United Kingdom\",\"United States\",\"Uruguay\",\"Uzbekistan\",\"Vanuatu\",\"Venezuela\",\"Vietnam\",\"Wales\",\"Wallis and Futuna\",\"Yemen\",\"Zambia\",\"Zimbabwe\"],\"marker\":{\"line\":{\"color\":\"rgb(0,0,0)\",\"width\":0.5}},\"reversescale\":true,\"text\":[\"Afghanistan\",\"Albania\",\"Algeria\",\"Andorra\",\"Angola\",\"Anguilla\",\"Antigua and Barbuda\",\"Argentina\",\"Armenia\",\"Aruba\",\"Australia\",\"Austria\",\"Azerbaijan\",\"Bahamas\",\"Bahrain\",\"Bangladesh\",\"Barbados\",\"Belarus\",\"Belgium\",\"Belize\",\"Benin\",\"Bermuda\",\"Bhutan\",\"Bolivia\",\"Bonaire Sint Eustatius and Saba\",\"Bosnia and Herzegovina\",\"Botswana\",\"Brazil\",\"British Virgin Islands\",\"Brunei\",\"Bulgaria\",\"Burkina Faso\",\"Cambodia\",\"Cameroon\",\"Canada\",\"Cape Verde\",\"Cayman Islands\",\"Central African Republic\",\"Chad\",\"Chile\",\"China\",\"Colombia\",\"Comoros\",\"Congo\",\"Cook Islands\",\"Costa Rica\",\"Cote d'Ivoire\",\"Croatia\",\"Cuba\",\"Curacao\",\"Cyprus\",\"Czechia\",\"Democratic Republic of Congo\",\"Denmark\",\"Djibouti\",\"Dominica\",\"Dominican Republic\",\"Ecuador\",\"Egypt\",\"El Salvador\",\"England\",\"Equatorial Guinea\",\"Estonia\",\"Eswatini\",\"Ethiopia\",\"Faeroe Islands\",\"Falkland Islands\",\"Fiji\",\"Finland\",\"France\",\"French Polynesia\",\"Gabon\",\"Gambia\",\"Georgia\",\"Germany\",\"Ghana\",\"Gibraltar\",\"Greece\",\"Greenland\",\"Grenada\",\"Guatemala\",\"Guernsey\",\"Guinea\",\"Guinea-Bissau\",\"Guyana\",\"Honduras\",\"Hong Kong\",\"Hungary\",\"Iceland\",\"India\",\"Indonesia\",\"Iran\",\"Iraq\",\"Ireland\",\"Isle of Man\",\"Israel\",\"Italy\",\"Jamaica\",\"Japan\",\"Jersey\",\"Jordan\",\"Kazakhstan\",\"Kenya\",\"Kosovo\",\"Kuwait\",\"Kyrgyzstan\",\"Laos\",\"Latvia\",\"Lebanon\",\"Lesotho\",\"Liberia\",\"Libya\",\"Liechtenstein\",\"Lithuania\",\"Luxembourg\",\"Macao\",\"Madagascar\",\"Malawi\",\"Malaysia\",\"Maldives\",\"Mali\",\"Malta\",\"Mauritania\",\"Mauritius\",\"Mexico\",\"Moldova\",\"Monaco\",\"Mongolia\",\"Montenegro\",\"Montserrat\",\"Morocco\",\"Mozambique\",\"Myanmar\",\"Namibia\",\"Nauru\",\"Nepal\",\"Netherlands\",\"New Caledonia\",\"New Zealand\",\"Nicaragua\",\"Niger\",\"Nigeria\",\"North Macedonia\",\"Northern Cyprus\",\"Northern Ireland\",\"Norway\",\"Oman\",\"Pakistan\",\"Palestine\",\"Panama\",\"Papua New Guinea\",\"Paraguay\",\"Peru\",\"Philippines\",\"Pitcairn\",\"Poland\",\"Portugal\",\"Qatar\",\"Romania\",\"Russia\",\"Rwanda\",\"Saint Helena\",\"Saint Kitts and Nevis\",\"Saint Lucia\",\"Saint Vincent and the Grenadines\",\"Samoa\",\"San Marino\",\"Sao Tome and Principe\",\"Saudi Arabia\",\"Scotland\",\"Senegal\",\"Serbia\",\"Seychelles\",\"Sierra Leone\",\"Singapore\",\"Sint Maarten (Dutch part)\",\"Slovakia\",\"Slovenia\",\"Solomon Islands\",\"Somalia\",\"South Africa\",\"South Korea\",\"South Sudan\",\"Spain\",\"Sri Lanka\",\"Sudan\",\"Suriname\",\"Sweden\",\"Switzerland\",\"Syria\",\"Taiwan\",\"Tajikistan\",\"Thailand\",\"Timor\",\"Togo\",\"Tonga\",\"Trinidad and Tobago\",\"Tunisia\",\"Turkey\",\"Turkmenistan\",\"Turks and Caicos Islands\",\"Tuvalu\",\"Uganda\",\"Ukraine\",\"United Arab Emirates\",\"United Kingdom\",\"United States\",\"Uruguay\",\"Uzbekistan\",\"Vanuatu\",\"Venezuela\",\"Vietnam\",\"Wales\",\"Wallis and Futuna\",\"Yemen\",\"Zambia\",\"Zimbabwe\"],\"type\":\"choropleth\",\"z\":[484737.0,515884.0,2500000.0,34646.0,866381.0,9183.0,35611.0,14397649.0,46503.0,66865.0,5698309.0,4462739.0,1949635.0,54199.0,1043787.0,5823245.0,90735.0,699141.0,6330438.0,76148.0,21834.0,41198.0,484189.0,1615514.0,5726.0,252499.0,150019.0,62741992.0,12405.0,55005.0,911349.0,17775.0,3366207.0,78476.0,25105109.0,60771.0,47001.0,41095.0,5324.0,12081916.0,622000000.0,10172100.0,43140.0,22623.0,9589.0,1409778.0,725916.0,1450798.0,2244336.0,88065.0,443121.0,4775887.0,40342.0,3010813.0,12547.0,20134.0,4541739.0,2351838.0,3315854.0,1425927.0,36101778.0,148579.0,544287.0,35227.0,1894717.0,25952.0,2632.0,237940.0,3077639.0,31981541.0,64749.0,29400.0,30421.0,234410.0,42284584.0,852047.0,39133.0,4526238.0,21863.0,19024.0,661474.0,32969.0,336515.0,18706.0,223659.0,484018.0,1940427.0,5411431.0,238814.0,224541283.0,23043372.0,3984095.0,494524.0,2217448.0,62417.0,5495050.0,31431717.0,163209.0,22437512.0,65146.0,2100892.0,2744212.0,995012.0,116057.0,2875000.0,88178.0,753750.0,634665.0,761818.0,36637.0,68134.0,351408.0,17873.0,1207804.0,283338.0,205772.0,188752.0,383273.0,4202601.0,315156.0,130574.0,352478.0,129020.0,380362.0,27753807.0,401379.0,18836.0,1912235.0,147995.0,1394.0,9375240.0,320129.0,1772177.0,104199.0,7438.0,2500196.0,8610697.0,55277.0,567188.0,167500.0,172812.0,1964095.0,274710.0,75463.0,1140838.0,2177852.0,535578.0,10209149.0,445598.0,929180.0,38176.0,422474.0,3777819.0,6253400.0,47.0,16152134.0,4871081.0,1620571.0,4633520.0,19657314.0,350400.0,4361.0,22012.0,30063.0,18417.0,40230.0,22172.0,12374.0,null,3647437.0,480311.0,2693998.0,70660.0,82145.0,2700446.0,20358.0,1938210.0,799225.0,17000.0,135107.0,2141624.0,15014819.0,27338.0,22684911.0,2455180.0,508271.0,144662.0,4315017.0,3918450.0,71519.0,985084.0,89121.0,5486092.0,103813.0,270784.0,28631.0,176849.0,1165402.0,28123248.0,32240.0,22700.0,4772.0,821659.0,1726040.0,5081853.0,43127763.0,177088290.0,2146891.0,1623764.0,5140.0,1079134.0,2300960.0,2237710.0,4470.0,251385.0,142089.0,703065.0]}],                        {\"geo\":{\"projection\":{\"type\":\"natural earth\"},\"showcoastlines\":true,\"showframe\":true,\"showlakes\":false},\"template\":{\"data\":{\"bar\":[{\"error_x\":{\"color\":\"#2a3f5f\"},\"error_y\":{\"color\":\"#2a3f5f\"},\"marker\":{\"line\":{\"color\":\"#E5ECF6\",\"width\":0.5},\"pattern\":{\"fillmode\":\"overlay\",\"size\":10,\"solidity\":0.2}},\"type\":\"bar\"}],\"barpolar\":[{\"marker\":{\"line\":{\"color\":\"#E5ECF6\",\"width\":0.5},\"pattern\":{\"fillmode\":\"overlay\",\"size\":10,\"solidity\":0.2}},\"type\":\"barpolar\"}],\"carpet\":[{\"aaxis\":{\"endlinecolor\":\"#2a3f5f\",\"gridcolor\":\"white\",\"linecolor\":\"white\",\"minorgridcolor\":\"white\",\"startlinecolor\":\"#2a3f5f\"},\"baxis\":{\"endlinecolor\":\"#2a3f5f\",\"gridcolor\":\"white\",\"linecolor\":\"white\",\"minorgridcolor\":\"white\",\"startlinecolor\":\"#2a3f5f\"},\"type\":\"carpet\"}],\"choropleth\":[{\"colorbar\":{\"outlinewidth\":0,\"ticks\":\"\"},\"type\":\"choropleth\"}],\"contour\":[{\"colorbar\":{\"outlinewidth\":0,\"ticks\":\"\"},\"colorscale\":[[0.0,\"#0d0887\"],[0.1111111111111111,\"#46039f\"],[0.2222222222222222,\"#7201a8\"],[0.3333333333333333,\"#9c179e\"],[0.4444444444444444,\"#bd3786\"],[0.5555555555555556,\"#d8576b\"],[0.6666666666666666,\"#ed7953\"],[0.7777777777777778,\"#fb9f3a\"],[0.8888888888888888,\"#fdca26\"],[1.0,\"#f0f921\"]],\"type\":\"contour\"}],\"contourcarpet\":[{\"colorbar\":{\"outlinewidth\":0,\"ticks\":\"\"},\"type\":\"contourcarpet\"}],\"heatmap\":[{\"colorbar\":{\"outlinewidth\":0,\"ticks\":\"\"},\"colorscale\":[[0.0,\"#0d0887\"],[0.1111111111111111,\"#46039f\"],[0.2222222222222222,\"#7201a8\"],[0.3333333333333333,\"#9c179e\"],[0.4444444444444444,\"#bd3786\"],[0.5555555555555556,\"#d8576b\"],[0.6666666666666666,\"#ed7953\"],[0.7777777777777778,\"#fb9f3a\"],[0.8888888888888888,\"#fdca26\"],[1.0,\"#f0f921\"]],\"type\":\"heatmap\"}],\"heatmapgl\":[{\"colorbar\":{\"outlinewidth\":0,\"ticks\":\"\"},\"colorscale\":[[0.0,\"#0d0887\"],[0.1111111111111111,\"#46039f\"],[0.2222222222222222,\"#7201a8\"],[0.3333333333333333,\"#9c179e\"],[0.4444444444444444,\"#bd3786\"],[0.5555555555555556,\"#d8576b\"],[0.6666666666666666,\"#ed7953\"],[0.7777777777777778,\"#fb9f3a\"],[0.8888888888888888,\"#fdca26\"],[1.0,\"#f0f921\"]],\"type\":\"heatmapgl\"}],\"histogram\":[{\"marker\":{\"pattern\":{\"fillmode\":\"overlay\",\"size\":10,\"solidity\":0.2}},\"type\":\"histogram\"}],\"histogram2d\":[{\"colorbar\":{\"outlinewidth\":0,\"ticks\":\"\"},\"colorscale\":[[0.0,\"#0d0887\"],[0.1111111111111111,\"#46039f\"],[0.2222222222222222,\"#7201a8\"],[0.3333333333333333,\"#9c179e\"],[0.4444444444444444,\"#bd3786\"],[0.5555555555555556,\"#d8576b\"],[0.6666666666666666,\"#ed7953\"],[0.7777777777777778,\"#fb9f3a\"],[0.8888888888888888,\"#fdca26\"],[1.0,\"#f0f921\"]],\"type\":\"histogram2d\"}],\"histogram2dcontour\":[{\"colorbar\":{\"outlinewidth\":0,\"ticks\":\"\"},\"colorscale\":[[0.0,\"#0d0887\"],[0.1111111111111111,\"#46039f\"],[0.2222222222222222,\"#7201a8\"],[0.3333333333333333,\"#9c179e\"],[0.4444444444444444,\"#bd3786\"],[0.5555555555555556,\"#d8576b\"],[0.6666666666666666,\"#ed7953\"],[0.7777777777777778,\"#fb9f3a\"],[0.8888888888888888,\"#fdca26\"],[1.0,\"#f0f921\"]],\"type\":\"histogram2dcontour\"}],\"mesh3d\":[{\"colorbar\":{\"outlinewidth\":0,\"ticks\":\"\"},\"type\":\"mesh3d\"}],\"parcoords\":[{\"line\":{\"colorbar\":{\"outlinewidth\":0,\"ticks\":\"\"}},\"type\":\"parcoords\"}],\"pie\":[{\"automargin\":true,\"type\":\"pie\"}],\"scatter\":[{\"marker\":{\"colorbar\":{\"outlinewidth\":0,\"ticks\":\"\"}},\"type\":\"scatter\"}],\"scatter3d\":[{\"line\":{\"colorbar\":{\"outlinewidth\":0,\"ticks\":\"\"}},\"marker\":{\"colorbar\":{\"outlinewidth\":0,\"ticks\":\"\"}},\"type\":\"scatter3d\"}],\"scattercarpet\":[{\"marker\":{\"colorbar\":{\"outlinewidth\":0,\"ticks\":\"\"}},\"type\":\"scattercarpet\"}],\"scattergeo\":[{\"marker\":{\"colorbar\":{\"outlinewidth\":0,\"ticks\":\"\"}},\"type\":\"scattergeo\"}],\"scattergl\":[{\"marker\":{\"colorbar\":{\"outlinewidth\":0,\"ticks\":\"\"}},\"type\":\"scattergl\"}],\"scattermapbox\":[{\"marker\":{\"colorbar\":{\"outlinewidth\":0,\"ticks\":\"\"}},\"type\":\"scattermapbox\"}],\"scatterpolar\":[{\"marker\":{\"colorbar\":{\"outlinewidth\":0,\"ticks\":\"\"}},\"type\":\"scatterpolar\"}],\"scatterpolargl\":[{\"marker\":{\"colorbar\":{\"outlinewidth\":0,\"ticks\":\"\"}},\"type\":\"scatterpolargl\"}],\"scatterternary\":[{\"marker\":{\"colorbar\":{\"outlinewidth\":0,\"ticks\":\"\"}},\"type\":\"scatterternary\"}],\"surface\":[{\"colorbar\":{\"outlinewidth\":0,\"ticks\":\"\"},\"colorscale\":[[0.0,\"#0d0887\"],[0.1111111111111111,\"#46039f\"],[0.2222222222222222,\"#7201a8\"],[0.3333333333333333,\"#9c179e\"],[0.4444444444444444,\"#bd3786\"],[0.5555555555555556,\"#d8576b\"],[0.6666666666666666,\"#ed7953\"],[0.7777777777777778,\"#fb9f3a\"],[0.8888888888888888,\"#fdca26\"],[1.0,\"#f0f921\"]],\"type\":\"surface\"}],\"table\":[{\"cells\":{\"fill\":{\"color\":\"#EBF0F8\"},\"line\":{\"color\":\"white\"}},\"header\":{\"fill\":{\"color\":\"#C8D4E3\"},\"line\":{\"color\":\"white\"}},\"type\":\"table\"}]},\"layout\":{\"annotationdefaults\":{\"arrowcolor\":\"#2a3f5f\",\"arrowhead\":0,\"arrowwidth\":1},\"autotypenumbers\":\"strict\",\"coloraxis\":{\"colorbar\":{\"outlinewidth\":0,\"ticks\":\"\"}},\"colorscale\":{\"diverging\":[[0,\"#8e0152\"],[0.1,\"#c51b7d\"],[0.2,\"#de77ae\"],[0.3,\"#f1b6da\"],[0.4,\"#fde0ef\"],[0.5,\"#f7f7f7\"],[0.6,\"#e6f5d0\"],[0.7,\"#b8e186\"],[0.8,\"#7fbc41\"],[0.9,\"#4d9221\"],[1,\"#276419\"]],\"sequential\":[[0.0,\"#0d0887\"],[0.1111111111111111,\"#46039f\"],[0.2222222222222222,\"#7201a8\"],[0.3333333333333333,\"#9c179e\"],[0.4444444444444444,\"#bd3786\"],[0.5555555555555556,\"#d8576b\"],[0.6666666666666666,\"#ed7953\"],[0.7777777777777778,\"#fb9f3a\"],[0.8888888888888888,\"#fdca26\"],[1.0,\"#f0f921\"]],\"sequentialminus\":[[0.0,\"#0d0887\"],[0.1111111111111111,\"#46039f\"],[0.2222222222222222,\"#7201a8\"],[0.3333333333333333,\"#9c179e\"],[0.4444444444444444,\"#bd3786\"],[0.5555555555555556,\"#d8576b\"],[0.6666666666666666,\"#ed7953\"],[0.7777777777777778,\"#fb9f3a\"],[0.8888888888888888,\"#fdca26\"],[1.0,\"#f0f921\"]]},\"colorway\":[\"#636efa\",\"#EF553B\",\"#00cc96\",\"#ab63fa\",\"#FFA15A\",\"#19d3f3\",\"#FF6692\",\"#B6E880\",\"#FF97FF\",\"#FECB52\"],\"font\":{\"color\":\"#2a3f5f\"},\"geo\":{\"bgcolor\":\"white\",\"lakecolor\":\"white\",\"landcolor\":\"#E5ECF6\",\"showlakes\":true,\"showland\":true,\"subunitcolor\":\"white\"},\"hoverlabel\":{\"align\":\"left\"},\"hovermode\":\"closest\",\"mapbox\":{\"style\":\"light\"},\"paper_bgcolor\":\"white\",\"plot_bgcolor\":\"#E5ECF6\",\"polar\":{\"angularaxis\":{\"gridcolor\":\"white\",\"linecolor\":\"white\",\"ticks\":\"\"},\"bgcolor\":\"#E5ECF6\",\"radialaxis\":{\"gridcolor\":\"white\",\"linecolor\":\"white\",\"ticks\":\"\"}},\"scene\":{\"xaxis\":{\"backgroundcolor\":\"#E5ECF6\",\"gridcolor\":\"white\",\"gridwidth\":2,\"linecolor\":\"white\",\"showbackground\":true,\"ticks\":\"\",\"zerolinecolor\":\"white\"},\"yaxis\":{\"backgroundcolor\":\"#E5ECF6\",\"gridcolor\":\"white\",\"gridwidth\":2,\"linecolor\":\"white\",\"showbackground\":true,\"ticks\":\"\",\"zerolinecolor\":\"white\"},\"zaxis\":{\"backgroundcolor\":\"#E5ECF6\",\"gridcolor\":\"white\",\"gridwidth\":2,\"linecolor\":\"white\",\"showbackground\":true,\"ticks\":\"\",\"zerolinecolor\":\"white\"}},\"shapedefaults\":{\"line\":{\"color\":\"#2a3f5f\"}},\"ternary\":{\"aaxis\":{\"gridcolor\":\"white\",\"linecolor\":\"white\",\"ticks\":\"\"},\"baxis\":{\"gridcolor\":\"white\",\"linecolor\":\"white\",\"ticks\":\"\"},\"bgcolor\":\"#E5ECF6\",\"caxis\":{\"gridcolor\":\"white\",\"linecolor\":\"white\",\"ticks\":\"\"}},\"title\":{\"x\":0.05},\"xaxis\":{\"automargin\":true,\"gridcolor\":\"white\",\"linecolor\":\"white\",\"ticks\":\"\",\"title\":{\"standoff\":15},\"zerolinecolor\":\"white\",\"zerolinewidth\":2},\"yaxis\":{\"automargin\":true,\"gridcolor\":\"white\",\"linecolor\":\"white\",\"ticks\":\"\",\"title\":{\"standoff\":15},\"zerolinecolor\":\"white\",\"zerolinewidth\":2}}},\"title\":{\"text\":\"People vaccinated per country\"}},                        {\"responsive\": true}                    ).then(function(){\n",
       "                            \n",
       "var gd = document.getElementById('bd0a2392-876d-40e8-bb34-a93773cbc55c');\n",
       "var x = new MutationObserver(function (mutations, observer) {{\n",
       "        var display = window.getComputedStyle(gd).display;\n",
       "        if (!display || display === 'none') {{\n",
       "            console.log([gd, 'removed!']);\n",
       "            Plotly.purge(gd);\n",
       "            observer.disconnect();\n",
       "        }}\n",
       "}});\n",
       "\n",
       "// Listen for the removal of the full notebook cells\n",
       "var notebookContainer = gd.closest('#notebook-container');\n",
       "if (notebookContainer) {{\n",
       "    x.observe(notebookContainer, {childList: true});\n",
       "}}\n",
       "\n",
       "// Listen for the clearing of the current output cell\n",
       "var outputEl = gd.closest('.output');\n",
       "if (outputEl) {{\n",
       "    x.observe(outputEl, {childList: true});\n",
       "}}\n",
       "\n",
       "                        })                };                });            </script>        </div>"
      ]
     },
     "metadata": {},
     "output_type": "display_data"
    }
   ],
   "source": [
    "trace = go.Choropleth(\n",
    "            locations = country_vaccine['Country'],\n",
    "            locationmode='country names',\n",
    "            z = country_vaccine['People vaccinated'],\n",
    "            text = country_vaccine['Country'],\n",
    "            autocolorscale =False,\n",
    "            reversescale = True,\n",
    "            colorscale = 'viridis',\n",
    "            marker = dict(\n",
    "                line = dict(\n",
    "                    color = 'rgb(0,0,0)',\n",
    "                    width = 0.5)\n",
    "            ),\n",
    "            colorbar = dict(\n",
    "                title = 'People vaccinated',\n",
    "                tickprefix = '')\n",
    "        )\n",
    "\n",
    "data = [trace]\n",
    "layout = go.Layout(\n",
    "    title = 'People vaccinated per country',\n",
    "    geo = dict(\n",
    "        showframe = True,\n",
    "        showlakes = False,\n",
    "        showcoastlines = True,\n",
    "        projection = dict(\n",
    "            type= 'natural earth'\n",
    "        )\n",
    "    )\n",
    ")\n",
    "\n",
    "fig = dict( data=data, layout=layout )\n",
    "iplot(fig)"
   ]
  },
  {
   "cell_type": "code",
   "execution_count": null,
   "metadata": {},
   "outputs": [],
   "source": []
  }
 ],
 "metadata": {
  "kernelspec": {
   "display_name": "Python 3",
   "language": "python",
   "name": "python3"
  },
  "language_info": {
   "codemirror_mode": {
    "name": "ipython",
    "version": 3
   },
   "file_extension": ".py",
   "mimetype": "text/x-python",
   "name": "python",
   "nbconvert_exporter": "python",
   "pygments_lexer": "ipython3",
   "version": "3.9.2"
  },
  "papermill": {
   "duration": 33.3253,
   "end_time": "2021-06-22T06:35:28.250677",
   "environment_variables": {},
   "exception": null,
   "input_path": "__notebook__.ipynb",
   "output_path": "__notebook__.ipynb",
   "parameters": {},
   "start_time": "2021-06-22T06:34:54.925377",
   "version": "2.1.0"
  }
 },
 "nbformat": 4,
 "nbformat_minor": 4
}
